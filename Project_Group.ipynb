{
 "cells": [
  {
   "cell_type": "markdown",
   "metadata": {},
   "source": [
    "# Importing Library "
   ]
  },
  {
   "cell_type": "code",
   "execution_count": 377,
   "metadata": {},
   "outputs": [
    {
     "name": "stderr",
     "output_type": "stream",
     "text": [
      "[nltk_data] Downloading package punkt to\n",
      "[nltk_data]     C:\\Users\\vrajagopalan\\AppData\\Roaming\\nltk_data...\n",
      "[nltk_data]   Package punkt is already up-to-date!\n",
      "[nltk_data] Downloading package stopwords to\n",
      "[nltk_data]     C:\\Users\\vrajagopalan\\AppData\\Roaming\\nltk_data...\n",
      "[nltk_data]   Package stopwords is already up-to-date!\n"
     ]
    }
   ],
   "source": [
    "import pandas as pd \n",
    "import numpy as np \n",
    "from surprise import Dataset\n",
    "from surprise import Reader\n",
    "from surprise import Dataset\n",
    "from surprise.model_selection import cross_validate\n",
    "from surprise import NormalPredictor\n",
    "from surprise import KNNBasic\n",
    "from surprise import KNNWithMeans\n",
    "from surprise import KNNWithZScore\n",
    "from surprise import KNNBaseline\n",
    "from surprise import SVD\n",
    "from surprise import BaselineOnly\n",
    "from surprise import SVDpp\n",
    "from surprise import NMF\n",
    "from surprise import SlopeOne\n",
    "from surprise import CoClustering\n",
    "from surprise.accuracy import rmse\n",
    "from surprise import accuracy\n",
    "from surprise.model_selection import GridSearchCV\n",
    "from IESEGRecSys import eval\n",
    "from IESEGRecSys.model import ContentBased\n",
    "import seaborn as sns\n",
    "from sklearn.model_selection import train_test_split\n",
    "\n",
    "\n",
    "# NLP packages\n",
    "import nltk # pip install nltk\n",
    "nltk.download('punkt')\n",
    "nltk.download('stopwords')\n",
    "from nltk.tokenize import word_tokenize\n",
    "from nltk.corpus import stopwords\n",
    "from sklearn.feature_extraction.text import TfidfVectorizer\n",
    "from nltk.stem.snowball import SnowballStemmer\n",
    "pd.set_option('display.max_colwidth', 1000000)"
   ]
  },
  {
   "cell_type": "markdown",
   "metadata": {},
   "source": [
    "# Reading the data"
   ]
  },
  {
   "cell_type": "markdown",
   "metadata": {},
   "source": [
    "## Data Exploration Artist"
   ]
  },
  {
   "cell_type": "code",
   "execution_count": 378,
   "metadata": {},
   "outputs": [],
   "source": [
    "artist = pd.read_table(\"./data/Artists.dat\", encoding='latin-1')"
   ]
  },
  {
   "cell_type": "code",
   "execution_count": 379,
   "metadata": {},
   "outputs": [
    {
     "data": {
      "text/html": [
       "<div>\n",
       "<style scoped>\n",
       "    .dataframe tbody tr th:only-of-type {\n",
       "        vertical-align: middle;\n",
       "    }\n",
       "\n",
       "    .dataframe tbody tr th {\n",
       "        vertical-align: top;\n",
       "    }\n",
       "\n",
       "    .dataframe thead th {\n",
       "        text-align: right;\n",
       "    }\n",
       "</style>\n",
       "<table border=\"1\" class=\"dataframe\">\n",
       "  <thead>\n",
       "    <tr style=\"text-align: right;\">\n",
       "      <th></th>\n",
       "      <th>id</th>\n",
       "      <th>name</th>\n",
       "      <th>url</th>\n",
       "      <th>pictureURL</th>\n",
       "    </tr>\n",
       "  </thead>\n",
       "  <tbody>\n",
       "    <tr>\n",
       "      <th>0</th>\n",
       "      <td>1</td>\n",
       "      <td>MALICE MIZER</td>\n",
       "      <td>http://www.last.fm/music/MALICE+MIZER</td>\n",
       "      <td>http://userserve-ak.last.fm/serve/252/10808.jpg</td>\n",
       "    </tr>\n",
       "    <tr>\n",
       "      <th>1</th>\n",
       "      <td>2</td>\n",
       "      <td>Diary of Dreams</td>\n",
       "      <td>http://www.last.fm/music/Diary+of+Dreams</td>\n",
       "      <td>http://userserve-ak.last.fm/serve/252/3052066.jpg</td>\n",
       "    </tr>\n",
       "    <tr>\n",
       "      <th>2</th>\n",
       "      <td>3</td>\n",
       "      <td>Carpathian Forest</td>\n",
       "      <td>http://www.last.fm/music/Carpathian+Forest</td>\n",
       "      <td>http://userserve-ak.last.fm/serve/252/40222717.jpg</td>\n",
       "    </tr>\n",
       "    <tr>\n",
       "      <th>3</th>\n",
       "      <td>4</td>\n",
       "      <td>Moi dix Mois</td>\n",
       "      <td>http://www.last.fm/music/Moi+dix+Mois</td>\n",
       "      <td>http://userserve-ak.last.fm/serve/252/54697835.png</td>\n",
       "    </tr>\n",
       "    <tr>\n",
       "      <th>4</th>\n",
       "      <td>5</td>\n",
       "      <td>Bella Morte</td>\n",
       "      <td>http://www.last.fm/music/Bella+Morte</td>\n",
       "      <td>http://userserve-ak.last.fm/serve/252/14789013.jpg</td>\n",
       "    </tr>\n",
       "  </tbody>\n",
       "</table>\n",
       "</div>"
      ],
      "text/plain": [
       "   id               name                                         url  \\\n",
       "0   1       MALICE MIZER       http://www.last.fm/music/MALICE+MIZER   \n",
       "1   2    Diary of Dreams    http://www.last.fm/music/Diary+of+Dreams   \n",
       "2   3  Carpathian Forest  http://www.last.fm/music/Carpathian+Forest   \n",
       "3   4       Moi dix Mois       http://www.last.fm/music/Moi+dix+Mois   \n",
       "4   5        Bella Morte        http://www.last.fm/music/Bella+Morte   \n",
       "\n",
       "                                           pictureURL  \n",
       "0     http://userserve-ak.last.fm/serve/252/10808.jpg  \n",
       "1   http://userserve-ak.last.fm/serve/252/3052066.jpg  \n",
       "2  http://userserve-ak.last.fm/serve/252/40222717.jpg  \n",
       "3  http://userserve-ak.last.fm/serve/252/54697835.png  \n",
       "4  http://userserve-ak.last.fm/serve/252/14789013.jpg  "
      ]
     },
     "execution_count": 379,
     "metadata": {},
     "output_type": "execute_result"
    }
   ],
   "source": [
    "artist.head()"
   ]
  },
  {
   "cell_type": "code",
   "execution_count": 380,
   "metadata": {},
   "outputs": [
    {
     "name": "stdout",
     "output_type": "stream",
     "text": [
      "<class 'pandas.core.frame.DataFrame'>\n",
      "RangeIndex: 17632 entries, 0 to 17631\n",
      "Data columns (total 4 columns):\n",
      " #   Column      Non-Null Count  Dtype \n",
      "---  ------      --------------  ----- \n",
      " 0   id          17632 non-null  int64 \n",
      " 1   name        17632 non-null  object\n",
      " 2   url         17632 non-null  object\n",
      " 3   pictureURL  17188 non-null  object\n",
      "dtypes: int64(1), object(3)\n",
      "memory usage: 551.1+ KB\n"
     ]
    }
   ],
   "source": [
    "artist.info()"
   ]
  },
  {
   "cell_type": "markdown",
   "metadata": {},
   "source": [
    "## Data Exploration User Artist"
   ]
  },
  {
   "cell_type": "code",
   "execution_count": 381,
   "metadata": {},
   "outputs": [],
   "source": [
    "user_artists = pd.read_table(\"./data/user_artists.dat\", encoding='latin-1')"
   ]
  },
  {
   "cell_type": "code",
   "execution_count": 382,
   "metadata": {},
   "outputs": [
    {
     "data": {
      "text/html": [
       "<div>\n",
       "<style scoped>\n",
       "    .dataframe tbody tr th:only-of-type {\n",
       "        vertical-align: middle;\n",
       "    }\n",
       "\n",
       "    .dataframe tbody tr th {\n",
       "        vertical-align: top;\n",
       "    }\n",
       "\n",
       "    .dataframe thead th {\n",
       "        text-align: right;\n",
       "    }\n",
       "</style>\n",
       "<table border=\"1\" class=\"dataframe\">\n",
       "  <thead>\n",
       "    <tr style=\"text-align: right;\">\n",
       "      <th></th>\n",
       "      <th>userID</th>\n",
       "      <th>artistID</th>\n",
       "      <th>weight</th>\n",
       "    </tr>\n",
       "  </thead>\n",
       "  <tbody>\n",
       "    <tr>\n",
       "      <th>0</th>\n",
       "      <td>2</td>\n",
       "      <td>51</td>\n",
       "      <td>13883</td>\n",
       "    </tr>\n",
       "    <tr>\n",
       "      <th>1</th>\n",
       "      <td>2</td>\n",
       "      <td>52</td>\n",
       "      <td>11690</td>\n",
       "    </tr>\n",
       "    <tr>\n",
       "      <th>2</th>\n",
       "      <td>2</td>\n",
       "      <td>53</td>\n",
       "      <td>11351</td>\n",
       "    </tr>\n",
       "    <tr>\n",
       "      <th>3</th>\n",
       "      <td>2</td>\n",
       "      <td>54</td>\n",
       "      <td>10300</td>\n",
       "    </tr>\n",
       "    <tr>\n",
       "      <th>4</th>\n",
       "      <td>2</td>\n",
       "      <td>55</td>\n",
       "      <td>8983</td>\n",
       "    </tr>\n",
       "  </tbody>\n",
       "</table>\n",
       "</div>"
      ],
      "text/plain": [
       "   userID  artistID  weight\n",
       "0       2        51   13883\n",
       "1       2        52   11690\n",
       "2       2        53   11351\n",
       "3       2        54   10300\n",
       "4       2        55    8983"
      ]
     },
     "execution_count": 382,
     "metadata": {},
     "output_type": "execute_result"
    }
   ],
   "source": [
    "user_artists.head()"
   ]
  },
  {
   "cell_type": "markdown",
   "metadata": {},
   "source": [
    "Checking distribution for the weights"
   ]
  },
  {
   "cell_type": "code",
   "execution_count": 383,
   "metadata": {},
   "outputs": [
    {
     "data": {
      "text/plain": [
       "(0.0, 1500.0)"
      ]
     },
     "execution_count": 383,
     "metadata": {},
     "output_type": "execute_result"
    },
    {
     "data": {
      "image/png": "[encoded data removed]",
      "text/plain": [
       "<Figure size 432x288 with 1 Axes>"
      ]
     },
     "metadata": {
      "needs_background": "light"
     },
     "output_type": "display_data"
    }
   ],
   "source": [
    "import matplotlib.pyplot as plt\n",
    "\n",
    "sns.histplot(data=user_artists, x='weight', kde=True)\n",
    "plt.ylim(0, 1500)\n"
   ]
  },
  {
   "cell_type": "markdown",
   "metadata": {},
   "source": [
    "#### We will normalize the weight column using log transformation and divide the column by a constant 2.6 to ensure values are in range of 0 to 5"
   ]
  },
  {
   "cell_type": "code",
   "execution_count": 384,
   "metadata": {},
   "outputs": [],
   "source": [
    "user_artists['raw_ratings'] = user_artists['weight'].map(lambda x: np.ceil(np.log(x)))"
   ]
  },
  {
   "cell_type": "markdown",
   "metadata": {},
   "source": [
    "Lets Plot the ratings"
   ]
  },
  {
   "cell_type": "code",
   "execution_count": 385,
   "metadata": {},
   "outputs": [
    {
     "data": {
      "text/plain": [
       "<AxesSubplot:xlabel='raw_ratings', ylabel='Count'>"
      ]
     },
     "execution_count": 385,
     "metadata": {},
     "output_type": "execute_result"
    },
    {
     "data": {
      "image/png": "[encoded data removed]",
      "text/plain": [
       "<Figure size 432x288 with 1 Axes>"
      ]
     },
     "metadata": {
      "needs_background": "light"
     },
     "output_type": "display_data"
    }
   ],
   "source": [
    "sns.histplot(user_artists['raw_ratings'])"
   ]
  },
  {
   "cell_type": "code",
   "execution_count": 386,
   "metadata": {},
   "outputs": [
    {
     "data": {
      "text/plain": [
       "count    92834.000000\n",
       "mean         5.965595\n",
       "std          1.571694\n",
       "min          0.000000\n",
       "25%          5.000000\n",
       "50%          6.000000\n",
       "75%          7.000000\n",
       "max         13.000000\n",
       "Name: raw_ratings, dtype: float64"
      ]
     },
     "execution_count": 386,
     "metadata": {},
     "output_type": "execute_result"
    }
   ],
   "source": [
    "user_artists['raw_ratings'].describe()"
   ]
  },
  {
   "cell_type": "markdown",
   "metadata": {},
   "source": [
    "Drop rows with ratings 0"
   ]
  },
  {
   "cell_type": "code",
   "execution_count": 387,
   "metadata": {},
   "outputs": [],
   "source": [
    "user_artists = user_artists[user_artists['raw_ratings'] > 0]"
   ]
  },
  {
   "cell_type": "code",
   "execution_count": 388,
   "metadata": {},
   "outputs": [
    {
     "data": {
      "text/plain": [
       "count    92198.000000\n",
       "mean         6.006746\n",
       "std          1.496687\n",
       "min          1.000000\n",
       "25%          5.000000\n",
       "50%          6.000000\n",
       "75%          7.000000\n",
       "max         13.000000\n",
       "Name: raw_ratings, dtype: float64"
      ]
     },
     "execution_count": 388,
     "metadata": {},
     "output_type": "execute_result"
    }
   ],
   "source": [
    "user_artists['raw_ratings'].describe()"
   ]
  },
  {
   "cell_type": "code",
   "execution_count": 389,
   "metadata": {},
   "outputs": [
    {
     "data": {
      "text/plain": [
       "6.0     28177\n",
       "7.0     21355\n",
       "5.0     17976\n",
       "8.0      9172\n",
       "4.0      7052\n",
       "3.0      3162\n",
       "9.0      2489\n",
       "2.0      1593\n",
       "10.0      587\n",
       "1.0       419\n",
       "11.0      165\n",
       "12.0       41\n",
       "13.0       10\n",
       "Name: raw_ratings, dtype: int64"
      ]
     },
     "execution_count": 389,
     "metadata": {},
     "output_type": "execute_result"
    }
   ],
   "source": [
    "user_artists['raw_ratings'].value_counts()"
   ]
  },
  {
   "cell_type": "markdown",
   "metadata": {},
   "source": [
    "## Data Exploration Tags"
   ]
  },
  {
   "cell_type": "code",
   "execution_count": 390,
   "metadata": {},
   "outputs": [],
   "source": [
    "tags = pd.read_table(\"./data/tags.dat\", encoding='latin-1')"
   ]
  },
  {
   "cell_type": "code",
   "execution_count": 391,
   "metadata": {},
   "outputs": [
    {
     "data": {
      "text/html": [
       "<div>\n",
       "<style scoped>\n",
       "    .dataframe tbody tr th:only-of-type {\n",
       "        vertical-align: middle;\n",
       "    }\n",
       "\n",
       "    .dataframe tbody tr th {\n",
       "        vertical-align: top;\n",
       "    }\n",
       "\n",
       "    .dataframe thead th {\n",
       "        text-align: right;\n",
       "    }\n",
       "</style>\n",
       "<table border=\"1\" class=\"dataframe\">\n",
       "  <thead>\n",
       "    <tr style=\"text-align: right;\">\n",
       "      <th></th>\n",
       "      <th>tagID</th>\n",
       "      <th>tagValue</th>\n",
       "    </tr>\n",
       "  </thead>\n",
       "  <tbody>\n",
       "    <tr>\n",
       "      <th>0</th>\n",
       "      <td>1</td>\n",
       "      <td>metal</td>\n",
       "    </tr>\n",
       "    <tr>\n",
       "      <th>1</th>\n",
       "      <td>2</td>\n",
       "      <td>alternative metal</td>\n",
       "    </tr>\n",
       "    <tr>\n",
       "      <th>2</th>\n",
       "      <td>3</td>\n",
       "      <td>goth rock</td>\n",
       "    </tr>\n",
       "    <tr>\n",
       "      <th>3</th>\n",
       "      <td>4</td>\n",
       "      <td>black metal</td>\n",
       "    </tr>\n",
       "    <tr>\n",
       "      <th>4</th>\n",
       "      <td>5</td>\n",
       "      <td>death metal</td>\n",
       "    </tr>\n",
       "  </tbody>\n",
       "</table>\n",
       "</div>"
      ],
      "text/plain": [
       "   tagID           tagValue\n",
       "0      1              metal\n",
       "1      2  alternative metal\n",
       "2      3          goth rock\n",
       "3      4        black metal\n",
       "4      5        death metal"
      ]
     },
     "execution_count": 391,
     "metadata": {},
     "output_type": "execute_result"
    }
   ],
   "source": [
    "tags.head()"
   ]
  },
  {
   "cell_type": "code",
   "execution_count": 392,
   "metadata": {},
   "outputs": [
    {
     "name": "stdout",
     "output_type": "stream",
     "text": [
      "<class 'pandas.core.frame.DataFrame'>\n",
      "RangeIndex: 11946 entries, 0 to 11945\n",
      "Data columns (total 2 columns):\n",
      " #   Column    Non-Null Count  Dtype \n",
      "---  ------    --------------  ----- \n",
      " 0   tagID     11946 non-null  int64 \n",
      " 1   tagValue  11946 non-null  object\n",
      "dtypes: int64(1), object(1)\n",
      "memory usage: 186.8+ KB\n"
     ]
    }
   ],
   "source": [
    "tags.info()"
   ]
  },
  {
   "cell_type": "markdown",
   "metadata": {},
   "source": [
    "## Data Exploration User Tagged Artists"
   ]
  },
  {
   "cell_type": "code",
   "execution_count": 393,
   "metadata": {},
   "outputs": [],
   "source": [
    "user_taggedartists = pd.read_table(\"./data/user_taggedartists.dat\", encoding='latin-1')"
   ]
  },
  {
   "cell_type": "code",
   "execution_count": 394,
   "metadata": {},
   "outputs": [
    {
     "data": {
      "text/html": [
       "<div>\n",
       "<style scoped>\n",
       "    .dataframe tbody tr th:only-of-type {\n",
       "        vertical-align: middle;\n",
       "    }\n",
       "\n",
       "    .dataframe tbody tr th {\n",
       "        vertical-align: top;\n",
       "    }\n",
       "\n",
       "    .dataframe thead th {\n",
       "        text-align: right;\n",
       "    }\n",
       "</style>\n",
       "<table border=\"1\" class=\"dataframe\">\n",
       "  <thead>\n",
       "    <tr style=\"text-align: right;\">\n",
       "      <th></th>\n",
       "      <th>userID</th>\n",
       "      <th>artistID</th>\n",
       "      <th>tagID</th>\n",
       "      <th>day</th>\n",
       "      <th>month</th>\n",
       "      <th>year</th>\n",
       "    </tr>\n",
       "  </thead>\n",
       "  <tbody>\n",
       "    <tr>\n",
       "      <th>0</th>\n",
       "      <td>2</td>\n",
       "      <td>52</td>\n",
       "      <td>13</td>\n",
       "      <td>1</td>\n",
       "      <td>4</td>\n",
       "      <td>2009</td>\n",
       "    </tr>\n",
       "    <tr>\n",
       "      <th>1</th>\n",
       "      <td>2</td>\n",
       "      <td>52</td>\n",
       "      <td>15</td>\n",
       "      <td>1</td>\n",
       "      <td>4</td>\n",
       "      <td>2009</td>\n",
       "    </tr>\n",
       "    <tr>\n",
       "      <th>2</th>\n",
       "      <td>2</td>\n",
       "      <td>52</td>\n",
       "      <td>18</td>\n",
       "      <td>1</td>\n",
       "      <td>4</td>\n",
       "      <td>2009</td>\n",
       "    </tr>\n",
       "    <tr>\n",
       "      <th>3</th>\n",
       "      <td>2</td>\n",
       "      <td>52</td>\n",
       "      <td>21</td>\n",
       "      <td>1</td>\n",
       "      <td>4</td>\n",
       "      <td>2009</td>\n",
       "    </tr>\n",
       "    <tr>\n",
       "      <th>4</th>\n",
       "      <td>2</td>\n",
       "      <td>52</td>\n",
       "      <td>41</td>\n",
       "      <td>1</td>\n",
       "      <td>4</td>\n",
       "      <td>2009</td>\n",
       "    </tr>\n",
       "  </tbody>\n",
       "</table>\n",
       "</div>"
      ],
      "text/plain": [
       "   userID  artistID  tagID  day  month  year\n",
       "0       2        52     13    1      4  2009\n",
       "1       2        52     15    1      4  2009\n",
       "2       2        52     18    1      4  2009\n",
       "3       2        52     21    1      4  2009\n",
       "4       2        52     41    1      4  2009"
      ]
     },
     "execution_count": 394,
     "metadata": {},
     "output_type": "execute_result"
    }
   ],
   "source": [
    "user_taggedartists.head()"
   ]
  },
  {
   "cell_type": "code",
   "execution_count": 395,
   "metadata": {},
   "outputs": [
    {
     "name": "stdout",
     "output_type": "stream",
     "text": [
      "<class 'pandas.core.frame.DataFrame'>\n",
      "RangeIndex: 186479 entries, 0 to 186478\n",
      "Data columns (total 6 columns):\n",
      " #   Column    Non-Null Count   Dtype\n",
      "---  ------    --------------   -----\n",
      " 0   userID    186479 non-null  int64\n",
      " 1   artistID  186479 non-null  int64\n",
      " 2   tagID     186479 non-null  int64\n",
      " 3   day       186479 non-null  int64\n",
      " 4   month     186479 non-null  int64\n",
      " 5   year      186479 non-null  int64\n",
      "dtypes: int64(6)\n",
      "memory usage: 8.5 MB\n"
     ]
    }
   ],
   "source": [
    "user_taggedartists.info()"
   ]
  },
  {
   "cell_type": "code",
   "execution_count": 396,
   "metadata": {},
   "outputs": [],
   "source": [
    "user_taggedartists['date'] = pd.to_datetime((user_taggedartists[[\"year\", \"month\", \"day\"]]))"
   ]
  },
  {
   "cell_type": "code",
   "execution_count": 397,
   "metadata": {},
   "outputs": [
    {
     "data": {
      "text/html": [
       "<div>\n",
       "<style scoped>\n",
       "    .dataframe tbody tr th:only-of-type {\n",
       "        vertical-align: middle;\n",
       "    }\n",
       "\n",
       "    .dataframe tbody tr th {\n",
       "        vertical-align: top;\n",
       "    }\n",
       "\n",
       "    .dataframe thead th {\n",
       "        text-align: right;\n",
       "    }\n",
       "</style>\n",
       "<table border=\"1\" class=\"dataframe\">\n",
       "  <thead>\n",
       "    <tr style=\"text-align: right;\">\n",
       "      <th></th>\n",
       "      <th>userID</th>\n",
       "      <th>artistID</th>\n",
       "      <th>tagID</th>\n",
       "      <th>date</th>\n",
       "    </tr>\n",
       "  </thead>\n",
       "  <tbody>\n",
       "    <tr>\n",
       "      <th>0</th>\n",
       "      <td>2</td>\n",
       "      <td>52</td>\n",
       "      <td>13</td>\n",
       "      <td>2009-04-01</td>\n",
       "    </tr>\n",
       "    <tr>\n",
       "      <th>1</th>\n",
       "      <td>2</td>\n",
       "      <td>52</td>\n",
       "      <td>15</td>\n",
       "      <td>2009-04-01</td>\n",
       "    </tr>\n",
       "    <tr>\n",
       "      <th>2</th>\n",
       "      <td>2</td>\n",
       "      <td>52</td>\n",
       "      <td>18</td>\n",
       "      <td>2009-04-01</td>\n",
       "    </tr>\n",
       "    <tr>\n",
       "      <th>3</th>\n",
       "      <td>2</td>\n",
       "      <td>52</td>\n",
       "      <td>21</td>\n",
       "      <td>2009-04-01</td>\n",
       "    </tr>\n",
       "    <tr>\n",
       "      <th>4</th>\n",
       "      <td>2</td>\n",
       "      <td>52</td>\n",
       "      <td>41</td>\n",
       "      <td>2009-04-01</td>\n",
       "    </tr>\n",
       "  </tbody>\n",
       "</table>\n",
       "</div>"
      ],
      "text/plain": [
       "   userID  artistID  tagID       date\n",
       "0       2        52     13 2009-04-01\n",
       "1       2        52     15 2009-04-01\n",
       "2       2        52     18 2009-04-01\n",
       "3       2        52     21 2009-04-01\n",
       "4       2        52     41 2009-04-01"
      ]
     },
     "execution_count": 397,
     "metadata": {},
     "output_type": "execute_result"
    }
   ],
   "source": [
    "user_taggedartists.drop('day', inplace =  True, axis = 1)\n",
    "user_taggedartists.drop('month', inplace =  True, axis = 1)\n",
    "user_taggedartists.drop('year', inplace =  True, axis = 1)\n",
    "user_taggedartists.head()"
   ]
  },
  {
   "cell_type": "code",
   "execution_count": 398,
   "metadata": {},
   "outputs": [
    {
     "data": {
      "text/plain": [
       "(186479, 4)"
      ]
     },
     "execution_count": 398,
     "metadata": {},
     "output_type": "execute_result"
    }
   ],
   "source": [
    "user_taggedartists.shape"
   ]
  },
  {
   "cell_type": "markdown",
   "metadata": {},
   "source": [
    "We will now merge the tags table with user_taggedartists table"
   ]
  },
  {
   "cell_type": "code",
   "execution_count": 399,
   "metadata": {},
   "outputs": [],
   "source": [
    "tmp = user_taggedartists.merge(tags, left_on='tagID', right_on = 'tagID', how = 'left')"
   ]
  },
  {
   "cell_type": "code",
   "execution_count": 400,
   "metadata": {},
   "outputs": [
    {
     "data": {
      "text/html": [
       "<div>\n",
       "<style scoped>\n",
       "    .dataframe tbody tr th:only-of-type {\n",
       "        vertical-align: middle;\n",
       "    }\n",
       "\n",
       "    .dataframe tbody tr th {\n",
       "        vertical-align: top;\n",
       "    }\n",
       "\n",
       "    .dataframe thead th {\n",
       "        text-align: right;\n",
       "    }\n",
       "</style>\n",
       "<table border=\"1\" class=\"dataframe\">\n",
       "  <thead>\n",
       "    <tr style=\"text-align: right;\">\n",
       "      <th></th>\n",
       "      <th>userID</th>\n",
       "      <th>artistID</th>\n",
       "      <th>tagID</th>\n",
       "      <th>date</th>\n",
       "      <th>tagValue</th>\n",
       "    </tr>\n",
       "  </thead>\n",
       "  <tbody>\n",
       "    <tr>\n",
       "      <th>0</th>\n",
       "      <td>2</td>\n",
       "      <td>52</td>\n",
       "      <td>13</td>\n",
       "      <td>2009-04-01</td>\n",
       "      <td>chillout</td>\n",
       "    </tr>\n",
       "    <tr>\n",
       "      <th>1</th>\n",
       "      <td>2</td>\n",
       "      <td>52</td>\n",
       "      <td>15</td>\n",
       "      <td>2009-04-01</td>\n",
       "      <td>downtempo</td>\n",
       "    </tr>\n",
       "    <tr>\n",
       "      <th>2</th>\n",
       "      <td>2</td>\n",
       "      <td>52</td>\n",
       "      <td>18</td>\n",
       "      <td>2009-04-01</td>\n",
       "      <td>electronic</td>\n",
       "    </tr>\n",
       "    <tr>\n",
       "      <th>3</th>\n",
       "      <td>2</td>\n",
       "      <td>52</td>\n",
       "      <td>21</td>\n",
       "      <td>2009-04-01</td>\n",
       "      <td>trip-hop</td>\n",
       "    </tr>\n",
       "    <tr>\n",
       "      <th>4</th>\n",
       "      <td>2</td>\n",
       "      <td>52</td>\n",
       "      <td>41</td>\n",
       "      <td>2009-04-01</td>\n",
       "      <td>female vovalists</td>\n",
       "    </tr>\n",
       "  </tbody>\n",
       "</table>\n",
       "</div>"
      ],
      "text/plain": [
       "   userID  artistID  tagID       date          tagValue\n",
       "0       2        52     13 2009-04-01          chillout\n",
       "1       2        52     15 2009-04-01         downtempo\n",
       "2       2        52     18 2009-04-01        electronic\n",
       "3       2        52     21 2009-04-01          trip-hop\n",
       "4       2        52     41 2009-04-01  female vovalists"
      ]
     },
     "execution_count": 400,
     "metadata": {},
     "output_type": "execute_result"
    }
   ],
   "source": [
    "tmp.head()"
   ]
  },
  {
   "cell_type": "markdown",
   "metadata": {},
   "source": [
    "#### Lets get all the tags for a user and append it to a list"
   ]
  },
  {
   "cell_type": "code",
   "execution_count": 401,
   "metadata": {},
   "outputs": [],
   "source": [
    "aggregate_1 = tmp.groupby('artistID')['tagValue'].apply(list)"
   ]
  },
  {
   "cell_type": "code",
   "execution_count": 402,
   "metadata": {},
   "outputs": [
    {
     "data": {
      "text/plain": [
       "artistID\n",
       "1                                                                                                              [weeabo, jrock, j-rock, visual kei, better than lady gaga, j-rock, visual kei, gothic, japanese, j-rock, visual kei, gothic, japanese, j-rock, j-rock]\n",
       "2    [german, seen live, darkwave, industrial, german, german, gothic, darkwave, ambient, dark, vocal, gothic, darkwave, electronic, german, seen live, gothic, darkwave, darkwave, darkwave, true goth emo, german, gothic, gothic rock, darkwave, gothic, darkwave]\n",
       "3                                                                                                    [black metal, black metal, norwegian black metal, true norwegian black metal, very kvlt, norsk arysk metal, black metal, true norwegian black metal, saxophones]\n",
       "4                                                    [j-rock, visual kei, metal, gothic japanese, bazarov, metal, rock, j-rock, visual kei, gothic, japanese, gothic metal, j-rock, gothic, japanese, j-rock, visual kei, gothic, japanese, j-rock, japanese, j-rock]\n",
       "5                                                                                                                                                                                              [gothic, gothic rock, darkwave, darkwave, deathrock, darkwave, covers]\n",
       "Name: tagValue, dtype: object"
      ]
     },
     "execution_count": 402,
     "metadata": {},
     "output_type": "execute_result"
    }
   ],
   "source": [
    "aggregate_1.head()"
   ]
  },
  {
   "cell_type": "code",
   "execution_count": 403,
   "metadata": {},
   "outputs": [],
   "source": [
    "aggregate_1 = pd.DataFrame(aggregate_1)"
   ]
  },
  {
   "cell_type": "code",
   "execution_count": 404,
   "metadata": {},
   "outputs": [],
   "source": [
    "aggregate_1['tagValue'] = aggregate_1['tagValue'].map(lambda x : np.unique(x))"
   ]
  },
  {
   "cell_type": "code",
   "execution_count": 405,
   "metadata": {},
   "outputs": [
    {
     "data": {
      "text/html": [
       "<div>\n",
       "<style scoped>\n",
       "    .dataframe tbody tr th:only-of-type {\n",
       "        vertical-align: middle;\n",
       "    }\n",
       "\n",
       "    .dataframe tbody tr th {\n",
       "        vertical-align: top;\n",
       "    }\n",
       "\n",
       "    .dataframe thead th {\n",
       "        text-align: right;\n",
       "    }\n",
       "</style>\n",
       "<table border=\"1\" class=\"dataframe\">\n",
       "  <thead>\n",
       "    <tr style=\"text-align: right;\">\n",
       "      <th></th>\n",
       "      <th>tagValue</th>\n",
       "    </tr>\n",
       "    <tr>\n",
       "      <th>artistID</th>\n",
       "      <th></th>\n",
       "    </tr>\n",
       "  </thead>\n",
       "  <tbody>\n",
       "    <tr>\n",
       "      <th>1</th>\n",
       "      <td>[better than lady gaga, gothic, j-rock, japanese, jrock, visual kei, weeabo]</td>\n",
       "    </tr>\n",
       "    <tr>\n",
       "      <th>2</th>\n",
       "      <td>[ambient, dark, darkwave, electronic, german, gothic, gothic rock, industrial, seen live, true goth emo, vocal]</td>\n",
       "    </tr>\n",
       "    <tr>\n",
       "      <th>3</th>\n",
       "      <td>[black metal, norsk arysk metal, norwegian black metal, saxophones, true norwegian black metal, very kvlt]</td>\n",
       "    </tr>\n",
       "    <tr>\n",
       "      <th>4</th>\n",
       "      <td>[bazarov, gothic, gothic japanese, gothic metal, j-rock, japanese, metal, rock, visual kei]</td>\n",
       "    </tr>\n",
       "    <tr>\n",
       "      <th>5</th>\n",
       "      <td>[covers, darkwave, deathrock, gothic, gothic rock]</td>\n",
       "    </tr>\n",
       "  </tbody>\n",
       "</table>\n",
       "</div>"
      ],
      "text/plain": [
       "                                                                                                                 tagValue\n",
       "artistID                                                                                                                 \n",
       "1                                            [better than lady gaga, gothic, j-rock, japanese, jrock, visual kei, weeabo]\n",
       "2         [ambient, dark, darkwave, electronic, german, gothic, gothic rock, industrial, seen live, true goth emo, vocal]\n",
       "3              [black metal, norsk arysk metal, norwegian black metal, saxophones, true norwegian black metal, very kvlt]\n",
       "4                             [bazarov, gothic, gothic japanese, gothic metal, j-rock, japanese, metal, rock, visual kei]\n",
       "5                                                                      [covers, darkwave, deathrock, gothic, gothic rock]"
      ]
     },
     "execution_count": 405,
     "metadata": {},
     "output_type": "execute_result"
    }
   ],
   "source": [
    "aggregate_1.head()"
   ]
  },
  {
   "cell_type": "markdown",
   "metadata": {},
   "source": [
    "#### Lets calculate the frequency of users who have tagged per artist id and pivot"
   ]
  },
  {
   "cell_type": "code",
   "execution_count": 406,
   "metadata": {},
   "outputs": [],
   "source": [
    "aggregate_2 = tmp.groupby(['artistID', 'userID'])['tagID'].count()"
   ]
  },
  {
   "cell_type": "code",
   "execution_count": 407,
   "metadata": {},
   "outputs": [
    {
     "data": {
      "text/plain": [
       "count    71064.000000\n",
       "mean         2.624099\n",
       "std          2.835507\n",
       "min          1.000000\n",
       "25%          1.000000\n",
       "50%          2.000000\n",
       "75%          3.000000\n",
       "max         50.000000\n",
       "Name: tagID, dtype: float64"
      ]
     },
     "execution_count": 407,
     "metadata": {},
     "output_type": "execute_result"
    }
   ],
   "source": [
    "aggregate_2.describe()"
   ]
  },
  {
   "cell_type": "code",
   "execution_count": 408,
   "metadata": {},
   "outputs": [
    {
     "data": {
      "text/html": [
       "<div>\n",
       "<style scoped>\n",
       "    .dataframe tbody tr th:only-of-type {\n",
       "        vertical-align: middle;\n",
       "    }\n",
       "\n",
       "    .dataframe tbody tr th {\n",
       "        vertical-align: top;\n",
       "    }\n",
       "\n",
       "    .dataframe thead th {\n",
       "        text-align: right;\n",
       "    }\n",
       "</style>\n",
       "<table border=\"1\" class=\"dataframe\">\n",
       "  <thead>\n",
       "    <tr style=\"text-align: right;\">\n",
       "      <th>userID</th>\n",
       "      <th>2</th>\n",
       "      <th>3</th>\n",
       "      <th>4</th>\n",
       "      <th>5</th>\n",
       "      <th>6</th>\n",
       "      <th>7</th>\n",
       "      <th>8</th>\n",
       "      <th>9</th>\n",
       "      <th>10</th>\n",
       "      <th>11</th>\n",
       "      <th>...</th>\n",
       "      <th>2090</th>\n",
       "      <th>2091</th>\n",
       "      <th>2092</th>\n",
       "      <th>2093</th>\n",
       "      <th>2094</th>\n",
       "      <th>2095</th>\n",
       "      <th>2096</th>\n",
       "      <th>2097</th>\n",
       "      <th>2099</th>\n",
       "      <th>2100</th>\n",
       "    </tr>\n",
       "    <tr>\n",
       "      <th>artistID</th>\n",
       "      <th></th>\n",
       "      <th></th>\n",
       "      <th></th>\n",
       "      <th></th>\n",
       "      <th></th>\n",
       "      <th></th>\n",
       "      <th></th>\n",
       "      <th></th>\n",
       "      <th></th>\n",
       "      <th></th>\n",
       "      <th></th>\n",
       "      <th></th>\n",
       "      <th></th>\n",
       "      <th></th>\n",
       "      <th></th>\n",
       "      <th></th>\n",
       "      <th></th>\n",
       "      <th></th>\n",
       "      <th></th>\n",
       "      <th></th>\n",
       "      <th></th>\n",
       "    </tr>\n",
       "  </thead>\n",
       "  <tbody>\n",
       "    <tr>\n",
       "      <th>1</th>\n",
       "      <td>0.0</td>\n",
       "      <td>0.0</td>\n",
       "      <td>0.0</td>\n",
       "      <td>0.0</td>\n",
       "      <td>0.0</td>\n",
       "      <td>0.0</td>\n",
       "      <td>0.0</td>\n",
       "      <td>0.0</td>\n",
       "      <td>0.0</td>\n",
       "      <td>0.0</td>\n",
       "      <td>...</td>\n",
       "      <td>0.0</td>\n",
       "      <td>0.0</td>\n",
       "      <td>0.0</td>\n",
       "      <td>0.0</td>\n",
       "      <td>0.0</td>\n",
       "      <td>0.0</td>\n",
       "      <td>0.0</td>\n",
       "      <td>0.0</td>\n",
       "      <td>0.0</td>\n",
       "      <td>0.0</td>\n",
       "    </tr>\n",
       "    <tr>\n",
       "      <th>2</th>\n",
       "      <td>0.0</td>\n",
       "      <td>0.0</td>\n",
       "      <td>0.0</td>\n",
       "      <td>0.0</td>\n",
       "      <td>0.0</td>\n",
       "      <td>0.0</td>\n",
       "      <td>0.0</td>\n",
       "      <td>0.0</td>\n",
       "      <td>0.0</td>\n",
       "      <td>0.0</td>\n",
       "      <td>...</td>\n",
       "      <td>0.0</td>\n",
       "      <td>0.0</td>\n",
       "      <td>0.0</td>\n",
       "      <td>0.0</td>\n",
       "      <td>0.0</td>\n",
       "      <td>0.0</td>\n",
       "      <td>0.0</td>\n",
       "      <td>0.0</td>\n",
       "      <td>0.0</td>\n",
       "      <td>0.0</td>\n",
       "    </tr>\n",
       "    <tr>\n",
       "      <th>3</th>\n",
       "      <td>0.0</td>\n",
       "      <td>0.0</td>\n",
       "      <td>0.0</td>\n",
       "      <td>0.0</td>\n",
       "      <td>0.0</td>\n",
       "      <td>0.0</td>\n",
       "      <td>0.0</td>\n",
       "      <td>0.0</td>\n",
       "      <td>0.0</td>\n",
       "      <td>0.0</td>\n",
       "      <td>...</td>\n",
       "      <td>0.0</td>\n",
       "      <td>0.0</td>\n",
       "      <td>0.0</td>\n",
       "      <td>0.0</td>\n",
       "      <td>0.0</td>\n",
       "      <td>0.0</td>\n",
       "      <td>0.0</td>\n",
       "      <td>0.0</td>\n",
       "      <td>0.0</td>\n",
       "      <td>0.0</td>\n",
       "    </tr>\n",
       "    <tr>\n",
       "      <th>4</th>\n",
       "      <td>0.0</td>\n",
       "      <td>0.0</td>\n",
       "      <td>0.0</td>\n",
       "      <td>0.0</td>\n",
       "      <td>0.0</td>\n",
       "      <td>0.0</td>\n",
       "      <td>0.0</td>\n",
       "      <td>0.0</td>\n",
       "      <td>0.0</td>\n",
       "      <td>0.0</td>\n",
       "      <td>...</td>\n",
       "      <td>0.0</td>\n",
       "      <td>0.0</td>\n",
       "      <td>0.0</td>\n",
       "      <td>0.0</td>\n",
       "      <td>0.0</td>\n",
       "      <td>0.0</td>\n",
       "      <td>0.0</td>\n",
       "      <td>0.0</td>\n",
       "      <td>0.0</td>\n",
       "      <td>0.0</td>\n",
       "    </tr>\n",
       "    <tr>\n",
       "      <th>5</th>\n",
       "      <td>0.0</td>\n",
       "      <td>0.0</td>\n",
       "      <td>0.0</td>\n",
       "      <td>0.0</td>\n",
       "      <td>0.0</td>\n",
       "      <td>0.0</td>\n",
       "      <td>0.0</td>\n",
       "      <td>0.0</td>\n",
       "      <td>0.0</td>\n",
       "      <td>0.0</td>\n",
       "      <td>...</td>\n",
       "      <td>0.0</td>\n",
       "      <td>0.0</td>\n",
       "      <td>0.0</td>\n",
       "      <td>0.0</td>\n",
       "      <td>0.0</td>\n",
       "      <td>0.0</td>\n",
       "      <td>0.0</td>\n",
       "      <td>0.0</td>\n",
       "      <td>0.0</td>\n",
       "      <td>0.0</td>\n",
       "    </tr>\n",
       "  </tbody>\n",
       "</table>\n",
       "<p>5 rows × 1892 columns</p>\n",
       "</div>"
      ],
      "text/plain": [
       "userID    2     3     4     5     6     7     8     9     10    11    ...  \\\n",
       "artistID                                                              ...   \n",
       "1          0.0   0.0   0.0   0.0   0.0   0.0   0.0   0.0   0.0   0.0  ...   \n",
       "2          0.0   0.0   0.0   0.0   0.0   0.0   0.0   0.0   0.0   0.0  ...   \n",
       "3          0.0   0.0   0.0   0.0   0.0   0.0   0.0   0.0   0.0   0.0  ...   \n",
       "4          0.0   0.0   0.0   0.0   0.0   0.0   0.0   0.0   0.0   0.0  ...   \n",
       "5          0.0   0.0   0.0   0.0   0.0   0.0   0.0   0.0   0.0   0.0  ...   \n",
       "\n",
       "userID    2090  2091  2092  2093  2094  2095  2096  2097  2099  2100  \n",
       "artistID                                                              \n",
       "1          0.0   0.0   0.0   0.0   0.0   0.0   0.0   0.0   0.0   0.0  \n",
       "2          0.0   0.0   0.0   0.0   0.0   0.0   0.0   0.0   0.0   0.0  \n",
       "3          0.0   0.0   0.0   0.0   0.0   0.0   0.0   0.0   0.0   0.0  \n",
       "4          0.0   0.0   0.0   0.0   0.0   0.0   0.0   0.0   0.0   0.0  \n",
       "5          0.0   0.0   0.0   0.0   0.0   0.0   0.0   0.0   0.0   0.0  \n",
       "\n",
       "[5 rows x 1892 columns]"
      ]
     },
     "execution_count": 408,
     "metadata": {},
     "output_type": "execute_result"
    }
   ],
   "source": [
    "aggregate_2 = aggregate_2.unstack().fillna(0)\n",
    "aggregate_2.head()"
   ]
  },
  {
   "cell_type": "markdown",
   "metadata": {},
   "source": [
    "#### Lets calculate recency for the artistId by userID"
   ]
  },
  {
   "cell_type": "code",
   "execution_count": 409,
   "metadata": {},
   "outputs": [],
   "source": [
    "aggregate_3 = tmp.groupby(['artistID', 'userID'])['date'].agg('max')"
   ]
  },
  {
   "cell_type": "code",
   "execution_count": 410,
   "metadata": {},
   "outputs": [
    {
     "data": {
      "text/html": [
       "<div>\n",
       "<style scoped>\n",
       "    .dataframe tbody tr th:only-of-type {\n",
       "        vertical-align: middle;\n",
       "    }\n",
       "\n",
       "    .dataframe tbody tr th {\n",
       "        vertical-align: top;\n",
       "    }\n",
       "\n",
       "    .dataframe thead th {\n",
       "        text-align: right;\n",
       "    }\n",
       "</style>\n",
       "<table border=\"1\" class=\"dataframe\">\n",
       "  <thead>\n",
       "    <tr style=\"text-align: right;\">\n",
       "      <th></th>\n",
       "      <th></th>\n",
       "      <th>recency</th>\n",
       "    </tr>\n",
       "    <tr>\n",
       "      <th>artistID</th>\n",
       "      <th>userID</th>\n",
       "      <th></th>\n",
       "    </tr>\n",
       "  </thead>\n",
       "  <tbody>\n",
       "    <tr>\n",
       "      <th rowspan=\"5\" valign=\"top\">1</th>\n",
       "      <th>37</th>\n",
       "      <td>5001</td>\n",
       "    </tr>\n",
       "    <tr>\n",
       "      <th>274</th>\n",
       "      <td>5062</td>\n",
       "    </tr>\n",
       "    <tr>\n",
       "      <th>681</th>\n",
       "      <td>4970</td>\n",
       "    </tr>\n",
       "    <tr>\n",
       "      <th>785</th>\n",
       "      <td>4240</td>\n",
       "    </tr>\n",
       "    <tr>\n",
       "      <th>1545</th>\n",
       "      <td>5183</td>\n",
       "    </tr>\n",
       "  </tbody>\n",
       "</table>\n",
       "</div>"
      ],
      "text/plain": [
       "                 recency\n",
       "artistID userID         \n",
       "1        37         5001\n",
       "         274        5062\n",
       "         681        4970\n",
       "         785        4240\n",
       "         1545       5183"
      ]
     },
     "execution_count": 410,
     "metadata": {},
     "output_type": "execute_result"
    }
   ],
   "source": [
    "import datetime\n",
    "\n",
    "aggregate_3 = pd.DataFrame(aggregate_3)\n",
    "aggregate_3['recency'] = datetime.datetime.today() - pd.to_datetime(aggregate_3['date']) \n",
    "aggregate_3['recency'] = aggregate_3['recency'].dt.days\n",
    "aggregate_3.drop('date', inplace =  True, axis = 1)\n",
    "aggregate_3.head()"
   ]
  },
  {
   "cell_type": "code",
   "execution_count": 411,
   "metadata": {},
   "outputs": [
    {
     "data": {
      "text/html": [
       "<div>\n",
       "<style scoped>\n",
       "    .dataframe tbody tr th:only-of-type {\n",
       "        vertical-align: middle;\n",
       "    }\n",
       "\n",
       "    .dataframe tbody tr th {\n",
       "        vertical-align: top;\n",
       "    }\n",
       "\n",
       "    .dataframe thead tr th {\n",
       "        text-align: left;\n",
       "    }\n",
       "\n",
       "    .dataframe thead tr:last-of-type th {\n",
       "        text-align: right;\n",
       "    }\n",
       "</style>\n",
       "<table border=\"1\" class=\"dataframe\">\n",
       "  <thead>\n",
       "    <tr>\n",
       "      <th></th>\n",
       "      <th colspan=\"21\" halign=\"left\">recency</th>\n",
       "    </tr>\n",
       "    <tr>\n",
       "      <th>userID</th>\n",
       "      <th>2</th>\n",
       "      <th>3</th>\n",
       "      <th>4</th>\n",
       "      <th>5</th>\n",
       "      <th>6</th>\n",
       "      <th>7</th>\n",
       "      <th>8</th>\n",
       "      <th>9</th>\n",
       "      <th>10</th>\n",
       "      <th>11</th>\n",
       "      <th>...</th>\n",
       "      <th>2090</th>\n",
       "      <th>2091</th>\n",
       "      <th>2092</th>\n",
       "      <th>2093</th>\n",
       "      <th>2094</th>\n",
       "      <th>2095</th>\n",
       "      <th>2096</th>\n",
       "      <th>2097</th>\n",
       "      <th>2099</th>\n",
       "      <th>2100</th>\n",
       "    </tr>\n",
       "    <tr>\n",
       "      <th>artistID</th>\n",
       "      <th></th>\n",
       "      <th></th>\n",
       "      <th></th>\n",
       "      <th></th>\n",
       "      <th></th>\n",
       "      <th></th>\n",
       "      <th></th>\n",
       "      <th></th>\n",
       "      <th></th>\n",
       "      <th></th>\n",
       "      <th></th>\n",
       "      <th></th>\n",
       "      <th></th>\n",
       "      <th></th>\n",
       "      <th></th>\n",
       "      <th></th>\n",
       "      <th></th>\n",
       "      <th></th>\n",
       "      <th></th>\n",
       "      <th></th>\n",
       "      <th></th>\n",
       "    </tr>\n",
       "  </thead>\n",
       "  <tbody>\n",
       "    <tr>\n",
       "      <th>1</th>\n",
       "      <td>0.0</td>\n",
       "      <td>0.0</td>\n",
       "      <td>0.0</td>\n",
       "      <td>0.0</td>\n",
       "      <td>0.0</td>\n",
       "      <td>0.0</td>\n",
       "      <td>0.0</td>\n",
       "      <td>0.0</td>\n",
       "      <td>0.0</td>\n",
       "      <td>0.0</td>\n",
       "      <td>...</td>\n",
       "      <td>0.0</td>\n",
       "      <td>0.0</td>\n",
       "      <td>0.0</td>\n",
       "      <td>0.0</td>\n",
       "      <td>0.0</td>\n",
       "      <td>0.0</td>\n",
       "      <td>0.0</td>\n",
       "      <td>0.0</td>\n",
       "      <td>0.0</td>\n",
       "      <td>0.0</td>\n",
       "    </tr>\n",
       "    <tr>\n",
       "      <th>2</th>\n",
       "      <td>0.0</td>\n",
       "      <td>0.0</td>\n",
       "      <td>0.0</td>\n",
       "      <td>0.0</td>\n",
       "      <td>0.0</td>\n",
       "      <td>0.0</td>\n",
       "      <td>0.0</td>\n",
       "      <td>0.0</td>\n",
       "      <td>0.0</td>\n",
       "      <td>0.0</td>\n",
       "      <td>...</td>\n",
       "      <td>0.0</td>\n",
       "      <td>0.0</td>\n",
       "      <td>0.0</td>\n",
       "      <td>0.0</td>\n",
       "      <td>0.0</td>\n",
       "      <td>0.0</td>\n",
       "      <td>0.0</td>\n",
       "      <td>0.0</td>\n",
       "      <td>0.0</td>\n",
       "      <td>0.0</td>\n",
       "    </tr>\n",
       "    <tr>\n",
       "      <th>3</th>\n",
       "      <td>0.0</td>\n",
       "      <td>0.0</td>\n",
       "      <td>0.0</td>\n",
       "      <td>0.0</td>\n",
       "      <td>0.0</td>\n",
       "      <td>0.0</td>\n",
       "      <td>0.0</td>\n",
       "      <td>0.0</td>\n",
       "      <td>0.0</td>\n",
       "      <td>0.0</td>\n",
       "      <td>...</td>\n",
       "      <td>0.0</td>\n",
       "      <td>0.0</td>\n",
       "      <td>0.0</td>\n",
       "      <td>0.0</td>\n",
       "      <td>0.0</td>\n",
       "      <td>0.0</td>\n",
       "      <td>0.0</td>\n",
       "      <td>0.0</td>\n",
       "      <td>0.0</td>\n",
       "      <td>0.0</td>\n",
       "    </tr>\n",
       "    <tr>\n",
       "      <th>4</th>\n",
       "      <td>0.0</td>\n",
       "      <td>0.0</td>\n",
       "      <td>0.0</td>\n",
       "      <td>0.0</td>\n",
       "      <td>0.0</td>\n",
       "      <td>0.0</td>\n",
       "      <td>0.0</td>\n",
       "      <td>0.0</td>\n",
       "      <td>0.0</td>\n",
       "      <td>0.0</td>\n",
       "      <td>...</td>\n",
       "      <td>0.0</td>\n",
       "      <td>0.0</td>\n",
       "      <td>0.0</td>\n",
       "      <td>0.0</td>\n",
       "      <td>0.0</td>\n",
       "      <td>0.0</td>\n",
       "      <td>0.0</td>\n",
       "      <td>0.0</td>\n",
       "      <td>0.0</td>\n",
       "      <td>0.0</td>\n",
       "    </tr>\n",
       "    <tr>\n",
       "      <th>5</th>\n",
       "      <td>0.0</td>\n",
       "      <td>0.0</td>\n",
       "      <td>0.0</td>\n",
       "      <td>0.0</td>\n",
       "      <td>0.0</td>\n",
       "      <td>0.0</td>\n",
       "      <td>0.0</td>\n",
       "      <td>0.0</td>\n",
       "      <td>0.0</td>\n",
       "      <td>0.0</td>\n",
       "      <td>...</td>\n",
       "      <td>0.0</td>\n",
       "      <td>0.0</td>\n",
       "      <td>0.0</td>\n",
       "      <td>0.0</td>\n",
       "      <td>0.0</td>\n",
       "      <td>0.0</td>\n",
       "      <td>0.0</td>\n",
       "      <td>0.0</td>\n",
       "      <td>0.0</td>\n",
       "      <td>0.0</td>\n",
       "    </tr>\n",
       "  </tbody>\n",
       "</table>\n",
       "<p>5 rows × 1892 columns</p>\n",
       "</div>"
      ],
      "text/plain": [
       "         recency                                               ...            \\\n",
       "userID      2    3    4    5    6    7    8    9    10   11    ... 2090 2091   \n",
       "artistID                                                       ...             \n",
       "1            0.0  0.0  0.0  0.0  0.0  0.0  0.0  0.0  0.0  0.0  ...  0.0  0.0   \n",
       "2            0.0  0.0  0.0  0.0  0.0  0.0  0.0  0.0  0.0  0.0  ...  0.0  0.0   \n",
       "3            0.0  0.0  0.0  0.0  0.0  0.0  0.0  0.0  0.0  0.0  ...  0.0  0.0   \n",
       "4            0.0  0.0  0.0  0.0  0.0  0.0  0.0  0.0  0.0  0.0  ...  0.0  0.0   \n",
       "5            0.0  0.0  0.0  0.0  0.0  0.0  0.0  0.0  0.0  0.0  ...  0.0  0.0   \n",
       "\n",
       "                                                  \n",
       "userID   2092 2093 2094 2095 2096 2097 2099 2100  \n",
       "artistID                                          \n",
       "1         0.0  0.0  0.0  0.0  0.0  0.0  0.0  0.0  \n",
       "2         0.0  0.0  0.0  0.0  0.0  0.0  0.0  0.0  \n",
       "3         0.0  0.0  0.0  0.0  0.0  0.0  0.0  0.0  \n",
       "4         0.0  0.0  0.0  0.0  0.0  0.0  0.0  0.0  \n",
       "5         0.0  0.0  0.0  0.0  0.0  0.0  0.0  0.0  \n",
       "\n",
       "[5 rows x 1892 columns]"
      ]
     },
     "execution_count": 411,
     "metadata": {},
     "output_type": "execute_result"
    }
   ],
   "source": [
    "aggregate_3 =  aggregate_3.unstack().fillna(0)\n",
    "aggregate_3.head()"
   ]
  },
  {
   "cell_type": "markdown",
   "metadata": {},
   "source": [
    "## Collaborative Filtering Approach"
   ]
  },
  {
   "cell_type": "markdown",
   "metadata": {},
   "source": [
    "Lets split the userartist data into test and train "
   ]
  },
  {
   "cell_type": "code",
   "execution_count": 412,
   "metadata": {},
   "outputs": [],
   "source": [
    "data = user_artists.loc[:,['userID', 'artistID', 'raw_ratings']]"
   ]
  },
  {
   "cell_type": "code",
   "execution_count": 413,
   "metadata": {},
   "outputs": [
    {
     "data": {
      "text/html": [
       "<div>\n",
       "<style scoped>\n",
       "    .dataframe tbody tr th:only-of-type {\n",
       "        vertical-align: middle;\n",
       "    }\n",
       "\n",
       "    .dataframe tbody tr th {\n",
       "        vertical-align: top;\n",
       "    }\n",
       "\n",
       "    .dataframe thead th {\n",
       "        text-align: right;\n",
       "    }\n",
       "</style>\n",
       "<table border=\"1\" class=\"dataframe\">\n",
       "  <thead>\n",
       "    <tr style=\"text-align: right;\">\n",
       "      <th></th>\n",
       "      <th>userID</th>\n",
       "      <th>artistID</th>\n",
       "      <th>raw_ratings</th>\n",
       "    </tr>\n",
       "  </thead>\n",
       "  <tbody>\n",
       "    <tr>\n",
       "      <th>0</th>\n",
       "      <td>2</td>\n",
       "      <td>51</td>\n",
       "      <td>10.0</td>\n",
       "    </tr>\n",
       "    <tr>\n",
       "      <th>1</th>\n",
       "      <td>2</td>\n",
       "      <td>52</td>\n",
       "      <td>10.0</td>\n",
       "    </tr>\n",
       "    <tr>\n",
       "      <th>2</th>\n",
       "      <td>2</td>\n",
       "      <td>53</td>\n",
       "      <td>10.0</td>\n",
       "    </tr>\n",
       "    <tr>\n",
       "      <th>3</th>\n",
       "      <td>2</td>\n",
       "      <td>54</td>\n",
       "      <td>10.0</td>\n",
       "    </tr>\n",
       "    <tr>\n",
       "      <th>4</th>\n",
       "      <td>2</td>\n",
       "      <td>55</td>\n",
       "      <td>10.0</td>\n",
       "    </tr>\n",
       "  </tbody>\n",
       "</table>\n",
       "</div>"
      ],
      "text/plain": [
       "   userID  artistID  raw_ratings\n",
       "0       2        51         10.0\n",
       "1       2        52         10.0\n",
       "2       2        53         10.0\n",
       "3       2        54         10.0\n",
       "4       2        55         10.0"
      ]
     },
     "execution_count": 413,
     "metadata": {},
     "output_type": "execute_result"
    }
   ],
   "source": [
    "data.head()"
   ]
  },
  {
   "cell_type": "code",
   "execution_count": 414,
   "metadata": {},
   "outputs": [
    {
     "name": "stdout",
     "output_type": "stream",
     "text": [
      "(92198, 3)\n",
      "(64538, 3)\n",
      "(27660, 3)\n"
     ]
    }
   ],
   "source": [
    "# train-test split\n",
    "train, test = train_test_split(data, test_size=0.3, random_state=42)\n",
    "\n",
    "# reset index\n",
    "train = train.reset_index(drop=True)\n",
    "test = test.reset_index(drop=True)\n",
    "\n",
    "print(data.shape)\n",
    "print(train.shape)\n",
    "print(test.shape)"
   ]
  },
  {
   "cell_type": "code",
   "execution_count": 415,
   "metadata": {},
   "outputs": [],
   "source": [
    "reader = Reader(rating_scale=(1, 10))\n",
    "df_train = Dataset.load_from_df(train, reader).build_full_trainset()\n",
    "df_test = list(test.itertuples(index=False, name=None))"
   ]
  },
  {
   "cell_type": "code",
   "execution_count": 416,
   "metadata": {},
   "outputs": [
    {
     "data": {
      "text/html": [
       "<div>\n",
       "<style scoped>\n",
       "    .dataframe tbody tr th:only-of-type {\n",
       "        vertical-align: middle;\n",
       "    }\n",
       "\n",
       "    .dataframe tbody tr th {\n",
       "        vertical-align: top;\n",
       "    }\n",
       "\n",
       "    .dataframe thead th {\n",
       "        text-align: right;\n",
       "    }\n",
       "</style>\n",
       "<table border=\"1\" class=\"dataframe\">\n",
       "  <thead>\n",
       "    <tr style=\"text-align: right;\">\n",
       "      <th></th>\n",
       "      <th>index</th>\n",
       "      <th>userID</th>\n",
       "      <th>artistID</th>\n",
       "      <th>raw_ratings</th>\n",
       "    </tr>\n",
       "  </thead>\n",
       "  <tbody>\n",
       "    <tr>\n",
       "      <th>0</th>\n",
       "      <td>0</td>\n",
       "      <td>2</td>\n",
       "      <td>51</td>\n",
       "      <td>10.0</td>\n",
       "    </tr>\n",
       "    <tr>\n",
       "      <th>1</th>\n",
       "      <td>1</td>\n",
       "      <td>2</td>\n",
       "      <td>52</td>\n",
       "      <td>10.0</td>\n",
       "    </tr>\n",
       "    <tr>\n",
       "      <th>2</th>\n",
       "      <td>2</td>\n",
       "      <td>2</td>\n",
       "      <td>53</td>\n",
       "      <td>10.0</td>\n",
       "    </tr>\n",
       "    <tr>\n",
       "      <th>3</th>\n",
       "      <td>3</td>\n",
       "      <td>2</td>\n",
       "      <td>54</td>\n",
       "      <td>10.0</td>\n",
       "    </tr>\n",
       "    <tr>\n",
       "      <th>4</th>\n",
       "      <td>4</td>\n",
       "      <td>2</td>\n",
       "      <td>55</td>\n",
       "      <td>10.0</td>\n",
       "    </tr>\n",
       "    <tr>\n",
       "      <th>...</th>\n",
       "      <td>...</td>\n",
       "      <td>...</td>\n",
       "      <td>...</td>\n",
       "      <td>...</td>\n",
       "    </tr>\n",
       "    <tr>\n",
       "      <th>92193</th>\n",
       "      <td>92829</td>\n",
       "      <td>2100</td>\n",
       "      <td>18726</td>\n",
       "      <td>6.0</td>\n",
       "    </tr>\n",
       "    <tr>\n",
       "      <th>92194</th>\n",
       "      <td>92830</td>\n",
       "      <td>2100</td>\n",
       "      <td>18727</td>\n",
       "      <td>6.0</td>\n",
       "    </tr>\n",
       "    <tr>\n",
       "      <th>92195</th>\n",
       "      <td>92831</td>\n",
       "      <td>2100</td>\n",
       "      <td>18728</td>\n",
       "      <td>6.0</td>\n",
       "    </tr>\n",
       "    <tr>\n",
       "      <th>92196</th>\n",
       "      <td>92832</td>\n",
       "      <td>2100</td>\n",
       "      <td>18729</td>\n",
       "      <td>6.0</td>\n",
       "    </tr>\n",
       "    <tr>\n",
       "      <th>92197</th>\n",
       "      <td>92833</td>\n",
       "      <td>2100</td>\n",
       "      <td>18730</td>\n",
       "      <td>6.0</td>\n",
       "    </tr>\n",
       "  </tbody>\n",
       "</table>\n",
       "<p>92198 rows × 4 columns</p>\n",
       "</div>"
      ],
      "text/plain": [
       "       index  userID  artistID  raw_ratings\n",
       "0          0       2        51         10.0\n",
       "1          1       2        52         10.0\n",
       "2          2       2        53         10.0\n",
       "3          3       2        54         10.0\n",
       "4          4       2        55         10.0\n",
       "...      ...     ...       ...          ...\n",
       "92193  92829    2100     18726          6.0\n",
       "92194  92830    2100     18727          6.0\n",
       "92195  92831    2100     18728          6.0\n",
       "92196  92832    2100     18729          6.0\n",
       "92197  92833    2100     18730          6.0\n",
       "\n",
       "[92198 rows x 4 columns]"
      ]
     },
     "execution_count": 416,
     "metadata": {},
     "output_type": "execute_result"
    }
   ],
   "source": [
    "data.reset_index()"
   ]
  },
  {
   "cell_type": "code",
   "execution_count": 417,
   "metadata": {},
   "outputs": [
    {
     "data": {
      "text/plain": [
       "userID         0\n",
       "artistID       0\n",
       "raw_ratings    0\n",
       "dtype: int64"
      ]
     },
     "execution_count": 417,
     "metadata": {},
     "output_type": "execute_result"
    }
   ],
   "source": [
    "data.isna().sum()"
   ]
  },
  {
   "cell_type": "code",
   "execution_count": 418,
   "metadata": {},
   "outputs": [
    {
     "data": {
      "text/plain": [
       "pandas.core.frame.DataFrame"
      ]
     },
     "execution_count": 418,
     "metadata": {},
     "output_type": "execute_result"
    }
   ],
   "source": [
    "type(data)"
   ]
  },
  {
   "cell_type": "code",
   "execution_count": 420,
   "metadata": {},
   "outputs": [
    {
     "name": "stdout",
     "output_type": "stream",
     "text": [
      "Estimating biases using als...\n",
      "Computing the msd similarity matrix...\n",
      "Done computing similarity matrix.\n",
      "Estimating biases using als...\n",
      "Computing the msd similarity matrix...\n",
      "Done computing similarity matrix.\n",
      "Estimating biases using als...\n",
      "Computing the msd similarity matrix...\n",
      "Done computing similarity matrix.\n",
      "Computing the msd similarity matrix...\n",
      "Done computing similarity matrix.\n",
      "Computing the msd similarity matrix...\n",
      "Done computing similarity matrix.\n",
      "Computing the msd similarity matrix...\n",
      "Done computing similarity matrix.\n",
      "Computing the msd similarity matrix...\n",
      "Done computing similarity matrix.\n",
      "Computing the msd similarity matrix...\n",
      "Done computing similarity matrix.\n",
      "Computing the msd similarity matrix...\n",
      "Done computing similarity matrix.\n",
      "Computing the msd similarity matrix...\n",
      "Done computing similarity matrix.\n",
      "Computing the msd similarity matrix...\n",
      "Done computing similarity matrix.\n",
      "Computing the msd similarity matrix...\n",
      "Done computing similarity matrix.\n",
      "Estimating biases using als...\n",
      "Estimating biases using als...\n",
      "Estimating biases using als...\n"
     ]
    }
   ],
   "source": [
    "benchmark = []\n",
    "data = Dataset.load_from_df(data[['userID', 'artistID', 'raw_ratings']], reader)\n",
    "# Iterate over all algorithms\n",
    "for algorithm in [SVD(), SVDpp(), SlopeOne(), NMF(), NormalPredictor(), KNNBaseline(), KNNBasic(), KNNWithMeans(), KNNWithZScore(), BaselineOnly(), CoClustering()]:\n",
    "    # Perform cross validation\n",
    "    results = cross_validate(algorithm, data, measures=['RMSE'], cv=3, verbose=False)\n",
    "    \n",
    "    # Get results & append algorithm name\n",
    "    tmp = pd.DataFrame.from_dict(results).mean(axis=0)\n",
    "    tmp = tmp.append(pd.Series([str(algorithm).split(' ')[0].split('.')[-1]], index=['Algorithm']))\n",
    "    benchmark.append(tmp)"
   ]
  },
  {
   "cell_type": "code",
   "execution_count": 422,
   "metadata": {},
   "outputs": [
    {
     "data": {
      "text/plain": [
       "[test_rmse    0.889587\n",
       " fit_time     7.960005\n",
       " test_time    0.655158\n",
       " Algorithm         SVD\n",
       " dtype: object,\n",
       " test_rmse      0.873931\n",
       " fit_time     111.885325\n",
       " test_time      4.696891\n",
       " Algorithm         SVDpp\n",
       " dtype: object,\n",
       " test_rmse     1.084175\n",
       " fit_time     19.503937\n",
       " test_time     2.321225\n",
       " Algorithm     SlopeOne\n",
       " dtype: object,\n",
       " test_rmse     1.397496\n",
       " fit_time     16.969504\n",
       " test_time     0.729625\n",
       " Algorithm          NMF\n",
       " dtype: object,\n",
       " test_rmse           2.113256\n",
       " fit_time            0.309215\n",
       " test_time           0.773833\n",
       " Algorithm    NormalPredictor\n",
       " dtype: object,\n",
       " test_rmse       0.976949\n",
       " fit_time        1.265436\n",
       " test_time       7.618275\n",
       " Algorithm    KNNBaseline\n",
       " dtype: object,\n",
       " test_rmse    1.391533\n",
       " fit_time     0.711529\n",
       " test_time    4.933831\n",
       " Algorithm    KNNBasic\n",
       " dtype: object,\n",
       " test_rmse        1.053448\n",
       " fit_time         0.757735\n",
       " test_time        5.666618\n",
       " Algorithm    KNNWithMeans\n",
       " dtype: object,\n",
       " test_rmse         1.059103\n",
       " fit_time          1.214986\n",
       " test_time         7.053229\n",
       " Algorithm    KNNWithZScore\n",
       " dtype: object,\n",
       " test_rmse        0.953259\n",
       " fit_time         0.688823\n",
       " test_time        0.529814\n",
       " Algorithm    BaselineOnly\n",
       " dtype: object,\n",
       " test_rmse         1.12504\n",
       " fit_time         8.351561\n",
       " test_time        0.437078\n",
       " Algorithm    CoClustering\n",
       " dtype: object]"
      ]
     },
     "execution_count": 422,
     "metadata": {},
     "output_type": "execute_result"
    }
   ],
   "source": [
    "benchmark"
   ]
  },
  {
   "cell_type": "markdown",
   "metadata": {},
   "source": [
    "#### Now we will try to train the surprise model to get ratings using matrix, user based, item based, coclustering  and ALS"
   ]
  },
  {
   "cell_type": "code",
   "execution_count": null,
   "metadata": {},
   "outputs": [
    {
     "name": "stdout",
     "output_type": "stream",
     "text": [
      "Computing the cosine similarity matrix...\n",
      "Done computing similarity matrix.\n",
      "Computing the cosine similarity matrix...\n",
      "Done computing similarity matrix.\n"
     ]
    },
    {
     "name": "stderr",
     "output_type": "stream",
     "text": [
      "<ipython-input-180-708261c26dbc>:15: DeprecationWarning: `np.int` is a deprecated alias for the builtin `int`. To silence this warning, use `int` by itself. Doing this will not modify any behavior and is safe. When replacing `np.int`, you may wish to use e.g. `np.int64` or `np.int32` to specify the precision. If you wish to review your current use, check the release note link for additional information.\n",
      "Deprecated in NumPy 1.20; for more details and guidance: https://numpy.org/devdocs/release/1.20.0-notes.html#deprecations\n",
      "  clust.fit(df_train)\n"
     ]
    },
    {
     "name": "stdout",
     "output_type": "stream",
     "text": [
      "Estimating biases using als...\n"
     ]
    },
    {
     "data": {
      "text/html": [
       "<div>\n",
       "<style scoped>\n",
       "    .dataframe tbody tr th:only-of-type {\n",
       "        vertical-align: middle;\n",
       "    }\n",
       "\n",
       "    .dataframe tbody tr th {\n",
       "        vertical-align: top;\n",
       "    }\n",
       "\n",
       "    .dataframe thead th {\n",
       "        text-align: right;\n",
       "    }\n",
       "</style>\n",
       "<table border=\"1\" class=\"dataframe\">\n",
       "  <thead>\n",
       "    <tr style=\"text-align: right;\">\n",
       "      <th></th>\n",
       "      <th>IB</th>\n",
       "      <th>UB</th>\n",
       "      <th>CLU</th>\n",
       "      <th>SVD</th>\n",
       "      <th>ALS</th>\n",
       "    </tr>\n",
       "  </thead>\n",
       "  <tbody>\n",
       "    <tr>\n",
       "      <th>RMSE</th>\n",
       "      <td>1.155835</td>\n",
       "      <td>1.496085</td>\n",
       "      <td>1.114257</td>\n",
       "      <td>1.421003</td>\n",
       "      <td>0.940659</td>\n",
       "    </tr>\n",
       "    <tr>\n",
       "      <th>MAE</th>\n",
       "      <td>0.829390</td>\n",
       "      <td>1.128415</td>\n",
       "      <td>0.820945</td>\n",
       "      <td>1.004436</td>\n",
       "      <td>0.713441</td>\n",
       "    </tr>\n",
       "    <tr>\n",
       "      <th>Recall</th>\n",
       "      <td>0.955123</td>\n",
       "      <td>0.994916</td>\n",
       "      <td>0.925705</td>\n",
       "      <td>0.832660</td>\n",
       "      <td>0.975791</td>\n",
       "    </tr>\n",
       "    <tr>\n",
       "      <th>Precision</th>\n",
       "      <td>0.922934</td>\n",
       "      <td>0.867718</td>\n",
       "      <td>0.939723</td>\n",
       "      <td>0.942417</td>\n",
       "      <td>0.950985</td>\n",
       "    </tr>\n",
       "    <tr>\n",
       "      <th>F1</th>\n",
       "      <td>0.938753</td>\n",
       "      <td>0.926974</td>\n",
       "      <td>0.932662</td>\n",
       "      <td>0.884145</td>\n",
       "      <td>0.963228</td>\n",
       "    </tr>\n",
       "    <tr>\n",
       "      <th>NDCG@5</th>\n",
       "      <td>0.843581</td>\n",
       "      <td>0.856282</td>\n",
       "      <td>0.852969</td>\n",
       "      <td>0.859563</td>\n",
       "      <td>0.855251</td>\n",
       "    </tr>\n",
       "  </tbody>\n",
       "</table>\n",
       "</div>"
      ],
      "text/plain": [
       "                 IB        UB       CLU       SVD       ALS\n",
       "RMSE       1.155835  1.496085  1.114257  1.421003  0.940659\n",
       "MAE        0.829390  1.128415  0.820945  1.004436  0.713441\n",
       "Recall     0.955123  0.994916  0.925705  0.832660  0.975791\n",
       "Precision  0.922934  0.867718  0.939723  0.942417  0.950985\n",
       "F1         0.938753  0.926974  0.932662  0.884145  0.963228\n",
       "NDCG@5     0.843581  0.856282  0.852969  0.859563  0.855251"
      ]
     },
     "execution_count": 180,
     "metadata": {},
     "output_type": "execute_result"
    }
   ],
   "source": [
    "# item-based\n",
    "options = {'name':'cosine', 'user_based':False}\n",
    "ib = KNNBasic(k=15, min_k=5, sim_options=options, random_state=42)\n",
    "ib.fit(df_train)\n",
    "ib_pred = ib.test(df_test)\n",
    "\n",
    "# True options is parm\n",
    "options = {'name':'cosine', 'user_based':True} \n",
    "ub = KNNBasic(k=20, min_k=5, sim_options=options, random_state=42)\n",
    "ub.fit(df_train)\n",
    "ub_pred = ub.test(df_test)\n",
    "\n",
    "# Co Clustering\n",
    "clust = CoClustering(n_cltr_u=10, n_cltr_i=10, n_epochs=50, random_state=42)\n",
    "clust.fit(df_train)\n",
    "predclu = clust.test(df_test)\n",
    "\n",
    "# svd\n",
    "mf = SVD(n_factors=20, biased=False, random_state=42)\n",
    "mf.fit(df_train)\n",
    "mf_pred = mf.test(df_test)\n",
    "\n",
    "options = {\"method\": \"als\", \"n_epochs\": 20}\n",
    "als = BaselineOnly(bsl_options=options)\n",
    "als.fit(df_train)\n",
    "als_pred = als.test(df_test)\n",
    "\n",
    "models = {\"IB\":ib_pred,\"UB\":ub_pred, \"CLU\":predclu, \"SVD\":mf_pred, \"ALS\":als_pred}\n",
    "overview = pd.concat([eval.evaluate(mod, topn=5, rating_cutoff=5) for mod in models.values()], axis=1)\n",
    "overview.columns = list(models.keys())\n",
    "overview"
   ]
  },
  {
   "cell_type": "markdown",
   "metadata": {},
   "source": [
    "### Predictions"
   ]
  },
  {
   "cell_type": "markdown",
   "metadata": {},
   "source": [
    "We can see that ALS gives us the best RMSE followed by cluster based. We will now try to get top 5 artist using each of the predictions"
   ]
  },
  {
   "cell_type": "code",
   "execution_count": null,
   "metadata": {},
   "outputs": [
    {
     "data": {
      "text/html": [
       "<div>\n",
       "<style scoped>\n",
       "    .dataframe tbody tr th:only-of-type {\n",
       "        vertical-align: middle;\n",
       "    }\n",
       "\n",
       "    .dataframe tbody tr th {\n",
       "        vertical-align: top;\n",
       "    }\n",
       "\n",
       "    .dataframe thead th {\n",
       "        text-align: right;\n",
       "    }\n",
       "</style>\n",
       "<table border=\"1\" class=\"dataframe\">\n",
       "  <thead>\n",
       "    <tr style=\"text-align: right;\">\n",
       "      <th></th>\n",
       "      <th>userID</th>\n",
       "      <th>artistID</th>\n",
       "      <th>tagID</th>\n",
       "      <th>date</th>\n",
       "      <th>tagValue</th>\n",
       "    </tr>\n",
       "  </thead>\n",
       "  <tbody>\n",
       "    <tr>\n",
       "      <th>0</th>\n",
       "      <td>2</td>\n",
       "      <td>52</td>\n",
       "      <td>13</td>\n",
       "      <td>2009-04-01</td>\n",
       "      <td>chillout</td>\n",
       "    </tr>\n",
       "    <tr>\n",
       "      <th>1</th>\n",
       "      <td>2</td>\n",
       "      <td>52</td>\n",
       "      <td>15</td>\n",
       "      <td>2009-04-01</td>\n",
       "      <td>downtempo</td>\n",
       "    </tr>\n",
       "    <tr>\n",
       "      <th>2</th>\n",
       "      <td>2</td>\n",
       "      <td>52</td>\n",
       "      <td>18</td>\n",
       "      <td>2009-04-01</td>\n",
       "      <td>electronic</td>\n",
       "    </tr>\n",
       "    <tr>\n",
       "      <th>3</th>\n",
       "      <td>2</td>\n",
       "      <td>52</td>\n",
       "      <td>21</td>\n",
       "      <td>2009-04-01</td>\n",
       "      <td>trip-hop</td>\n",
       "    </tr>\n",
       "    <tr>\n",
       "      <th>4</th>\n",
       "      <td>2</td>\n",
       "      <td>52</td>\n",
       "      <td>41</td>\n",
       "      <td>2009-04-01</td>\n",
       "      <td>female vovalists</td>\n",
       "    </tr>\n",
       "  </tbody>\n",
       "</table>\n",
       "</div>"
      ],
      "text/plain": [
       "   userID  artistID  tagID       date          tagValue\n",
       "0       2        52     13 2009-04-01          chillout\n",
       "1       2        52     15 2009-04-01         downtempo\n",
       "2       2        52     18 2009-04-01        electronic\n",
       "3       2        52     21 2009-04-01          trip-hop\n",
       "4       2        52     41 2009-04-01  female vovalists"
      ]
     },
     "execution_count": 270,
     "metadata": {},
     "output_type": "execute_result"
    }
   ],
   "source": [
    "tmp.head()"
   ]
  },
  {
   "cell_type": "markdown",
   "metadata": {},
   "source": [
    "### Lets check the Tags of USER 200"
   ]
  },
  {
   "cell_type": "code",
   "execution_count": null,
   "metadata": {},
   "outputs": [
    {
     "data": {
      "text/html": [
       "<div>\n",
       "<style scoped>\n",
       "    .dataframe tbody tr th:only-of-type {\n",
       "        vertical-align: middle;\n",
       "    }\n",
       "\n",
       "    .dataframe tbody tr th {\n",
       "        vertical-align: top;\n",
       "    }\n",
       "\n",
       "    .dataframe thead th {\n",
       "        text-align: right;\n",
       "    }\n",
       "</style>\n",
       "<table border=\"1\" class=\"dataframe\">\n",
       "  <thead>\n",
       "    <tr style=\"text-align: right;\">\n",
       "      <th></th>\n",
       "      <th>tagValue</th>\n",
       "    </tr>\n",
       "    <tr>\n",
       "      <th>userID</th>\n",
       "      <th></th>\n",
       "    </tr>\n",
       "  </thead>\n",
       "  <tbody>\n",
       "    <tr>\n",
       "      <th>200</th>\n",
       "      <td>[rock, classic rock, british, hard rock, nwobhm, ambient, new age, instrumental, progressive rock, rock]</td>\n",
       "    </tr>\n",
       "  </tbody>\n",
       "</table>\n",
       "</div>"
      ],
      "text/plain": [
       "                                                                                                        tagValue\n",
       "userID                                                                                                          \n",
       "200     [rock, classic rock, british, hard rock, nwobhm, ambient, new age, instrumental, progressive rock, rock]"
      ]
     },
     "execution_count": 273,
     "metadata": {},
     "output_type": "execute_result"
    }
   ],
   "source": [
    "user_200 = tmp.groupby('userID')['tagValue'].apply(list)\n",
    "pd.DataFrame(user_200[user_200.index == 200])"
   ]
  },
  {
   "cell_type": "code",
   "execution_count": null,
   "metadata": {},
   "outputs": [
    {
     "data": {
      "text/html": [
       "<div>\n",
       "<style scoped>\n",
       "    .dataframe tbody tr th:only-of-type {\n",
       "        vertical-align: middle;\n",
       "    }\n",
       "\n",
       "    .dataframe tbody tr th {\n",
       "        vertical-align: top;\n",
       "    }\n",
       "\n",
       "    .dataframe thead th {\n",
       "        text-align: right;\n",
       "    }\n",
       "</style>\n",
       "<table border=\"1\" class=\"dataframe\">\n",
       "  <thead>\n",
       "    <tr style=\"text-align: right;\">\n",
       "      <th></th>\n",
       "      <th>user</th>\n",
       "      <th>item</th>\n",
       "    </tr>\n",
       "  </thead>\n",
       "  <tbody>\n",
       "    <tr>\n",
       "      <th>0</th>\n",
       "      <td>200</td>\n",
       "      <td>[65, 4125, 4130, 998, 4131]</td>\n",
       "    </tr>\n",
       "    <tr>\n",
       "      <th>1</th>\n",
       "      <td>1833</td>\n",
       "      <td>[292, 295, 4252, 299, 86]</td>\n",
       "    </tr>\n",
       "    <tr>\n",
       "      <th>2</th>\n",
       "      <td>293</td>\n",
       "      <td>[679, 227, 498, 230, 412]</td>\n",
       "    </tr>\n",
       "    <tr>\n",
       "      <th>3</th>\n",
       "      <td>1102</td>\n",
       "      <td>[906, 467, 2020, 298, 97]</td>\n",
       "    </tr>\n",
       "    <tr>\n",
       "      <th>4</th>\n",
       "      <td>938</td>\n",
       "      <td>[300, 5459, 291, 499, 680]</td>\n",
       "    </tr>\n",
       "  </tbody>\n",
       "</table>\n",
       "</div>"
      ],
      "text/plain": [
       "   user                         item\n",
       "0   200  [65, 4125, 4130, 998, 4131]\n",
       "1  1833    [292, 295, 4252, 299, 86]\n",
       "2   293    [679, 227, 498, 230, 412]\n",
       "3  1102    [906, 467, 2020, 298, 97]\n",
       "4   938   [300, 5459, 291, 499, 680]"
      ]
     },
     "execution_count": 181,
     "metadata": {},
     "output_type": "execute_result"
    }
   ],
   "source": [
    "from IESEGRecSys import utils\n",
    "\n",
    "results = utils.get_top_n(als_pred,  n = 5,  user_col =  'userID', item_col='artistID')\n",
    "results.head()"
   ]
  },
  {
   "cell_type": "markdown",
   "metadata": {},
   "source": [
    "Lets check the tags for user 200 based on ALS algorithm for artistID 65, 4125, 4130"
   ]
  },
  {
   "cell_type": "code",
   "execution_count": null,
   "metadata": {},
   "outputs": [
    {
     "data": {
      "text/html": [
       "<div>\n",
       "<style scoped>\n",
       "    .dataframe tbody tr th:only-of-type {\n",
       "        vertical-align: middle;\n",
       "    }\n",
       "\n",
       "    .dataframe tbody tr th {\n",
       "        vertical-align: top;\n",
       "    }\n",
       "\n",
       "    .dataframe thead th {\n",
       "        text-align: right;\n",
       "    }\n",
       "</style>\n",
       "<table border=\"1\" class=\"dataframe\">\n",
       "  <thead>\n",
       "    <tr style=\"text-align: right;\">\n",
       "      <th></th>\n",
       "      <th>tagValue</th>\n",
       "    </tr>\n",
       "    <tr>\n",
       "      <th>artistID</th>\n",
       "      <th></th>\n",
       "    </tr>\n",
       "  </thead>\n",
       "  <tbody>\n",
       "    <tr>\n",
       "      <th>65</th>\n",
       "      <td>[00s, 2002, 2005, 2008, 4m4zinq, 90s, acoustic, alternative, alternative rock, amazing, ambient, atmospheric, awesome, b-side, ballad, beatiful, beautiful, beautiful music, ben lee, best songs ever, brian eno, brilliant, brit rock, british, britpop, britrock, britsong, caaamiiiliiitaaa, chill, chillout, cities, classic rock, cold play, coldplay, cool, cover, cute, demo, dreamy, electronic, epic, eternal love, european, experimental, fail, favorite albums, favorite artist, favorite artists, favorite bands, favorite bands and artists, favorite song, favorite songs, favorites, favourite, favourite artists, favourite songs, favourites, folk, free, free download, free mp3, fucking awesome, fun, galactic, garden state soundtrack, genius, gold, good stuff, great song, hang on, happy, i love, indie, indie pop, indie rock, indierock, inlove, isa, johnny cash, jukebox project, just chillin, kraftwerk, lastfm elitist repellent, lights, listened more than 10 times in a row, love, love at first listen, love it, love ya  lll, lovely, lpa, male vocalists, marisa mix, melancholic, mellow, metal, musikfuerrundumdieuhr, muzyka dla mietkich chlopcow, my own private sunshine, naked, ...]</td>\n",
       "    </tr>\n",
       "  </tbody>\n",
       "</table>\n",
       "</div>"
      ],
      "text/plain": [
       "                                                                                                                                                                                                                                                                                                                                                                                                                                                                                                                                                                                                                                                                                                                                                                                                                                                                                                                                                                                                                                                                                                                                                                                                                                    tagValue\n",
       "artistID                                                                                                                                                                                                                                                                                                                                                                                                                                                                                                                                                                                                                                                                                                                                                                                                                                                                                                                                                                                                                                                                                                                                                                                                                                    \n",
       "65        [00s, 2002, 2005, 2008, 4m4zinq, 90s, acoustic, alternative, alternative rock, amazing, ambient, atmospheric, awesome, b-side, ballad, beatiful, beautiful, beautiful music, ben lee, best songs ever, brian eno, brilliant, brit rock, british, britpop, britrock, britsong, caaamiiiliiitaaa, chill, chillout, cities, classic rock, cold play, coldplay, cool, cover, cute, demo, dreamy, electronic, epic, eternal love, european, experimental, fail, favorite albums, favorite artist, favorite artists, favorite bands, favorite bands and artists, favorite song, favorite songs, favorites, favourite, favourite artists, favourite songs, favourites, folk, free, free download, free mp3, fucking awesome, fun, galactic, garden state soundtrack, genius, gold, good stuff, great song, hang on, happy, i love, indie, indie pop, indie rock, indierock, inlove, isa, johnny cash, jukebox project, just chillin, kraftwerk, lastfm elitist repellent, lights, listened more than 10 times in a row, love, love at first listen, love it, love ya  lll, lovely, lpa, male vocalists, marisa mix, melancholic, mellow, metal, musikfuerrundumdieuhr, muzyka dla mietkich chlopcow, my own private sunshine, naked, ...]"
      ]
     },
     "execution_count": 182,
     "metadata": {},
     "output_type": "execute_result"
    }
   ],
   "source": [
    "result = pd.DataFrame(aggregate_1[aggregate_1.index == 65])\n",
    "result.head()"
   ]
  },
  {
   "cell_type": "code",
   "execution_count": null,
   "metadata": {},
   "outputs": [
    {
     "data": {
      "text/html": [
       "<div>\n",
       "<style scoped>\n",
       "    .dataframe tbody tr th:only-of-type {\n",
       "        vertical-align: middle;\n",
       "    }\n",
       "\n",
       "    .dataframe tbody tr th {\n",
       "        vertical-align: top;\n",
       "    }\n",
       "\n",
       "    .dataframe thead th {\n",
       "        text-align: right;\n",
       "    }\n",
       "</style>\n",
       "<table border=\"1\" class=\"dataframe\">\n",
       "  <thead>\n",
       "    <tr style=\"text-align: right;\">\n",
       "      <th></th>\n",
       "      <th>tagValue</th>\n",
       "    </tr>\n",
       "    <tr>\n",
       "      <th>artistID</th>\n",
       "      <th></th>\n",
       "    </tr>\n",
       "  </thead>\n",
       "  <tbody>\n",
       "    <tr>\n",
       "      <th>4125</th>\n",
       "      <td>[1991, 60s, 70s, 80s, 90s, alan lancaster, andy bown, best christmas songs, british, classic rock, england, francis rossi, guitar, hard rock, jeff rich, john coghlan, male vocalists, matt letley, pop, pop rock, psychedelic, rhino edwards, rick parfitt, rock, rock and roll, rock n roll, soft rock]</td>\n",
       "    </tr>\n",
       "  </tbody>\n",
       "</table>\n",
       "</div>"
      ],
      "text/plain": [
       "                                                                                                                                                                                                                                                                                                           tagValue\n",
       "artistID                                                                                                                                                                                                                                                                                                           \n",
       "4125      [1991, 60s, 70s, 80s, 90s, alan lancaster, andy bown, best christmas songs, british, classic rock, england, francis rossi, guitar, hard rock, jeff rich, john coghlan, male vocalists, matt letley, pop, pop rock, psychedelic, rhino edwards, rick parfitt, rock, rock and roll, rock n roll, soft rock]"
      ]
     },
     "execution_count": 183,
     "metadata": {},
     "output_type": "execute_result"
    }
   ],
   "source": [
    "result = pd.DataFrame(aggregate_1[aggregate_1.index == 4125])\n",
    "result.head()"
   ]
  },
  {
   "cell_type": "code",
   "execution_count": null,
   "metadata": {},
   "outputs": [
    {
     "data": {
      "text/html": [
       "<div>\n",
       "<style scoped>\n",
       "    .dataframe tbody tr th:only-of-type {\n",
       "        vertical-align: middle;\n",
       "    }\n",
       "\n",
       "    .dataframe tbody tr th {\n",
       "        vertical-align: top;\n",
       "    }\n",
       "\n",
       "    .dataframe thead th {\n",
       "        text-align: right;\n",
       "    }\n",
       "</style>\n",
       "<table border=\"1\" class=\"dataframe\">\n",
       "  <thead>\n",
       "    <tr style=\"text-align: right;\">\n",
       "      <th></th>\n",
       "      <th>tagValue</th>\n",
       "    </tr>\n",
       "    <tr>\n",
       "      <th>artistID</th>\n",
       "      <th></th>\n",
       "    </tr>\n",
       "  </thead>\n",
       "  <tbody>\n",
       "    <tr>\n",
       "      <th>4130</th>\n",
       "      <td>[1984, 70s, 70ss, 80s, b side, ballad, classic, classic rock, cold case soundtrack, favorites, good memories, hard rock, hidden gem, late night love, late night tunes, love making music, male vocals, mellow, one of their best, pop, progressive rock, random songs, rock, seen in concert, seen live, soft rock, ultimate rock ballads]</td>\n",
       "    </tr>\n",
       "  </tbody>\n",
       "</table>\n",
       "</div>"
      ],
      "text/plain": [
       "                                                                                                                                                                                                                                                                                                                                             tagValue\n",
       "artistID                                                                                                                                                                                                                                                                                                                                             \n",
       "4130      [1984, 70s, 70ss, 80s, b side, ballad, classic, classic rock, cold case soundtrack, favorites, good memories, hard rock, hidden gem, late night love, late night tunes, love making music, male vocals, mellow, one of their best, pop, progressive rock, random songs, rock, seen in concert, seen live, soft rock, ultimate rock ballads]"
      ]
     },
     "execution_count": 184,
     "metadata": {},
     "output_type": "execute_result"
    }
   ],
   "source": [
    "result = pd.DataFrame(aggregate_1[aggregate_1.index == 4130])\n",
    "result.head()"
   ]
  },
  {
   "cell_type": "markdown",
   "metadata": {},
   "source": [
    "We see that the 3 artist predicted for the user is mostly having tags associated with rock music. Lets repeat this activity for Co Clustering results as well"
   ]
  },
  {
   "cell_type": "code",
   "execution_count": null,
   "metadata": {},
   "outputs": [
    {
     "data": {
      "text/html": [
       "<div>\n",
       "<style scoped>\n",
       "    .dataframe tbody tr th:only-of-type {\n",
       "        vertical-align: middle;\n",
       "    }\n",
       "\n",
       "    .dataframe tbody tr th {\n",
       "        vertical-align: top;\n",
       "    }\n",
       "\n",
       "    .dataframe thead th {\n",
       "        text-align: right;\n",
       "    }\n",
       "</style>\n",
       "<table border=\"1\" class=\"dataframe\">\n",
       "  <thead>\n",
       "    <tr style=\"text-align: right;\">\n",
       "      <th></th>\n",
       "      <th>user</th>\n",
       "      <th>item</th>\n",
       "    </tr>\n",
       "  </thead>\n",
       "  <tbody>\n",
       "    <tr>\n",
       "      <th>0</th>\n",
       "      <td>200</td>\n",
       "      <td>[4131, 4124, 998, 4130, 65]</td>\n",
       "    </tr>\n",
       "    <tr>\n",
       "      <th>1</th>\n",
       "      <td>1833</td>\n",
       "      <td>[292, 4252, 16916, 299, 295]</td>\n",
       "    </tr>\n",
       "    <tr>\n",
       "      <th>2</th>\n",
       "      <td>293</td>\n",
       "      <td>[5307, 230, 5311, 5309, 5323]</td>\n",
       "    </tr>\n",
       "    <tr>\n",
       "      <th>3</th>\n",
       "      <td>1102</td>\n",
       "      <td>[467, 58, 906, 97, 298]</td>\n",
       "    </tr>\n",
       "    <tr>\n",
       "      <th>4</th>\n",
       "      <td>938</td>\n",
       "      <td>[7191, 300, 9193, 499, 9187]</td>\n",
       "    </tr>\n",
       "  </tbody>\n",
       "</table>\n",
       "</div>"
      ],
      "text/plain": [
       "   user                           item\n",
       "0   200    [4131, 4124, 998, 4130, 65]\n",
       "1  1833   [292, 4252, 16916, 299, 295]\n",
       "2   293  [5307, 230, 5311, 5309, 5323]\n",
       "3  1102        [467, 58, 906, 97, 298]\n",
       "4   938   [7191, 300, 9193, 499, 9187]"
      ]
     },
     "execution_count": 185,
     "metadata": {},
     "output_type": "execute_result"
    }
   ],
   "source": [
    "results = utils.get_top_n(predclu,  n = 5,  user_col =  'userID', item_col='artistID')\n",
    "results.head()"
   ]
  },
  {
   "cell_type": "markdown",
   "metadata": {},
   "source": [
    "Lets check the tags for user 200 based on ALS algorithm for artistID 4131, 4124, 998"
   ]
  },
  {
   "cell_type": "code",
   "execution_count": null,
   "metadata": {},
   "outputs": [
    {
     "data": {
      "text/html": [
       "<div>\n",
       "<style scoped>\n",
       "    .dataframe tbody tr th:only-of-type {\n",
       "        vertical-align: middle;\n",
       "    }\n",
       "\n",
       "    .dataframe tbody tr th {\n",
       "        vertical-align: top;\n",
       "    }\n",
       "\n",
       "    .dataframe thead th {\n",
       "        text-align: right;\n",
       "    }\n",
       "</style>\n",
       "<table border=\"1\" class=\"dataframe\">\n",
       "  <thead>\n",
       "    <tr style=\"text-align: right;\">\n",
       "      <th></th>\n",
       "      <th>tagValue</th>\n",
       "    </tr>\n",
       "    <tr>\n",
       "      <th>artistID</th>\n",
       "      <th></th>\n",
       "    </tr>\n",
       "  </thead>\n",
       "  <tbody>\n",
       "    <tr>\n",
       "      <th>4131</th>\n",
       "      <td>[british, english]</td>\n",
       "    </tr>\n",
       "  </tbody>\n",
       "</table>\n",
       "</div>"
      ],
      "text/plain": [
       "                    tagValue\n",
       "artistID                    \n",
       "4131      [british, english]"
      ]
     },
     "execution_count": 186,
     "metadata": {},
     "output_type": "execute_result"
    }
   ],
   "source": [
    "result = pd.DataFrame(aggregate_1[aggregate_1.index == 4131])\n",
    "result.head()"
   ]
  },
  {
   "cell_type": "code",
   "execution_count": null,
   "metadata": {},
   "outputs": [
    {
     "data": {
      "text/html": [
       "<div>\n",
       "<style scoped>\n",
       "    .dataframe tbody tr th:only-of-type {\n",
       "        vertical-align: middle;\n",
       "    }\n",
       "\n",
       "    .dataframe tbody tr th {\n",
       "        vertical-align: top;\n",
       "    }\n",
       "\n",
       "    .dataframe thead th {\n",
       "        text-align: right;\n",
       "    }\n",
       "</style>\n",
       "<table border=\"1\" class=\"dataframe\">\n",
       "  <thead>\n",
       "    <tr style=\"text-align: right;\">\n",
       "      <th></th>\n",
       "      <th>tagValue</th>\n",
       "    </tr>\n",
       "    <tr>\n",
       "      <th>artistID</th>\n",
       "      <th></th>\n",
       "    </tr>\n",
       "  </thead>\n",
       "  <tbody>\n",
       "    <tr>\n",
       "      <th>4124</th>\n",
       "      <td>[70s, classic rock, favorite songs, guilty pleasure, hard rock, heavy metal, late night tunes, progressive rock, really sad thing, rock, space rock, stoner rock, top]</td>\n",
       "    </tr>\n",
       "  </tbody>\n",
       "</table>\n",
       "</div>"
      ],
      "text/plain": [
       "                                                                                                                                                                        tagValue\n",
       "artistID                                                                                                                                                                        \n",
       "4124      [70s, classic rock, favorite songs, guilty pleasure, hard rock, heavy metal, late night tunes, progressive rock, really sad thing, rock, space rock, stoner rock, top]"
      ]
     },
     "execution_count": 187,
     "metadata": {},
     "output_type": "execute_result"
    }
   ],
   "source": [
    "result = pd.DataFrame(aggregate_1[aggregate_1.index == 4124])\n",
    "result.head()"
   ]
  },
  {
   "cell_type": "code",
   "execution_count": null,
   "metadata": {},
   "outputs": [
    {
     "data": {
      "text/html": [
       "<div>\n",
       "<style scoped>\n",
       "    .dataframe tbody tr th:only-of-type {\n",
       "        vertical-align: middle;\n",
       "    }\n",
       "\n",
       "    .dataframe tbody tr th {\n",
       "        vertical-align: top;\n",
       "    }\n",
       "\n",
       "    .dataframe thead th {\n",
       "        text-align: right;\n",
       "    }\n",
       "</style>\n",
       "<table border=\"1\" class=\"dataframe\">\n",
       "  <thead>\n",
       "    <tr style=\"text-align: right;\">\n",
       "      <th></th>\n",
       "      <th>tagValue</th>\n",
       "    </tr>\n",
       "    <tr>\n",
       "      <th>artistID</th>\n",
       "      <th></th>\n",
       "    </tr>\n",
       "  </thead>\n",
       "  <tbody>\n",
       "    <tr>\n",
       "      <th>998</th>\n",
       "      <td>[1008, 80s, 80s pop, alternative, alternative dance, b-side, beautiful, blitz playlist, british, british artists, cities, covers, death, drugs, edit, electronic, experimental, factory records, famous persons, fav artists, favorite bands, favorite tracks, instrumental, level one, liverpool, mad about, my loving, my pleasuredome, new romantic, new wave, old, omd, piano, po-kraftwerkski, pop, random songs, religion, science, slowies, soundtrack, synth pop, synthpop, synthpop artists, the beowulfs choice]</td>\n",
       "    </tr>\n",
       "  </tbody>\n",
       "</table>\n",
       "</div>"
      ],
      "text/plain": [
       "                                                                                                                                                                                                                                                                                                                                                                                                                                                                                                                            tagValue\n",
       "artistID                                                                                                                                                                                                                                                                                                                                                                                                                                                                                                                            \n",
       "998       [1008, 80s, 80s pop, alternative, alternative dance, b-side, beautiful, blitz playlist, british, british artists, cities, covers, death, drugs, edit, electronic, experimental, factory records, famous persons, fav artists, favorite bands, favorite tracks, instrumental, level one, liverpool, mad about, my loving, my pleasuredome, new romantic, new wave, old, omd, piano, po-kraftwerkski, pop, random songs, religion, science, slowies, soundtrack, synth pop, synthpop, synthpop artists, the beowulfs choice]"
      ]
     },
     "execution_count": 188,
     "metadata": {},
     "output_type": "execute_result"
    }
   ],
   "source": [
    "result = pd.DataFrame(aggregate_1[aggregate_1.index == 998])\n",
    "result.head()"
   ]
  },
  {
   "cell_type": "markdown",
   "metadata": {},
   "source": [
    "The results suggest the songs are similar as they are British but 4124 does not seem to have any tags in common."
   ]
  },
  {
   "cell_type": "markdown",
   "metadata": {},
   "source": [
    "## Lets try to improve our RMSE and predictions using content based appraoch"
   ]
  },
  {
   "cell_type": "markdown",
   "metadata": {},
   "source": [
    "We will first do content based on the basis of tags that we have aggregated"
   ]
  },
  {
   "cell_type": "code",
   "execution_count": null,
   "metadata": {},
   "outputs": [
    {
     "data": {
      "text/html": [
       "<div>\n",
       "<style scoped>\n",
       "    .dataframe tbody tr th:only-of-type {\n",
       "        vertical-align: middle;\n",
       "    }\n",
       "\n",
       "    .dataframe tbody tr th {\n",
       "        vertical-align: top;\n",
       "    }\n",
       "\n",
       "    .dataframe thead th {\n",
       "        text-align: right;\n",
       "    }\n",
       "</style>\n",
       "<table border=\"1\" class=\"dataframe\">\n",
       "  <thead>\n",
       "    <tr style=\"text-align: right;\">\n",
       "      <th></th>\n",
       "      <th>tagValue</th>\n",
       "    </tr>\n",
       "    <tr>\n",
       "      <th>artistID</th>\n",
       "      <th></th>\n",
       "    </tr>\n",
       "  </thead>\n",
       "  <tbody>\n",
       "    <tr>\n",
       "      <th>1</th>\n",
       "      <td>[better than lady gaga, gothic, j-rock, japanese, jrock, visual kei, weeabo]</td>\n",
       "    </tr>\n",
       "    <tr>\n",
       "      <th>2</th>\n",
       "      <td>[ambient, dark, darkwave, electronic, german, gothic, gothic rock, industrial, seen live, true goth emo, vocal]</td>\n",
       "    </tr>\n",
       "    <tr>\n",
       "      <th>3</th>\n",
       "      <td>[black metal, norsk arysk metal, norwegian black metal, saxophones, true norwegian black metal, very kvlt]</td>\n",
       "    </tr>\n",
       "    <tr>\n",
       "      <th>4</th>\n",
       "      <td>[bazarov, gothic, gothic japanese, gothic metal, j-rock, japanese, metal, rock, visual kei]</td>\n",
       "    </tr>\n",
       "    <tr>\n",
       "      <th>5</th>\n",
       "      <td>[covers, darkwave, deathrock, gothic, gothic rock]</td>\n",
       "    </tr>\n",
       "  </tbody>\n",
       "</table>\n",
       "</div>"
      ],
      "text/plain": [
       "                                                                                                                 tagValue\n",
       "artistID                                                                                                                 \n",
       "1                                            [better than lady gaga, gothic, j-rock, japanese, jrock, visual kei, weeabo]\n",
       "2         [ambient, dark, darkwave, electronic, german, gothic, gothic rock, industrial, seen live, true goth emo, vocal]\n",
       "3              [black metal, norsk arysk metal, norwegian black metal, saxophones, true norwegian black metal, very kvlt]\n",
       "4                             [bazarov, gothic, gothic japanese, gothic metal, j-rock, japanese, metal, rock, visual kei]\n",
       "5                                                                      [covers, darkwave, deathrock, gothic, gothic rock]"
      ]
     },
     "execution_count": 189,
     "metadata": {},
     "output_type": "execute_result"
    }
   ],
   "source": [
    "aggregate_1.head()"
   ]
  },
  {
   "cell_type": "code",
   "execution_count": null,
   "metadata": {},
   "outputs": [],
   "source": [
    "aggregate_1['tagValue_token'] = aggregate_1['tagValue'].apply(lambda x : ''.join(str(e) for e in x).replace('[^a-zA-Z0-9 ]', ''))"
   ]
  },
  {
   "cell_type": "code",
   "execution_count": null,
   "metadata": {},
   "outputs": [
    {
     "data": {
      "text/html": [
       "<div>\n",
       "<style scoped>\n",
       "    .dataframe tbody tr th:only-of-type {\n",
       "        vertical-align: middle;\n",
       "    }\n",
       "\n",
       "    .dataframe tbody tr th {\n",
       "        vertical-align: top;\n",
       "    }\n",
       "\n",
       "    .dataframe thead th {\n",
       "        text-align: right;\n",
       "    }\n",
       "</style>\n",
       "<table border=\"1\" class=\"dataframe\">\n",
       "  <thead>\n",
       "    <tr style=\"text-align: right;\">\n",
       "      <th></th>\n",
       "      <th>tagValue</th>\n",
       "      <th>tagValue_token</th>\n",
       "    </tr>\n",
       "    <tr>\n",
       "      <th>artistID</th>\n",
       "      <th></th>\n",
       "      <th></th>\n",
       "    </tr>\n",
       "  </thead>\n",
       "  <tbody>\n",
       "    <tr>\n",
       "      <th>1</th>\n",
       "      <td>[better than lady gaga, gothic, j-rock, japanese, jrock, visual kei, weeabo]</td>\n",
       "      <td>better than lady gagagothicj-rockjapanesejrockvisual keiweeabo</td>\n",
       "    </tr>\n",
       "    <tr>\n",
       "      <th>2</th>\n",
       "      <td>[ambient, dark, darkwave, electronic, german, gothic, gothic rock, industrial, seen live, true goth emo, vocal]</td>\n",
       "      <td>ambientdarkdarkwaveelectronicgermangothicgothic rockindustrialseen livetrue goth emovocal</td>\n",
       "    </tr>\n",
       "    <tr>\n",
       "      <th>3</th>\n",
       "      <td>[black metal, norsk arysk metal, norwegian black metal, saxophones, true norwegian black metal, very kvlt]</td>\n",
       "      <td>black metalnorsk arysk metalnorwegian black metalsaxophonestrue norwegian black metalvery kvlt</td>\n",
       "    </tr>\n",
       "    <tr>\n",
       "      <th>4</th>\n",
       "      <td>[bazarov, gothic, gothic japanese, gothic metal, j-rock, japanese, metal, rock, visual kei]</td>\n",
       "      <td>bazarovgothicgothic japanesegothic metalj-rockjapanesemetalrockvisual kei</td>\n",
       "    </tr>\n",
       "    <tr>\n",
       "      <th>5</th>\n",
       "      <td>[covers, darkwave, deathrock, gothic, gothic rock]</td>\n",
       "      <td>coversdarkwavedeathrockgothicgothic rock</td>\n",
       "    </tr>\n",
       "  </tbody>\n",
       "</table>\n",
       "</div>"
      ],
      "text/plain": [
       "                                                                                                                 tagValue  \\\n",
       "artistID                                                                                                                    \n",
       "1                                            [better than lady gaga, gothic, j-rock, japanese, jrock, visual kei, weeabo]   \n",
       "2         [ambient, dark, darkwave, electronic, german, gothic, gothic rock, industrial, seen live, true goth emo, vocal]   \n",
       "3              [black metal, norsk arysk metal, norwegian black metal, saxophones, true norwegian black metal, very kvlt]   \n",
       "4                             [bazarov, gothic, gothic japanese, gothic metal, j-rock, japanese, metal, rock, visual kei]   \n",
       "5                                                                      [covers, darkwave, deathrock, gothic, gothic rock]   \n",
       "\n",
       "                                                                                          tagValue_token  \n",
       "artistID                                                                                                  \n",
       "1                                         better than lady gagagothicj-rockjapanesejrockvisual keiweeabo  \n",
       "2              ambientdarkdarkwaveelectronicgermangothicgothic rockindustrialseen livetrue goth emovocal  \n",
       "3         black metalnorsk arysk metalnorwegian black metalsaxophonestrue norwegian black metalvery kvlt  \n",
       "4                              bazarovgothicgothic japanesegothic metalj-rockjapanesemetalrockvisual kei  \n",
       "5                                                               coversdarkwavedeathrockgothicgothic rock  "
      ]
     },
     "execution_count": 191,
     "metadata": {},
     "output_type": "execute_result"
    }
   ],
   "source": [
    "aggregate_1.head()"
   ]
  },
  {
   "cell_type": "code",
   "execution_count": null,
   "metadata": {},
   "outputs": [],
   "source": [
    "# Tokenize, case conversion & only alphabetic\n",
    "tokens = aggregate_1['tagValue_token'].apply(lambda txt: [word.lower() for word in word_tokenize(str(txt)) if word.isalpha()])"
   ]
  },
  {
   "cell_type": "code",
   "execution_count": null,
   "metadata": {},
   "outputs": [],
   "source": [
    "# setup stop words list\n",
    "stop_words = stopwords.words('english')\n",
    "stop_words.append('nan')\n",
    "\n",
    "stemmer = SnowballStemmer(\"english\")\n",
    "\n",
    "# remove stopwords\n",
    "# stem\n",
    "token_stem = tokens.apply(lambda lst_token: [stemmer.stem(tok) for tok in lst_token if tok not in stop_words and len(tok) > 2])"
   ]
  },
  {
   "cell_type": "code",
   "execution_count": null,
   "metadata": {},
   "outputs": [
    {
     "name": "stdout",
     "output_type": "stream",
     "text": [
      "(12523, 1222)\n"
     ]
    },
    {
     "data": {
      "text/html": [
       "<div>\n",
       "<style scoped>\n",
       "    .dataframe tbody tr th:only-of-type {\n",
       "        vertical-align: middle;\n",
       "    }\n",
       "\n",
       "    .dataframe tbody tr th {\n",
       "        vertical-align: top;\n",
       "    }\n",
       "\n",
       "    .dataframe thead th {\n",
       "        text-align: right;\n",
       "    }\n",
       "</style>\n",
       "<table border=\"1\" class=\"dataframe\">\n",
       "  <thead>\n",
       "    <tr style=\"text-align: right;\">\n",
       "      <th></th>\n",
       "      <th>absolut</th>\n",
       "      <th>abstract</th>\n",
       "      <th>acid</th>\n",
       "      <th>acoust</th>\n",
       "      <th>acousticacoust</th>\n",
       "      <th>acousticalternativealtern</th>\n",
       "      <th>acousticalternativefemal</th>\n",
       "      <th>acousticfemal</th>\n",
       "      <th>actual</th>\n",
       "      <th>adam</th>\n",
       "      <th>...</th>\n",
       "      <th>would</th>\n",
       "      <th>write</th>\n",
       "      <th>yet</th>\n",
       "      <th>york</th>\n",
       "      <th>yorknew</th>\n",
       "      <th>yorkshir</th>\n",
       "      <th>your</th>\n",
       "      <th>zealand</th>\n",
       "      <th>zonechristma</th>\n",
       "      <th>zoneclass</th>\n",
       "    </tr>\n",
       "    <tr>\n",
       "      <th>artistID</th>\n",
       "      <th></th>\n",
       "      <th></th>\n",
       "      <th></th>\n",
       "      <th></th>\n",
       "      <th></th>\n",
       "      <th></th>\n",
       "      <th></th>\n",
       "      <th></th>\n",
       "      <th></th>\n",
       "      <th></th>\n",
       "      <th></th>\n",
       "      <th></th>\n",
       "      <th></th>\n",
       "      <th></th>\n",
       "      <th></th>\n",
       "      <th></th>\n",
       "      <th></th>\n",
       "      <th></th>\n",
       "      <th></th>\n",
       "      <th></th>\n",
       "      <th></th>\n",
       "    </tr>\n",
       "  </thead>\n",
       "  <tbody>\n",
       "    <tr>\n",
       "      <th>1</th>\n",
       "      <td>0.0</td>\n",
       "      <td>0.0</td>\n",
       "      <td>0.0</td>\n",
       "      <td>0.0</td>\n",
       "      <td>0.0</td>\n",
       "      <td>0.0</td>\n",
       "      <td>0.0</td>\n",
       "      <td>0.0</td>\n",
       "      <td>0.0</td>\n",
       "      <td>0.0</td>\n",
       "      <td>...</td>\n",
       "      <td>0.0</td>\n",
       "      <td>0.0</td>\n",
       "      <td>0.0</td>\n",
       "      <td>0.0</td>\n",
       "      <td>0.0</td>\n",
       "      <td>0.0</td>\n",
       "      <td>0.0</td>\n",
       "      <td>0.0</td>\n",
       "      <td>0.0</td>\n",
       "      <td>0.0</td>\n",
       "    </tr>\n",
       "    <tr>\n",
       "      <th>2</th>\n",
       "      <td>0.0</td>\n",
       "      <td>0.0</td>\n",
       "      <td>0.0</td>\n",
       "      <td>0.0</td>\n",
       "      <td>0.0</td>\n",
       "      <td>0.0</td>\n",
       "      <td>0.0</td>\n",
       "      <td>0.0</td>\n",
       "      <td>0.0</td>\n",
       "      <td>0.0</td>\n",
       "      <td>...</td>\n",
       "      <td>0.0</td>\n",
       "      <td>0.0</td>\n",
       "      <td>0.0</td>\n",
       "      <td>0.0</td>\n",
       "      <td>0.0</td>\n",
       "      <td>0.0</td>\n",
       "      <td>0.0</td>\n",
       "      <td>0.0</td>\n",
       "      <td>0.0</td>\n",
       "      <td>0.0</td>\n",
       "    </tr>\n",
       "    <tr>\n",
       "      <th>3</th>\n",
       "      <td>0.0</td>\n",
       "      <td>0.0</td>\n",
       "      <td>0.0</td>\n",
       "      <td>0.0</td>\n",
       "      <td>0.0</td>\n",
       "      <td>0.0</td>\n",
       "      <td>0.0</td>\n",
       "      <td>0.0</td>\n",
       "      <td>0.0</td>\n",
       "      <td>0.0</td>\n",
       "      <td>...</td>\n",
       "      <td>0.0</td>\n",
       "      <td>0.0</td>\n",
       "      <td>0.0</td>\n",
       "      <td>0.0</td>\n",
       "      <td>0.0</td>\n",
       "      <td>0.0</td>\n",
       "      <td>0.0</td>\n",
       "      <td>0.0</td>\n",
       "      <td>0.0</td>\n",
       "      <td>0.0</td>\n",
       "    </tr>\n",
       "    <tr>\n",
       "      <th>4</th>\n",
       "      <td>0.0</td>\n",
       "      <td>0.0</td>\n",
       "      <td>0.0</td>\n",
       "      <td>0.0</td>\n",
       "      <td>0.0</td>\n",
       "      <td>0.0</td>\n",
       "      <td>0.0</td>\n",
       "      <td>0.0</td>\n",
       "      <td>0.0</td>\n",
       "      <td>0.0</td>\n",
       "      <td>...</td>\n",
       "      <td>0.0</td>\n",
       "      <td>0.0</td>\n",
       "      <td>0.0</td>\n",
       "      <td>0.0</td>\n",
       "      <td>0.0</td>\n",
       "      <td>0.0</td>\n",
       "      <td>0.0</td>\n",
       "      <td>0.0</td>\n",
       "      <td>0.0</td>\n",
       "      <td>0.0</td>\n",
       "    </tr>\n",
       "    <tr>\n",
       "      <th>5</th>\n",
       "      <td>0.0</td>\n",
       "      <td>0.0</td>\n",
       "      <td>0.0</td>\n",
       "      <td>0.0</td>\n",
       "      <td>0.0</td>\n",
       "      <td>0.0</td>\n",
       "      <td>0.0</td>\n",
       "      <td>0.0</td>\n",
       "      <td>0.0</td>\n",
       "      <td>0.0</td>\n",
       "      <td>...</td>\n",
       "      <td>0.0</td>\n",
       "      <td>0.0</td>\n",
       "      <td>0.0</td>\n",
       "      <td>0.0</td>\n",
       "      <td>0.0</td>\n",
       "      <td>0.0</td>\n",
       "      <td>0.0</td>\n",
       "      <td>0.0</td>\n",
       "      <td>0.0</td>\n",
       "      <td>0.0</td>\n",
       "    </tr>\n",
       "  </tbody>\n",
       "</table>\n",
       "<p>5 rows × 1222 columns</p>\n",
       "</div>"
      ],
      "text/plain": [
       "          absolut  abstract  acid  acoust  acousticacoust  \\\n",
       "artistID                                                    \n",
       "1             0.0       0.0   0.0     0.0             0.0   \n",
       "2             0.0       0.0   0.0     0.0             0.0   \n",
       "3             0.0       0.0   0.0     0.0             0.0   \n",
       "4             0.0       0.0   0.0     0.0             0.0   \n",
       "5             0.0       0.0   0.0     0.0             0.0   \n",
       "\n",
       "          acousticalternativealtern  acousticalternativefemal  acousticfemal  \\\n",
       "artistID                                                                       \n",
       "1                               0.0                       0.0            0.0   \n",
       "2                               0.0                       0.0            0.0   \n",
       "3                               0.0                       0.0            0.0   \n",
       "4                               0.0                       0.0            0.0   \n",
       "5                               0.0                       0.0            0.0   \n",
       "\n",
       "          actual  adam  ...  would  write  yet  york  yorknew  yorkshir  your  \\\n",
       "artistID                ...                                                     \n",
       "1            0.0   0.0  ...    0.0    0.0  0.0   0.0      0.0       0.0   0.0   \n",
       "2            0.0   0.0  ...    0.0    0.0  0.0   0.0      0.0       0.0   0.0   \n",
       "3            0.0   0.0  ...    0.0    0.0  0.0   0.0      0.0       0.0   0.0   \n",
       "4            0.0   0.0  ...    0.0    0.0  0.0   0.0      0.0       0.0   0.0   \n",
       "5            0.0   0.0  ...    0.0    0.0  0.0   0.0      0.0       0.0   0.0   \n",
       "\n",
       "          zealand  zonechristma  zoneclass  \n",
       "artistID                                    \n",
       "1             0.0           0.0        0.0  \n",
       "2             0.0           0.0        0.0  \n",
       "3             0.0           0.0        0.0  \n",
       "4             0.0           0.0        0.0  \n",
       "5             0.0           0.0        0.0  \n",
       "\n",
       "[5 rows x 1222 columns]"
      ]
     },
     "execution_count": 194,
     "metadata": {},
     "output_type": "execute_result"
    }
   ],
   "source": [
    "# TFIDF vectorizer\n",
    "tfidf = TfidfVectorizer(min_df=5)\n",
    "\n",
    "# apply tf-idf vectorizer -> document-term-matrix in sparse format\n",
    "dtm = tfidf.fit_transform([\" \".join(x) for x in token_stem])\n",
    "\n",
    "print(dtm.shape)\n",
    "\n",
    "df_dtm = pd.DataFrame(dtm.toarray(), columns=tfidf.get_feature_names_out(), index=aggregate_1.index)\n",
    "df_dtm.head()"
   ]
  },
  {
   "cell_type": "code",
   "execution_count": null,
   "metadata": {},
   "outputs": [],
   "source": [
    "# init content-based\n",
    "cb = ContentBased(NN=10)\n",
    "\n",
    "# fit on content\n",
    "cb.fit(df_dtm)"
   ]
  },
  {
   "cell_type": "code",
   "execution_count": null,
   "metadata": {},
   "outputs": [
    {
     "name": "stdout",
     "output_type": "stream",
     "text": [
      "Warning 3929 items are not included in content data: [16385, 8194, 16387, 8197, 16389, 8200, 16393, 8203, 8204, 8206, 8207, 8209, 16404, 8213, 16408, 16410, 8220, 16417, 8227, 8228, 16419, 16420, 16423, 16425, 16426, 8236, 16428, 8238, 16429, 8240, 8242, 16439, 16443, 16444, 16445, 16451, 16455, 16456, 16457, 16458, 16461, 16465, 16467, 8282, 8284, 8285, 8289, 105, 16490, 109, 110, 111, 112, 8303, 8306, 115, 117, 118, 119, 123, 124, 125, 8316, 127, 8320, 129, 16507, 131, 16510, 133, 16513, 135, 136, 8327, 8330, 16514, 8332, 16518, 16519, 8335, 144, 145, 8337, 147, 8338, 8339, 150, 8342, 8344, 16530, 16535, 8352, 8355, 8357, 169, 177, 16561, 8373, 8374, 16565, 16569, 8379, 16572, 16573, 16576, 8385, 16580, 8389, 16583, 16584, 16585, 8394, 16588, 16590, 16592, 16594, 16596, 16598, 16599, 16601, 8410, 8411, 8413, 8414, 16605, 224, 8416, 16613, 16615, 8424, 16618, 8427, 8428, 16621, 8430, 16625, 242, 8434, 16631, 8440, 16632, 8442, 16635, 16636, 254, 8447, 8448, 8449, 8450, 8451, 8452, 16638, 16642, 16643, 8456, 16645, 16648, 16651, 8460, 16654, 8463, 16655, 16656, 274, 16658, 8469, 281, 282, 8475, 8477, 8478, 16669, 8480, 16670, 16672, 16675, 8484, 8485, 8486, 8487, 16680, 8489, 8490, 16681, 16682, 16683, 16684, 16687, 8496, 16688, 16689, 16690, 16693, 8505, 315, 8507, 16700, 16702, 8518, 8519, 16710, 8521, 8522, 16715, 8525, 16718, 8527, 336, 337, 16719, 8531, 8532, 341, 8534, 8535, 8536, 16720, 16722, 8539, 8540, 8541, 8542, 16726, 16728, 16733, 16736, 16738, 16739, 16741, 16742, 363, 16747, 365, 16748, 16750, 368, 16755, 16757, 16758, 16759, 8568, 16761, 16764, 8577, 8578, 8579, 16775, 8585, 16777, 16780, 16781, 16782, 16783, 16785, 16789, 16793, 8602, 411, 8603, 8604, 8606, 16795, 16796, 16798, 16799, 16802, 16803, 8614, 16806, 8616, 8618, 8619, 8620, 8623, 8624, 8630, 8632, 8634, 8636, 8639, 8643, 8644, 16836, 16838, 16844, 8653, 8654, 16845, 16847, 16848, 16849, 16375, 16850, 8661, 8662, 16851, 16854, 473, 16856, 16865, 483, 16867, 16869, 16870, 16872, 16873, 16381, 16881, 16882, 8694, 16887, 16891, 16893, 16896, 16901, 16903, 16907, 16912, 8721, 16914, 16920, 16921, 16922, 16924, 8733, 16925, 16930, 16932, 16933, 16934, 551, 8744, 8745, 16935, 555, 556, 16936, 558, 8751, 16937, 8753, 16938, 16939, 16948, 16951, 568, 8762, 16954, 16955, 8765, 16958, 16959, 16960, 577, 8772, 16966, 8776, 16968, 586, 587, 588, 8778, 8780, 16969, 8784, 8785, 8786, 8787, 16974, 16975, 598, 8791, 8792, 16976, 8798, 8799, 8814, 17007, 8817, 626, 8819, 628, 17012, 17015, 8824, 8825, 17016, 17017, 17018, 17020, 17022, 639, 17024, 8833, 17025, 17026, 17027, 17028, 17029, 17031, 17032, 8841, 8842, 651, 17033, 653, 654, 8845, 17034, 8849, 8850, 8851, 17035, 17036, 17039, 663, 664, 665, 666, 8855, 8858, 8860, 8861, 17047, 673, 8869, 17061, 17066, 17068, 17071, 17072, 17074, 8885, 695, 8889, 8891, 8893, 17085, 8895, 17086, 8897, 8898, 8899, 8900, 17089, 8902, 8903, 17091, 17099, 8909, 17101, 8911, 8913, 8914, 8917, 729, 8927, 736, 17122, 17126, 17129, 17138, 8948, 17146, 8955, 8956, 765, 8958, 17147, 17151, 17152, 17154, 17155, 773, 8967, 17159, 8969, 8970, 17160, 8972, 8974, 8978, 8980, 8981, 8986, 8987, 8997, 17193, 17194, 17195, 9004, 17197, 9006, 17201, 9012, 17204, 17206, 17207, 9017, 17210, 9019, 9022, 9023, 9024, 9025, 17220, 9029, 838, 9031, 17224, 9035, 9038, 848, 9040, 9041, 17237, 9047, 17240, 17241, 17242, 17243, 17244, 17246, 17251, 9060, 9061, 9062, 17252, 9064, 17254, 17255, 17257, 17258, 17261, 9070, 9072, 9074, 9075, 9078, 17271, 9080, 17277, 9088, 17280, 9090, 9092, 9094, 17288, 9097, 17290, 9100, 9106, 9107, 916, 17298, 9110, 9111, 9112, 9113, 9114, 17299, 17300, 17302, 17303, 9119, 9121, 17313, 933, 17321, 9131, 9136, 9142, 17334, 9145, 9149, 9150, 17343, 9153, 17346, 9158, 9159, 17353, 17354, 17355, 9165, 9168, 9171, 17364, 9173, 9174, 9175, 9176, 9177, 17369, 9179, 9180, 9181, 9182, 17376, 9185, 9186, 9189, 9191, 9194, 9202, 9210, 17402, 17403, 17406, 17407, 17408, 17409, 9218, 9219, 9220, 9221, 17410, 17415, 9224, 17418, 17421, 17422, 9231, 17423, 17425, 9235, 17429, 17430, 9239, 17431, 9243, 9244, 9247, 9248, 17439, 17441, 17442, 9252, 17444, 17445, 17446, 17447, 9257, 17448, 17449, 17452, 17455, 9264, 17457, 17459, 17460, 9269, 9270, 17461, 17462, 9273, 1082, 9275, 9276, 9277, 17463, 17464, 9280, 9281, 9283, 17475, 17476, 17477, 18128, 17481, 17487, 9304, 17497, 9306, 17499, 9309, 9311, 9312, 9314, 9315, 9316, 17506, 1129, 9323, 9326, 9327, 9328, 1144, 9339, 17533, 9345, 17540, 9349, 17543, 17544, 17547, 17548, 1165, 17550, 17551, 17554, 17555, 16515, 17556, 17557, 9367, 17558, 9373, 9374, 9377, 9378, 17573, 17574, 9385, 9386, 17578, 9388, 16520, 9390, 1199, 17579, 9393, 17581, 17582, 9396, 17585, 9398, 9399, 17586, 1209, 17588, 1212, 9405, 9406, 9407, 9408, 9409, 9411, 17605, 17607, 1224, 17608, 17610, 17611, 9422, 17614, 17617, 9432, 17625, 17626, 9450, 1262, 17647, 1266, 1267, 1268, 17651, 17654, 9463, 1273, 17657, 9471, 17664, 9473, 17666, 1287, 1289, 1290, 17678, 17679, 17681, 17682, 9494, 17686, 9500, 9501, 9508, 9509, 17701, 9514, 17709, 9524, 9526, 9536, 17729, 9538, 17732, 9542, 9546, 17739, 9548, 17740, 17741, 17742, 1361, 17745, 17746, 17747, 17748, 9558, 1367, 9559, 17749, 17751, 17753, 17754, 17755, 17757, 17758, 17761, 17762, 17763, 9572, 9573, 9574, 17764, 17765, 17767, 17769, 17770, 9580, 17772, 17773, 1391, 17776, 1393, 17788, 9597, 9599, 17792, 9605, 17800, 17802, 17803, 17804, 17805, 17806, 17807, 9617, 9618, 9619, 17811, 17812, 9622, 17815, 17817, 9628, 1439, 1442, 9638, 1448, 9641, 17836, 1454, 17838, 17839, 17842, 17843, 9652, 9653, 17844, 17845, 9657, 1466, 17850, 17853, 9662, 1471, 1472, 1473, 9664, 9665, 1476, 17856, 1482, 1483, 1484, 9675, 17866, 17867, 1488, 17868, 1490, 9682, 17869, 17870, 1494, 1495, 1496, 9688, 1498, 9690, 17876, 9693, 17877, 9695, 9696, 17881, 17884, 17892, 9709, 9715, 17911, 17912, 9721, 9723, 9725, 9726, 9728, 9731, 9732, 9733, 9741, 17935, 9744, 17936, 17938, 17939, 1558, 17944, 17946, 9755, 1564, 9756, 17950, 9759, 9760, 17954, 9763, 17957, 1578, 17963, 17964, 17969, 1587, 9780, 17974, 17975, 9784, 17976, 1594, 9786, 9787, 9788, 1598, 9789, 9792, 17980, 17984, 17987, 17988, 17989, 17990, 1607, 9800, 9801, 17991, 9803, 17995, 9805, 9806, 17996, 17997, 9809, 17998, 18000, 9812, 9813, 18001, 9815, 1624, 1625, 9816, 18005, 18006, 18013, 18015, 1635, 1637, 18023, 18024, 18025, 18026, 1646, 1649, 1653, 9846, 9848, 1657, 1658, 9849, 9850, 1661, 9852, 9853, 9857, 1667, 9864, 18057, 1676, 18063, 18065, 18066, 18069, 9880, 18072, 18075, 1695, 9887, 1697, 9890, 1699, 9891, 18079, 18086, 18089, 9899, 18093, 18095, 18096, 18097, 9908, 18100, 9910, 18101, 18103, 18104, 1722, 9915, 18105, 18109, 9918, 18111, 18112, 9921, 18113, 18114, 9924, 1733, 1734, 9925, 18116, 18118, 18119, 18121, 18122, 1741, 1742, 9933, 18123, 18124, 18125, 18126, 1748, 1749, 1750, 1751, 9940, 1753, 18134, 9947, 18136, 9952, 18146, 18147, 18148, 18149, 18150, 18151, 1769, 18153, 18155, 18156, 18157, 9967, 1780, 9972, 18164, 18170, 18172, 9981, 9984, 9985, 9986, 18178, 9989, 9991, 18185, 9994, 9995, 18187, 9998, 18190, 18192, 10003, 18196, 18197, 10006, 10008, 10010, 10011, 10012, 10013, 10014, 10015, 18202, 18207, 18210, 18211, 18212, 10022, 10023, 18214, 10029, 1838, 18228, 18231, 1849, 10043, 10045, 18239, 18240, 10049, 10051, 10052, 1862, 18246, 10056, 18247, 18252, 1869, 10061, 10062, 18263, 10073, 10076, 18271, 18272, 18273, 18274, 18275, 18276, 10093, 18285, 18286, 10096, 18289, 18291, 18293, 18294, 10103, 10104, 10106, 10108, 10109, 1920, 10112, 18306, 18307, 10116, 10117, 18309, 10121, 1930, 18315, 1932, 10124, 18317, 18319, 18322, 1939, 10131, 18323, 18325, 10135, 10136, 10138, 10141, 10144, 18337, 18342, 10152, 10153, 10154, 18344, 18345, 18347, 18348, 18349, 18351, 18352, 18354, 18355, 10166, 18361, 18364, 10173, 18365, 18366, 10176, 18369, 18370, 10181, 18373, 18375, 10187, 18379, 10189, 10190, 18380, 10192, 18381, 18383, 18386, 10197, 2007, 10200, 10201, 18392, 18393, 2012, 10204, 10206, 18403, 18404, 18405, 18406, 10215, 10216, 10219, 10221, 10223, 18426, 18429, 10239, 10240, 10242, 18435, 18436, 10246, 2056, 2057, 2058, 10251, 2061, 10254, 2063, 10256, 18449, 10258, 18450, 10260, 10261, 18452, 10263, 2073, 10265, 10267, 10268, 2078, 10270, 18462, 10273, 10274, 10275, 10276, 10277, 18466, 10279, 10280, 10281, 2090, 18467, 18469, 18470, 18471, 18472, 10289, 2103, 10295, 2105, 2109, 2112, 10304, 2117, 2119, 2120, 2126, 18514, 10323, 10325, 10326, 18517, 18523, 2140, 2141, 10332, 10335, 10339, 10341, 10342, 2152, 10344, 18537, 10347, 10348, 10350, 2159, 10352, 10353, 10354, 2163, 10356, 10357, 18549, 10359, 18550, 2170, 10363, 10364, 10365, 18559, 10368, 2178, 10371, 18562, 2181, 10373, 10375, 10376, 10381, 2191, 18575, 18576, 18578, 10388, 2197, 18580, 2199, 18581, 18588, 10397, 10398, 2207, 2208, 18589, 18590, 18594, 18595, 2216, 18601, 18604, 2221, 18605, 10416, 2225, 10420, 16725, 2230, 10422, 2232, 2233, 2234, 2235, 10423, 2237, 2238, 10424, 2240, 2241, 10425, 2243, 10427, 2245, 10432, 10437, 2248, 10438, 2250, 10442, 10443, 10445, 18635, 2256, 2257, 2258, 10450, 10451, 2261, 2262, 10452, 10453, 10456, 10457, 10458, 10459, 18645, 18646, 10463, 18648, 18649, 2274, 2275, 10467, 10469, 10470, 10471, 18657, 18658, 10474, 2283, 2284, 2286, 2287, 18672, 18674, 2293, 2294, 2295, 2296, 18679, 18686, 18688, 10497, 10499, 18694, 10504, 10505, 18696, 2315, 10507, 18697, 10510, 18698, 2321, 2329, 18718, 10527, 10528, 10529, 10531, 10532, 10533, 18726, 18728, 18729, 10538, 10541, 10544, 10546, 2355, 10548, 10550, 2359, 18742, 18743, 10554, 18745, 2365, 2367, 2368, 2371, 10575, 10578, 2388, 10586, 10588, 10590, 2399, 2400, 2401, 10593, 2403, 2406, 10601, 2410, 2413, 10605, 10606, 2421, 2431, 10624, 10635, 10639, 10643, 10644, 10648, 2461, 10654, 10655, 10659, 10664, 2474, 2476, 10670, 10671, 10673, 2483, 2489, 2494, 10687, 10688, 10690, 2499, 2503, 2504, 2505, 10696, 2507, 10701, 2510, 10702, 10704, 10706, 2516, 2517, 10708, 10710, 10711, 10713, 10714, 10724, 10730, 10731, 10733, 10734, 10736, 2547, 2555, 10755, 2566, 10763, 10770, 10774, 10778, 10781, 2590, 10783, 2592, 10785, 10801, 10803, 2631, 10823, 2635, 10834, 10835, 10838, 2647, 10845, 10846, 10849, 10852, 10853, 10860, 10861, 10873, 10874, 10877, 2686, 10878, 10880, 10884, 10886, 2701, 2705, 10898, 2709, 10902, 10904, 2714, 2719, 2720, 2721, 10911, 10913, 10919, 2731, 10927, 10929, 10930, 10932, 10933, 2748, 10940, 10942, 2754, 2758, 10952, 2764, 10957, 2766, 10959, 2768, 2770, 10964, 2773, 10966, 2776, 2777, 10974, 2793, 10986, 10991, 2800, 10995, 10998, 2808, 11003, 2816, 11008, 2822, 2825, 2827, 2837, 2860, 2863, 11056, 2866, 2868, 2870, 2874, 2875, 2876, 11066, 2878, 11071, 2881, 2884, 2885, 11078, 2888, 2890, 2891, 11082, 11086, 2912, 2920, 2926, 11119, 2928, 11121, 11125, 11127, 2942, 11134, 11137, 11142, 11143, 2957, 11151, 2960, 11152, 11153, 2968, 11161, 11162, 11163, 11167, 2980, 11172, 11176, 2985, 11180, 2989, 2992, 11184, 2994, 2995, 2997, 2998, 11192, 3002, 3006, 3007, 11202, 3013, 11211, 3020, 3025, 11221, 3035, 3036, 11233, 3044, 11245, 3054, 11246, 11247, 11249, 3059, 3061, 11254, 11255, 3064, 3072, 11273, 11274, 11290, 3099, 11296, 11299, 11305, 11307, 11310, 11311, 11318, 11320, 11322, 11323, 11324, 11325, 11326, 11328, 3137, 11333, 11334, 3143, 3144, 11335, 3148, 3151, 3159, 11351, 3162, 3165, 3166, 3167, 3168, 11360, 3170, 3175, 11370, 3180, 3181, 3185, 11379, 11380, 11383, 11384, 11385, 11389, 11392, 11394, 11403, 11406, 11407, 11408, 11409, 11410, 11411, 11414, 11415, 11418, 11422, 11433, 11436, 11437, 11440, 3251, 11443, 11444, 11446, 11447, 3256, 11448, 11449, 3261, 3262, 3263, 3265, 11457, 11459, 3274, 11468, 3278, 11474, 3283, 3284, 11478, 11491, 11503, 3312, 11505, 11507, 11509, 3323, 3326, 11522, 11523, 11525, 11527, 3336, 3337, 11528, 11531, 3340, 3345, 11538, 11539, 11541, 3350, 11542, 11545, 3356, 3358, 3363, 3365, 11560, 3372, 11564, 11565, 11568, 11569, 11574, 11576, 3387, 3389, 3390, 11584, 3394, 11587, 3401, 11593, 11596, 3409, 11605, 11608, 11612, 11618, 11619, 11620, 11626, 11628, 11643, 11647, 11648, 3457, 16970, 3463, 11658, 11661, 11662, 11673, 11677, 3487, 11681, 11684, 11687, 3496, 11689, 3499, 11691, 11692, 11694, 11699, 18612, 18614, 11734, 11735, 3550, 18616, 11744, 11752, 11755, 11757, 11762, 11766, 11767, 18621, 3578, 3579, 18622, 3582, 3595, 3597, 11790, 11798, 11800, 11805, 11807, 3622, 11814, 11818, 11821, 3636, 11828, 3638, 11832, 3645, 11841, 11843, 11846, 3655, 11847, 11851, 11853, 3662, 11855, 11859, 3671, 18640, 3679, 11877, 11882, 11888, 11889, 3698, 3699, 11907, 11911, 11915, 3726, 18651, 11920, 18652, 11924, 11925, 11929, 18654, 11934, 11940, 11942, 11943, 3755, 11949, 11957, 3766, 3772, 11967, 3790, 11983, 11984, 3793, 11989, 11990, 11991, 11992, 3801, 11999, 3808, 12003, 17040, 3822, 17042, 3824, 12019, 3828, 17043, 3835, 12029, 3838, 3839, 12030, 3844, 3847, 3848, 3849, 12040, 3852, 3853, 12048, 3857, 12052, 12053, 3864, 3869, 3872, 12066, 12074, 3883, 3887, 12084, 12085, 3895, 12089, 3899, 12093, 3903, 3904, 12095, 3906, 3907, 12097, 12100, 12101, 12102, 3912, 12108, 3922, 3923, 3924, 3925, 3930, 3933, 12125, 12131, 12133, 12136, 12140, 12142, 12149, 12150, 12151, 12156, 12158, 12159, 12161, 12162, 12167, 12175, 3984, 12176, 12177, 12178, 12179, 3989, 3990, 12181, 12182, 12184, 12186, 12187, 3996, 12188, 12189, 12192, 12198, 4010, 4012, 4014, 12208, 12210, 12211, 12217, 4026, 12223, 12224, 12225, 4034, 12227, 12230, 12232, 12233, 4042, 12234, 12236, 12238, 12240, 12241, 12242, 4053, 12245, 12247, 12248, 12250, 12251, 12252, 12253, 12257, 12258, 12261, 4070, 4071, 4072, 12262, 12263, 12264, 4076, 12265, 4078, 12266, 12267, 12269, 12270, 12271, 12272, 12277, 12278, 12280, 12281, 12286, 4098, 12290, 12294, 12313, 12317, 4128, 12320, 12321, 12324, 12326, 12327, 12328, 12331, 4141, 12333, 4146, 12339, 12341, 4150, 4152, 4158, 12350, 12353, 4175, 4176, 12368, 12371, 4185, 4186, 12377, 12378, 12380, 12381, 12382, 4192, 12383, 4195, 4197, 12390, 4200, 12393, 4206, 4210, 12406, 4215, 12407, 12409, 4220, 12412, 12416, 12417, 12418, 12420, 12422, 12423, 12425, 12426, 4235, 12427, 12428, 12431, 12432, 4244, 12438, 4248, 12440, 12445, 4256, 12452, 12459, 12460, 12463, 12464, 12465, 4274, 12466, 12467, 12469, 4279, 12472, 4282, 12474, 4288, 12483, 4293, 12486, 12488, 12489, 12490, 12491, 12497, 12498, 12500, 12501, 12503, 12513, 12514, 12517, 12520, 12521, 12524, 12525, 4338, 12530, 4345, 4347, 12544, 12546, 12549, 4362, 12554, 4364, 12556, 12557, 12558, 12560, 4370, 12562, 4374, 12568, 12569, 12571, 4381, 12576, 12578, 12580, 12584, 12589, 12590, 12592, 4403, 4404, 12595, 12597, 12598, 4412, 12606, 12607, 4421, 4425, 4429, 4431, 12624, 4433, 4441, 4445, 12641, 4450, 4453, 4454, 12646, 12649, 12650, 12652, 4461, 4462, 4463, 12653, 12654, 12655, 12660, 4470, 4471, 4473, 12665, 12666, 12667, 4480, 12672, 12673, 4484, 12677, 4486, 12678, 12697, 12698, 12699, 12700, 12704, 12708, 4518, 4519, 12712, 4523, 4525, 4527, 12719, 4534, 4537, 12729, 12732, 12734, 12737, 4546, 4547, 12741, 12743, 12748, 12749, 12756, 12757, 12758, 12760, 12764, 12767, 4577, 4578, 4579, 12770, 12775, 4584, 4588, 12781, 12785, 4594, 4597, 12790, 4602, 4606, 4614, 12806, 12813, 12815, 4624, 12818, 12819, 4635, 4640, 4642, 4643, 4644, 4646, 12841, 4650, 12843, 12844, 4653, 4654, 4655, 4656, 4657, 4658, 4659, 4660, 12845, 12848, 12849, 4664, 4665, 12850, 12851, 12852, 12853, 12854, 12855, 12856, 12857, 12859, 12861, 12862, 12864, 12865, 12869, 12871, 12872, 12874, 12875, 4685, 12877, 12880, 4689, 12881, 12882, 12883, 4693, 4694, 12884, 12887, 12888, 4698, 12889, 4722, 12919, 12929, 4743, 4744, 12937, 12938, 4748, 4749, 12940, 4752, 12944, 4754, 4755, 4757, 4760, 12954, 4765, 12961, 12967, 4776, 12968, 12969, 12971, 12972, 12974, 12982, 12986, 12988, 4797, 4798, 12995, 4806, 4808, 13005, 13006, 4816, 4824, 13021, 13027, 13029, 4838, 13031, 4840, 13032, 4843, 4851, 4857, 13049, 4864, 13057, 13058, 13059, 13060, 4870, 13067, 13071, 4881, 4882, 13073, 13076, 4885, 4886, 4889, 4892, 4893, 13090, 4900, 13093, 4903, 4904, 13095, 4907, 4908, 13101, 4913, 13109, 13110, 13111, 13113, 13114, 13117, 4926, 13120, 13124, 13125, 4941, 4942, 13140, 13141, 4950, 13142, 13143, 4956, 4960, 4961, 13153, 4963, 4964, 4966, 4968, 13163, 4973, 13166, 4976, 13172, 13175, 13181, 13193, 5002, 13195, 5007, 13200, 5009, 5012, 13205, 5019, 5021, 5022, 5023, 5024, 5025, 13216, 13220, 13222, 5033, 13229, 13230, 13233, 13237, 13239, 5051, 13243, 13245, 13248, 13249, 13250, 13252, 13255, 13259, 13261, 13262, 13263, 13264, 5085, 5086, 13277, 13278, 13280, 13281, 13284, 13285, 5096, 13293, 13295, 13297, 13299, 13300, 13302, 13305, 5121, 5128, 5130, 5131, 13322, 5133, 13323, 5136, 5138, 5142, 13334, 5145, 13346, 13348, 13349, 5158, 13355, 13366, 13367, 5177, 13370, 13373, 13374, 13376, 13379, 13380, 13383, 13384, 13388, 13391, 5207, 13400, 5213, 5214, 13410, 5220, 13412, 5225, 5227, 13424, 13436, 13447, 13449, 5273, 5274, 5281, 5283, 13478, 5289, 5290, 5291, 5293, 13491, 5300, 5308, 5312, 5315, 5318, 5320, 5321, 13512, 13513, 13515, 13518, 5330, 5331, 5334, 13527, 5339, 5344, 13537, 13538, 5349, 5350, 13542, 5352, 5355, 13547, 13552, 5362, 13554, 5364, 13557, 13560, 5369, 13561, 5371, 5372, 13562, 5374, 13564, 5376, 5377, 5378, 13565, 5380, 5384, 5387, 5388, 13580, 13584, 5393, 5395, 5396, 5398, 5400, 5402, 5403, 5404, 5405, 5406, 5408, 13601, 13614, 13615, 13617, 13620, 13629, 5438, 13636, 5445, 13639, 5449, 5450, 13643, 13644, 13647, 13648, 5457, 5461, 13653, 5464, 13656, 5468, 5469, 13665, 5477, 5479, 13673, 5482, 13675, 13677, 13679, 13682, 13693, 13694, 13695, 13696, 13697, 5506, 5512, 5513, 5520, 13715, 13718, 13723, 5533, 13725, 13728, 13729, 5541, 5543, 13740, 13741, 5551, 5552, 5556, 5557, 13750, 13751, 13753, 5564, 5566, 13758, 5570, 13763, 5572, 13764, 13767, 5576, 5577, 5578, 13768, 13769, 13770, 13771, 13772, 13773, 13774, 13777, 5587, 13778, 5589, 13780, 13782, 5595, 5596, 13790, 13791, 5601, 13794, 13796, 13798, 5607, 13799, 13801, 13803, 5613, 13805, 13806, 13807, 13811, 5622, 5624, 5633, 5642, 5646, 5647, 5648, 13850, 13851, 13852, 13853, 5663, 13855, 13856, 13860, 5669, 13863, 13864, 13865, 13866, 13867, 13868, 13869, 5679, 5680, 13873, 13876, 5685, 13881, 13882, 13883, 13884, 13885, 13889, 13902, 5712, 13905, 13906, 13907, 13908, 5717, 13909, 13911, 13912, 13914, 5723, 5725, 5727, 13921, 13922, 13925, 5734, 13927, 13928, 13931, 13933, 5751, 13946, 5755, 5756, 13949, 5758, 13952, 5761, 5763, 5764, 5765, 13955, 5771, 5773, 5776, 13968, 13986, 5798, 13990, 13992, 14000, 14004, 14006, 14007, 5816, 14008, 14009, 14010, 5821, 14017, 5828, 14022, 14025, 5837, 14030, 5840, 14034, 5843, 14036, 14038, 14039, 14041, 5851, 14045, 14046, 5855, 5856, 5857, 5858, 5859, 14047, 14048, 5862, 5863, 14049, 14054, 5869, 5870, 14062, 5872, 14064, 14068, 14070, 5881, 5884, 14076, 5888, 14082, 14083, 14090, 5909, 5910, 5915, 5916, 14108, 5919, 14112, 14113, 14118, 5930, 5931, 5935, 5941, 14136, 14137, 5946, 14146, 14150, 5959, 14153, 14155, 5965, 14158, 14161, 14164, 5974, 14166, 14167, 5977, 14168, 5979, 14171, 14172, 14173, 14174, 14176, 14177, 5986, 14178, 14179, 5990, 5991, 14182, 5993, 14186, 14187, 5996, 5997, 14188, 5999, 14190, 6001, 6002, 6003, 14191, 6005, 14197, 14199, 14202, 14205, 14206, 6019, 14211, 6021, 14213, 14216, 6028, 14220, 14223, 14224, 6033, 14226, 6036, 14228, 14229, 14231, 14234, 14242, 14243, 14244, 14253, 6062, 6063, 14255, 6066, 14259, 6068, 14262, 6071, 6072, 14263, 14264, 14268, 6078, 6079, 6082, 6083, 6084, 6085, 6088, 14280, 6090, 6091, 6092, 6094, 6095, 6099, 6100, 6101, 6103, 6104, 6105, 6108, 6109, 6110, 14302, 6113, 6114, 14307, 6118, 14311, 14312, 14313, 14314, 14316, 14320, 14321, 14322, 14326, 6135, 14327, 14328, 14330, 14331, 14332, 14339, 14342, 14345, 6157, 14351, 14352, 14355, 14357, 14360, 6170, 6171, 14362, 14364, 6174, 14365, 14386, 14387, 14388, 14390, 14397, 14399, 6208, 6212, 6216, 6218, 6220, 6234, 6238, 6239, 6242, 6243, 14441, 6251, 14445, 14446, 6255, 14447, 14451, 14452, 6277, 6279, 14471, 6281, 14472, 14475, 6285, 14477, 14482, 14484, 14495, 14496, 14497, 6310, 14503, 14504, 6314, 14506, 14507, 6320, 14512, 14514, 6326, 6327, 6328, 14519, 14521, 6332, 6338, 14531, 14535, 14539, 14541, 14543, 6352, 6354, 14547, 6356, 6358, 14550, 14551, 14555, 14556, 6366, 6369, 14563, 14565, 6383, 14577, 6386, 14582, 14586, 14592, 14596, 14602, 14603, 14604, 14605, 14606, 14610, 6421, 6428, 6432, 6433, 14626, 6437, 6438, 14630, 14635, 14637, 14639, 6449, 14642, 6455, 14653, 6462, 6464, 6467, 6468, 6470, 6471, 14664, 6474, 6476, 14671, 6481, 6482, 6483, 6484, 6485, 6486, 6487, 6488, 14674, 14675, 14679, 6492, 14681, 14686, 14689, 14694, 14695, 14696, 14697, 14698, 6508, 14701, 6511, 14703, 6513, 14704, 14705, 14708, 6519, 6525, 6530, 14725, 6535, 14729, 6538, 14732, 14737, 14741, 6555, 6557, 6561, 14759, 14763, 14767, 14769, 14772, 6584, 14776, 14777, 6587, 6589, 6590, 14781, 14782, 14784, 14785, 6595, 14788, 14789, 6599, 6605, 14799, 14800, 6609, 6610, 6611, 14804, 14806, 6617, 6624, 6625, 6635, 14830, 14833, 6643, 6644, 6645, 14835, 14836, 14842, 14844, 6656, 6664, 6669, 14863, 6672, 6674, 14872, 6682, 6683, 6684, 6686, 6691, 14883, 14887, 14893, 14899, 14900, 6709, 14903, 14904, 14907, 6716, 14908, 14909, 14910, 6720, 14912, 14914, 6723, 14916, 14917, 14918, 6729, 14921, 14927, 14929, 6738, 14935, 6744, 14939, 14940, 6749, 6751, 6754, 6767, 6775, 14972, 14975, 14981, 14982, 14983, 6793, 14985, 14990, 14993, 14996, 14997, 6807, 14999, 15001, 15002, 15003, 6813, 15005, 15007, 15009, 15010, 15013, 6822, 15014, 15015, 15017, 6826, 15021, 15024, 15029, 15030, 6839, 6840, 15031, 15032, 6849, 15041, 15042, 6856, 15048, 15051, 15052, 6863, 6864, 15057, 6868, 15060, 15061, 15066, 15070, 6879, 15073, 15076, 15077, 15078, 15079, 15080, 15081, 15084, 15092, 15093, 15096, 15098, 15099, 6912, 15104, 15106, 6917, 6918, 15110, 15111, 6921, 15112, 15116, 6925, 15118, 6927, 15120, 15121, 6932, 6933, 6934, 15128, 6937, 6942, 6943, 15136, 15138, 15139, 6952, 6954, 15147, 6956, 15148, 15152, 15153, 15154, 15155, 6964, 6965, 15156, 6968, 15165, 6974, 6976, 15168, 15170, 6984, 6985, 6988, 6989, 6993, 15185, 15186, 15193, 15195, 15197, 15199, 15207, 15211, 15212, 15217, 7026, 7028, 15223, 7033, 7034, 15226, 7036, 15227, 15228, 15230, 15233, 15234, 15235, 15239, 15242, 15243, 15244, 15248, 7063, 15257, 7072, 15268, 15270, 7083, 7087, 7089, 7092, 7095, 7102, 15304, 15306, 15312, 15319, 15323, 7132, 7134, 7135, 15328, 15330, 7141, 15336, 15337, 7149, 15343, 15346, 15348, 15349, 15350, 15351, 15352, 7161, 7162, 15353, 15357, 7170, 7171, 7173, 7174, 15366, 7176, 15369, 15372, 7181, 15373, 15374, 7184, 15380, 15381, 15382, 15383, 7192, 15384, 7195, 7199, 7200, 7202, 15395, 15396, 15398, 15400, 7209, 15401, 15402, 15404, 15408, 15409, 15411, 15412, 15413, 7222, 15417, 7226, 7230, 7232, 7236, 7240, 15434, 7243, 7244, 15435, 7246, 15438, 15439, 15442, 7255, 7257, 15455, 15458, 15459, 7269, 7270, 15462, 15467, 15468, 15471, 7280, 7282, 15474, 7284, 15475, 15478, 15479, 15480, 7299, 7300, 7303, 7304, 7305, 15496, 15497, 15499, 15500, 7310, 15501, 15503, 7313, 7314, 15505, 15508, 15509, 15510, 15514, 15515, 15517, 15519, 7330, 7335, 7338, 7339, 15530, 15536, 7365, 7367, 7369, 15565, 15570, 7381, 15573, 15576, 7385, 15579, 15580, 7389, 15581, 7392, 7393, 7394, 15585, 15588, 15589, 15590, 7399, 7400, 7401, 7402, 7403, 15594, 7408, 7409, 15604, 15605, 15609, 17879, 15613, 15615, 15619, 15620, 15625, 7434, 15628, 15630, 15632, 15634, 7443, 7451, 15644, 15650, 7459, 7460, 15653, 7462, 7464, 7466, 15658, 15661, 15664, 7477, 7478, 15669, 15673, 7482, 7483, 15674, 7486, 7488, 7489, 7491, 15684, 15685, 7495, 15689, 7499, 15692, 15693, 15695, 7504, 15698, 15701, 15702, 15703, 15705, 15706, 15711, 15712, 15715, 15716, 15718, 15719, 15721, 15722, 15725, 15727, 7540, 15739, 15740, 7553, 7568, 15762, 7573, 7576, 15770, 7585, 15779, 7589, 7593, 15788, 15789, 15790, 7599, 7600, 15794, 7605, 7606, 7608, 7610, 15804, 7614, 15806, 15807, 7617, 15810, 7621, 7622, 15814, 7624, 15819, 15822, 15823, 15824, 15827, 15830, 15831, 15833, 15836, 7647, 7652, 15845, 15847, 15848, 7657, 7658, 15849, 15850, 7664, 7666, 15858, 15859, 15861, 7676, 15868, 15872, 7682, 15874, 7684, 15877, 15879, 15884, 15885, 15886, 15887, 15888, 15891, 7702, 15895, 7705, 15898, 15901, 7712, 15906, 7715, 7716, 15908, 7718, 7719, 7720, 15909, 15911, 15921, 15924, 7733, 15926, 7735, 7736, 15928, 15929, 7739, 15930, 15931, 7746, 15950, 15951, 15953, 15956, 15958, 15959, 15960, 15969, 15970, 7779, 15976, 15977, 15980, 15983, 15988, 7807, 16001, 16004, 16005, 16019, 16020, 7839, 7842, 16034, 7844, 7847, 16040, 16041, 7850, 16042, 7852, 7853, 16044, 16045, 7856, 16047, 7858, 16058, 7867, 7873, 16065, 7875, 16066, 16070, 16071, 16072, 16073, 16074, 16077, 16078, 16080, 16081, 16082, 16083, 16085, 16088, 16091, 16092, 7910, 16104, 16115, 16119, 16120, 16126, 7936, 16128, 7939, 16131, 7942, 16135, 7948, 16140, 7950, 7952, 7953, 7954, 16146, 16147, 7957, 16149, 16153, 16154, 7963, 7964, 7965, 7966, 7967, 7968, 16155, 7970, 7971, 16157, 7973, 7974, 7975, 16168, 7978, 16171, 16173, 16174, 7985, 7986, 16178, 7988, 7989, 7990, 16180, 7992, 7993, 17871, 7995, 7996, 7997, 7998, 7999, 16189, 8004, 8005, 8006, 8007, 8008, 8015, 16210, 8021, 8022, 8025, 16217, 8028, 8031, 8032, 8034, 8035, 8036, 8037, 16229, 8039, 8040, 8041, 16231, 16235, 16236, 16240, 16241, 16244, 16247, 8058, 8059, 16251, 8061, 16254, 8063, 8064, 16256, 16259, 16261, 8070, 8074, 8077, 16269, 8080, 8082, 8083, 16275, 8085, 8087, 8089, 8090, 16281, 16282, 16284, 16285, 16286, 16287, 8097, 16291, 16296, 16297, 16298, 16300, 16304, 8116, 8117, 16312, 8125, 8127, 8128, 8129, 16326, 8142, 8145, 16337, 16338, 8148, 16339, 16341, 16343, 16346, 16347, 8156, 16348, 16356, 16357, 8167, 16360, 8170, 16362, 8174, 16366, 8176, 8177, 16371, 8180, 16372, 8183, 16376, 16377, 8186, 8187, 8189, 16382, 16383]\n"
     ]
    },
    {
     "name": "stderr",
     "output_type": "stream",
     "text": [
      "c:\\Users\\vrajagopalan\\OneDrive - IESEG\\Desktop\\Recommendation\\Group_Assignment\\IESEGRecSys\\model.py:72: RuntimeWarning: invalid value encountered in true_divide\n",
      "  self.prediction = (np.matmul(df_pivot.values, self.matrixNN) / denom) + self.user_avg[:,np.newaxis]\n"
     ]
    }
   ],
   "source": [
    "cb.fit_ratings(df_train)\n",
    "\n",
    "# predict test ratings\n",
    "cb_pred_1 = cb.test(df_test)"
   ]
  },
  {
   "cell_type": "code",
   "execution_count": null,
   "metadata": {},
   "outputs": [
    {
     "data": {
      "text/html": [
       "<div>\n",
       "<style scoped>\n",
       "    .dataframe tbody tr th:only-of-type {\n",
       "        vertical-align: middle;\n",
       "    }\n",
       "\n",
       "    .dataframe tbody tr th {\n",
       "        vertical-align: top;\n",
       "    }\n",
       "\n",
       "    .dataframe thead th {\n",
       "        text-align: right;\n",
       "    }\n",
       "</style>\n",
       "<table border=\"1\" class=\"dataframe\">\n",
       "  <thead>\n",
       "    <tr style=\"text-align: right;\">\n",
       "      <th></th>\n",
       "      <th>IB</th>\n",
       "      <th>UB</th>\n",
       "      <th>CLU</th>\n",
       "      <th>SVD</th>\n",
       "      <th>ALS</th>\n",
       "    </tr>\n",
       "  </thead>\n",
       "  <tbody>\n",
       "    <tr>\n",
       "      <th>RMSE</th>\n",
       "      <td>1.155835</td>\n",
       "      <td>1.496085</td>\n",
       "      <td>1.114257</td>\n",
       "      <td>1.421003</td>\n",
       "      <td>0.940659</td>\n",
       "    </tr>\n",
       "    <tr>\n",
       "      <th>MAE</th>\n",
       "      <td>0.829390</td>\n",
       "      <td>1.128415</td>\n",
       "      <td>0.820945</td>\n",
       "      <td>1.004436</td>\n",
       "      <td>0.713441</td>\n",
       "    </tr>\n",
       "    <tr>\n",
       "      <th>Recall</th>\n",
       "      <td>0.955123</td>\n",
       "      <td>0.994916</td>\n",
       "      <td>0.925705</td>\n",
       "      <td>0.832660</td>\n",
       "      <td>0.975791</td>\n",
       "    </tr>\n",
       "    <tr>\n",
       "      <th>Precision</th>\n",
       "      <td>0.922934</td>\n",
       "      <td>0.867718</td>\n",
       "      <td>0.939723</td>\n",
       "      <td>0.942417</td>\n",
       "      <td>0.950985</td>\n",
       "    </tr>\n",
       "    <tr>\n",
       "      <th>F1</th>\n",
       "      <td>0.938753</td>\n",
       "      <td>0.926974</td>\n",
       "      <td>0.932662</td>\n",
       "      <td>0.884145</td>\n",
       "      <td>0.963228</td>\n",
       "    </tr>\n",
       "    <tr>\n",
       "      <th>NDCG@5</th>\n",
       "      <td>0.843581</td>\n",
       "      <td>0.856282</td>\n",
       "      <td>0.852969</td>\n",
       "      <td>0.859563</td>\n",
       "      <td>0.855251</td>\n",
       "    </tr>\n",
       "  </tbody>\n",
       "</table>\n",
       "</div>"
      ],
      "text/plain": [
       "                 IB        UB       CLU       SVD       ALS\n",
       "RMSE       1.155835  1.496085  1.114257  1.421003  0.940659\n",
       "MAE        0.829390  1.128415  0.820945  1.004436  0.713441\n",
       "Recall     0.955123  0.994916  0.925705  0.832660  0.975791\n",
       "Precision  0.922934  0.867718  0.939723  0.942417  0.950985\n",
       "F1         0.938753  0.926974  0.932662  0.884145  0.963228\n",
       "NDCG@5     0.843581  0.856282  0.852969  0.859563  0.855251"
      ]
     },
     "execution_count": 197,
     "metadata": {},
     "output_type": "execute_result"
    }
   ],
   "source": [
    "overview"
   ]
  },
  {
   "cell_type": "code",
   "execution_count": null,
   "metadata": {},
   "outputs": [
    {
     "data": {
      "text/html": [
       "<div>\n",
       "<style scoped>\n",
       "    .dataframe tbody tr th:only-of-type {\n",
       "        vertical-align: middle;\n",
       "    }\n",
       "\n",
       "    .dataframe tbody tr th {\n",
       "        vertical-align: top;\n",
       "    }\n",
       "\n",
       "    .dataframe thead th {\n",
       "        text-align: right;\n",
       "    }\n",
       "</style>\n",
       "<table border=\"1\" class=\"dataframe\">\n",
       "  <thead>\n",
       "    <tr style=\"text-align: right;\">\n",
       "      <th></th>\n",
       "      <th>CB_TDIDF</th>\n",
       "      <th>IB</th>\n",
       "      <th>UB</th>\n",
       "      <th>CLU</th>\n",
       "      <th>SVD</th>\n",
       "      <th>ALS</th>\n",
       "    </tr>\n",
       "  </thead>\n",
       "  <tbody>\n",
       "    <tr>\n",
       "      <th>RMSE</th>\n",
       "      <td>1.061201</td>\n",
       "      <td>1.155835</td>\n",
       "      <td>1.496085</td>\n",
       "      <td>1.114257</td>\n",
       "      <td>1.421003</td>\n",
       "      <td>0.940659</td>\n",
       "    </tr>\n",
       "    <tr>\n",
       "      <th>MAE</th>\n",
       "      <td>0.767399</td>\n",
       "      <td>0.829390</td>\n",
       "      <td>1.128415</td>\n",
       "      <td>0.820945</td>\n",
       "      <td>1.004436</td>\n",
       "      <td>0.713441</td>\n",
       "    </tr>\n",
       "    <tr>\n",
       "      <th>Recall</th>\n",
       "      <td>0.953873</td>\n",
       "      <td>0.955123</td>\n",
       "      <td>0.994916</td>\n",
       "      <td>0.925705</td>\n",
       "      <td>0.832660</td>\n",
       "      <td>0.975791</td>\n",
       "    </tr>\n",
       "    <tr>\n",
       "      <th>Precision</th>\n",
       "      <td>0.940703</td>\n",
       "      <td>0.922934</td>\n",
       "      <td>0.867718</td>\n",
       "      <td>0.939723</td>\n",
       "      <td>0.942417</td>\n",
       "      <td>0.950985</td>\n",
       "    </tr>\n",
       "    <tr>\n",
       "      <th>F1</th>\n",
       "      <td>0.947242</td>\n",
       "      <td>0.938753</td>\n",
       "      <td>0.926974</td>\n",
       "      <td>0.932662</td>\n",
       "      <td>0.884145</td>\n",
       "      <td>0.963228</td>\n",
       "    </tr>\n",
       "    <tr>\n",
       "      <th>NDCG@5</th>\n",
       "      <td>0.864106</td>\n",
       "      <td>0.843581</td>\n",
       "      <td>0.856282</td>\n",
       "      <td>0.852969</td>\n",
       "      <td>0.859563</td>\n",
       "      <td>0.855251</td>\n",
       "    </tr>\n",
       "  </tbody>\n",
       "</table>\n",
       "</div>"
      ],
      "text/plain": [
       "           CB_TDIDF        IB        UB       CLU       SVD       ALS\n",
       "RMSE       1.061201  1.155835  1.496085  1.114257  1.421003  0.940659\n",
       "MAE        0.767399  0.829390  1.128415  0.820945  1.004436  0.713441\n",
       "Recall     0.953873  0.955123  0.994916  0.925705  0.832660  0.975791\n",
       "Precision  0.940703  0.922934  0.867718  0.939723  0.942417  0.950985\n",
       "F1         0.947242  0.938753  0.926974  0.932662  0.884145  0.963228\n",
       "NDCG@5     0.864106  0.843581  0.856282  0.852969  0.859563  0.855251"
      ]
     },
     "execution_count": 198,
     "metadata": {},
     "output_type": "execute_result"
    }
   ],
   "source": [
    "overview = pd.concat([eval.evaluate(cb_pred_1, topn=5, rating_cutoff=5), overview], axis = 1)\n",
    "overview.rename(columns={'value':'CB_TDIDF'}, inplace = True)\n",
    "overview"
   ]
  },
  {
   "cell_type": "markdown",
   "metadata": {},
   "source": [
    "We will now try the contentbased model for frequency"
   ]
  },
  {
   "cell_type": "code",
   "execution_count": null,
   "metadata": {},
   "outputs": [
    {
     "name": "stdout",
     "output_type": "stream",
     "text": [
      "Warning 3929 items are not included in content data: [16385, 8194, 16387, 8197, 16389, 8200, 16393, 8203, 8204, 8206, 8207, 8209, 16404, 8213, 16408, 16410, 8220, 16417, 8227, 8228, 16419, 16420, 16423, 16425, 16426, 8236, 16428, 8238, 16429, 8240, 8242, 16439, 16443, 16444, 16445, 16451, 16455, 16456, 16457, 16458, 16461, 16465, 16467, 8282, 8284, 8285, 8289, 105, 16490, 109, 110, 111, 112, 8303, 8306, 115, 117, 118, 119, 123, 124, 125, 8316, 127, 8320, 129, 16507, 131, 16510, 133, 16513, 135, 136, 8327, 8330, 16514, 8332, 16518, 16519, 8335, 144, 145, 8337, 147, 8338, 8339, 150, 8342, 8344, 16530, 16535, 8352, 8355, 8357, 169, 177, 16561, 8373, 8374, 16565, 16569, 8379, 16572, 16573, 16576, 8385, 16580, 8389, 16583, 16584, 16585, 8394, 16588, 16590, 16592, 16594, 16596, 16598, 16599, 16601, 8410, 8411, 8413, 8414, 16605, 224, 8416, 16613, 16615, 8424, 16618, 8427, 8428, 16621, 8430, 16625, 242, 8434, 16631, 8440, 16632, 8442, 16635, 16636, 254, 8447, 8448, 8449, 8450, 8451, 8452, 16638, 16642, 16643, 8456, 16645, 16648, 16651, 8460, 16654, 8463, 16655, 16656, 274, 16658, 8469, 281, 282, 8475, 8477, 8478, 16669, 8480, 16670, 16672, 16675, 8484, 8485, 8486, 8487, 16680, 8489, 8490, 16681, 16682, 16683, 16684, 16687, 8496, 16688, 16689, 16690, 16693, 8505, 315, 8507, 16700, 16702, 8518, 8519, 16710, 8521, 8522, 16715, 8525, 16718, 8527, 336, 337, 16719, 8531, 8532, 341, 8534, 8535, 8536, 16720, 16722, 8539, 8540, 8541, 8542, 16726, 16728, 16733, 16736, 16738, 16739, 16741, 16742, 363, 16747, 365, 16748, 16750, 368, 16755, 16757, 16758, 16759, 8568, 16761, 16764, 8577, 8578, 8579, 16775, 8585, 16777, 16780, 16781, 16782, 16783, 16785, 16789, 16793, 8602, 411, 8603, 8604, 8606, 16795, 16796, 16798, 16799, 16802, 16803, 8614, 16806, 8616, 8618, 8619, 8620, 8623, 8624, 8630, 8632, 8634, 8636, 8639, 8643, 8644, 16836, 16838, 16844, 8653, 8654, 16845, 16847, 16848, 16849, 16375, 16850, 8661, 8662, 16851, 16854, 473, 16856, 16865, 483, 16867, 16869, 16870, 16872, 16873, 16381, 16881, 16882, 8694, 16887, 16891, 16893, 16896, 16901, 16903, 16907, 16912, 8721, 16914, 16920, 16921, 16922, 16924, 8733, 16925, 16930, 16932, 16933, 16934, 551, 8744, 8745, 16935, 555, 556, 16936, 558, 8751, 16937, 8753, 16938, 16939, 16948, 16951, 568, 8762, 16954, 16955, 8765, 16958, 16959, 16960, 577, 8772, 16966, 8776, 16968, 586, 587, 588, 8778, 8780, 16969, 8784, 8785, 8786, 8787, 16974, 16975, 598, 8791, 8792, 16976, 8798, 8799, 8814, 17007, 8817, 626, 8819, 628, 17012, 17015, 8824, 8825, 17016, 17017, 17018, 17020, 17022, 639, 17024, 8833, 17025, 17026, 17027, 17028, 17029, 17031, 17032, 8841, 8842, 651, 17033, 653, 654, 8845, 17034, 8849, 8850, 8851, 17035, 17036, 17039, 663, 664, 665, 666, 8855, 8858, 8860, 8861, 17047, 673, 8869, 17061, 17066, 17068, 17071, 17072, 17074, 8885, 695, 8889, 8891, 8893, 17085, 8895, 17086, 8897, 8898, 8899, 8900, 17089, 8902, 8903, 17091, 17099, 8909, 17101, 8911, 8913, 8914, 8917, 729, 8927, 736, 17122, 17126, 17129, 17138, 8948, 17146, 8955, 8956, 765, 8958, 17147, 17151, 17152, 17154, 17155, 773, 8967, 17159, 8969, 8970, 17160, 8972, 8974, 8978, 8980, 8981, 8986, 8987, 8997, 17193, 17194, 17195, 9004, 17197, 9006, 17201, 9012, 17204, 17206, 17207, 9017, 17210, 9019, 9022, 9023, 9024, 9025, 17220, 9029, 838, 9031, 17224, 9035, 9038, 848, 9040, 9041, 17237, 9047, 17240, 17241, 17242, 17243, 17244, 17246, 17251, 9060, 9061, 9062, 17252, 9064, 17254, 17255, 17257, 17258, 17261, 9070, 9072, 9074, 9075, 9078, 17271, 9080, 17277, 9088, 17280, 9090, 9092, 9094, 17288, 9097, 17290, 9100, 9106, 9107, 916, 17298, 9110, 9111, 9112, 9113, 9114, 17299, 17300, 17302, 17303, 9119, 9121, 17313, 933, 17321, 9131, 9136, 9142, 17334, 9145, 9149, 9150, 17343, 9153, 17346, 9158, 9159, 17353, 17354, 17355, 9165, 9168, 9171, 17364, 9173, 9174, 9175, 9176, 9177, 17369, 9179, 9180, 9181, 9182, 17376, 9185, 9186, 9189, 9191, 9194, 9202, 9210, 17402, 17403, 17406, 17407, 17408, 17409, 9218, 9219, 9220, 9221, 17410, 17415, 9224, 17418, 17421, 17422, 9231, 17423, 17425, 9235, 17429, 17430, 9239, 17431, 9243, 9244, 9247, 9248, 17439, 17441, 17442, 9252, 17444, 17445, 17446, 17447, 9257, 17448, 17449, 17452, 17455, 9264, 17457, 17459, 17460, 9269, 9270, 17461, 17462, 9273, 1082, 9275, 9276, 9277, 17463, 17464, 9280, 9281, 9283, 17475, 17476, 17477, 18128, 17481, 17487, 9304, 17497, 9306, 17499, 9309, 9311, 9312, 9314, 9315, 9316, 17506, 1129, 9323, 9326, 9327, 9328, 1144, 9339, 17533, 9345, 17540, 9349, 17543, 17544, 17547, 17548, 1165, 17550, 17551, 17554, 17555, 16515, 17556, 17557, 9367, 17558, 9373, 9374, 9377, 9378, 17573, 17574, 9385, 9386, 17578, 9388, 16520, 9390, 1199, 17579, 9393, 17581, 17582, 9396, 17585, 9398, 9399, 17586, 1209, 17588, 1212, 9405, 9406, 9407, 9408, 9409, 9411, 17605, 17607, 1224, 17608, 17610, 17611, 9422, 17614, 17617, 9432, 17625, 17626, 9450, 1262, 17647, 1266, 1267, 1268, 17651, 17654, 9463, 1273, 17657, 9471, 17664, 9473, 17666, 1287, 1289, 1290, 17678, 17679, 17681, 17682, 9494, 17686, 9500, 9501, 9508, 9509, 17701, 9514, 17709, 9524, 9526, 9536, 17729, 9538, 17732, 9542, 9546, 17739, 9548, 17740, 17741, 17742, 1361, 17745, 17746, 17747, 17748, 9558, 1367, 9559, 17749, 17751, 17753, 17754, 17755, 17757, 17758, 17761, 17762, 17763, 9572, 9573, 9574, 17764, 17765, 17767, 17769, 17770, 9580, 17772, 17773, 1391, 17776, 1393, 17788, 9597, 9599, 17792, 9605, 17800, 17802, 17803, 17804, 17805, 17806, 17807, 9617, 9618, 9619, 17811, 17812, 9622, 17815, 17817, 9628, 1439, 1442, 9638, 1448, 9641, 17836, 1454, 17838, 17839, 17842, 17843, 9652, 9653, 17844, 17845, 9657, 1466, 17850, 17853, 9662, 1471, 1472, 1473, 9664, 9665, 1476, 17856, 1482, 1483, 1484, 9675, 17866, 17867, 1488, 17868, 1490, 9682, 17869, 17870, 1494, 1495, 1496, 9688, 1498, 9690, 17876, 9693, 17877, 9695, 9696, 17881, 17884, 17892, 9709, 9715, 17911, 17912, 9721, 9723, 9725, 9726, 9728, 9731, 9732, 9733, 9741, 17935, 9744, 17936, 17938, 17939, 1558, 17944, 17946, 9755, 1564, 9756, 17950, 9759, 9760, 17954, 9763, 17957, 1578, 17963, 17964, 17969, 1587, 9780, 17974, 17975, 9784, 17976, 1594, 9786, 9787, 9788, 1598, 9789, 9792, 17980, 17984, 17987, 17988, 17989, 17990, 1607, 9800, 9801, 17991, 9803, 17995, 9805, 9806, 17996, 17997, 9809, 17998, 18000, 9812, 9813, 18001, 9815, 1624, 1625, 9816, 18005, 18006, 18013, 18015, 1635, 1637, 18023, 18024, 18025, 18026, 1646, 1649, 1653, 9846, 9848, 1657, 1658, 9849, 9850, 1661, 9852, 9853, 9857, 1667, 9864, 18057, 1676, 18063, 18065, 18066, 18069, 9880, 18072, 18075, 1695, 9887, 1697, 9890, 1699, 9891, 18079, 18086, 18089, 9899, 18093, 18095, 18096, 18097, 9908, 18100, 9910, 18101, 18103, 18104, 1722, 9915, 18105, 18109, 9918, 18111, 18112, 9921, 18113, 18114, 9924, 1733, 1734, 9925, 18116, 18118, 18119, 18121, 18122, 1741, 1742, 9933, 18123, 18124, 18125, 18126, 1748, 1749, 1750, 1751, 9940, 1753, 18134, 9947, 18136, 9952, 18146, 18147, 18148, 18149, 18150, 18151, 1769, 18153, 18155, 18156, 18157, 9967, 1780, 9972, 18164, 18170, 18172, 9981, 9984, 9985, 9986, 18178, 9989, 9991, 18185, 9994, 9995, 18187, 9998, 18190, 18192, 10003, 18196, 18197, 10006, 10008, 10010, 10011, 10012, 10013, 10014, 10015, 18202, 18207, 18210, 18211, 18212, 10022, 10023, 18214, 10029, 1838, 18228, 18231, 1849, 10043, 10045, 18239, 18240, 10049, 10051, 10052, 1862, 18246, 10056, 18247, 18252, 1869, 10061, 10062, 18263, 10073, 10076, 18271, 18272, 18273, 18274, 18275, 18276, 10093, 18285, 18286, 10096, 18289, 18291, 18293, 18294, 10103, 10104, 10106, 10108, 10109, 1920, 10112, 18306, 18307, 10116, 10117, 18309, 10121, 1930, 18315, 1932, 10124, 18317, 18319, 18322, 1939, 10131, 18323, 18325, 10135, 10136, 10138, 10141, 10144, 18337, 18342, 10152, 10153, 10154, 18344, 18345, 18347, 18348, 18349, 18351, 18352, 18354, 18355, 10166, 18361, 18364, 10173, 18365, 18366, 10176, 18369, 18370, 10181, 18373, 18375, 10187, 18379, 10189, 10190, 18380, 10192, 18381, 18383, 18386, 10197, 2007, 10200, 10201, 18392, 18393, 2012, 10204, 10206, 18403, 18404, 18405, 18406, 10215, 10216, 10219, 10221, 10223, 18426, 18429, 10239, 10240, 10242, 18435, 18436, 10246, 2056, 2057, 2058, 10251, 2061, 10254, 2063, 10256, 18449, 10258, 18450, 10260, 10261, 18452, 10263, 2073, 10265, 10267, 10268, 2078, 10270, 18462, 10273, 10274, 10275, 10276, 10277, 18466, 10279, 10280, 10281, 2090, 18467, 18469, 18470, 18471, 18472, 10289, 2103, 10295, 2105, 2109, 2112, 10304, 2117, 2119, 2120, 2126, 18514, 10323, 10325, 10326, 18517, 18523, 2140, 2141, 10332, 10335, 10339, 10341, 10342, 2152, 10344, 18537, 10347, 10348, 10350, 2159, 10352, 10353, 10354, 2163, 10356, 10357, 18549, 10359, 18550, 2170, 10363, 10364, 10365, 18559, 10368, 2178, 10371, 18562, 2181, 10373, 10375, 10376, 10381, 2191, 18575, 18576, 18578, 10388, 2197, 18580, 2199, 18581, 18588, 10397, 10398, 2207, 2208, 18589, 18590, 18594, 18595, 2216, 18601, 18604, 2221, 18605, 10416, 2225, 10420, 16725, 2230, 10422, 2232, 2233, 2234, 2235, 10423, 2237, 2238, 10424, 2240, 2241, 10425, 2243, 10427, 2245, 10432, 10437, 2248, 10438, 2250, 10442, 10443, 10445, 18635, 2256, 2257, 2258, 10450, 10451, 2261, 2262, 10452, 10453, 10456, 10457, 10458, 10459, 18645, 18646, 10463, 18648, 18649, 2274, 2275, 10467, 10469, 10470, 10471, 18657, 18658, 10474, 2283, 2284, 2286, 2287, 18672, 18674, 2293, 2294, 2295, 2296, 18679, 18686, 18688, 10497, 10499, 18694, 10504, 10505, 18696, 2315, 10507, 18697, 10510, 18698, 2321, 2329, 18718, 10527, 10528, 10529, 10531, 10532, 10533, 18726, 18728, 18729, 10538, 10541, 10544, 10546, 2355, 10548, 10550, 2359, 18742, 18743, 10554, 18745, 2365, 2367, 2368, 2371, 10575, 10578, 2388, 10586, 10588, 10590, 2399, 2400, 2401, 10593, 2403, 2406, 10601, 2410, 2413, 10605, 10606, 2421, 2431, 10624, 10635, 10639, 10643, 10644, 10648, 2461, 10654, 10655, 10659, 10664, 2474, 2476, 10670, 10671, 10673, 2483, 2489, 2494, 10687, 10688, 10690, 2499, 2503, 2504, 2505, 10696, 2507, 10701, 2510, 10702, 10704, 10706, 2516, 2517, 10708, 10710, 10711, 10713, 10714, 10724, 10730, 10731, 10733, 10734, 10736, 2547, 2555, 10755, 2566, 10763, 10770, 10774, 10778, 10781, 2590, 10783, 2592, 10785, 10801, 10803, 2631, 10823, 2635, 10834, 10835, 10838, 2647, 10845, 10846, 10849, 10852, 10853, 10860, 10861, 10873, 10874, 10877, 2686, 10878, 10880, 10884, 10886, 2701, 2705, 10898, 2709, 10902, 10904, 2714, 2719, 2720, 2721, 10911, 10913, 10919, 2731, 10927, 10929, 10930, 10932, 10933, 2748, 10940, 10942, 2754, 2758, 10952, 2764, 10957, 2766, 10959, 2768, 2770, 10964, 2773, 10966, 2776, 2777, 10974, 2793, 10986, 10991, 2800, 10995, 10998, 2808, 11003, 2816, 11008, 2822, 2825, 2827, 2837, 2860, 2863, 11056, 2866, 2868, 2870, 2874, 2875, 2876, 11066, 2878, 11071, 2881, 2884, 2885, 11078, 2888, 2890, 2891, 11082, 11086, 2912, 2920, 2926, 11119, 2928, 11121, 11125, 11127, 2942, 11134, 11137, 11142, 11143, 2957, 11151, 2960, 11152, 11153, 2968, 11161, 11162, 11163, 11167, 2980, 11172, 11176, 2985, 11180, 2989, 2992, 11184, 2994, 2995, 2997, 2998, 11192, 3002, 3006, 3007, 11202, 3013, 11211, 3020, 3025, 11221, 3035, 3036, 11233, 3044, 11245, 3054, 11246, 11247, 11249, 3059, 3061, 11254, 11255, 3064, 3072, 11273, 11274, 11290, 3099, 11296, 11299, 11305, 11307, 11310, 11311, 11318, 11320, 11322, 11323, 11324, 11325, 11326, 11328, 3137, 11333, 11334, 3143, 3144, 11335, 3148, 3151, 3159, 11351, 3162, 3165, 3166, 3167, 3168, 11360, 3170, 3175, 11370, 3180, 3181, 3185, 11379, 11380, 11383, 11384, 11385, 11389, 11392, 11394, 11403, 11406, 11407, 11408, 11409, 11410, 11411, 11414, 11415, 11418, 11422, 11433, 11436, 11437, 11440, 3251, 11443, 11444, 11446, 11447, 3256, 11448, 11449, 3261, 3262, 3263, 3265, 11457, 11459, 3274, 11468, 3278, 11474, 3283, 3284, 11478, 11491, 11503, 3312, 11505, 11507, 11509, 3323, 3326, 11522, 11523, 11525, 11527, 3336, 3337, 11528, 11531, 3340, 3345, 11538, 11539, 11541, 3350, 11542, 11545, 3356, 3358, 3363, 3365, 11560, 3372, 11564, 11565, 11568, 11569, 11574, 11576, 3387, 3389, 3390, 11584, 3394, 11587, 3401, 11593, 11596, 3409, 11605, 11608, 11612, 11618, 11619, 11620, 11626, 11628, 11643, 11647, 11648, 3457, 16970, 3463, 11658, 11661, 11662, 11673, 11677, 3487, 11681, 11684, 11687, 3496, 11689, 3499, 11691, 11692, 11694, 11699, 18612, 18614, 11734, 11735, 3550, 18616, 11744, 11752, 11755, 11757, 11762, 11766, 11767, 18621, 3578, 3579, 18622, 3582, 3595, 3597, 11790, 11798, 11800, 11805, 11807, 3622, 11814, 11818, 11821, 3636, 11828, 3638, 11832, 3645, 11841, 11843, 11846, 3655, 11847, 11851, 11853, 3662, 11855, 11859, 3671, 18640, 3679, 11877, 11882, 11888, 11889, 3698, 3699, 11907, 11911, 11915, 3726, 18651, 11920, 18652, 11924, 11925, 11929, 18654, 11934, 11940, 11942, 11943, 3755, 11949, 11957, 3766, 3772, 11967, 3790, 11983, 11984, 3793, 11989, 11990, 11991, 11992, 3801, 11999, 3808, 12003, 17040, 3822, 17042, 3824, 12019, 3828, 17043, 3835, 12029, 3838, 3839, 12030, 3844, 3847, 3848, 3849, 12040, 3852, 3853, 12048, 3857, 12052, 12053, 3864, 3869, 3872, 12066, 12074, 3883, 3887, 12084, 12085, 3895, 12089, 3899, 12093, 3903, 3904, 12095, 3906, 3907, 12097, 12100, 12101, 12102, 3912, 12108, 3922, 3923, 3924, 3925, 3930, 3933, 12125, 12131, 12133, 12136, 12140, 12142, 12149, 12150, 12151, 12156, 12158, 12159, 12161, 12162, 12167, 12175, 3984, 12176, 12177, 12178, 12179, 3989, 3990, 12181, 12182, 12184, 12186, 12187, 3996, 12188, 12189, 12192, 12198, 4010, 4012, 4014, 12208, 12210, 12211, 12217, 4026, 12223, 12224, 12225, 4034, 12227, 12230, 12232, 12233, 4042, 12234, 12236, 12238, 12240, 12241, 12242, 4053, 12245, 12247, 12248, 12250, 12251, 12252, 12253, 12257, 12258, 12261, 4070, 4071, 4072, 12262, 12263, 12264, 4076, 12265, 4078, 12266, 12267, 12269, 12270, 12271, 12272, 12277, 12278, 12280, 12281, 12286, 4098, 12290, 12294, 12313, 12317, 4128, 12320, 12321, 12324, 12326, 12327, 12328, 12331, 4141, 12333, 4146, 12339, 12341, 4150, 4152, 4158, 12350, 12353, 4175, 4176, 12368, 12371, 4185, 4186, 12377, 12378, 12380, 12381, 12382, 4192, 12383, 4195, 4197, 12390, 4200, 12393, 4206, 4210, 12406, 4215, 12407, 12409, 4220, 12412, 12416, 12417, 12418, 12420, 12422, 12423, 12425, 12426, 4235, 12427, 12428, 12431, 12432, 4244, 12438, 4248, 12440, 12445, 4256, 12452, 12459, 12460, 12463, 12464, 12465, 4274, 12466, 12467, 12469, 4279, 12472, 4282, 12474, 4288, 12483, 4293, 12486, 12488, 12489, 12490, 12491, 12497, 12498, 12500, 12501, 12503, 12513, 12514, 12517, 12520, 12521, 12524, 12525, 4338, 12530, 4345, 4347, 12544, 12546, 12549, 4362, 12554, 4364, 12556, 12557, 12558, 12560, 4370, 12562, 4374, 12568, 12569, 12571, 4381, 12576, 12578, 12580, 12584, 12589, 12590, 12592, 4403, 4404, 12595, 12597, 12598, 4412, 12606, 12607, 4421, 4425, 4429, 4431, 12624, 4433, 4441, 4445, 12641, 4450, 4453, 4454, 12646, 12649, 12650, 12652, 4461, 4462, 4463, 12653, 12654, 12655, 12660, 4470, 4471, 4473, 12665, 12666, 12667, 4480, 12672, 12673, 4484, 12677, 4486, 12678, 12697, 12698, 12699, 12700, 12704, 12708, 4518, 4519, 12712, 4523, 4525, 4527, 12719, 4534, 4537, 12729, 12732, 12734, 12737, 4546, 4547, 12741, 12743, 12748, 12749, 12756, 12757, 12758, 12760, 12764, 12767, 4577, 4578, 4579, 12770, 12775, 4584, 4588, 12781, 12785, 4594, 4597, 12790, 4602, 4606, 4614, 12806, 12813, 12815, 4624, 12818, 12819, 4635, 4640, 4642, 4643, 4644, 4646, 12841, 4650, 12843, 12844, 4653, 4654, 4655, 4656, 4657, 4658, 4659, 4660, 12845, 12848, 12849, 4664, 4665, 12850, 12851, 12852, 12853, 12854, 12855, 12856, 12857, 12859, 12861, 12862, 12864, 12865, 12869, 12871, 12872, 12874, 12875, 4685, 12877, 12880, 4689, 12881, 12882, 12883, 4693, 4694, 12884, 12887, 12888, 4698, 12889, 4722, 12919, 12929, 4743, 4744, 12937, 12938, 4748, 4749, 12940, 4752, 12944, 4754, 4755, 4757, 4760, 12954, 4765, 12961, 12967, 4776, 12968, 12969, 12971, 12972, 12974, 12982, 12986, 12988, 4797, 4798, 12995, 4806, 4808, 13005, 13006, 4816, 4824, 13021, 13027, 13029, 4838, 13031, 4840, 13032, 4843, 4851, 4857, 13049, 4864, 13057, 13058, 13059, 13060, 4870, 13067, 13071, 4881, 4882, 13073, 13076, 4885, 4886, 4889, 4892, 4893, 13090, 4900, 13093, 4903, 4904, 13095, 4907, 4908, 13101, 4913, 13109, 13110, 13111, 13113, 13114, 13117, 4926, 13120, 13124, 13125, 4941, 4942, 13140, 13141, 4950, 13142, 13143, 4956, 4960, 4961, 13153, 4963, 4964, 4966, 4968, 13163, 4973, 13166, 4976, 13172, 13175, 13181, 13193, 5002, 13195, 5007, 13200, 5009, 5012, 13205, 5019, 5021, 5022, 5023, 5024, 5025, 13216, 13220, 13222, 5033, 13229, 13230, 13233, 13237, 13239, 5051, 13243, 13245, 13248, 13249, 13250, 13252, 13255, 13259, 13261, 13262, 13263, 13264, 5085, 5086, 13277, 13278, 13280, 13281, 13284, 13285, 5096, 13293, 13295, 13297, 13299, 13300, 13302, 13305, 5121, 5128, 5130, 5131, 13322, 5133, 13323, 5136, 5138, 5142, 13334, 5145, 13346, 13348, 13349, 5158, 13355, 13366, 13367, 5177, 13370, 13373, 13374, 13376, 13379, 13380, 13383, 13384, 13388, 13391, 5207, 13400, 5213, 5214, 13410, 5220, 13412, 5225, 5227, 13424, 13436, 13447, 13449, 5273, 5274, 5281, 5283, 13478, 5289, 5290, 5291, 5293, 13491, 5300, 5308, 5312, 5315, 5318, 5320, 5321, 13512, 13513, 13515, 13518, 5330, 5331, 5334, 13527, 5339, 5344, 13537, 13538, 5349, 5350, 13542, 5352, 5355, 13547, 13552, 5362, 13554, 5364, 13557, 13560, 5369, 13561, 5371, 5372, 13562, 5374, 13564, 5376, 5377, 5378, 13565, 5380, 5384, 5387, 5388, 13580, 13584, 5393, 5395, 5396, 5398, 5400, 5402, 5403, 5404, 5405, 5406, 5408, 13601, 13614, 13615, 13617, 13620, 13629, 5438, 13636, 5445, 13639, 5449, 5450, 13643, 13644, 13647, 13648, 5457, 5461, 13653, 5464, 13656, 5468, 5469, 13665, 5477, 5479, 13673, 5482, 13675, 13677, 13679, 13682, 13693, 13694, 13695, 13696, 13697, 5506, 5512, 5513, 5520, 13715, 13718, 13723, 5533, 13725, 13728, 13729, 5541, 5543, 13740, 13741, 5551, 5552, 5556, 5557, 13750, 13751, 13753, 5564, 5566, 13758, 5570, 13763, 5572, 13764, 13767, 5576, 5577, 5578, 13768, 13769, 13770, 13771, 13772, 13773, 13774, 13777, 5587, 13778, 5589, 13780, 13782, 5595, 5596, 13790, 13791, 5601, 13794, 13796, 13798, 5607, 13799, 13801, 13803, 5613, 13805, 13806, 13807, 13811, 5622, 5624, 5633, 5642, 5646, 5647, 5648, 13850, 13851, 13852, 13853, 5663, 13855, 13856, 13860, 5669, 13863, 13864, 13865, 13866, 13867, 13868, 13869, 5679, 5680, 13873, 13876, 5685, 13881, 13882, 13883, 13884, 13885, 13889, 13902, 5712, 13905, 13906, 13907, 13908, 5717, 13909, 13911, 13912, 13914, 5723, 5725, 5727, 13921, 13922, 13925, 5734, 13927, 13928, 13931, 13933, 5751, 13946, 5755, 5756, 13949, 5758, 13952, 5761, 5763, 5764, 5765, 13955, 5771, 5773, 5776, 13968, 13986, 5798, 13990, 13992, 14000, 14004, 14006, 14007, 5816, 14008, 14009, 14010, 5821, 14017, 5828, 14022, 14025, 5837, 14030, 5840, 14034, 5843, 14036, 14038, 14039, 14041, 5851, 14045, 14046, 5855, 5856, 5857, 5858, 5859, 14047, 14048, 5862, 5863, 14049, 14054, 5869, 5870, 14062, 5872, 14064, 14068, 14070, 5881, 5884, 14076, 5888, 14082, 14083, 14090, 5909, 5910, 5915, 5916, 14108, 5919, 14112, 14113, 14118, 5930, 5931, 5935, 5941, 14136, 14137, 5946, 14146, 14150, 5959, 14153, 14155, 5965, 14158, 14161, 14164, 5974, 14166, 14167, 5977, 14168, 5979, 14171, 14172, 14173, 14174, 14176, 14177, 5986, 14178, 14179, 5990, 5991, 14182, 5993, 14186, 14187, 5996, 5997, 14188, 5999, 14190, 6001, 6002, 6003, 14191, 6005, 14197, 14199, 14202, 14205, 14206, 6019, 14211, 6021, 14213, 14216, 6028, 14220, 14223, 14224, 6033, 14226, 6036, 14228, 14229, 14231, 14234, 14242, 14243, 14244, 14253, 6062, 6063, 14255, 6066, 14259, 6068, 14262, 6071, 6072, 14263, 14264, 14268, 6078, 6079, 6082, 6083, 6084, 6085, 6088, 14280, 6090, 6091, 6092, 6094, 6095, 6099, 6100, 6101, 6103, 6104, 6105, 6108, 6109, 6110, 14302, 6113, 6114, 14307, 6118, 14311, 14312, 14313, 14314, 14316, 14320, 14321, 14322, 14326, 6135, 14327, 14328, 14330, 14331, 14332, 14339, 14342, 14345, 6157, 14351, 14352, 14355, 14357, 14360, 6170, 6171, 14362, 14364, 6174, 14365, 14386, 14387, 14388, 14390, 14397, 14399, 6208, 6212, 6216, 6218, 6220, 6234, 6238, 6239, 6242, 6243, 14441, 6251, 14445, 14446, 6255, 14447, 14451, 14452, 6277, 6279, 14471, 6281, 14472, 14475, 6285, 14477, 14482, 14484, 14495, 14496, 14497, 6310, 14503, 14504, 6314, 14506, 14507, 6320, 14512, 14514, 6326, 6327, 6328, 14519, 14521, 6332, 6338, 14531, 14535, 14539, 14541, 14543, 6352, 6354, 14547, 6356, 6358, 14550, 14551, 14555, 14556, 6366, 6369, 14563, 14565, 6383, 14577, 6386, 14582, 14586, 14592, 14596, 14602, 14603, 14604, 14605, 14606, 14610, 6421, 6428, 6432, 6433, 14626, 6437, 6438, 14630, 14635, 14637, 14639, 6449, 14642, 6455, 14653, 6462, 6464, 6467, 6468, 6470, 6471, 14664, 6474, 6476, 14671, 6481, 6482, 6483, 6484, 6485, 6486, 6487, 6488, 14674, 14675, 14679, 6492, 14681, 14686, 14689, 14694, 14695, 14696, 14697, 14698, 6508, 14701, 6511, 14703, 6513, 14704, 14705, 14708, 6519, 6525, 6530, 14725, 6535, 14729, 6538, 14732, 14737, 14741, 6555, 6557, 6561, 14759, 14763, 14767, 14769, 14772, 6584, 14776, 14777, 6587, 6589, 6590, 14781, 14782, 14784, 14785, 6595, 14788, 14789, 6599, 6605, 14799, 14800, 6609, 6610, 6611, 14804, 14806, 6617, 6624, 6625, 6635, 14830, 14833, 6643, 6644, 6645, 14835, 14836, 14842, 14844, 6656, 6664, 6669, 14863, 6672, 6674, 14872, 6682, 6683, 6684, 6686, 6691, 14883, 14887, 14893, 14899, 14900, 6709, 14903, 14904, 14907, 6716, 14908, 14909, 14910, 6720, 14912, 14914, 6723, 14916, 14917, 14918, 6729, 14921, 14927, 14929, 6738, 14935, 6744, 14939, 14940, 6749, 6751, 6754, 6767, 6775, 14972, 14975, 14981, 14982, 14983, 6793, 14985, 14990, 14993, 14996, 14997, 6807, 14999, 15001, 15002, 15003, 6813, 15005, 15007, 15009, 15010, 15013, 6822, 15014, 15015, 15017, 6826, 15021, 15024, 15029, 15030, 6839, 6840, 15031, 15032, 6849, 15041, 15042, 6856, 15048, 15051, 15052, 6863, 6864, 15057, 6868, 15060, 15061, 15066, 15070, 6879, 15073, 15076, 15077, 15078, 15079, 15080, 15081, 15084, 15092, 15093, 15096, 15098, 15099, 6912, 15104, 15106, 6917, 6918, 15110, 15111, 6921, 15112, 15116, 6925, 15118, 6927, 15120, 15121, 6932, 6933, 6934, 15128, 6937, 6942, 6943, 15136, 15138, 15139, 6952, 6954, 15147, 6956, 15148, 15152, 15153, 15154, 15155, 6964, 6965, 15156, 6968, 15165, 6974, 6976, 15168, 15170, 6984, 6985, 6988, 6989, 6993, 15185, 15186, 15193, 15195, 15197, 15199, 15207, 15211, 15212, 15217, 7026, 7028, 15223, 7033, 7034, 15226, 7036, 15227, 15228, 15230, 15233, 15234, 15235, 15239, 15242, 15243, 15244, 15248, 7063, 15257, 7072, 15268, 15270, 7083, 7087, 7089, 7092, 7095, 7102, 15304, 15306, 15312, 15319, 15323, 7132, 7134, 7135, 15328, 15330, 7141, 15336, 15337, 7149, 15343, 15346, 15348, 15349, 15350, 15351, 15352, 7161, 7162, 15353, 15357, 7170, 7171, 7173, 7174, 15366, 7176, 15369, 15372, 7181, 15373, 15374, 7184, 15380, 15381, 15382, 15383, 7192, 15384, 7195, 7199, 7200, 7202, 15395, 15396, 15398, 15400, 7209, 15401, 15402, 15404, 15408, 15409, 15411, 15412, 15413, 7222, 15417, 7226, 7230, 7232, 7236, 7240, 15434, 7243, 7244, 15435, 7246, 15438, 15439, 15442, 7255, 7257, 15455, 15458, 15459, 7269, 7270, 15462, 15467, 15468, 15471, 7280, 7282, 15474, 7284, 15475, 15478, 15479, 15480, 7299, 7300, 7303, 7304, 7305, 15496, 15497, 15499, 15500, 7310, 15501, 15503, 7313, 7314, 15505, 15508, 15509, 15510, 15514, 15515, 15517, 15519, 7330, 7335, 7338, 7339, 15530, 15536, 7365, 7367, 7369, 15565, 15570, 7381, 15573, 15576, 7385, 15579, 15580, 7389, 15581, 7392, 7393, 7394, 15585, 15588, 15589, 15590, 7399, 7400, 7401, 7402, 7403, 15594, 7408, 7409, 15604, 15605, 15609, 17879, 15613, 15615, 15619, 15620, 15625, 7434, 15628, 15630, 15632, 15634, 7443, 7451, 15644, 15650, 7459, 7460, 15653, 7462, 7464, 7466, 15658, 15661, 15664, 7477, 7478, 15669, 15673, 7482, 7483, 15674, 7486, 7488, 7489, 7491, 15684, 15685, 7495, 15689, 7499, 15692, 15693, 15695, 7504, 15698, 15701, 15702, 15703, 15705, 15706, 15711, 15712, 15715, 15716, 15718, 15719, 15721, 15722, 15725, 15727, 7540, 15739, 15740, 7553, 7568, 15762, 7573, 7576, 15770, 7585, 15779, 7589, 7593, 15788, 15789, 15790, 7599, 7600, 15794, 7605, 7606, 7608, 7610, 15804, 7614, 15806, 15807, 7617, 15810, 7621, 7622, 15814, 7624, 15819, 15822, 15823, 15824, 15827, 15830, 15831, 15833, 15836, 7647, 7652, 15845, 15847, 15848, 7657, 7658, 15849, 15850, 7664, 7666, 15858, 15859, 15861, 7676, 15868, 15872, 7682, 15874, 7684, 15877, 15879, 15884, 15885, 15886, 15887, 15888, 15891, 7702, 15895, 7705, 15898, 15901, 7712, 15906, 7715, 7716, 15908, 7718, 7719, 7720, 15909, 15911, 15921, 15924, 7733, 15926, 7735, 7736, 15928, 15929, 7739, 15930, 15931, 7746, 15950, 15951, 15953, 15956, 15958, 15959, 15960, 15969, 15970, 7779, 15976, 15977, 15980, 15983, 15988, 7807, 16001, 16004, 16005, 16019, 16020, 7839, 7842, 16034, 7844, 7847, 16040, 16041, 7850, 16042, 7852, 7853, 16044, 16045, 7856, 16047, 7858, 16058, 7867, 7873, 16065, 7875, 16066, 16070, 16071, 16072, 16073, 16074, 16077, 16078, 16080, 16081, 16082, 16083, 16085, 16088, 16091, 16092, 7910, 16104, 16115, 16119, 16120, 16126, 7936, 16128, 7939, 16131, 7942, 16135, 7948, 16140, 7950, 7952, 7953, 7954, 16146, 16147, 7957, 16149, 16153, 16154, 7963, 7964, 7965, 7966, 7967, 7968, 16155, 7970, 7971, 16157, 7973, 7974, 7975, 16168, 7978, 16171, 16173, 16174, 7985, 7986, 16178, 7988, 7989, 7990, 16180, 7992, 7993, 17871, 7995, 7996, 7997, 7998, 7999, 16189, 8004, 8005, 8006, 8007, 8008, 8015, 16210, 8021, 8022, 8025, 16217, 8028, 8031, 8032, 8034, 8035, 8036, 8037, 16229, 8039, 8040, 8041, 16231, 16235, 16236, 16240, 16241, 16244, 16247, 8058, 8059, 16251, 8061, 16254, 8063, 8064, 16256, 16259, 16261, 8070, 8074, 8077, 16269, 8080, 8082, 8083, 16275, 8085, 8087, 8089, 8090, 16281, 16282, 16284, 16285, 16286, 16287, 8097, 16291, 16296, 16297, 16298, 16300, 16304, 8116, 8117, 16312, 8125, 8127, 8128, 8129, 16326, 8142, 8145, 16337, 16338, 8148, 16339, 16341, 16343, 16346, 16347, 8156, 16348, 16356, 16357, 8167, 16360, 8170, 16362, 8174, 16366, 8176, 8177, 16371, 8180, 16372, 8183, 16376, 16377, 8186, 8187, 8189, 16382, 16383]\n"
     ]
    },
    {
     "name": "stderr",
     "output_type": "stream",
     "text": [
      "c:\\Users\\vrajagopalan\\OneDrive - IESEG\\Desktop\\Recommendation\\Group_Assignment\\IESEGRecSys\\model.py:72: RuntimeWarning: invalid value encountered in true_divide\n",
      "  self.prediction = (np.matmul(df_pivot.values, self.matrixNN) / denom) + self.user_avg[:,np.newaxis]\n"
     ]
    }
   ],
   "source": [
    "# init content-based\n",
    "cb1 = ContentBased(NN=10)\n",
    "\n",
    "# fit on content\n",
    "cb1.fit(aggregate_2)\n",
    "cb1.fit_ratings(df_train)\n",
    "\n",
    "# predict test ratings\n",
    "cb_pred_2 = cb1.test(df_test)"
   ]
  },
  {
   "cell_type": "code",
   "execution_count": null,
   "metadata": {},
   "outputs": [
    {
     "data": {
      "text/html": [
       "<div>\n",
       "<style scoped>\n",
       "    .dataframe tbody tr th:only-of-type {\n",
       "        vertical-align: middle;\n",
       "    }\n",
       "\n",
       "    .dataframe tbody tr th {\n",
       "        vertical-align: top;\n",
       "    }\n",
       "\n",
       "    .dataframe thead th {\n",
       "        text-align: right;\n",
       "    }\n",
       "</style>\n",
       "<table border=\"1\" class=\"dataframe\">\n",
       "  <thead>\n",
       "    <tr style=\"text-align: right;\">\n",
       "      <th></th>\n",
       "      <th>CB_FREQ</th>\n",
       "      <th>CB_TDIDF</th>\n",
       "      <th>IB</th>\n",
       "      <th>UB</th>\n",
       "      <th>CLU</th>\n",
       "      <th>SVD</th>\n",
       "      <th>ALS</th>\n",
       "    </tr>\n",
       "  </thead>\n",
       "  <tbody>\n",
       "    <tr>\n",
       "      <th>RMSE</th>\n",
       "      <td>1.002499</td>\n",
       "      <td>1.061201</td>\n",
       "      <td>1.155835</td>\n",
       "      <td>1.496085</td>\n",
       "      <td>1.114257</td>\n",
       "      <td>1.421003</td>\n",
       "      <td>0.940659</td>\n",
       "    </tr>\n",
       "    <tr>\n",
       "      <th>MAE</th>\n",
       "      <td>0.728852</td>\n",
       "      <td>0.767399</td>\n",
       "      <td>0.829390</td>\n",
       "      <td>1.128415</td>\n",
       "      <td>0.820945</td>\n",
       "      <td>1.004436</td>\n",
       "      <td>0.713441</td>\n",
       "    </tr>\n",
       "    <tr>\n",
       "      <th>Recall</th>\n",
       "      <td>0.950623</td>\n",
       "      <td>0.953873</td>\n",
       "      <td>0.955123</td>\n",
       "      <td>0.994916</td>\n",
       "      <td>0.925705</td>\n",
       "      <td>0.832660</td>\n",
       "      <td>0.975791</td>\n",
       "    </tr>\n",
       "    <tr>\n",
       "      <th>Precision</th>\n",
       "      <td>0.950267</td>\n",
       "      <td>0.940703</td>\n",
       "      <td>0.922934</td>\n",
       "      <td>0.867718</td>\n",
       "      <td>0.939723</td>\n",
       "      <td>0.942417</td>\n",
       "      <td>0.950985</td>\n",
       "    </tr>\n",
       "    <tr>\n",
       "      <th>F1</th>\n",
       "      <td>0.950445</td>\n",
       "      <td>0.947242</td>\n",
       "      <td>0.938753</td>\n",
       "      <td>0.926974</td>\n",
       "      <td>0.932662</td>\n",
       "      <td>0.884145</td>\n",
       "      <td>0.963228</td>\n",
       "    </tr>\n",
       "    <tr>\n",
       "      <th>NDCG@5</th>\n",
       "      <td>0.866111</td>\n",
       "      <td>0.864106</td>\n",
       "      <td>0.843581</td>\n",
       "      <td>0.856282</td>\n",
       "      <td>0.852969</td>\n",
       "      <td>0.859563</td>\n",
       "      <td>0.855251</td>\n",
       "    </tr>\n",
       "  </tbody>\n",
       "</table>\n",
       "</div>"
      ],
      "text/plain": [
       "            CB_FREQ  CB_TDIDF        IB        UB       CLU       SVD  \\\n",
       "RMSE       1.002499  1.061201  1.155835  1.496085  1.114257  1.421003   \n",
       "MAE        0.728852  0.767399  0.829390  1.128415  0.820945  1.004436   \n",
       "Recall     0.950623  0.953873  0.955123  0.994916  0.925705  0.832660   \n",
       "Precision  0.950267  0.940703  0.922934  0.867718  0.939723  0.942417   \n",
       "F1         0.950445  0.947242  0.938753  0.926974  0.932662  0.884145   \n",
       "NDCG@5     0.866111  0.864106  0.843581  0.856282  0.852969  0.859563   \n",
       "\n",
       "                ALS  \n",
       "RMSE       0.940659  \n",
       "MAE        0.713441  \n",
       "Recall     0.975791  \n",
       "Precision  0.950985  \n",
       "F1         0.963228  \n",
       "NDCG@5     0.855251  "
      ]
     },
     "execution_count": 200,
     "metadata": {},
     "output_type": "execute_result"
    }
   ],
   "source": [
    "overview = pd.concat([eval.evaluate(cb_pred_2, topn=5, rating_cutoff=5), overview], axis = 1)\n",
    "overview.rename(columns={'value':'CB_FREQ'}, inplace = True)\n",
    "overview"
   ]
  },
  {
   "cell_type": "markdown",
   "metadata": {},
   "source": [
    "And we see that for frequency based content based model we do get a better RMSE as compared to the CB_TDIF model"
   ]
  },
  {
   "cell_type": "markdown",
   "metadata": {},
   "source": [
    "We will now try to fit the content based model for recency"
   ]
  },
  {
   "cell_type": "code",
   "execution_count": null,
   "metadata": {},
   "outputs": [
    {
     "name": "stdout",
     "output_type": "stream",
     "text": [
      "Warning 3929 items are not included in content data: [16385, 8194, 16387, 8197, 16389, 8200, 16393, 8203, 8204, 8206, 8207, 8209, 16404, 8213, 16408, 16410, 8220, 16417, 8227, 8228, 16419, 16420, 16423, 16425, 16426, 8236, 16428, 8238, 16429, 8240, 8242, 16439, 16443, 16444, 16445, 16451, 16455, 16456, 16457, 16458, 16461, 16465, 16467, 8282, 8284, 8285, 8289, 105, 16490, 109, 110, 111, 112, 8303, 8306, 115, 117, 118, 119, 123, 124, 125, 8316, 127, 8320, 129, 16507, 131, 16510, 133, 16513, 135, 136, 8327, 8330, 16514, 8332, 16518, 16519, 8335, 144, 145, 8337, 147, 8338, 8339, 150, 8342, 8344, 16530, 16535, 8352, 8355, 8357, 169, 177, 16561, 8373, 8374, 16565, 16569, 8379, 16572, 16573, 16576, 8385, 16580, 8389, 16583, 16584, 16585, 8394, 16588, 16590, 16592, 16594, 16596, 16598, 16599, 16601, 8410, 8411, 8413, 8414, 16605, 224, 8416, 16613, 16615, 8424, 16618, 8427, 8428, 16621, 8430, 16625, 242, 8434, 16631, 8440, 16632, 8442, 16635, 16636, 254, 8447, 8448, 8449, 8450, 8451, 8452, 16638, 16642, 16643, 8456, 16645, 16648, 16651, 8460, 16654, 8463, 16655, 16656, 274, 16658, 8469, 281, 282, 8475, 8477, 8478, 16669, 8480, 16670, 16672, 16675, 8484, 8485, 8486, 8487, 16680, 8489, 8490, 16681, 16682, 16683, 16684, 16687, 8496, 16688, 16689, 16690, 16693, 8505, 315, 8507, 16700, 16702, 8518, 8519, 16710, 8521, 8522, 16715, 8525, 16718, 8527, 336, 337, 16719, 8531, 8532, 341, 8534, 8535, 8536, 16720, 16722, 8539, 8540, 8541, 8542, 16726, 16728, 16733, 16736, 16738, 16739, 16741, 16742, 363, 16747, 365, 16748, 16750, 368, 16755, 16757, 16758, 16759, 8568, 16761, 16764, 8577, 8578, 8579, 16775, 8585, 16777, 16780, 16781, 16782, 16783, 16785, 16789, 16793, 8602, 411, 8603, 8604, 8606, 16795, 16796, 16798, 16799, 16802, 16803, 8614, 16806, 8616, 8618, 8619, 8620, 8623, 8624, 8630, 8632, 8634, 8636, 8639, 8643, 8644, 16836, 16838, 16844, 8653, 8654, 16845, 16847, 16848, 16849, 16375, 16850, 8661, 8662, 16851, 16854, 473, 16856, 16865, 483, 16867, 16869, 16870, 16872, 16873, 16381, 16881, 16882, 8694, 16887, 16891, 16893, 16896, 16901, 16903, 16907, 16912, 8721, 16914, 16920, 16921, 16922, 16924, 8733, 16925, 16930, 16932, 16933, 16934, 551, 8744, 8745, 16935, 555, 556, 16936, 558, 8751, 16937, 8753, 16938, 16939, 16948, 16951, 568, 8762, 16954, 16955, 8765, 16958, 16959, 16960, 577, 8772, 16966, 8776, 16968, 586, 587, 588, 8778, 8780, 16969, 8784, 8785, 8786, 8787, 16974, 16975, 598, 8791, 8792, 16976, 8798, 8799, 8814, 17007, 8817, 626, 8819, 628, 17012, 17015, 8824, 8825, 17016, 17017, 17018, 17020, 17022, 639, 17024, 8833, 17025, 17026, 17027, 17028, 17029, 17031, 17032, 8841, 8842, 651, 17033, 653, 654, 8845, 17034, 8849, 8850, 8851, 17035, 17036, 17039, 663, 664, 665, 666, 8855, 8858, 8860, 8861, 17047, 673, 8869, 17061, 17066, 17068, 17071, 17072, 17074, 8885, 695, 8889, 8891, 8893, 17085, 8895, 17086, 8897, 8898, 8899, 8900, 17089, 8902, 8903, 17091, 17099, 8909, 17101, 8911, 8913, 8914, 8917, 729, 8927, 736, 17122, 17126, 17129, 17138, 8948, 17146, 8955, 8956, 765, 8958, 17147, 17151, 17152, 17154, 17155, 773, 8967, 17159, 8969, 8970, 17160, 8972, 8974, 8978, 8980, 8981, 8986, 8987, 8997, 17193, 17194, 17195, 9004, 17197, 9006, 17201, 9012, 17204, 17206, 17207, 9017, 17210, 9019, 9022, 9023, 9024, 9025, 17220, 9029, 838, 9031, 17224, 9035, 9038, 848, 9040, 9041, 17237, 9047, 17240, 17241, 17242, 17243, 17244, 17246, 17251, 9060, 9061, 9062, 17252, 9064, 17254, 17255, 17257, 17258, 17261, 9070, 9072, 9074, 9075, 9078, 17271, 9080, 17277, 9088, 17280, 9090, 9092, 9094, 17288, 9097, 17290, 9100, 9106, 9107, 916, 17298, 9110, 9111, 9112, 9113, 9114, 17299, 17300, 17302, 17303, 9119, 9121, 17313, 933, 17321, 9131, 9136, 9142, 17334, 9145, 9149, 9150, 17343, 9153, 17346, 9158, 9159, 17353, 17354, 17355, 9165, 9168, 9171, 17364, 9173, 9174, 9175, 9176, 9177, 17369, 9179, 9180, 9181, 9182, 17376, 9185, 9186, 9189, 9191, 9194, 9202, 9210, 17402, 17403, 17406, 17407, 17408, 17409, 9218, 9219, 9220, 9221, 17410, 17415, 9224, 17418, 17421, 17422, 9231, 17423, 17425, 9235, 17429, 17430, 9239, 17431, 9243, 9244, 9247, 9248, 17439, 17441, 17442, 9252, 17444, 17445, 17446, 17447, 9257, 17448, 17449, 17452, 17455, 9264, 17457, 17459, 17460, 9269, 9270, 17461, 17462, 9273, 1082, 9275, 9276, 9277, 17463, 17464, 9280, 9281, 9283, 17475, 17476, 17477, 18128, 17481, 17487, 9304, 17497, 9306, 17499, 9309, 9311, 9312, 9314, 9315, 9316, 17506, 1129, 9323, 9326, 9327, 9328, 1144, 9339, 17533, 9345, 17540, 9349, 17543, 17544, 17547, 17548, 1165, 17550, 17551, 17554, 17555, 16515, 17556, 17557, 9367, 17558, 9373, 9374, 9377, 9378, 17573, 17574, 9385, 9386, 17578, 9388, 16520, 9390, 1199, 17579, 9393, 17581, 17582, 9396, 17585, 9398, 9399, 17586, 1209, 17588, 1212, 9405, 9406, 9407, 9408, 9409, 9411, 17605, 17607, 1224, 17608, 17610, 17611, 9422, 17614, 17617, 9432, 17625, 17626, 9450, 1262, 17647, 1266, 1267, 1268, 17651, 17654, 9463, 1273, 17657, 9471, 17664, 9473, 17666, 1287, 1289, 1290, 17678, 17679, 17681, 17682, 9494, 17686, 9500, 9501, 9508, 9509, 17701, 9514, 17709, 9524, 9526, 9536, 17729, 9538, 17732, 9542, 9546, 17739, 9548, 17740, 17741, 17742, 1361, 17745, 17746, 17747, 17748, 9558, 1367, 9559, 17749, 17751, 17753, 17754, 17755, 17757, 17758, 17761, 17762, 17763, 9572, 9573, 9574, 17764, 17765, 17767, 17769, 17770, 9580, 17772, 17773, 1391, 17776, 1393, 17788, 9597, 9599, 17792, 9605, 17800, 17802, 17803, 17804, 17805, 17806, 17807, 9617, 9618, 9619, 17811, 17812, 9622, 17815, 17817, 9628, 1439, 1442, 9638, 1448, 9641, 17836, 1454, 17838, 17839, 17842, 17843, 9652, 9653, 17844, 17845, 9657, 1466, 17850, 17853, 9662, 1471, 1472, 1473, 9664, 9665, 1476, 17856, 1482, 1483, 1484, 9675, 17866, 17867, 1488, 17868, 1490, 9682, 17869, 17870, 1494, 1495, 1496, 9688, 1498, 9690, 17876, 9693, 17877, 9695, 9696, 17881, 17884, 17892, 9709, 9715, 17911, 17912, 9721, 9723, 9725, 9726, 9728, 9731, 9732, 9733, 9741, 17935, 9744, 17936, 17938, 17939, 1558, 17944, 17946, 9755, 1564, 9756, 17950, 9759, 9760, 17954, 9763, 17957, 1578, 17963, 17964, 17969, 1587, 9780, 17974, 17975, 9784, 17976, 1594, 9786, 9787, 9788, 1598, 9789, 9792, 17980, 17984, 17987, 17988, 17989, 17990, 1607, 9800, 9801, 17991, 9803, 17995, 9805, 9806, 17996, 17997, 9809, 17998, 18000, 9812, 9813, 18001, 9815, 1624, 1625, 9816, 18005, 18006, 18013, 18015, 1635, 1637, 18023, 18024, 18025, 18026, 1646, 1649, 1653, 9846, 9848, 1657, 1658, 9849, 9850, 1661, 9852, 9853, 9857, 1667, 9864, 18057, 1676, 18063, 18065, 18066, 18069, 9880, 18072, 18075, 1695, 9887, 1697, 9890, 1699, 9891, 18079, 18086, 18089, 9899, 18093, 18095, 18096, 18097, 9908, 18100, 9910, 18101, 18103, 18104, 1722, 9915, 18105, 18109, 9918, 18111, 18112, 9921, 18113, 18114, 9924, 1733, 1734, 9925, 18116, 18118, 18119, 18121, 18122, 1741, 1742, 9933, 18123, 18124, 18125, 18126, 1748, 1749, 1750, 1751, 9940, 1753, 18134, 9947, 18136, 9952, 18146, 18147, 18148, 18149, 18150, 18151, 1769, 18153, 18155, 18156, 18157, 9967, 1780, 9972, 18164, 18170, 18172, 9981, 9984, 9985, 9986, 18178, 9989, 9991, 18185, 9994, 9995, 18187, 9998, 18190, 18192, 10003, 18196, 18197, 10006, 10008, 10010, 10011, 10012, 10013, 10014, 10015, 18202, 18207, 18210, 18211, 18212, 10022, 10023, 18214, 10029, 1838, 18228, 18231, 1849, 10043, 10045, 18239, 18240, 10049, 10051, 10052, 1862, 18246, 10056, 18247, 18252, 1869, 10061, 10062, 18263, 10073, 10076, 18271, 18272, 18273, 18274, 18275, 18276, 10093, 18285, 18286, 10096, 18289, 18291, 18293, 18294, 10103, 10104, 10106, 10108, 10109, 1920, 10112, 18306, 18307, 10116, 10117, 18309, 10121, 1930, 18315, 1932, 10124, 18317, 18319, 18322, 1939, 10131, 18323, 18325, 10135, 10136, 10138, 10141, 10144, 18337, 18342, 10152, 10153, 10154, 18344, 18345, 18347, 18348, 18349, 18351, 18352, 18354, 18355, 10166, 18361, 18364, 10173, 18365, 18366, 10176, 18369, 18370, 10181, 18373, 18375, 10187, 18379, 10189, 10190, 18380, 10192, 18381, 18383, 18386, 10197, 2007, 10200, 10201, 18392, 18393, 2012, 10204, 10206, 18403, 18404, 18405, 18406, 10215, 10216, 10219, 10221, 10223, 18426, 18429, 10239, 10240, 10242, 18435, 18436, 10246, 2056, 2057, 2058, 10251, 2061, 10254, 2063, 10256, 18449, 10258, 18450, 10260, 10261, 18452, 10263, 2073, 10265, 10267, 10268, 2078, 10270, 18462, 10273, 10274, 10275, 10276, 10277, 18466, 10279, 10280, 10281, 2090, 18467, 18469, 18470, 18471, 18472, 10289, 2103, 10295, 2105, 2109, 2112, 10304, 2117, 2119, 2120, 2126, 18514, 10323, 10325, 10326, 18517, 18523, 2140, 2141, 10332, 10335, 10339, 10341, 10342, 2152, 10344, 18537, 10347, 10348, 10350, 2159, 10352, 10353, 10354, 2163, 10356, 10357, 18549, 10359, 18550, 2170, 10363, 10364, 10365, 18559, 10368, 2178, 10371, 18562, 2181, 10373, 10375, 10376, 10381, 2191, 18575, 18576, 18578, 10388, 2197, 18580, 2199, 18581, 18588, 10397, 10398, 2207, 2208, 18589, 18590, 18594, 18595, 2216, 18601, 18604, 2221, 18605, 10416, 2225, 10420, 16725, 2230, 10422, 2232, 2233, 2234, 2235, 10423, 2237, 2238, 10424, 2240, 2241, 10425, 2243, 10427, 2245, 10432, 10437, 2248, 10438, 2250, 10442, 10443, 10445, 18635, 2256, 2257, 2258, 10450, 10451, 2261, 2262, 10452, 10453, 10456, 10457, 10458, 10459, 18645, 18646, 10463, 18648, 18649, 2274, 2275, 10467, 10469, 10470, 10471, 18657, 18658, 10474, 2283, 2284, 2286, 2287, 18672, 18674, 2293, 2294, 2295, 2296, 18679, 18686, 18688, 10497, 10499, 18694, 10504, 10505, 18696, 2315, 10507, 18697, 10510, 18698, 2321, 2329, 18718, 10527, 10528, 10529, 10531, 10532, 10533, 18726, 18728, 18729, 10538, 10541, 10544, 10546, 2355, 10548, 10550, 2359, 18742, 18743, 10554, 18745, 2365, 2367, 2368, 2371, 10575, 10578, 2388, 10586, 10588, 10590, 2399, 2400, 2401, 10593, 2403, 2406, 10601, 2410, 2413, 10605, 10606, 2421, 2431, 10624, 10635, 10639, 10643, 10644, 10648, 2461, 10654, 10655, 10659, 10664, 2474, 2476, 10670, 10671, 10673, 2483, 2489, 2494, 10687, 10688, 10690, 2499, 2503, 2504, 2505, 10696, 2507, 10701, 2510, 10702, 10704, 10706, 2516, 2517, 10708, 10710, 10711, 10713, 10714, 10724, 10730, 10731, 10733, 10734, 10736, 2547, 2555, 10755, 2566, 10763, 10770, 10774, 10778, 10781, 2590, 10783, 2592, 10785, 10801, 10803, 2631, 10823, 2635, 10834, 10835, 10838, 2647, 10845, 10846, 10849, 10852, 10853, 10860, 10861, 10873, 10874, 10877, 2686, 10878, 10880, 10884, 10886, 2701, 2705, 10898, 2709, 10902, 10904, 2714, 2719, 2720, 2721, 10911, 10913, 10919, 2731, 10927, 10929, 10930, 10932, 10933, 2748, 10940, 10942, 2754, 2758, 10952, 2764, 10957, 2766, 10959, 2768, 2770, 10964, 2773, 10966, 2776, 2777, 10974, 2793, 10986, 10991, 2800, 10995, 10998, 2808, 11003, 2816, 11008, 2822, 2825, 2827, 2837, 2860, 2863, 11056, 2866, 2868, 2870, 2874, 2875, 2876, 11066, 2878, 11071, 2881, 2884, 2885, 11078, 2888, 2890, 2891, 11082, 11086, 2912, 2920, 2926, 11119, 2928, 11121, 11125, 11127, 2942, 11134, 11137, 11142, 11143, 2957, 11151, 2960, 11152, 11153, 2968, 11161, 11162, 11163, 11167, 2980, 11172, 11176, 2985, 11180, 2989, 2992, 11184, 2994, 2995, 2997, 2998, 11192, 3002, 3006, 3007, 11202, 3013, 11211, 3020, 3025, 11221, 3035, 3036, 11233, 3044, 11245, 3054, 11246, 11247, 11249, 3059, 3061, 11254, 11255, 3064, 3072, 11273, 11274, 11290, 3099, 11296, 11299, 11305, 11307, 11310, 11311, 11318, 11320, 11322, 11323, 11324, 11325, 11326, 11328, 3137, 11333, 11334, 3143, 3144, 11335, 3148, 3151, 3159, 11351, 3162, 3165, 3166, 3167, 3168, 11360, 3170, 3175, 11370, 3180, 3181, 3185, 11379, 11380, 11383, 11384, 11385, 11389, 11392, 11394, 11403, 11406, 11407, 11408, 11409, 11410, 11411, 11414, 11415, 11418, 11422, 11433, 11436, 11437, 11440, 3251, 11443, 11444, 11446, 11447, 3256, 11448, 11449, 3261, 3262, 3263, 3265, 11457, 11459, 3274, 11468, 3278, 11474, 3283, 3284, 11478, 11491, 11503, 3312, 11505, 11507, 11509, 3323, 3326, 11522, 11523, 11525, 11527, 3336, 3337, 11528, 11531, 3340, 3345, 11538, 11539, 11541, 3350, 11542, 11545, 3356, 3358, 3363, 3365, 11560, 3372, 11564, 11565, 11568, 11569, 11574, 11576, 3387, 3389, 3390, 11584, 3394, 11587, 3401, 11593, 11596, 3409, 11605, 11608, 11612, 11618, 11619, 11620, 11626, 11628, 11643, 11647, 11648, 3457, 16970, 3463, 11658, 11661, 11662, 11673, 11677, 3487, 11681, 11684, 11687, 3496, 11689, 3499, 11691, 11692, 11694, 11699, 18612, 18614, 11734, 11735, 3550, 18616, 11744, 11752, 11755, 11757, 11762, 11766, 11767, 18621, 3578, 3579, 18622, 3582, 3595, 3597, 11790, 11798, 11800, 11805, 11807, 3622, 11814, 11818, 11821, 3636, 11828, 3638, 11832, 3645, 11841, 11843, 11846, 3655, 11847, 11851, 11853, 3662, 11855, 11859, 3671, 18640, 3679, 11877, 11882, 11888, 11889, 3698, 3699, 11907, 11911, 11915, 3726, 18651, 11920, 18652, 11924, 11925, 11929, 18654, 11934, 11940, 11942, 11943, 3755, 11949, 11957, 3766, 3772, 11967, 3790, 11983, 11984, 3793, 11989, 11990, 11991, 11992, 3801, 11999, 3808, 12003, 17040, 3822, 17042, 3824, 12019, 3828, 17043, 3835, 12029, 3838, 3839, 12030, 3844, 3847, 3848, 3849, 12040, 3852, 3853, 12048, 3857, 12052, 12053, 3864, 3869, 3872, 12066, 12074, 3883, 3887, 12084, 12085, 3895, 12089, 3899, 12093, 3903, 3904, 12095, 3906, 3907, 12097, 12100, 12101, 12102, 3912, 12108, 3922, 3923, 3924, 3925, 3930, 3933, 12125, 12131, 12133, 12136, 12140, 12142, 12149, 12150, 12151, 12156, 12158, 12159, 12161, 12162, 12167, 12175, 3984, 12176, 12177, 12178, 12179, 3989, 3990, 12181, 12182, 12184, 12186, 12187, 3996, 12188, 12189, 12192, 12198, 4010, 4012, 4014, 12208, 12210, 12211, 12217, 4026, 12223, 12224, 12225, 4034, 12227, 12230, 12232, 12233, 4042, 12234, 12236, 12238, 12240, 12241, 12242, 4053, 12245, 12247, 12248, 12250, 12251, 12252, 12253, 12257, 12258, 12261, 4070, 4071, 4072, 12262, 12263, 12264, 4076, 12265, 4078, 12266, 12267, 12269, 12270, 12271, 12272, 12277, 12278, 12280, 12281, 12286, 4098, 12290, 12294, 12313, 12317, 4128, 12320, 12321, 12324, 12326, 12327, 12328, 12331, 4141, 12333, 4146, 12339, 12341, 4150, 4152, 4158, 12350, 12353, 4175, 4176, 12368, 12371, 4185, 4186, 12377, 12378, 12380, 12381, 12382, 4192, 12383, 4195, 4197, 12390, 4200, 12393, 4206, 4210, 12406, 4215, 12407, 12409, 4220, 12412, 12416, 12417, 12418, 12420, 12422, 12423, 12425, 12426, 4235, 12427, 12428, 12431, 12432, 4244, 12438, 4248, 12440, 12445, 4256, 12452, 12459, 12460, 12463, 12464, 12465, 4274, 12466, 12467, 12469, 4279, 12472, 4282, 12474, 4288, 12483, 4293, 12486, 12488, 12489, 12490, 12491, 12497, 12498, 12500, 12501, 12503, 12513, 12514, 12517, 12520, 12521, 12524, 12525, 4338, 12530, 4345, 4347, 12544, 12546, 12549, 4362, 12554, 4364, 12556, 12557, 12558, 12560, 4370, 12562, 4374, 12568, 12569, 12571, 4381, 12576, 12578, 12580, 12584, 12589, 12590, 12592, 4403, 4404, 12595, 12597, 12598, 4412, 12606, 12607, 4421, 4425, 4429, 4431, 12624, 4433, 4441, 4445, 12641, 4450, 4453, 4454, 12646, 12649, 12650, 12652, 4461, 4462, 4463, 12653, 12654, 12655, 12660, 4470, 4471, 4473, 12665, 12666, 12667, 4480, 12672, 12673, 4484, 12677, 4486, 12678, 12697, 12698, 12699, 12700, 12704, 12708, 4518, 4519, 12712, 4523, 4525, 4527, 12719, 4534, 4537, 12729, 12732, 12734, 12737, 4546, 4547, 12741, 12743, 12748, 12749, 12756, 12757, 12758, 12760, 12764, 12767, 4577, 4578, 4579, 12770, 12775, 4584, 4588, 12781, 12785, 4594, 4597, 12790, 4602, 4606, 4614, 12806, 12813, 12815, 4624, 12818, 12819, 4635, 4640, 4642, 4643, 4644, 4646, 12841, 4650, 12843, 12844, 4653, 4654, 4655, 4656, 4657, 4658, 4659, 4660, 12845, 12848, 12849, 4664, 4665, 12850, 12851, 12852, 12853, 12854, 12855, 12856, 12857, 12859, 12861, 12862, 12864, 12865, 12869, 12871, 12872, 12874, 12875, 4685, 12877, 12880, 4689, 12881, 12882, 12883, 4693, 4694, 12884, 12887, 12888, 4698, 12889, 4722, 12919, 12929, 4743, 4744, 12937, 12938, 4748, 4749, 12940, 4752, 12944, 4754, 4755, 4757, 4760, 12954, 4765, 12961, 12967, 4776, 12968, 12969, 12971, 12972, 12974, 12982, 12986, 12988, 4797, 4798, 12995, 4806, 4808, 13005, 13006, 4816, 4824, 13021, 13027, 13029, 4838, 13031, 4840, 13032, 4843, 4851, 4857, 13049, 4864, 13057, 13058, 13059, 13060, 4870, 13067, 13071, 4881, 4882, 13073, 13076, 4885, 4886, 4889, 4892, 4893, 13090, 4900, 13093, 4903, 4904, 13095, 4907, 4908, 13101, 4913, 13109, 13110, 13111, 13113, 13114, 13117, 4926, 13120, 13124, 13125, 4941, 4942, 13140, 13141, 4950, 13142, 13143, 4956, 4960, 4961, 13153, 4963, 4964, 4966, 4968, 13163, 4973, 13166, 4976, 13172, 13175, 13181, 13193, 5002, 13195, 5007, 13200, 5009, 5012, 13205, 5019, 5021, 5022, 5023, 5024, 5025, 13216, 13220, 13222, 5033, 13229, 13230, 13233, 13237, 13239, 5051, 13243, 13245, 13248, 13249, 13250, 13252, 13255, 13259, 13261, 13262, 13263, 13264, 5085, 5086, 13277, 13278, 13280, 13281, 13284, 13285, 5096, 13293, 13295, 13297, 13299, 13300, 13302, 13305, 5121, 5128, 5130, 5131, 13322, 5133, 13323, 5136, 5138, 5142, 13334, 5145, 13346, 13348, 13349, 5158, 13355, 13366, 13367, 5177, 13370, 13373, 13374, 13376, 13379, 13380, 13383, 13384, 13388, 13391, 5207, 13400, 5213, 5214, 13410, 5220, 13412, 5225, 5227, 13424, 13436, 13447, 13449, 5273, 5274, 5281, 5283, 13478, 5289, 5290, 5291, 5293, 13491, 5300, 5308, 5312, 5315, 5318, 5320, 5321, 13512, 13513, 13515, 13518, 5330, 5331, 5334, 13527, 5339, 5344, 13537, 13538, 5349, 5350, 13542, 5352, 5355, 13547, 13552, 5362, 13554, 5364, 13557, 13560, 5369, 13561, 5371, 5372, 13562, 5374, 13564, 5376, 5377, 5378, 13565, 5380, 5384, 5387, 5388, 13580, 13584, 5393, 5395, 5396, 5398, 5400, 5402, 5403, 5404, 5405, 5406, 5408, 13601, 13614, 13615, 13617, 13620, 13629, 5438, 13636, 5445, 13639, 5449, 5450, 13643, 13644, 13647, 13648, 5457, 5461, 13653, 5464, 13656, 5468, 5469, 13665, 5477, 5479, 13673, 5482, 13675, 13677, 13679, 13682, 13693, 13694, 13695, 13696, 13697, 5506, 5512, 5513, 5520, 13715, 13718, 13723, 5533, 13725, 13728, 13729, 5541, 5543, 13740, 13741, 5551, 5552, 5556, 5557, 13750, 13751, 13753, 5564, 5566, 13758, 5570, 13763, 5572, 13764, 13767, 5576, 5577, 5578, 13768, 13769, 13770, 13771, 13772, 13773, 13774, 13777, 5587, 13778, 5589, 13780, 13782, 5595, 5596, 13790, 13791, 5601, 13794, 13796, 13798, 5607, 13799, 13801, 13803, 5613, 13805, 13806, 13807, 13811, 5622, 5624, 5633, 5642, 5646, 5647, 5648, 13850, 13851, 13852, 13853, 5663, 13855, 13856, 13860, 5669, 13863, 13864, 13865, 13866, 13867, 13868, 13869, 5679, 5680, 13873, 13876, 5685, 13881, 13882, 13883, 13884, 13885, 13889, 13902, 5712, 13905, 13906, 13907, 13908, 5717, 13909, 13911, 13912, 13914, 5723, 5725, 5727, 13921, 13922, 13925, 5734, 13927, 13928, 13931, 13933, 5751, 13946, 5755, 5756, 13949, 5758, 13952, 5761, 5763, 5764, 5765, 13955, 5771, 5773, 5776, 13968, 13986, 5798, 13990, 13992, 14000, 14004, 14006, 14007, 5816, 14008, 14009, 14010, 5821, 14017, 5828, 14022, 14025, 5837, 14030, 5840, 14034, 5843, 14036, 14038, 14039, 14041, 5851, 14045, 14046, 5855, 5856, 5857, 5858, 5859, 14047, 14048, 5862, 5863, 14049, 14054, 5869, 5870, 14062, 5872, 14064, 14068, 14070, 5881, 5884, 14076, 5888, 14082, 14083, 14090, 5909, 5910, 5915, 5916, 14108, 5919, 14112, 14113, 14118, 5930, 5931, 5935, 5941, 14136, 14137, 5946, 14146, 14150, 5959, 14153, 14155, 5965, 14158, 14161, 14164, 5974, 14166, 14167, 5977, 14168, 5979, 14171, 14172, 14173, 14174, 14176, 14177, 5986, 14178, 14179, 5990, 5991, 14182, 5993, 14186, 14187, 5996, 5997, 14188, 5999, 14190, 6001, 6002, 6003, 14191, 6005, 14197, 14199, 14202, 14205, 14206, 6019, 14211, 6021, 14213, 14216, 6028, 14220, 14223, 14224, 6033, 14226, 6036, 14228, 14229, 14231, 14234, 14242, 14243, 14244, 14253, 6062, 6063, 14255, 6066, 14259, 6068, 14262, 6071, 6072, 14263, 14264, 14268, 6078, 6079, 6082, 6083, 6084, 6085, 6088, 14280, 6090, 6091, 6092, 6094, 6095, 6099, 6100, 6101, 6103, 6104, 6105, 6108, 6109, 6110, 14302, 6113, 6114, 14307, 6118, 14311, 14312, 14313, 14314, 14316, 14320, 14321, 14322, 14326, 6135, 14327, 14328, 14330, 14331, 14332, 14339, 14342, 14345, 6157, 14351, 14352, 14355, 14357, 14360, 6170, 6171, 14362, 14364, 6174, 14365, 14386, 14387, 14388, 14390, 14397, 14399, 6208, 6212, 6216, 6218, 6220, 6234, 6238, 6239, 6242, 6243, 14441, 6251, 14445, 14446, 6255, 14447, 14451, 14452, 6277, 6279, 14471, 6281, 14472, 14475, 6285, 14477, 14482, 14484, 14495, 14496, 14497, 6310, 14503, 14504, 6314, 14506, 14507, 6320, 14512, 14514, 6326, 6327, 6328, 14519, 14521, 6332, 6338, 14531, 14535, 14539, 14541, 14543, 6352, 6354, 14547, 6356, 6358, 14550, 14551, 14555, 14556, 6366, 6369, 14563, 14565, 6383, 14577, 6386, 14582, 14586, 14592, 14596, 14602, 14603, 14604, 14605, 14606, 14610, 6421, 6428, 6432, 6433, 14626, 6437, 6438, 14630, 14635, 14637, 14639, 6449, 14642, 6455, 14653, 6462, 6464, 6467, 6468, 6470, 6471, 14664, 6474, 6476, 14671, 6481, 6482, 6483, 6484, 6485, 6486, 6487, 6488, 14674, 14675, 14679, 6492, 14681, 14686, 14689, 14694, 14695, 14696, 14697, 14698, 6508, 14701, 6511, 14703, 6513, 14704, 14705, 14708, 6519, 6525, 6530, 14725, 6535, 14729, 6538, 14732, 14737, 14741, 6555, 6557, 6561, 14759, 14763, 14767, 14769, 14772, 6584, 14776, 14777, 6587, 6589, 6590, 14781, 14782, 14784, 14785, 6595, 14788, 14789, 6599, 6605, 14799, 14800, 6609, 6610, 6611, 14804, 14806, 6617, 6624, 6625, 6635, 14830, 14833, 6643, 6644, 6645, 14835, 14836, 14842, 14844, 6656, 6664, 6669, 14863, 6672, 6674, 14872, 6682, 6683, 6684, 6686, 6691, 14883, 14887, 14893, 14899, 14900, 6709, 14903, 14904, 14907, 6716, 14908, 14909, 14910, 6720, 14912, 14914, 6723, 14916, 14917, 14918, 6729, 14921, 14927, 14929, 6738, 14935, 6744, 14939, 14940, 6749, 6751, 6754, 6767, 6775, 14972, 14975, 14981, 14982, 14983, 6793, 14985, 14990, 14993, 14996, 14997, 6807, 14999, 15001, 15002, 15003, 6813, 15005, 15007, 15009, 15010, 15013, 6822, 15014, 15015, 15017, 6826, 15021, 15024, 15029, 15030, 6839, 6840, 15031, 15032, 6849, 15041, 15042, 6856, 15048, 15051, 15052, 6863, 6864, 15057, 6868, 15060, 15061, 15066, 15070, 6879, 15073, 15076, 15077, 15078, 15079, 15080, 15081, 15084, 15092, 15093, 15096, 15098, 15099, 6912, 15104, 15106, 6917, 6918, 15110, 15111, 6921, 15112, 15116, 6925, 15118, 6927, 15120, 15121, 6932, 6933, 6934, 15128, 6937, 6942, 6943, 15136, 15138, 15139, 6952, 6954, 15147, 6956, 15148, 15152, 15153, 15154, 15155, 6964, 6965, 15156, 6968, 15165, 6974, 6976, 15168, 15170, 6984, 6985, 6988, 6989, 6993, 15185, 15186, 15193, 15195, 15197, 15199, 15207, 15211, 15212, 15217, 7026, 7028, 15223, 7033, 7034, 15226, 7036, 15227, 15228, 15230, 15233, 15234, 15235, 15239, 15242, 15243, 15244, 15248, 7063, 15257, 7072, 15268, 15270, 7083, 7087, 7089, 7092, 7095, 7102, 15304, 15306, 15312, 15319, 15323, 7132, 7134, 7135, 15328, 15330, 7141, 15336, 15337, 7149, 15343, 15346, 15348, 15349, 15350, 15351, 15352, 7161, 7162, 15353, 15357, 7170, 7171, 7173, 7174, 15366, 7176, 15369, 15372, 7181, 15373, 15374, 7184, 15380, 15381, 15382, 15383, 7192, 15384, 7195, 7199, 7200, 7202, 15395, 15396, 15398, 15400, 7209, 15401, 15402, 15404, 15408, 15409, 15411, 15412, 15413, 7222, 15417, 7226, 7230, 7232, 7236, 7240, 15434, 7243, 7244, 15435, 7246, 15438, 15439, 15442, 7255, 7257, 15455, 15458, 15459, 7269, 7270, 15462, 15467, 15468, 15471, 7280, 7282, 15474, 7284, 15475, 15478, 15479, 15480, 7299, 7300, 7303, 7304, 7305, 15496, 15497, 15499, 15500, 7310, 15501, 15503, 7313, 7314, 15505, 15508, 15509, 15510, 15514, 15515, 15517, 15519, 7330, 7335, 7338, 7339, 15530, 15536, 7365, 7367, 7369, 15565, 15570, 7381, 15573, 15576, 7385, 15579, 15580, 7389, 15581, 7392, 7393, 7394, 15585, 15588, 15589, 15590, 7399, 7400, 7401, 7402, 7403, 15594, 7408, 7409, 15604, 15605, 15609, 17879, 15613, 15615, 15619, 15620, 15625, 7434, 15628, 15630, 15632, 15634, 7443, 7451, 15644, 15650, 7459, 7460, 15653, 7462, 7464, 7466, 15658, 15661, 15664, 7477, 7478, 15669, 15673, 7482, 7483, 15674, 7486, 7488, 7489, 7491, 15684, 15685, 7495, 15689, 7499, 15692, 15693, 15695, 7504, 15698, 15701, 15702, 15703, 15705, 15706, 15711, 15712, 15715, 15716, 15718, 15719, 15721, 15722, 15725, 15727, 7540, 15739, 15740, 7553, 7568, 15762, 7573, 7576, 15770, 7585, 15779, 7589, 7593, 15788, 15789, 15790, 7599, 7600, 15794, 7605, 7606, 7608, 7610, 15804, 7614, 15806, 15807, 7617, 15810, 7621, 7622, 15814, 7624, 15819, 15822, 15823, 15824, 15827, 15830, 15831, 15833, 15836, 7647, 7652, 15845, 15847, 15848, 7657, 7658, 15849, 15850, 7664, 7666, 15858, 15859, 15861, 7676, 15868, 15872, 7682, 15874, 7684, 15877, 15879, 15884, 15885, 15886, 15887, 15888, 15891, 7702, 15895, 7705, 15898, 15901, 7712, 15906, 7715, 7716, 15908, 7718, 7719, 7720, 15909, 15911, 15921, 15924, 7733, 15926, 7735, 7736, 15928, 15929, 7739, 15930, 15931, 7746, 15950, 15951, 15953, 15956, 15958, 15959, 15960, 15969, 15970, 7779, 15976, 15977, 15980, 15983, 15988, 7807, 16001, 16004, 16005, 16019, 16020, 7839, 7842, 16034, 7844, 7847, 16040, 16041, 7850, 16042, 7852, 7853, 16044, 16045, 7856, 16047, 7858, 16058, 7867, 7873, 16065, 7875, 16066, 16070, 16071, 16072, 16073, 16074, 16077, 16078, 16080, 16081, 16082, 16083, 16085, 16088, 16091, 16092, 7910, 16104, 16115, 16119, 16120, 16126, 7936, 16128, 7939, 16131, 7942, 16135, 7948, 16140, 7950, 7952, 7953, 7954, 16146, 16147, 7957, 16149, 16153, 16154, 7963, 7964, 7965, 7966, 7967, 7968, 16155, 7970, 7971, 16157, 7973, 7974, 7975, 16168, 7978, 16171, 16173, 16174, 7985, 7986, 16178, 7988, 7989, 7990, 16180, 7992, 7993, 17871, 7995, 7996, 7997, 7998, 7999, 16189, 8004, 8005, 8006, 8007, 8008, 8015, 16210, 8021, 8022, 8025, 16217, 8028, 8031, 8032, 8034, 8035, 8036, 8037, 16229, 8039, 8040, 8041, 16231, 16235, 16236, 16240, 16241, 16244, 16247, 8058, 8059, 16251, 8061, 16254, 8063, 8064, 16256, 16259, 16261, 8070, 8074, 8077, 16269, 8080, 8082, 8083, 16275, 8085, 8087, 8089, 8090, 16281, 16282, 16284, 16285, 16286, 16287, 8097, 16291, 16296, 16297, 16298, 16300, 16304, 8116, 8117, 16312, 8125, 8127, 8128, 8129, 16326, 8142, 8145, 16337, 16338, 8148, 16339, 16341, 16343, 16346, 16347, 8156, 16348, 16356, 16357, 8167, 16360, 8170, 16362, 8174, 16366, 8176, 8177, 16371, 8180, 16372, 8183, 16376, 16377, 8186, 8187, 8189, 16382, 16383]\n"
     ]
    },
    {
     "name": "stderr",
     "output_type": "stream",
     "text": [
      "c:\\Users\\vrajagopalan\\OneDrive - IESEG\\Desktop\\Recommendation\\Group_Assignment\\IESEGRecSys\\model.py:72: RuntimeWarning: invalid value encountered in true_divide\n",
      "  self.prediction = (np.matmul(df_pivot.values, self.matrixNN) / denom) + self.user_avg[:,np.newaxis]\n"
     ]
    }
   ],
   "source": [
    "# init content-based\n",
    "cb2 = ContentBased(NN=10)\n",
    "\n",
    "# fit on content\n",
    "cb2.fit(aggregate_3)\n",
    "cb2.fit_ratings(df_train)\n",
    "\n",
    "# predict test ratings\n",
    "cb_pred_3 = cb2.test(df_test)"
   ]
  },
  {
   "cell_type": "code",
   "execution_count": null,
   "metadata": {},
   "outputs": [],
   "source": [
    "overview = pd.concat([eval.evaluate(cb_pred_3, topn=5, rating_cutoff=5), overview], axis = 1)\n",
    "overview.rename(columns={'value':'CB_REC'}, inplace = True)\n"
   ]
  },
  {
   "cell_type": "code",
   "execution_count": null,
   "metadata": {},
   "outputs": [
    {
     "data": {
      "text/html": [
       "<div>\n",
       "<style scoped>\n",
       "    .dataframe tbody tr th:only-of-type {\n",
       "        vertical-align: middle;\n",
       "    }\n",
       "\n",
       "    .dataframe tbody tr th {\n",
       "        vertical-align: top;\n",
       "    }\n",
       "\n",
       "    .dataframe thead th {\n",
       "        text-align: right;\n",
       "    }\n",
       "</style>\n",
       "<table border=\"1\" class=\"dataframe\">\n",
       "  <thead>\n",
       "    <tr style=\"text-align: right;\">\n",
       "      <th></th>\n",
       "      <th>CB_REC</th>\n",
       "      <th>CB_FREQ</th>\n",
       "      <th>CB_TDIDF</th>\n",
       "      <th>IB</th>\n",
       "      <th>UB</th>\n",
       "      <th>CLU</th>\n",
       "      <th>SVD</th>\n",
       "      <th>ALS</th>\n",
       "    </tr>\n",
       "  </thead>\n",
       "  <tbody>\n",
       "    <tr>\n",
       "      <th>RMSE</th>\n",
       "      <td>0.995778</td>\n",
       "      <td>1.002499</td>\n",
       "      <td>1.061201</td>\n",
       "      <td>1.155835</td>\n",
       "      <td>1.496085</td>\n",
       "      <td>1.114257</td>\n",
       "      <td>1.421003</td>\n",
       "      <td>0.940659</td>\n",
       "    </tr>\n",
       "    <tr>\n",
       "      <th>MAE</th>\n",
       "      <td>0.724015</td>\n",
       "      <td>0.728852</td>\n",
       "      <td>0.767399</td>\n",
       "      <td>0.829390</td>\n",
       "      <td>1.128415</td>\n",
       "      <td>0.820945</td>\n",
       "      <td>1.004436</td>\n",
       "      <td>0.713441</td>\n",
       "    </tr>\n",
       "    <tr>\n",
       "      <th>Recall</th>\n",
       "      <td>0.949873</td>\n",
       "      <td>0.950623</td>\n",
       "      <td>0.953873</td>\n",
       "      <td>0.955123</td>\n",
       "      <td>0.994916</td>\n",
       "      <td>0.925705</td>\n",
       "      <td>0.832660</td>\n",
       "      <td>0.975791</td>\n",
       "    </tr>\n",
       "    <tr>\n",
       "      <th>Precision</th>\n",
       "      <td>0.951657</td>\n",
       "      <td>0.950267</td>\n",
       "      <td>0.940703</td>\n",
       "      <td>0.922934</td>\n",
       "      <td>0.867718</td>\n",
       "      <td>0.939723</td>\n",
       "      <td>0.942417</td>\n",
       "      <td>0.950985</td>\n",
       "    </tr>\n",
       "    <tr>\n",
       "      <th>F1</th>\n",
       "      <td>0.950764</td>\n",
       "      <td>0.950445</td>\n",
       "      <td>0.947242</td>\n",
       "      <td>0.938753</td>\n",
       "      <td>0.926974</td>\n",
       "      <td>0.932662</td>\n",
       "      <td>0.884145</td>\n",
       "      <td>0.963228</td>\n",
       "    </tr>\n",
       "    <tr>\n",
       "      <th>NDCG@5</th>\n",
       "      <td>0.864225</td>\n",
       "      <td>0.866111</td>\n",
       "      <td>0.864106</td>\n",
       "      <td>0.843581</td>\n",
       "      <td>0.856282</td>\n",
       "      <td>0.852969</td>\n",
       "      <td>0.859563</td>\n",
       "      <td>0.855251</td>\n",
       "    </tr>\n",
       "  </tbody>\n",
       "</table>\n",
       "</div>"
      ],
      "text/plain": [
       "             CB_REC   CB_FREQ  CB_TDIDF        IB        UB       CLU  \\\n",
       "RMSE       0.995778  1.002499  1.061201  1.155835  1.496085  1.114257   \n",
       "MAE        0.724015  0.728852  0.767399  0.829390  1.128415  0.820945   \n",
       "Recall     0.949873  0.950623  0.953873  0.955123  0.994916  0.925705   \n",
       "Precision  0.951657  0.950267  0.940703  0.922934  0.867718  0.939723   \n",
       "F1         0.950764  0.950445  0.947242  0.938753  0.926974  0.932662   \n",
       "NDCG@5     0.864225  0.866111  0.864106  0.843581  0.856282  0.852969   \n",
       "\n",
       "                SVD       ALS  \n",
       "RMSE       1.421003  0.940659  \n",
       "MAE        1.004436  0.713441  \n",
       "Recall     0.832660  0.975791  \n",
       "Precision  0.942417  0.950985  \n",
       "F1         0.884145  0.963228  \n",
       "NDCG@5     0.859563  0.855251  "
      ]
     },
     "execution_count": 203,
     "metadata": {},
     "output_type": "execute_result"
    }
   ],
   "source": [
    "overview"
   ]
  },
  {
   "cell_type": "markdown",
   "metadata": {},
   "source": [
    "The recency based content based model performs the best in terms of RMSE but we still see that ALS gives us the best performance"
   ]
  },
  {
   "cell_type": "code",
   "execution_count": null,
   "metadata": {},
   "outputs": [],
   "source": [
    "def predict_user_topn(model, train, user, topk=10, item_col='item'):\n",
    "    \"\"\"\n",
    "    Returns topk items for specified user.\n",
    "    Return type: list\n",
    "    Args[model, train, user, topk, item_col]\n",
    "    model:      fitted model (surprise package)\n",
    "    train:      train set used to fit model\n",
    "    user:       user id\n",
    "    topk:       topk items to return\n",
    "    item_col:   column containing item ids\n",
    "    \"\"\"\n",
    "\n",
    "    # intermediate result dict\n",
    "    res = {item_col:[], 'pred':[], 'detail':[]}\n",
    " \n",
    "    # iter through all items contained in train set\n",
    "    for item in set(train[item_col]) :\n",
    "        uid, iid, true_r, est, detail = model.predict(user,item)\n",
    "        if detail['was_impossible']: continue\n",
    "        # save to result dict\n",
    "        res[item_col].append(item)\n",
    "        res['pred'].append(est)\n",
    "        res['detail'].append(detail)\n",
    "\n",
    "\n",
    "    return list(pd.DataFrame(res).sort_values('pred', ascending=False)[:topk][item_col])"
   ]
  },
  {
   "cell_type": "markdown",
   "metadata": {},
   "source": [
    "Lets check the Recommendations for user 200 using the recency and Frequency content based model."
   ]
  },
  {
   "cell_type": "code",
   "execution_count": null,
   "metadata": {},
   "outputs": [
    {
     "data": {
      "text/html": [
       "<div>\n",
       "<style scoped>\n",
       "    .dataframe tbody tr th:only-of-type {\n",
       "        vertical-align: middle;\n",
       "    }\n",
       "\n",
       "    .dataframe tbody tr th {\n",
       "        vertical-align: top;\n",
       "    }\n",
       "\n",
       "    .dataframe thead th {\n",
       "        text-align: right;\n",
       "    }\n",
       "</style>\n",
       "<table border=\"1\" class=\"dataframe\">\n",
       "  <thead>\n",
       "    <tr style=\"text-align: right;\">\n",
       "      <th></th>\n",
       "      <th>userID</th>\n",
       "      <th>artistID</th>\n",
       "      <th>raw_ratings</th>\n",
       "    </tr>\n",
       "  </thead>\n",
       "  <tbody>\n",
       "    <tr>\n",
       "      <th>0</th>\n",
       "      <td>967</td>\n",
       "      <td>3462</td>\n",
       "      <td>5.0</td>\n",
       "    </tr>\n",
       "    <tr>\n",
       "      <th>1</th>\n",
       "      <td>441</td>\n",
       "      <td>225</td>\n",
       "      <td>5.0</td>\n",
       "    </tr>\n",
       "    <tr>\n",
       "      <th>2</th>\n",
       "      <td>1356</td>\n",
       "      <td>466</td>\n",
       "      <td>8.0</td>\n",
       "    </tr>\n",
       "    <tr>\n",
       "      <th>3</th>\n",
       "      <td>1757</td>\n",
       "      <td>65</td>\n",
       "      <td>5.0</td>\n",
       "    </tr>\n",
       "    <tr>\n",
       "      <th>4</th>\n",
       "      <td>1515</td>\n",
       "      <td>344</td>\n",
       "      <td>6.0</td>\n",
       "    </tr>\n",
       "  </tbody>\n",
       "</table>\n",
       "</div>"
      ],
      "text/plain": [
       "   userID  artistID  raw_ratings\n",
       "0     967      3462          5.0\n",
       "1     441       225          5.0\n",
       "2    1356       466          8.0\n",
       "3    1757        65          5.0\n",
       "4    1515       344          6.0"
      ]
     },
     "execution_count": 274,
     "metadata": {},
     "output_type": "execute_result"
    }
   ],
   "source": [
    "train.head()"
   ]
  },
  {
   "cell_type": "code",
   "execution_count": null,
   "metadata": {},
   "outputs": [
    {
     "data": {
      "text/plain": [
       "[4126, 723, 5173, 607, 3269]"
      ]
     },
     "execution_count": 276,
     "metadata": {},
     "output_type": "execute_result"
    }
   ],
   "source": [
    "results = predict_user_topn(cb2, train, 200, topk=5, item_col='artistID')\n",
    "results"
   ]
  },
  {
   "cell_type": "code",
   "execution_count": null,
   "metadata": {},
   "outputs": [
    {
     "data": {
      "text/html": [
       "<div>\n",
       "<style scoped>\n",
       "    .dataframe tbody tr th:only-of-type {\n",
       "        vertical-align: middle;\n",
       "    }\n",
       "\n",
       "    .dataframe tbody tr th {\n",
       "        vertical-align: top;\n",
       "    }\n",
       "\n",
       "    .dataframe thead th {\n",
       "        text-align: right;\n",
       "    }\n",
       "</style>\n",
       "<table border=\"1\" class=\"dataframe\">\n",
       "  <thead>\n",
       "    <tr style=\"text-align: right;\">\n",
       "      <th></th>\n",
       "      <th>tagValue</th>\n",
       "    </tr>\n",
       "    <tr>\n",
       "      <th>artistID</th>\n",
       "      <th></th>\n",
       "    </tr>\n",
       "  </thead>\n",
       "  <tbody>\n",
       "    <tr>\n",
       "      <th>4126</th>\n",
       "      <td>[1982, 60s, 80s, 90s, ambient, angelic, awesome, beautiful, best songs of the 80s, chef musinum, chill zone, chillout, electronic, electronica, epic, experimental, fallout, faves, instrumental, jean marc toma, lostfreeq, meditation, new age, new beat, piano, sensual, slowies, soundtrack, the best classical opera and film scores]</td>\n",
       "    </tr>\n",
       "  </tbody>\n",
       "</table>\n",
       "</div>"
      ],
      "text/plain": [
       "                                                                                                                                                                                                                                                                                                                                            tagValue\n",
       "artistID                                                                                                                                                                                                                                                                                                                                            \n",
       "4126      [1982, 60s, 80s, 90s, ambient, angelic, awesome, beautiful, best songs of the 80s, chef musinum, chill zone, chillout, electronic, electronica, epic, experimental, fallout, faves, instrumental, jean marc toma, lostfreeq, meditation, new age, new beat, piano, sensual, slowies, soundtrack, the best classical opera and film scores]"
      ]
     },
     "execution_count": 277,
     "metadata": {},
     "output_type": "execute_result"
    }
   ],
   "source": [
    "result = pd.DataFrame(aggregate_1.loc[aggregate_1.index == 4126, 'tagValue'])\n",
    "result.head()"
   ]
  },
  {
   "cell_type": "code",
   "execution_count": null,
   "metadata": {},
   "outputs": [
    {
     "data": {
      "text/html": [
       "<div>\n",
       "<style scoped>\n",
       "    .dataframe tbody tr th:only-of-type {\n",
       "        vertical-align: middle;\n",
       "    }\n",
       "\n",
       "    .dataframe tbody tr th {\n",
       "        vertical-align: top;\n",
       "    }\n",
       "\n",
       "    .dataframe thead th {\n",
       "        text-align: right;\n",
       "    }\n",
       "</style>\n",
       "<table border=\"1\" class=\"dataframe\">\n",
       "  <thead>\n",
       "    <tr style=\"text-align: right;\">\n",
       "      <th></th>\n",
       "      <th>tagValue</th>\n",
       "    </tr>\n",
       "    <tr>\n",
       "      <th>artistID</th>\n",
       "      <th></th>\n",
       "    </tr>\n",
       "  </thead>\n",
       "  <tbody>\n",
       "    <tr>\n",
       "      <th>723</th>\n",
       "      <td>[arkadi, folk, instrumental, jazz, latin, world]</td>\n",
       "    </tr>\n",
       "  </tbody>\n",
       "</table>\n",
       "</div>"
      ],
      "text/plain": [
       "                                                  tagValue\n",
       "artistID                                                  \n",
       "723       [arkadi, folk, instrumental, jazz, latin, world]"
      ]
     },
     "execution_count": 278,
     "metadata": {},
     "output_type": "execute_result"
    }
   ],
   "source": [
    "result = pd.DataFrame(aggregate_1.loc[aggregate_1.index == 723, 'tagValue'])\n",
    "result.head()"
   ]
  },
  {
   "cell_type": "code",
   "execution_count": null,
   "metadata": {},
   "outputs": [
    {
     "data": {
      "text/html": [
       "<div>\n",
       "<style scoped>\n",
       "    .dataframe tbody tr th:only-of-type {\n",
       "        vertical-align: middle;\n",
       "    }\n",
       "\n",
       "    .dataframe tbody tr th {\n",
       "        vertical-align: top;\n",
       "    }\n",
       "\n",
       "    .dataframe thead th {\n",
       "        text-align: right;\n",
       "    }\n",
       "</style>\n",
       "<table border=\"1\" class=\"dataframe\">\n",
       "  <thead>\n",
       "    <tr style=\"text-align: right;\">\n",
       "      <th></th>\n",
       "      <th>tagValue</th>\n",
       "    </tr>\n",
       "    <tr>\n",
       "      <th>artistID</th>\n",
       "      <th></th>\n",
       "    </tr>\n",
       "  </thead>\n",
       "  <tbody>\n",
       "    <tr>\n",
       "      <th>5173</th>\n",
       "      <td>[drum and bass, electronic, experimental, instrumental, progressive, progressive rock, psychedelic]</td>\n",
       "    </tr>\n",
       "  </tbody>\n",
       "</table>\n",
       "</div>"
      ],
      "text/plain": [
       "                                                                                                     tagValue\n",
       "artistID                                                                                                     \n",
       "5173      [drum and bass, electronic, experimental, instrumental, progressive, progressive rock, psychedelic]"
      ]
     },
     "execution_count": 279,
     "metadata": {},
     "output_type": "execute_result"
    }
   ],
   "source": [
    "result = pd.DataFrame(aggregate_1.loc[aggregate_1.index == 5173, 'tagValue'])\n",
    "result.head()"
   ]
  },
  {
   "cell_type": "markdown",
   "metadata": {},
   "source": [
    "Lets make Predictions using content based frequency"
   ]
  },
  {
   "cell_type": "code",
   "execution_count": null,
   "metadata": {},
   "outputs": [
    {
     "data": {
      "text/plain": [
       "[723, 963, 1148, 2343, 11484]"
      ]
     },
     "execution_count": 280,
     "metadata": {},
     "output_type": "execute_result"
    }
   ],
   "source": [
    "results = predict_user_topn(cb1, train, 200, topk=5, item_col='artistID')\n",
    "results"
   ]
  },
  {
   "cell_type": "code",
   "execution_count": null,
   "metadata": {},
   "outputs": [
    {
     "data": {
      "text/html": [
       "<div>\n",
       "<style scoped>\n",
       "    .dataframe tbody tr th:only-of-type {\n",
       "        vertical-align: middle;\n",
       "    }\n",
       "\n",
       "    .dataframe tbody tr th {\n",
       "        vertical-align: top;\n",
       "    }\n",
       "\n",
       "    .dataframe thead th {\n",
       "        text-align: right;\n",
       "    }\n",
       "</style>\n",
       "<table border=\"1\" class=\"dataframe\">\n",
       "  <thead>\n",
       "    <tr style=\"text-align: right;\">\n",
       "      <th></th>\n",
       "      <th>tagValue</th>\n",
       "    </tr>\n",
       "    <tr>\n",
       "      <th>artistID</th>\n",
       "      <th></th>\n",
       "    </tr>\n",
       "  </thead>\n",
       "  <tbody>\n",
       "    <tr>\n",
       "      <th>723</th>\n",
       "      <td>[arkadi, folk, instrumental, jazz, latin, world]</td>\n",
       "    </tr>\n",
       "  </tbody>\n",
       "</table>\n",
       "</div>"
      ],
      "text/plain": [
       "                                                  tagValue\n",
       "artistID                                                  \n",
       "723       [arkadi, folk, instrumental, jazz, latin, world]"
      ]
     },
     "execution_count": 281,
     "metadata": {},
     "output_type": "execute_result"
    }
   ],
   "source": [
    "result = pd.DataFrame(aggregate_1.loc[aggregate_1.index == 723, 'tagValue'])\n",
    "result.head()"
   ]
  },
  {
   "cell_type": "code",
   "execution_count": null,
   "metadata": {},
   "outputs": [
    {
     "data": {
      "text/html": [
       "<div>\n",
       "<style scoped>\n",
       "    .dataframe tbody tr th:only-of-type {\n",
       "        vertical-align: middle;\n",
       "    }\n",
       "\n",
       "    .dataframe tbody tr th {\n",
       "        vertical-align: top;\n",
       "    }\n",
       "\n",
       "    .dataframe thead th {\n",
       "        text-align: right;\n",
       "    }\n",
       "</style>\n",
       "<table border=\"1\" class=\"dataframe\">\n",
       "  <thead>\n",
       "    <tr style=\"text-align: right;\">\n",
       "      <th></th>\n",
       "      <th>tagValue</th>\n",
       "    </tr>\n",
       "    <tr>\n",
       "      <th>artistID</th>\n",
       "      <th></th>\n",
       "    </tr>\n",
       "  </thead>\n",
       "  <tbody>\n",
       "    <tr>\n",
       "      <th>963</th>\n",
       "      <td>[amazing, ambient, breathtaking, chillout, dreamy, fascinating, instrumental, new age, piano, rain, seen live]</td>\n",
       "    </tr>\n",
       "  </tbody>\n",
       "</table>\n",
       "</div>"
      ],
      "text/plain": [
       "                                                                                                                tagValue\n",
       "artistID                                                                                                                \n",
       "963       [amazing, ambient, breathtaking, chillout, dreamy, fascinating, instrumental, new age, piano, rain, seen live]"
      ]
     },
     "execution_count": 282,
     "metadata": {},
     "output_type": "execute_result"
    }
   ],
   "source": [
    "result = pd.DataFrame(aggregate_1.loc[aggregate_1.index == 963, 'tagValue'])\n",
    "result.head()"
   ]
  },
  {
   "cell_type": "code",
   "execution_count": null,
   "metadata": {},
   "outputs": [
    {
     "data": {
      "text/html": [
       "<div>\n",
       "<style scoped>\n",
       "    .dataframe tbody tr th:only-of-type {\n",
       "        vertical-align: middle;\n",
       "    }\n",
       "\n",
       "    .dataframe tbody tr th {\n",
       "        vertical-align: top;\n",
       "    }\n",
       "\n",
       "    .dataframe thead th {\n",
       "        text-align: right;\n",
       "    }\n",
       "</style>\n",
       "<table border=\"1\" class=\"dataframe\">\n",
       "  <thead>\n",
       "    <tr style=\"text-align: right;\">\n",
       "      <th></th>\n",
       "      <th>tagValue</th>\n",
       "    </tr>\n",
       "    <tr>\n",
       "      <th>artistID</th>\n",
       "      <th></th>\n",
       "    </tr>\n",
       "  </thead>\n",
       "  <tbody>\n",
       "    <tr>\n",
       "      <th>1148</th>\n",
       "      <td>[ambient, coisa de deus, electronic, electronica, epic, japanese, new age]</td>\n",
       "    </tr>\n",
       "  </tbody>\n",
       "</table>\n",
       "</div>"
      ],
      "text/plain": [
       "                                                                            tagValue\n",
       "artistID                                                                            \n",
       "1148      [ambient, coisa de deus, electronic, electronica, epic, japanese, new age]"
      ]
     },
     "execution_count": 283,
     "metadata": {},
     "output_type": "execute_result"
    }
   ],
   "source": [
    "result = pd.DataFrame(aggregate_1.loc[aggregate_1.index == 1148, 'tagValue'])\n",
    "result.head()"
   ]
  },
  {
   "cell_type": "markdown",
   "metadata": {},
   "source": [
    "Lets make top 3 predictions for artist ID 65 using all three content based model and evaluate the results"
   ]
  },
  {
   "cell_type": "markdown",
   "metadata": {},
   "source": [
    "Recommendations with TDIF content based model"
   ]
  },
  {
   "cell_type": "code",
   "execution_count": null,
   "metadata": {},
   "outputs": [
    {
     "data": {
      "text/plain": [
       "array([ 154, 4609, 1072], dtype=int64)"
      ]
     },
     "execution_count": 204,
     "metadata": {},
     "output_type": "execute_result"
    }
   ],
   "source": [
    "results = cb.get_most_similar(65, topn=3)\n",
    "results"
   ]
  },
  {
   "cell_type": "code",
   "execution_count": null,
   "metadata": {},
   "outputs": [
    {
     "data": {
      "text/html": [
       "<div>\n",
       "<style scoped>\n",
       "    .dataframe tbody tr th:only-of-type {\n",
       "        vertical-align: middle;\n",
       "    }\n",
       "\n",
       "    .dataframe tbody tr th {\n",
       "        vertical-align: top;\n",
       "    }\n",
       "\n",
       "    .dataframe thead th {\n",
       "        text-align: right;\n",
       "    }\n",
       "</style>\n",
       "<table border=\"1\" class=\"dataframe\">\n",
       "  <thead>\n",
       "    <tr style=\"text-align: right;\">\n",
       "      <th></th>\n",
       "      <th>tagValue</th>\n",
       "    </tr>\n",
       "    <tr>\n",
       "      <th>artistID</th>\n",
       "      <th></th>\n",
       "    </tr>\n",
       "  </thead>\n",
       "  <tbody>\n",
       "    <tr>\n",
       "      <th>65</th>\n",
       "      <td>[00s, 2002, 2005, 2008, 4m4zinq, 90s, acoustic, alternative, alternative rock, amazing, ambient, atmospheric, awesome, b-side, ballad, beatiful, beautiful, beautiful music, ben lee, best songs ever, brian eno, brilliant, brit rock, british, britpop, britrock, britsong, caaamiiiliiitaaa, chill, chillout, cities, classic rock, cold play, coldplay, cool, cover, cute, demo, dreamy, electronic, epic, eternal love, european, experimental, fail, favorite albums, favorite artist, favorite artists, favorite bands, favorite bands and artists, favorite song, favorite songs, favorites, favourite, favourite artists, favourite songs, favourites, folk, free, free download, free mp3, fucking awesome, fun, galactic, garden state soundtrack, genius, gold, good stuff, great song, hang on, happy, i love, indie, indie pop, indie rock, indierock, inlove, isa, johnny cash, jukebox project, just chillin, kraftwerk, lastfm elitist repellent, lights, listened more than 10 times in a row, love, love at first listen, love it, love ya  lll, lovely, lpa, male vocalists, marisa mix, melancholic, mellow, metal, musikfuerrundumdieuhr, muzyka dla mietkich chlopcow, my own private sunshine, naked, ...]</td>\n",
       "    </tr>\n",
       "  </tbody>\n",
       "</table>\n",
       "</div>"
      ],
      "text/plain": [
       "                                                                                                                                                                                                                                                                                                                                                                                                                                                                                                                                                                                                                                                                                                                                                                                                                                                                                                                                                                                                                                                                                                                                                                                                                                    tagValue\n",
       "artistID                                                                                                                                                                                                                                                                                                                                                                                                                                                                                                                                                                                                                                                                                                                                                                                                                                                                                                                                                                                                                                                                                                                                                                                                                                    \n",
       "65        [00s, 2002, 2005, 2008, 4m4zinq, 90s, acoustic, alternative, alternative rock, amazing, ambient, atmospheric, awesome, b-side, ballad, beatiful, beautiful, beautiful music, ben lee, best songs ever, brian eno, brilliant, brit rock, british, britpop, britrock, britsong, caaamiiiliiitaaa, chill, chillout, cities, classic rock, cold play, coldplay, cool, cover, cute, demo, dreamy, electronic, epic, eternal love, european, experimental, fail, favorite albums, favorite artist, favorite artists, favorite bands, favorite bands and artists, favorite song, favorite songs, favorites, favourite, favourite artists, favourite songs, favourites, folk, free, free download, free mp3, fucking awesome, fun, galactic, garden state soundtrack, genius, gold, good stuff, great song, hang on, happy, i love, indie, indie pop, indie rock, indierock, inlove, isa, johnny cash, jukebox project, just chillin, kraftwerk, lastfm elitist repellent, lights, listened more than 10 times in a row, love, love at first listen, love it, love ya  lll, lovely, lpa, male vocalists, marisa mix, melancholic, mellow, metal, musikfuerrundumdieuhr, muzyka dla mietkich chlopcow, my own private sunshine, naked, ...]"
      ]
     },
     "execution_count": 205,
     "metadata": {},
     "output_type": "execute_result"
    }
   ],
   "source": [
    "result = pd.DataFrame(aggregate_1.loc[aggregate_1.index == 65, 'tagValue'])\n",
    "result.head()"
   ]
  },
  {
   "cell_type": "code",
   "execution_count": null,
   "metadata": {},
   "outputs": [
    {
     "data": {
      "text/html": [
       "<div>\n",
       "<style scoped>\n",
       "    .dataframe tbody tr th:only-of-type {\n",
       "        vertical-align: middle;\n",
       "    }\n",
       "\n",
       "    .dataframe tbody tr th {\n",
       "        vertical-align: top;\n",
       "    }\n",
       "\n",
       "    .dataframe thead th {\n",
       "        text-align: right;\n",
       "    }\n",
       "</style>\n",
       "<table border=\"1\" class=\"dataframe\">\n",
       "  <thead>\n",
       "    <tr style=\"text-align: right;\">\n",
       "      <th></th>\n",
       "      <th>tagValue</th>\n",
       "    </tr>\n",
       "    <tr>\n",
       "      <th>artistID</th>\n",
       "      <th></th>\n",
       "    </tr>\n",
       "  </thead>\n",
       "  <tbody>\n",
       "    <tr>\n",
       "      <th>154</th>\n",
       "      <td>[00s, 1995, 80s, 90s, &lt;3, a piece of me, aana, acoustic, acoustic guitar, all time favorites, alternative, alternative rock, amazing, amazing singer, ambient, atari electronic, atmospheric, awesome, b-side, barkbarkdisco, beautiful, beautiful music, beautifulsad, best song ever, best songs ever, better than metallica, better than radiohead, brilliant, brings tears to my eyes, british, britpop, britrock, calming, chill, chillout, classic rock, cool, cops, creep, creepy but amazing, dance beat rock, dark, depression, depressive, descoperiri, dramatic, dreamy, eargasmic, electro, electronic, electronic indie, electronica, energetic, epic, epic rock, european, excellent reason for crying, exhilarating, experimental, experimental rock, falsetto, favorite, favorite albums, favorite artist, favorite artists, favorite band, favorite bands, favorite songs, favorites, favourite, favourite artists, favourite bands, favourite songs, favourites, feelgood, genius, gold, great bands, great song, grunge, hypnotic, i am in love with this song, i listened to it over and over again, i love this song, ich liebe dich, idm, indie, indie rock, indie-romantic, instrumental, intense, iron jesus, jazz, jukebox project, lastfm elitist repellent, leftovergrooves, listen while crying and feeling like shit, listen with headphones, love, love at first listen, ...]</td>\n",
       "    </tr>\n",
       "  </tbody>\n",
       "</table>\n",
       "</div>"
      ],
      "text/plain": [
       "                                                                                                                                                                                                                                                                                                                                                                                                                                                                                                                                                                                                                                                                                                                                                                                                                                                                                                                                                                                                                                                                                                                                                                                                                                                                                                                                                                                                             tagValue\n",
       "artistID                                                                                                                                                                                                                                                                                                                                                                                                                                                                                                                                                                                                                                                                                                                                                                                                                                                                                                                                                                                                                                                                                                                                                                                                                                                                                                                                                                                                             \n",
       "154       [00s, 1995, 80s, 90s, <3, a piece of me, aana, acoustic, acoustic guitar, all time favorites, alternative, alternative rock, amazing, amazing singer, ambient, atari electronic, atmospheric, awesome, b-side, barkbarkdisco, beautiful, beautiful music, beautifulsad, best song ever, best songs ever, better than metallica, better than radiohead, brilliant, brings tears to my eyes, british, britpop, britrock, calming, chill, chillout, classic rock, cool, cops, creep, creepy but amazing, dance beat rock, dark, depression, depressive, descoperiri, dramatic, dreamy, eargasmic, electro, electronic, electronic indie, electronica, energetic, epic, epic rock, european, excellent reason for crying, exhilarating, experimental, experimental rock, falsetto, favorite, favorite albums, favorite artist, favorite artists, favorite band, favorite bands, favorite songs, favorites, favourite, favourite artists, favourite bands, favourite songs, favourites, feelgood, genius, gold, great bands, great song, grunge, hypnotic, i am in love with this song, i listened to it over and over again, i love this song, ich liebe dich, idm, indie, indie rock, indie-romantic, instrumental, intense, iron jesus, jazz, jukebox project, lastfm elitist repellent, leftovergrooves, listen while crying and feeling like shit, listen with headphones, love, love at first listen, ...]"
      ]
     },
     "execution_count": 206,
     "metadata": {},
     "output_type": "execute_result"
    }
   ],
   "source": [
    "result = pd.DataFrame(aggregate_1.loc[aggregate_1.index == 154, 'tagValue'])\n",
    "result.head()"
   ]
  },
  {
   "cell_type": "code",
   "execution_count": null,
   "metadata": {},
   "outputs": [
    {
     "data": {
      "text/html": [
       "<div>\n",
       "<style scoped>\n",
       "    .dataframe tbody tr th:only-of-type {\n",
       "        vertical-align: middle;\n",
       "    }\n",
       "\n",
       "    .dataframe tbody tr th {\n",
       "        vertical-align: top;\n",
       "    }\n",
       "\n",
       "    .dataframe thead th {\n",
       "        text-align: right;\n",
       "    }\n",
       "</style>\n",
       "<table border=\"1\" class=\"dataframe\">\n",
       "  <thead>\n",
       "    <tr style=\"text-align: right;\">\n",
       "      <th></th>\n",
       "      <th>tagValue</th>\n",
       "    </tr>\n",
       "    <tr>\n",
       "      <th>artistID</th>\n",
       "      <th></th>\n",
       "    </tr>\n",
       "  </thead>\n",
       "  <tbody>\n",
       "    <tr>\n",
       "      <th>4609</th>\n",
       "      <td>[all time favorites, alternative rock, amazing, beautiful, beautiful music, best song ever, best songs ever, brainstorm, brilliant, britpop, disco classic, electronic, favorite albums, favorite artist, favorite artists, favorite bands, favorite songs, favorites, favourite, favourite artists, favourite songs, favourites, great song, incredible voice, indie, indie rock, indie-romantic, latvian, latvian rock, pop, pop rock, pop-rock, prata vetra, rock, rock-pop, romantic rock, sertse]</td>\n",
       "    </tr>\n",
       "  </tbody>\n",
       "</table>\n",
       "</div>"
      ],
      "text/plain": [
       "                                                                                                                                                                                                                                                                                                                                                                                                                                                                                                        tagValue\n",
       "artistID                                                                                                                                                                                                                                                                                                                                                                                                                                                                                                        \n",
       "4609      [all time favorites, alternative rock, amazing, beautiful, beautiful music, best song ever, best songs ever, brainstorm, brilliant, britpop, disco classic, electronic, favorite albums, favorite artist, favorite artists, favorite bands, favorite songs, favorites, favourite, favourite artists, favourite songs, favourites, great song, incredible voice, indie, indie rock, indie-romantic, latvian, latvian rock, pop, pop rock, pop-rock, prata vetra, rock, rock-pop, romantic rock, sertse]"
      ]
     },
     "execution_count": 207,
     "metadata": {},
     "output_type": "execute_result"
    }
   ],
   "source": [
    "result = pd.DataFrame(aggregate_1.loc[aggregate_1.index == 4609, 'tagValue'])\n",
    "result.head()"
   ]
  },
  {
   "cell_type": "code",
   "execution_count": null,
   "metadata": {},
   "outputs": [
    {
     "data": {
      "text/html": [
       "<div>\n",
       "<style scoped>\n",
       "    .dataframe tbody tr th:only-of-type {\n",
       "        vertical-align: middle;\n",
       "    }\n",
       "\n",
       "    .dataframe tbody tr th {\n",
       "        vertical-align: top;\n",
       "    }\n",
       "\n",
       "    .dataframe thead th {\n",
       "        text-align: right;\n",
       "    }\n",
       "</style>\n",
       "<table border=\"1\" class=\"dataframe\">\n",
       "  <thead>\n",
       "    <tr style=\"text-align: right;\">\n",
       "      <th></th>\n",
       "      <th>tagValue</th>\n",
       "    </tr>\n",
       "    <tr>\n",
       "      <th>artistID</th>\n",
       "      <th></th>\n",
       "    </tr>\n",
       "  </thead>\n",
       "  <tbody>\n",
       "    <tr>\n",
       "      <th>1072</th>\n",
       "      <td>[00s, 80's, 80s, 90s, all time favorites, alternative, amazing, beautiful, beautiful genius, beautiful music, best song ever, best songs ever, brilliant, british, cover, covers, cute, darkwave, depeche mode, depeche mode favourites, dm, electronic, electronica, experimental, faves, favorite albums, favorite artist, favorite artists, favorite bands, favorite songs, favorites, favourite, favourite artists, favourite songs, favourites, genius, great song, hang on, idm, love, lovely, male vocalists, martin gore, mute records, new wave, perfect, relaxing, rico, sensual, sexy, singer-songwriter, slowies, synth pop, synthpop, the best, trex, uk, zadrotstvo]</td>\n",
       "    </tr>\n",
       "  </tbody>\n",
       "</table>\n",
       "</div>"
      ],
      "text/plain": [
       "                                                                                                                                                                                                                                                                                                                                                                                                                                                                                                                                                                                                                                                                                    tagValue\n",
       "artistID                                                                                                                                                                                                                                                                                                                                                                                                                                                                                                                                                                                                                                                                                    \n",
       "1072      [00s, 80's, 80s, 90s, all time favorites, alternative, amazing, beautiful, beautiful genius, beautiful music, best song ever, best songs ever, brilliant, british, cover, covers, cute, darkwave, depeche mode, depeche mode favourites, dm, electronic, electronica, experimental, faves, favorite albums, favorite artist, favorite artists, favorite bands, favorite songs, favorites, favourite, favourite artists, favourite songs, favourites, genius, great song, hang on, idm, love, lovely, male vocalists, martin gore, mute records, new wave, perfect, relaxing, rico, sensual, sexy, singer-songwriter, slowies, synth pop, synthpop, the best, trex, uk, zadrotstvo]"
      ]
     },
     "execution_count": 208,
     "metadata": {},
     "output_type": "execute_result"
    }
   ],
   "source": [
    "result = pd.DataFrame(aggregate_1.loc[aggregate_1.index == 1072, 'tagValue'])\n",
    "result.head()"
   ]
  },
  {
   "cell_type": "markdown",
   "metadata": {},
   "source": [
    "Looking for the theme of the songs we see that all songs have rock tag in common. In our previous recommendations using colloborative filtering we saw that it gave some artist recommendations which did not share any common tags specially in coclustering recommendations."
   ]
  },
  {
   "cell_type": "markdown",
   "metadata": {},
   "source": [
    "Lets check for the second content based method using Frequency"
   ]
  },
  {
   "cell_type": "code",
   "execution_count": null,
   "metadata": {},
   "outputs": [
    {
     "data": {
      "text/plain": [
       "array([182, 154, 366], dtype=int64)"
      ]
     },
     "execution_count": 209,
     "metadata": {},
     "output_type": "execute_result"
    }
   ],
   "source": [
    "results = cb1.get_most_similar(65, topn=3)\n",
    "results"
   ]
  },
  {
   "cell_type": "code",
   "execution_count": null,
   "metadata": {},
   "outputs": [],
   "source": [
    "pd.set_option('display.max_colwidth', 1000000)"
   ]
  },
  {
   "cell_type": "code",
   "execution_count": null,
   "metadata": {},
   "outputs": [
    {
     "data": {
      "text/html": [
       "<div>\n",
       "<style scoped>\n",
       "    .dataframe tbody tr th:only-of-type {\n",
       "        vertical-align: middle;\n",
       "    }\n",
       "\n",
       "    .dataframe tbody tr th {\n",
       "        vertical-align: top;\n",
       "    }\n",
       "\n",
       "    .dataframe thead th {\n",
       "        text-align: right;\n",
       "    }\n",
       "</style>\n",
       "<table border=\"1\" class=\"dataframe\">\n",
       "  <thead>\n",
       "    <tr style=\"text-align: right;\">\n",
       "      <th></th>\n",
       "      <th>tagValue</th>\n",
       "    </tr>\n",
       "    <tr>\n",
       "      <th>artistID</th>\n",
       "      <th></th>\n",
       "    </tr>\n",
       "  </thead>\n",
       "  <tbody>\n",
       "    <tr>\n",
       "      <th>65</th>\n",
       "      <td>[00s, 2002, 2005, 2008, 4m4zinq, 90s, acoustic, alternative, alternative rock, amazing, ambient, atmospheric, awesome, b-side, ballad, beatiful, beautiful, beautiful music, ben lee, best songs ever, brian eno, brilliant, brit rock, british, britpop, britrock, britsong, caaamiiiliiitaaa, chill, chillout, cities, classic rock, cold play, coldplay, cool, cover, cute, demo, dreamy, electronic, epic, eternal love, european, experimental, fail, favorite albums, favorite artist, favorite artists, favorite bands, favorite bands and artists, favorite song, favorite songs, favorites, favourite, favourite artists, favourite songs, favourites, folk, free, free download, free mp3, fucking awesome, fun, galactic, garden state soundtrack, genius, gold, good stuff, great song, hang on, happy, i love, indie, indie pop, indie rock, indierock, inlove, isa, johnny cash, jukebox project, just chillin, kraftwerk, lastfm elitist repellent, lights, listened more than 10 times in a row, love, love at first listen, love it, love ya  lll, lovely, lpa, male vocalists, marisa mix, melancholic, mellow, metal, musikfuerrundumdieuhr, muzyka dla mietkich chlopcow, my own private sunshine, naked, ...]</td>\n",
       "    </tr>\n",
       "  </tbody>\n",
       "</table>\n",
       "</div>"
      ],
      "text/plain": [
       "                                                                                                                                                                                                                                                                                                                                                                                                                                                                                                                                                                                                                                                                                                                                                                                                                                                                                                                                                                                                                                                                                                                                                                                                                                    tagValue\n",
       "artistID                                                                                                                                                                                                                                                                                                                                                                                                                                                                                                                                                                                                                                                                                                                                                                                                                                                                                                                                                                                                                                                                                                                                                                                                                                    \n",
       "65        [00s, 2002, 2005, 2008, 4m4zinq, 90s, acoustic, alternative, alternative rock, amazing, ambient, atmospheric, awesome, b-side, ballad, beatiful, beautiful, beautiful music, ben lee, best songs ever, brian eno, brilliant, brit rock, british, britpop, britrock, britsong, caaamiiiliiitaaa, chill, chillout, cities, classic rock, cold play, coldplay, cool, cover, cute, demo, dreamy, electronic, epic, eternal love, european, experimental, fail, favorite albums, favorite artist, favorite artists, favorite bands, favorite bands and artists, favorite song, favorite songs, favorites, favourite, favourite artists, favourite songs, favourites, folk, free, free download, free mp3, fucking awesome, fun, galactic, garden state soundtrack, genius, gold, good stuff, great song, hang on, happy, i love, indie, indie pop, indie rock, indierock, inlove, isa, johnny cash, jukebox project, just chillin, kraftwerk, lastfm elitist repellent, lights, listened more than 10 times in a row, love, love at first listen, love it, love ya  lll, lovely, lpa, male vocalists, marisa mix, melancholic, mellow, metal, musikfuerrundumdieuhr, muzyka dla mietkich chlopcow, my own private sunshine, naked, ...]"
      ]
     },
     "execution_count": 211,
     "metadata": {},
     "output_type": "execute_result"
    }
   ],
   "source": [
    "result = pd.DataFrame(aggregate_1.loc[aggregate_1.index == 65, 'tagValue'])\n",
    "result.head()"
   ]
  },
  {
   "cell_type": "code",
   "execution_count": null,
   "metadata": {},
   "outputs": [
    {
     "data": {
      "text/html": [
       "<div>\n",
       "<style scoped>\n",
       "    .dataframe tbody tr th:only-of-type {\n",
       "        vertical-align: middle;\n",
       "    }\n",
       "\n",
       "    .dataframe tbody tr th {\n",
       "        vertical-align: top;\n",
       "    }\n",
       "\n",
       "    .dataframe thead th {\n",
       "        text-align: right;\n",
       "    }\n",
       "</style>\n",
       "<table border=\"1\" class=\"dataframe\">\n",
       "  <thead>\n",
       "    <tr style=\"text-align: right;\">\n",
       "      <th></th>\n",
       "      <th>tagValue</th>\n",
       "    </tr>\n",
       "    <tr>\n",
       "      <th>artistID</th>\n",
       "      <th></th>\n",
       "    </tr>\n",
       "  </thead>\n",
       "  <tbody>\n",
       "    <tr>\n",
       "      <th>182</th>\n",
       "      <td>[00s, 2010, alternative, alternative rock, amazing, atmospheric, autumn, awesome, beautiful, beautiful music, brilliant, british, britpop, catchy, chillout, christmas, cool, dance, dreamy, duet, dw, english, epic, excellent reason for crying, favorite, favorite songs, favourite, favourites, fucking awesome, groovesuspects, hang on, hoy tengo ganas de llorar, indie, indie rock, jukebox project, keane, listen while crying and feeling like shit, lol music boa de mais da conta, love, love at first listen, love it, lovely, mad about, male vocalists, melancholic, melhor banda do mundo, mellow, melrose place, never enough, new album loves, new wave, not emo, oui fm, perfect, perfect lyrics, piano, piano rock, pop, pop rock, post-britpop, raven girls top 20, reasons to get up in the morning, relax, relaxing, remember him, reverb, rock, romantic, sad, singer-songwriter, soft rock, songs i absolutely love, songs ive obsessed over, songs that remind me of summer 07-08, songs to make florchuchizz cry, soundtrack, special, sunshine, sweet, synth, the best, the vampire diaries, these songs are just amazing, tinosoft, uk, united kingdom, unstoppable, words are cheap to describe my love]</td>\n",
       "    </tr>\n",
       "  </tbody>\n",
       "</table>\n",
       "</div>"
      ],
      "text/plain": [
       "                                                                                                                                                                                                                                                                                                                                                                                                                                                                                                                                                                                                                                                                                                                                                                                                                                                                                                                                                                                                                                                                                                                                                                                                                                        tagValue\n",
       "artistID                                                                                                                                                                                                                                                                                                                                                                                                                                                                                                                                                                                                                                                                                                                                                                                                                                                                                                                                                                                                                                                                                                                                                                                                                                        \n",
       "182       [00s, 2010, alternative, alternative rock, amazing, atmospheric, autumn, awesome, beautiful, beautiful music, brilliant, british, britpop, catchy, chillout, christmas, cool, dance, dreamy, duet, dw, english, epic, excellent reason for crying, favorite, favorite songs, favourite, favourites, fucking awesome, groovesuspects, hang on, hoy tengo ganas de llorar, indie, indie rock, jukebox project, keane, listen while crying and feeling like shit, lol music boa de mais da conta, love, love at first listen, love it, lovely, mad about, male vocalists, melancholic, melhor banda do mundo, mellow, melrose place, never enough, new album loves, new wave, not emo, oui fm, perfect, perfect lyrics, piano, piano rock, pop, pop rock, post-britpop, raven girls top 20, reasons to get up in the morning, relax, relaxing, remember him, reverb, rock, romantic, sad, singer-songwriter, soft rock, songs i absolutely love, songs ive obsessed over, songs that remind me of summer 07-08, songs to make florchuchizz cry, soundtrack, special, sunshine, sweet, synth, the best, the vampire diaries, these songs are just amazing, tinosoft, uk, united kingdom, unstoppable, words are cheap to describe my love]"
      ]
     },
     "execution_count": 212,
     "metadata": {},
     "output_type": "execute_result"
    }
   ],
   "source": [
    "result = pd.DataFrame(aggregate_1.loc[aggregate_1.index == 182, 'tagValue'])\n",
    "result.head()"
   ]
  },
  {
   "cell_type": "code",
   "execution_count": null,
   "metadata": {},
   "outputs": [
    {
     "data": {
      "text/html": [
       "<div>\n",
       "<style scoped>\n",
       "    .dataframe tbody tr th:only-of-type {\n",
       "        vertical-align: middle;\n",
       "    }\n",
       "\n",
       "    .dataframe tbody tr th {\n",
       "        vertical-align: top;\n",
       "    }\n",
       "\n",
       "    .dataframe thead th {\n",
       "        text-align: right;\n",
       "    }\n",
       "</style>\n",
       "<table border=\"1\" class=\"dataframe\">\n",
       "  <thead>\n",
       "    <tr style=\"text-align: right;\">\n",
       "      <th></th>\n",
       "      <th>tagValue</th>\n",
       "    </tr>\n",
       "    <tr>\n",
       "      <th>artistID</th>\n",
       "      <th></th>\n",
       "    </tr>\n",
       "  </thead>\n",
       "  <tbody>\n",
       "    <tr>\n",
       "      <th>154</th>\n",
       "      <td>[00s, 1995, 80s, 90s, &lt;3, a piece of me, aana, acoustic, acoustic guitar, all time favorites, alternative, alternative rock, amazing, amazing singer, ambient, atari electronic, atmospheric, awesome, b-side, barkbarkdisco, beautiful, beautiful music, beautifulsad, best song ever, best songs ever, better than metallica, better than radiohead, brilliant, brings tears to my eyes, british, britpop, britrock, calming, chill, chillout, classic rock, cool, cops, creep, creepy but amazing, dance beat rock, dark, depression, depressive, descoperiri, dramatic, dreamy, eargasmic, electro, electronic, electronic indie, electronica, energetic, epic, epic rock, european, excellent reason for crying, exhilarating, experimental, experimental rock, falsetto, favorite, favorite albums, favorite artist, favorite artists, favorite band, favorite bands, favorite songs, favorites, favourite, favourite artists, favourite bands, favourite songs, favourites, feelgood, genius, gold, great bands, great song, grunge, hypnotic, i am in love with this song, i listened to it over and over again, i love this song, ich liebe dich, idm, indie, indie rock, indie-romantic, instrumental, intense, iron jesus, jazz, jukebox project, lastfm elitist repellent, leftovergrooves, listen while crying and feeling like shit, listen with headphones, love, love at first listen, ...]</td>\n",
       "    </tr>\n",
       "  </tbody>\n",
       "</table>\n",
       "</div>"
      ],
      "text/plain": [
       "                                                                                                                                                                                                                                                                                                                                                                                                                                                                                                                                                                                                                                                                                                                                                                                                                                                                                                                                                                                                                                                                                                                                                                                                                                                                                                                                                                                                             tagValue\n",
       "artistID                                                                                                                                                                                                                                                                                                                                                                                                                                                                                                                                                                                                                                                                                                                                                                                                                                                                                                                                                                                                                                                                                                                                                                                                                                                                                                                                                                                                             \n",
       "154       [00s, 1995, 80s, 90s, <3, a piece of me, aana, acoustic, acoustic guitar, all time favorites, alternative, alternative rock, amazing, amazing singer, ambient, atari electronic, atmospheric, awesome, b-side, barkbarkdisco, beautiful, beautiful music, beautifulsad, best song ever, best songs ever, better than metallica, better than radiohead, brilliant, brings tears to my eyes, british, britpop, britrock, calming, chill, chillout, classic rock, cool, cops, creep, creepy but amazing, dance beat rock, dark, depression, depressive, descoperiri, dramatic, dreamy, eargasmic, electro, electronic, electronic indie, electronica, energetic, epic, epic rock, european, excellent reason for crying, exhilarating, experimental, experimental rock, falsetto, favorite, favorite albums, favorite artist, favorite artists, favorite band, favorite bands, favorite songs, favorites, favourite, favourite artists, favourite bands, favourite songs, favourites, feelgood, genius, gold, great bands, great song, grunge, hypnotic, i am in love with this song, i listened to it over and over again, i love this song, ich liebe dich, idm, indie, indie rock, indie-romantic, instrumental, intense, iron jesus, jazz, jukebox project, lastfm elitist repellent, leftovergrooves, listen while crying and feeling like shit, listen with headphones, love, love at first listen, ...]"
      ]
     },
     "execution_count": 213,
     "metadata": {},
     "output_type": "execute_result"
    }
   ],
   "source": [
    "result = pd.DataFrame(aggregate_1.loc[aggregate_1.index == 154, 'tagValue'])\n",
    "result.head()"
   ]
  },
  {
   "cell_type": "code",
   "execution_count": null,
   "metadata": {},
   "outputs": [
    {
     "data": {
      "text/html": [
       "<div>\n",
       "<style scoped>\n",
       "    .dataframe tbody tr th:only-of-type {\n",
       "        vertical-align: middle;\n",
       "    }\n",
       "\n",
       "    .dataframe tbody tr th {\n",
       "        vertical-align: top;\n",
       "    }\n",
       "\n",
       "    .dataframe thead th {\n",
       "        text-align: right;\n",
       "    }\n",
       "</style>\n",
       "<table border=\"1\" class=\"dataframe\">\n",
       "  <thead>\n",
       "    <tr style=\"text-align: right;\">\n",
       "      <th></th>\n",
       "      <th>tagValue</th>\n",
       "    </tr>\n",
       "    <tr>\n",
       "      <th>artistID</th>\n",
       "      <th></th>\n",
       "    </tr>\n",
       "  </thead>\n",
       "  <tbody>\n",
       "    <tr>\n",
       "      <th>366</th>\n",
       "      <td>[2008, 2010, aana, acoustic, acoustic rock, alternative, alternative rock, ambient, awesome, beach music, beautiful, chill, chill zone, chillout, cover, folk, happy, indie, love, lovely, male vocalist, male vocalists, mellow, perfecttt, pop, relax, relaxing, rock, sad, singer-songwriter, soft rock, soundtrack, surf, sweet]</td>\n",
       "    </tr>\n",
       "  </tbody>\n",
       "</table>\n",
       "</div>"
      ],
      "text/plain": [
       "                                                                                                                                                                                                                                                                                                                                      tagValue\n",
       "artistID                                                                                                                                                                                                                                                                                                                                      \n",
       "366       [2008, 2010, aana, acoustic, acoustic rock, alternative, alternative rock, ambient, awesome, beach music, beautiful, chill, chill zone, chillout, cover, folk, happy, indie, love, lovely, male vocalist, male vocalists, mellow, perfecttt, pop, relax, relaxing, rock, sad, singer-songwriter, soft rock, soundtrack, surf, sweet]"
      ]
     },
     "execution_count": 214,
     "metadata": {},
     "output_type": "execute_result"
    }
   ],
   "source": [
    "result = pd.DataFrame(aggregate_1.loc[aggregate_1.index == 366, 'tagValue'])\n",
    "result.head()"
   ]
  },
  {
   "cell_type": "markdown",
   "metadata": {},
   "source": [
    "We see that all artist have pop tag in common mostly these recommendations are for artist who are pop."
   ]
  },
  {
   "cell_type": "markdown",
   "metadata": {},
   "source": [
    "We will now do recommendations using recency based content based model"
   ]
  },
  {
   "cell_type": "code",
   "execution_count": null,
   "metadata": {},
   "outputs": [
    {
     "data": {
      "text/plain": [
       "array([229, 221, 154], dtype=int64)"
      ]
     },
     "execution_count": 215,
     "metadata": {},
     "output_type": "execute_result"
    }
   ],
   "source": [
    "results = cb2.get_most_similar(65, topn=3)\n",
    "results"
   ]
  },
  {
   "cell_type": "code",
   "execution_count": null,
   "metadata": {},
   "outputs": [
    {
     "data": {
      "text/html": [
       "<div>\n",
       "<style scoped>\n",
       "    .dataframe tbody tr th:only-of-type {\n",
       "        vertical-align: middle;\n",
       "    }\n",
       "\n",
       "    .dataframe tbody tr th {\n",
       "        vertical-align: top;\n",
       "    }\n",
       "\n",
       "    .dataframe thead th {\n",
       "        text-align: right;\n",
       "    }\n",
       "</style>\n",
       "<table border=\"1\" class=\"dataframe\">\n",
       "  <thead>\n",
       "    <tr style=\"text-align: right;\">\n",
       "      <th></th>\n",
       "      <th>tagValue</th>\n",
       "    </tr>\n",
       "    <tr>\n",
       "      <th>artistID</th>\n",
       "      <th></th>\n",
       "    </tr>\n",
       "  </thead>\n",
       "  <tbody>\n",
       "    <tr>\n",
       "      <th>65</th>\n",
       "      <td>[00s, 2002, 2005, 2008, 4m4zinq, 90s, acoustic, alternative, alternative rock, amazing, ambient, atmospheric, awesome, b-side, ballad, beatiful, beautiful, beautiful music, ben lee, best songs ever, brian eno, brilliant, brit rock, british, britpop, britrock, britsong, caaamiiiliiitaaa, chill, chillout, cities, classic rock, cold play, coldplay, cool, cover, cute, demo, dreamy, electronic, epic, eternal love, european, experimental, fail, favorite albums, favorite artist, favorite artists, favorite bands, favorite bands and artists, favorite song, favorite songs, favorites, favourite, favourite artists, favourite songs, favourites, folk, free, free download, free mp3, fucking awesome, fun, galactic, garden state soundtrack, genius, gold, good stuff, great song, hang on, happy, i love, indie, indie pop, indie rock, indierock, inlove, isa, johnny cash, jukebox project, just chillin, kraftwerk, lastfm elitist repellent, lights, listened more than 10 times in a row, love, love at first listen, love it, love ya  lll, lovely, lpa, male vocalists, marisa mix, melancholic, mellow, metal, musikfuerrundumdieuhr, muzyka dla mietkich chlopcow, my own private sunshine, naked, ...]</td>\n",
       "    </tr>\n",
       "  </tbody>\n",
       "</table>\n",
       "</div>"
      ],
      "text/plain": [
       "                                                                                                                                                                                                                                                                                                                                                                                                                                                                                                                                                                                                                                                                                                                                                                                                                                                                                                                                                                                                                                                                                                                                                                                                                                    tagValue\n",
       "artistID                                                                                                                                                                                                                                                                                                                                                                                                                                                                                                                                                                                                                                                                                                                                                                                                                                                                                                                                                                                                                                                                                                                                                                                                                                    \n",
       "65        [00s, 2002, 2005, 2008, 4m4zinq, 90s, acoustic, alternative, alternative rock, amazing, ambient, atmospheric, awesome, b-side, ballad, beatiful, beautiful, beautiful music, ben lee, best songs ever, brian eno, brilliant, brit rock, british, britpop, britrock, britsong, caaamiiiliiitaaa, chill, chillout, cities, classic rock, cold play, coldplay, cool, cover, cute, demo, dreamy, electronic, epic, eternal love, european, experimental, fail, favorite albums, favorite artist, favorite artists, favorite bands, favorite bands and artists, favorite song, favorite songs, favorites, favourite, favourite artists, favourite songs, favourites, folk, free, free download, free mp3, fucking awesome, fun, galactic, garden state soundtrack, genius, gold, good stuff, great song, hang on, happy, i love, indie, indie pop, indie rock, indierock, inlove, isa, johnny cash, jukebox project, just chillin, kraftwerk, lastfm elitist repellent, lights, listened more than 10 times in a row, love, love at first listen, love it, love ya  lll, lovely, lpa, male vocalists, marisa mix, melancholic, mellow, metal, musikfuerrundumdieuhr, muzyka dla mietkich chlopcow, my own private sunshine, naked, ...]"
      ]
     },
     "execution_count": 216,
     "metadata": {},
     "output_type": "execute_result"
    }
   ],
   "source": [
    "result = pd.DataFrame(aggregate_1.loc[aggregate_1.index == 65, 'tagValue'])\n",
    "result.head()"
   ]
  },
  {
   "cell_type": "code",
   "execution_count": null,
   "metadata": {},
   "outputs": [
    {
     "data": {
      "text/html": [
       "<div>\n",
       "<style scoped>\n",
       "    .dataframe tbody tr th:only-of-type {\n",
       "        vertical-align: middle;\n",
       "    }\n",
       "\n",
       "    .dataframe tbody tr th {\n",
       "        vertical-align: top;\n",
       "    }\n",
       "\n",
       "    .dataframe thead th {\n",
       "        text-align: right;\n",
       "    }\n",
       "</style>\n",
       "<table border=\"1\" class=\"dataframe\">\n",
       "  <thead>\n",
       "    <tr style=\"text-align: right;\">\n",
       "      <th></th>\n",
       "      <th>tagValue</th>\n",
       "    </tr>\n",
       "    <tr>\n",
       "      <th>artistID</th>\n",
       "      <th></th>\n",
       "    </tr>\n",
       "  </thead>\n",
       "  <tbody>\n",
       "    <tr>\n",
       "      <th>229</th>\n",
       "      <td>[00s, 2008, &lt;3, acoustic, alternative, alternative rock, amazing, american, american artists, anthemic, awesome, beautiful, best christmas songs, brilliant, british, britpop, chillout, christmas, cool, cool as, cover, dance, disco, dub, eargasm, efuckkkkk, electro rock, electronic, energetic, energy, epic, fantastic, favorite, favorites, favourite bands, favourites, feeling of happiness, fucking awesome, fucking good, fun, genius, glam, gold, happy, human, i love this song, i saw them live, indie, indie luv, indie pop, indie rock, indiegoodness, indierock, iwasrecommendedthis, love, love at first listen, love it, lpa, male vocalists, masterpiece, melancholic, mellow, my mind is literally blown to pieces, new album loves, new moon, new wave, new wave artists, no escape from loving it, not emo, perfect, perfection, pet shop boys, pop, pop rock, post-punk, post-punk revival, prejebeno, progressive rock, punk, rafa, raven girls top 20, relax, relax del chido, reminds me of friends, remix, rock, rock anthem, sad, seen live, sexy songs, singer-songwriter, single, so fucking good, soft rock, somebody told me, songs for gil, songs i am likely to start singing loudly in public, songs that i will still be listening to in a billion years, soundtrack, straight up modern rock, ...]</td>\n",
       "    </tr>\n",
       "  </tbody>\n",
       "</table>\n",
       "</div>"
      ],
      "text/plain": [
       "                                                                                                                                                                                                                                                                                                                                                                                                                                                                                                                                                                                                                                                                                                                                                                                                                                                                                                                                                                                                                                                                                                                                                                                                                                                                                                                                           tagValue\n",
       "artistID                                                                                                                                                                                                                                                                                                                                                                                                                                                                                                                                                                                                                                                                                                                                                                                                                                                                                                                                                                                                                                                                                                                                                                                                                                                                                                                                           \n",
       "229       [00s, 2008, <3, acoustic, alternative, alternative rock, amazing, american, american artists, anthemic, awesome, beautiful, best christmas songs, brilliant, british, britpop, chillout, christmas, cool, cool as, cover, dance, disco, dub, eargasm, efuckkkkk, electro rock, electronic, energetic, energy, epic, fantastic, favorite, favorites, favourite bands, favourites, feeling of happiness, fucking awesome, fucking good, fun, genius, glam, gold, happy, human, i love this song, i saw them live, indie, indie luv, indie pop, indie rock, indiegoodness, indierock, iwasrecommendedthis, love, love at first listen, love it, lpa, male vocalists, masterpiece, melancholic, mellow, my mind is literally blown to pieces, new album loves, new moon, new wave, new wave artists, no escape from loving it, not emo, perfect, perfection, pet shop boys, pop, pop rock, post-punk, post-punk revival, prejebeno, progressive rock, punk, rafa, raven girls top 20, relax, relax del chido, reminds me of friends, remix, rock, rock anthem, sad, seen live, sexy songs, singer-songwriter, single, so fucking good, soft rock, somebody told me, songs for gil, songs i am likely to start singing loudly in public, songs that i will still be listening to in a billion years, soundtrack, straight up modern rock, ...]"
      ]
     },
     "execution_count": 217,
     "metadata": {},
     "output_type": "execute_result"
    }
   ],
   "source": [
    "result = pd.DataFrame(aggregate_1.loc[aggregate_1.index == 229, 'tagValue'])\n",
    "result.head()"
   ]
  },
  {
   "cell_type": "code",
   "execution_count": null,
   "metadata": {},
   "outputs": [
    {
     "data": {
      "text/html": [
       "<div>\n",
       "<style scoped>\n",
       "    .dataframe tbody tr th:only-of-type {\n",
       "        vertical-align: middle;\n",
       "    }\n",
       "\n",
       "    .dataframe tbody tr th {\n",
       "        vertical-align: top;\n",
       "    }\n",
       "\n",
       "    .dataframe thead th {\n",
       "        text-align: right;\n",
       "    }\n",
       "</style>\n",
       "<table border=\"1\" class=\"dataframe\">\n",
       "  <thead>\n",
       "    <tr style=\"text-align: right;\">\n",
       "      <th></th>\n",
       "      <th>tagValue</th>\n",
       "    </tr>\n",
       "    <tr>\n",
       "      <th>artistID</th>\n",
       "      <th></th>\n",
       "    </tr>\n",
       "  </thead>\n",
       "  <tbody>\n",
       "    <tr>\n",
       "      <th>221</th>\n",
       "      <td>[aana, acoustic, alternative, alternative rock, beautiful, best songs in the world, brit-pop, british, britney spears ate too many raw eggs and her voice mutated, britpop, brooke fraser, chillout, cool, european, folk, fresh love, gold, good old times, happy, indie, indie luv, indie pop, indie rock, industrial, inlove, listened more than 10 times in a row, love, love it, male vocalists, mellow, numbers, ohmydamn, one tree hill, peace, playlist, pop, relaxing, rock, rockville ca, scottish, seen live, simple, soft rock, soundtrack, special, specials to 3mmey, sweet, the pedofinder general, the slow-mo, title is a full sentence, too late, touching song, uk, zadrotstvo]</td>\n",
       "    </tr>\n",
       "  </tbody>\n",
       "</table>\n",
       "</div>"
      ],
      "text/plain": [
       "                                                                                                                                                                                                                                                                                                                                                                                                                                                                                                                                                                                                                                                                                                    tagValue\n",
       "artistID                                                                                                                                                                                                                                                                                                                                                                                                                                                                                                                                                                                                                                                                                                    \n",
       "221       [aana, acoustic, alternative, alternative rock, beautiful, best songs in the world, brit-pop, british, britney spears ate too many raw eggs and her voice mutated, britpop, brooke fraser, chillout, cool, european, folk, fresh love, gold, good old times, happy, indie, indie luv, indie pop, indie rock, industrial, inlove, listened more than 10 times in a row, love, love it, male vocalists, mellow, numbers, ohmydamn, one tree hill, peace, playlist, pop, relaxing, rock, rockville ca, scottish, seen live, simple, soft rock, soundtrack, special, specials to 3mmey, sweet, the pedofinder general, the slow-mo, title is a full sentence, too late, touching song, uk, zadrotstvo]"
      ]
     },
     "execution_count": 218,
     "metadata": {},
     "output_type": "execute_result"
    }
   ],
   "source": [
    "result = pd.DataFrame(aggregate_1.loc[aggregate_1.index == 221, 'tagValue'])\n",
    "result.head()"
   ]
  },
  {
   "cell_type": "code",
   "execution_count": null,
   "metadata": {},
   "outputs": [
    {
     "data": {
      "text/html": [
       "<div>\n",
       "<style scoped>\n",
       "    .dataframe tbody tr th:only-of-type {\n",
       "        vertical-align: middle;\n",
       "    }\n",
       "\n",
       "    .dataframe tbody tr th {\n",
       "        vertical-align: top;\n",
       "    }\n",
       "\n",
       "    .dataframe thead th {\n",
       "        text-align: right;\n",
       "    }\n",
       "</style>\n",
       "<table border=\"1\" class=\"dataframe\">\n",
       "  <thead>\n",
       "    <tr style=\"text-align: right;\">\n",
       "      <th></th>\n",
       "      <th>tagValue</th>\n",
       "    </tr>\n",
       "    <tr>\n",
       "      <th>artistID</th>\n",
       "      <th></th>\n",
       "    </tr>\n",
       "  </thead>\n",
       "  <tbody>\n",
       "    <tr>\n",
       "      <th>154</th>\n",
       "      <td>[00s, 1995, 80s, 90s, &lt;3, a piece of me, aana, acoustic, acoustic guitar, all time favorites, alternative, alternative rock, amazing, amazing singer, ambient, atari electronic, atmospheric, awesome, b-side, barkbarkdisco, beautiful, beautiful music, beautifulsad, best song ever, best songs ever, better than metallica, better than radiohead, brilliant, brings tears to my eyes, british, britpop, britrock, calming, chill, chillout, classic rock, cool, cops, creep, creepy but amazing, dance beat rock, dark, depression, depressive, descoperiri, dramatic, dreamy, eargasmic, electro, electronic, electronic indie, electronica, energetic, epic, epic rock, european, excellent reason for crying, exhilarating, experimental, experimental rock, falsetto, favorite, favorite albums, favorite artist, favorite artists, favorite band, favorite bands, favorite songs, favorites, favourite, favourite artists, favourite bands, favourite songs, favourites, feelgood, genius, gold, great bands, great song, grunge, hypnotic, i am in love with this song, i listened to it over and over again, i love this song, ich liebe dich, idm, indie, indie rock, indie-romantic, instrumental, intense, iron jesus, jazz, jukebox project, lastfm elitist repellent, leftovergrooves, listen while crying and feeling like shit, listen with headphones, love, love at first listen, ...]</td>\n",
       "    </tr>\n",
       "  </tbody>\n",
       "</table>\n",
       "</div>"
      ],
      "text/plain": [
       "                                                                                                                                                                                                                                                                                                                                                                                                                                                                                                                                                                                                                                                                                                                                                                                                                                                                                                                                                                                                                                                                                                                                                                                                                                                                                                                                                                                                             tagValue\n",
       "artistID                                                                                                                                                                                                                                                                                                                                                                                                                                                                                                                                                                                                                                                                                                                                                                                                                                                                                                                                                                                                                                                                                                                                                                                                                                                                                                                                                                                                             \n",
       "154       [00s, 1995, 80s, 90s, <3, a piece of me, aana, acoustic, acoustic guitar, all time favorites, alternative, alternative rock, amazing, amazing singer, ambient, atari electronic, atmospheric, awesome, b-side, barkbarkdisco, beautiful, beautiful music, beautifulsad, best song ever, best songs ever, better than metallica, better than radiohead, brilliant, brings tears to my eyes, british, britpop, britrock, calming, chill, chillout, classic rock, cool, cops, creep, creepy but amazing, dance beat rock, dark, depression, depressive, descoperiri, dramatic, dreamy, eargasmic, electro, electronic, electronic indie, electronica, energetic, epic, epic rock, european, excellent reason for crying, exhilarating, experimental, experimental rock, falsetto, favorite, favorite albums, favorite artist, favorite artists, favorite band, favorite bands, favorite songs, favorites, favourite, favourite artists, favourite bands, favourite songs, favourites, feelgood, genius, gold, great bands, great song, grunge, hypnotic, i am in love with this song, i listened to it over and over again, i love this song, ich liebe dich, idm, indie, indie rock, indie-romantic, instrumental, intense, iron jesus, jazz, jukebox project, lastfm elitist repellent, leftovergrooves, listen while crying and feeling like shit, listen with headphones, love, love at first listen, ...]"
      ]
     },
     "execution_count": 219,
     "metadata": {},
     "output_type": "execute_result"
    }
   ],
   "source": [
    "result = pd.DataFrame(aggregate_1.loc[aggregate_1.index == 154, 'tagValue'])\n",
    "result.head()"
   ]
  },
  {
   "cell_type": "markdown",
   "metadata": {},
   "source": [
    "All artist have romantic tag in common and also seems like popular artists based on top-40 tag. These predictions look better than the previous two recommendations "
   ]
  },
  {
   "cell_type": "markdown",
   "metadata": {},
   "source": [
    "## Hybrid Models"
   ]
  },
  {
   "cell_type": "code",
   "execution_count": null,
   "metadata": {},
   "outputs": [],
   "source": [
    "df_ib_pred, df_ub_pred, df_predclu, df_mf_pred, df_als_pred, df_cb_pred_1, df_cb_pred_2, df_cb_pred_3 = pd.DataFrame(ib_pred),pd.DataFrame(ub_pred), pd.DataFrame(predclu), pd.DataFrame(mf_pred), pd.DataFrame(als_pred), pd.DataFrame(cb_pred_1), pd.DataFrame(cb_pred_2), pd.DataFrame(cb_pred_3)"
   ]
  },
  {
   "cell_type": "markdown",
   "metadata": {},
   "source": [
    "Lets Create a Hybrid model using ALS and Recency Based Content Model"
   ]
  },
  {
   "cell_type": "code",
   "execution_count": null,
   "metadata": {},
   "outputs": [
    {
     "data": {
      "text/html": [
       "<div>\n",
       "<style scoped>\n",
       "    .dataframe tbody tr th:only-of-type {\n",
       "        vertical-align: middle;\n",
       "    }\n",
       "\n",
       "    .dataframe tbody tr th {\n",
       "        vertical-align: top;\n",
       "    }\n",
       "\n",
       "    .dataframe thead th {\n",
       "        text-align: right;\n",
       "    }\n",
       "</style>\n",
       "<table border=\"1\" class=\"dataframe\">\n",
       "  <thead>\n",
       "    <tr style=\"text-align: right;\">\n",
       "      <th></th>\n",
       "      <th>uid</th>\n",
       "      <th>iid</th>\n",
       "      <th>r_ui</th>\n",
       "      <th>est</th>\n",
       "      <th>details</th>\n",
       "    </tr>\n",
       "  </thead>\n",
       "  <tbody>\n",
       "    <tr>\n",
       "      <th>0</th>\n",
       "      <td>200</td>\n",
       "      <td>998</td>\n",
       "      <td>6.0</td>\n",
       "      <td>5.882823</td>\n",
       "      <td>{'was_impossible': False}</td>\n",
       "    </tr>\n",
       "    <tr>\n",
       "      <th>1</th>\n",
       "      <td>1833</td>\n",
       "      <td>543</td>\n",
       "      <td>5.0</td>\n",
       "      <td>5.690453</td>\n",
       "      <td>{'was_impossible': False}</td>\n",
       "    </tr>\n",
       "    <tr>\n",
       "      <th>2</th>\n",
       "      <td>293</td>\n",
       "      <td>5313</td>\n",
       "      <td>6.0</td>\n",
       "      <td>5.601763</td>\n",
       "      <td>{'was_impossible': False}</td>\n",
       "    </tr>\n",
       "    <tr>\n",
       "      <th>3</th>\n",
       "      <td>1102</td>\n",
       "      <td>328</td>\n",
       "      <td>5.0</td>\n",
       "      <td>5.677881</td>\n",
       "      <td>{'was_impossible': False}</td>\n",
       "    </tr>\n",
       "    <tr>\n",
       "      <th>4</th>\n",
       "      <td>938</td>\n",
       "      <td>7191</td>\n",
       "      <td>7.0</td>\n",
       "      <td>6.515067</td>\n",
       "      <td>{'was_impossible': True}</td>\n",
       "    </tr>\n",
       "  </tbody>\n",
       "</table>\n",
       "</div>"
      ],
      "text/plain": [
       "    uid   iid  r_ui       est                    details\n",
       "0   200   998   6.0  5.882823  {'was_impossible': False}\n",
       "1  1833   543   5.0  5.690453  {'was_impossible': False}\n",
       "2   293  5313   6.0  5.601763  {'was_impossible': False}\n",
       "3  1102   328   5.0  5.677881  {'was_impossible': False}\n",
       "4   938  7191   7.0  6.515067   {'was_impossible': True}"
      ]
     },
     "execution_count": 221,
     "metadata": {},
     "output_type": "execute_result"
    }
   ],
   "source": [
    "df_hybrid = df_cb_pred_3.copy()\n",
    "df_hybrid['est'] = (np.array(df_cb_pred_3['est']) + np.array(df_als_pred['est'])) / 2\n",
    "\n",
    "df_hybrid.head()"
   ]
  },
  {
   "cell_type": "code",
   "execution_count": null,
   "metadata": {},
   "outputs": [
    {
     "data": {
      "text/html": [
       "<div>\n",
       "<style scoped>\n",
       "    .dataframe tbody tr th:only-of-type {\n",
       "        vertical-align: middle;\n",
       "    }\n",
       "\n",
       "    .dataframe tbody tr th {\n",
       "        vertical-align: top;\n",
       "    }\n",
       "\n",
       "    .dataframe thead th {\n",
       "        text-align: right;\n",
       "    }\n",
       "</style>\n",
       "<table border=\"1\" class=\"dataframe\">\n",
       "  <thead>\n",
       "    <tr style=\"text-align: right;\">\n",
       "      <th></th>\n",
       "      <th>CB_HYBRID</th>\n",
       "      <th>CB_REC</th>\n",
       "      <th>CB_FREQ</th>\n",
       "      <th>CB_TDIDF</th>\n",
       "      <th>IB</th>\n",
       "      <th>UB</th>\n",
       "      <th>CLU</th>\n",
       "      <th>SVD</th>\n",
       "      <th>ALS</th>\n",
       "    </tr>\n",
       "  </thead>\n",
       "  <tbody>\n",
       "    <tr>\n",
       "      <th>RMSE</th>\n",
       "      <td>0.928663</td>\n",
       "      <td>0.995778</td>\n",
       "      <td>1.002499</td>\n",
       "      <td>1.061201</td>\n",
       "      <td>1.155835</td>\n",
       "      <td>1.496085</td>\n",
       "      <td>1.114257</td>\n",
       "      <td>1.421003</td>\n",
       "      <td>0.940659</td>\n",
       "    </tr>\n",
       "    <tr>\n",
       "      <th>MAE</th>\n",
       "      <td>0.695740</td>\n",
       "      <td>0.724015</td>\n",
       "      <td>0.728852</td>\n",
       "      <td>0.767399</td>\n",
       "      <td>0.829390</td>\n",
       "      <td>1.128415</td>\n",
       "      <td>0.820945</td>\n",
       "      <td>1.004436</td>\n",
       "      <td>0.713441</td>\n",
       "    </tr>\n",
       "    <tr>\n",
       "      <th>Recall</th>\n",
       "      <td>0.966082</td>\n",
       "      <td>0.949873</td>\n",
       "      <td>0.950623</td>\n",
       "      <td>0.953873</td>\n",
       "      <td>0.955123</td>\n",
       "      <td>0.994916</td>\n",
       "      <td>0.925705</td>\n",
       "      <td>0.832660</td>\n",
       "      <td>0.975791</td>\n",
       "    </tr>\n",
       "    <tr>\n",
       "      <th>Precision</th>\n",
       "      <td>0.951492</td>\n",
       "      <td>0.951657</td>\n",
       "      <td>0.950267</td>\n",
       "      <td>0.940703</td>\n",
       "      <td>0.922934</td>\n",
       "      <td>0.867718</td>\n",
       "      <td>0.939723</td>\n",
       "      <td>0.942417</td>\n",
       "      <td>0.950985</td>\n",
       "    </tr>\n",
       "    <tr>\n",
       "      <th>F1</th>\n",
       "      <td>0.958731</td>\n",
       "      <td>0.950764</td>\n",
       "      <td>0.950445</td>\n",
       "      <td>0.947242</td>\n",
       "      <td>0.938753</td>\n",
       "      <td>0.926974</td>\n",
       "      <td>0.932662</td>\n",
       "      <td>0.884145</td>\n",
       "      <td>0.963228</td>\n",
       "    </tr>\n",
       "    <tr>\n",
       "      <th>NDCG@5</th>\n",
       "      <td>0.856330</td>\n",
       "      <td>0.864225</td>\n",
       "      <td>0.866111</td>\n",
       "      <td>0.864106</td>\n",
       "      <td>0.843581</td>\n",
       "      <td>0.856282</td>\n",
       "      <td>0.852969</td>\n",
       "      <td>0.859563</td>\n",
       "      <td>0.855251</td>\n",
       "    </tr>\n",
       "  </tbody>\n",
       "</table>\n",
       "</div>"
      ],
      "text/plain": [
       "           CB_HYBRID    CB_REC   CB_FREQ  CB_TDIDF        IB        UB  \\\n",
       "RMSE        0.928663  0.995778  1.002499  1.061201  1.155835  1.496085   \n",
       "MAE         0.695740  0.724015  0.728852  0.767399  0.829390  1.128415   \n",
       "Recall      0.966082  0.949873  0.950623  0.953873  0.955123  0.994916   \n",
       "Precision   0.951492  0.951657  0.950267  0.940703  0.922934  0.867718   \n",
       "F1          0.958731  0.950764  0.950445  0.947242  0.938753  0.926974   \n",
       "NDCG@5      0.856330  0.864225  0.866111  0.864106  0.843581  0.856282   \n",
       "\n",
       "                CLU       SVD       ALS  \n",
       "RMSE       1.114257  1.421003  0.940659  \n",
       "MAE        0.820945  1.004436  0.713441  \n",
       "Recall     0.925705  0.832660  0.975791  \n",
       "Precision  0.939723  0.942417  0.950985  \n",
       "F1         0.932662  0.884145  0.963228  \n",
       "NDCG@5     0.852969  0.859563  0.855251  "
      ]
     },
     "execution_count": 222,
     "metadata": {},
     "output_type": "execute_result"
    }
   ],
   "source": [
    "overview = pd.concat([eval.evaluate(df_hybrid, topn=5, rating_cutoff=5), overview], axis = 1)\n",
    "overview.rename(columns={'value':'CB_HYBRID'}, inplace = True)\n",
    "overview"
   ]
  },
  {
   "cell_type": "markdown",
   "metadata": {},
   "source": [
    "Logistic Regression"
   ]
  },
  {
   "cell_type": "code",
   "execution_count": null,
   "metadata": {},
   "outputs": [
    {
     "data": {
      "text/html": [
       "<div>\n",
       "<style scoped>\n",
       "    .dataframe tbody tr th:only-of-type {\n",
       "        vertical-align: middle;\n",
       "    }\n",
       "\n",
       "    .dataframe tbody tr th {\n",
       "        vertical-align: top;\n",
       "    }\n",
       "\n",
       "    .dataframe thead th {\n",
       "        text-align: right;\n",
       "    }\n",
       "</style>\n",
       "<table border=\"1\" class=\"dataframe\">\n",
       "  <thead>\n",
       "    <tr style=\"text-align: right;\">\n",
       "      <th></th>\n",
       "      <th>target</th>\n",
       "      <th>als_pred</th>\n",
       "      <th>cb_pred_rec</th>\n",
       "    </tr>\n",
       "  </thead>\n",
       "  <tbody>\n",
       "    <tr>\n",
       "      <th>0</th>\n",
       "      <td>6.0</td>\n",
       "      <td>5.923541</td>\n",
       "      <td>5.842105</td>\n",
       "    </tr>\n",
       "    <tr>\n",
       "      <th>1</th>\n",
       "      <td>5.0</td>\n",
       "      <td>5.705231</td>\n",
       "      <td>5.675676</td>\n",
       "    </tr>\n",
       "    <tr>\n",
       "      <th>2</th>\n",
       "      <td>6.0</td>\n",
       "      <td>5.720768</td>\n",
       "      <td>5.482759</td>\n",
       "    </tr>\n",
       "    <tr>\n",
       "      <th>3</th>\n",
       "      <td>5.0</td>\n",
       "      <td>5.599005</td>\n",
       "      <td>5.756757</td>\n",
       "    </tr>\n",
       "    <tr>\n",
       "      <th>4</th>\n",
       "      <td>7.0</td>\n",
       "      <td>7.055771</td>\n",
       "      <td>5.974363</td>\n",
       "    </tr>\n",
       "  </tbody>\n",
       "</table>\n",
       "</div>"
      ],
      "text/plain": [
       "   target  als_pred  cb_pred_rec\n",
       "0     6.0  5.923541     5.842105\n",
       "1     5.0  5.705231     5.675676\n",
       "2     6.0  5.720768     5.482759\n",
       "3     5.0  5.599005     5.756757\n",
       "4     7.0  7.055771     5.974363"
      ]
     },
     "execution_count": 223,
     "metadata": {},
     "output_type": "execute_result"
    }
   ],
   "source": [
    "# training set for Linear Regression model\n",
    "lr_train = df_als_pred[['r_ui', 'est']].rename(columns={'r_ui':'target', 'est':'als_pred'})\n",
    "lr_train['cb_pred_rec'] = df_cb_pred_3['est']\n",
    "lr_train.head()"
   ]
  },
  {
   "cell_type": "code",
   "execution_count": null,
   "metadata": {},
   "outputs": [
    {
     "data": {
      "text/plain": [
       "<matplotlib.colorbar.Colorbar at 0x25d97e25460>"
      ]
     },
     "execution_count": 224,
     "metadata": {},
     "output_type": "execute_result"
    },
    {
     "data": {
      "image/png": "[encoded data removed]",
      "text/plain": [
       "<Figure size 864x432 with 2 Axes>"
      ]
     },
     "metadata": {
      "needs_background": "light"
     },
     "output_type": "display_data"
    }
   ],
   "source": [
    "# visualize\n",
    "scatter_df = lr_train.sample(10000, random_state=42)\n",
    "plt.figure(figsize = (12, 6))\n",
    "plt.scatter(x=scatter_df.als_pred, y=scatter_df.cb_pred_rec, c=scatter_df.target, cmap='coolwarm')\n",
    "plt.xlabel('ALS-Based')\n",
    "plt.ylabel('Content-Based')\n",
    "plt.title('Color = True Rating')\n",
    "plt.colorbar()"
   ]
  },
  {
   "cell_type": "code",
   "execution_count": null,
   "metadata": {},
   "outputs": [],
   "source": [
    "# Train Linear Regression model\n",
    "from sklearn.linear_model import LinearRegression\n",
    "\n",
    "X, y = lr_train.loc[:,lr_train.columns != 'target'], lr_train[['target']]\n",
    "\n",
    "lr_model = LinearRegression().fit(X,y)"
   ]
  },
  {
   "cell_type": "code",
   "execution_count": null,
   "metadata": {},
   "outputs": [],
   "source": [
    "##### Hybrid - Linear Regression model\n",
    "# get test set\n",
    "lr_test = df_als_pred[['r_ui', 'est']].rename(columns={'r_ui':'target', 'est':'als_pred'})\n",
    "lr_test['cb_pred_rec'] = df_cb_pred_3['est']\n",
    "X_test, y_test = lr_test.loc[:,lr_test.columns != 'target'], lr_test[['target']]\n",
    "\n",
    "# predict\n",
    "lr_pred = lr_model.predict(X_test)\n",
    "\n",
    "# transform in surprise format\n",
    "df_lr =  df_als_pred.copy()\n",
    "df_lr['est'] = lr_pred"
   ]
  },
  {
   "cell_type": "code",
   "execution_count": null,
   "metadata": {},
   "outputs": [
    {
     "data": {
      "text/html": [
       "<div>\n",
       "<style scoped>\n",
       "    .dataframe tbody tr th:only-of-type {\n",
       "        vertical-align: middle;\n",
       "    }\n",
       "\n",
       "    .dataframe tbody tr th {\n",
       "        vertical-align: top;\n",
       "    }\n",
       "\n",
       "    .dataframe thead th {\n",
       "        text-align: right;\n",
       "    }\n",
       "</style>\n",
       "<table border=\"1\" class=\"dataframe\">\n",
       "  <thead>\n",
       "    <tr style=\"text-align: right;\">\n",
       "      <th></th>\n",
       "      <th>HYBRID_LR</th>\n",
       "      <th>CB_HYBRID</th>\n",
       "      <th>CB_REC</th>\n",
       "      <th>CB_FREQ</th>\n",
       "      <th>CB_TDIDF</th>\n",
       "      <th>IB</th>\n",
       "      <th>UB</th>\n",
       "      <th>CLU</th>\n",
       "      <th>SVD</th>\n",
       "      <th>ALS</th>\n",
       "    </tr>\n",
       "  </thead>\n",
       "  <tbody>\n",
       "    <tr>\n",
       "      <th>RMSE</th>\n",
       "      <td>0.868621</td>\n",
       "      <td>0.928663</td>\n",
       "      <td>0.995778</td>\n",
       "      <td>1.002499</td>\n",
       "      <td>1.061201</td>\n",
       "      <td>1.155835</td>\n",
       "      <td>1.496085</td>\n",
       "      <td>1.114257</td>\n",
       "      <td>1.421003</td>\n",
       "      <td>0.940659</td>\n",
       "    </tr>\n",
       "    <tr>\n",
       "      <th>MAE</th>\n",
       "      <td>0.651895</td>\n",
       "      <td>0.695740</td>\n",
       "      <td>0.724015</td>\n",
       "      <td>0.728852</td>\n",
       "      <td>0.767399</td>\n",
       "      <td>0.829390</td>\n",
       "      <td>1.128415</td>\n",
       "      <td>0.820945</td>\n",
       "      <td>1.004436</td>\n",
       "      <td>0.713441</td>\n",
       "    </tr>\n",
       "    <tr>\n",
       "      <th>Recall</th>\n",
       "      <td>0.934747</td>\n",
       "      <td>0.966082</td>\n",
       "      <td>0.949873</td>\n",
       "      <td>0.950623</td>\n",
       "      <td>0.953873</td>\n",
       "      <td>0.955123</td>\n",
       "      <td>0.994916</td>\n",
       "      <td>0.925705</td>\n",
       "      <td>0.832660</td>\n",
       "      <td>0.975791</td>\n",
       "    </tr>\n",
       "    <tr>\n",
       "      <th>Precision</th>\n",
       "      <td>0.976537</td>\n",
       "      <td>0.951492</td>\n",
       "      <td>0.951657</td>\n",
       "      <td>0.950267</td>\n",
       "      <td>0.940703</td>\n",
       "      <td>0.922934</td>\n",
       "      <td>0.867718</td>\n",
       "      <td>0.939723</td>\n",
       "      <td>0.942417</td>\n",
       "      <td>0.950985</td>\n",
       "    </tr>\n",
       "    <tr>\n",
       "      <th>F1</th>\n",
       "      <td>0.955185</td>\n",
       "      <td>0.958731</td>\n",
       "      <td>0.950764</td>\n",
       "      <td>0.950445</td>\n",
       "      <td>0.947242</td>\n",
       "      <td>0.938753</td>\n",
       "      <td>0.926974</td>\n",
       "      <td>0.932662</td>\n",
       "      <td>0.884145</td>\n",
       "      <td>0.963228</td>\n",
       "    </tr>\n",
       "    <tr>\n",
       "      <th>NDCG@5</th>\n",
       "      <td>0.855145</td>\n",
       "      <td>0.856330</td>\n",
       "      <td>0.864225</td>\n",
       "      <td>0.866111</td>\n",
       "      <td>0.864106</td>\n",
       "      <td>0.843581</td>\n",
       "      <td>0.856282</td>\n",
       "      <td>0.852969</td>\n",
       "      <td>0.859563</td>\n",
       "      <td>0.855251</td>\n",
       "    </tr>\n",
       "  </tbody>\n",
       "</table>\n",
       "</div>"
      ],
      "text/plain": [
       "           HYBRID_LR  CB_HYBRID    CB_REC   CB_FREQ  CB_TDIDF        IB  \\\n",
       "RMSE        0.868621   0.928663  0.995778  1.002499  1.061201  1.155835   \n",
       "MAE         0.651895   0.695740  0.724015  0.728852  0.767399  0.829390   \n",
       "Recall      0.934747   0.966082  0.949873  0.950623  0.953873  0.955123   \n",
       "Precision   0.976537   0.951492  0.951657  0.950267  0.940703  0.922934   \n",
       "F1          0.955185   0.958731  0.950764  0.950445  0.947242  0.938753   \n",
       "NDCG@5      0.855145   0.856330  0.864225  0.866111  0.864106  0.843581   \n",
       "\n",
       "                 UB       CLU       SVD       ALS  \n",
       "RMSE       1.496085  1.114257  1.421003  0.940659  \n",
       "MAE        1.128415  0.820945  1.004436  0.713441  \n",
       "Recall     0.994916  0.925705  0.832660  0.975791  \n",
       "Precision  0.867718  0.939723  0.942417  0.950985  \n",
       "F1         0.926974  0.932662  0.884145  0.963228  \n",
       "NDCG@5     0.856282  0.852969  0.859563  0.855251  "
      ]
     },
     "execution_count": 227,
     "metadata": {},
     "output_type": "execute_result"
    }
   ],
   "source": [
    "overview = pd.concat([eval.evaluate(df_lr, topn=5, rating_cutoff=5), overview], axis = 1)\n",
    "overview.rename(columns={'value':'HYBRID_LR'}, inplace = True)\n",
    "overview"
   ]
  },
  {
   "cell_type": "markdown",
   "metadata": {},
   "source": [
    "Random Forrest"
   ]
  },
  {
   "cell_type": "code",
   "execution_count": null,
   "metadata": {},
   "outputs": [
    {
     "data": {
      "text/html": [
       "<div>\n",
       "<style scoped>\n",
       "    .dataframe tbody tr th:only-of-type {\n",
       "        vertical-align: middle;\n",
       "    }\n",
       "\n",
       "    .dataframe tbody tr th {\n",
       "        vertical-align: top;\n",
       "    }\n",
       "\n",
       "    .dataframe thead th {\n",
       "        text-align: right;\n",
       "    }\n",
       "</style>\n",
       "<table border=\"1\" class=\"dataframe\">\n",
       "  <thead>\n",
       "    <tr style=\"text-align: right;\">\n",
       "      <th></th>\n",
       "      <th>target</th>\n",
       "      <th>als_pred</th>\n",
       "      <th>cb_pred_rec</th>\n",
       "    </tr>\n",
       "  </thead>\n",
       "  <tbody>\n",
       "    <tr>\n",
       "      <th>0</th>\n",
       "      <td>6.0</td>\n",
       "      <td>5.923541</td>\n",
       "      <td>5.842105</td>\n",
       "    </tr>\n",
       "    <tr>\n",
       "      <th>1</th>\n",
       "      <td>5.0</td>\n",
       "      <td>5.705231</td>\n",
       "      <td>5.675676</td>\n",
       "    </tr>\n",
       "    <tr>\n",
       "      <th>2</th>\n",
       "      <td>6.0</td>\n",
       "      <td>5.720768</td>\n",
       "      <td>5.482759</td>\n",
       "    </tr>\n",
       "    <tr>\n",
       "      <th>3</th>\n",
       "      <td>5.0</td>\n",
       "      <td>5.599005</td>\n",
       "      <td>5.756757</td>\n",
       "    </tr>\n",
       "    <tr>\n",
       "      <th>4</th>\n",
       "      <td>7.0</td>\n",
       "      <td>7.055771</td>\n",
       "      <td>5.974363</td>\n",
       "    </tr>\n",
       "  </tbody>\n",
       "</table>\n",
       "</div>"
      ],
      "text/plain": [
       "   target  als_pred  cb_pred_rec\n",
       "0     6.0  5.923541     5.842105\n",
       "1     5.0  5.705231     5.675676\n",
       "2     6.0  5.720768     5.482759\n",
       "3     5.0  5.599005     5.756757\n",
       "4     7.0  7.055771     5.974363"
      ]
     },
     "execution_count": 228,
     "metadata": {},
     "output_type": "execute_result"
    }
   ],
   "source": [
    "# copy lr train set\n",
    "rf_train = lr_train.copy()\n",
    "rf_train.head()"
   ]
  },
  {
   "cell_type": "code",
   "execution_count": null,
   "metadata": {},
   "outputs": [],
   "source": [
    "from sklearn.ensemble import RandomForestRegressor\n",
    "\n",
    "X, y = rf_train.loc[:,rf_train.columns != 'target'], np.array(rf_train['target'])\n",
    "\n",
    "# fit random forest model\n",
    "rf_model = RandomForestRegressor(max_depth=4, n_estimators=100).fit(X,y)"
   ]
  },
  {
   "cell_type": "code",
   "execution_count": null,
   "metadata": {},
   "outputs": [],
   "source": [
    "# predict\n",
    "rf_pred = rf_model.predict(X_test)\n",
    "\n",
    "# transform in surprise format\n",
    "df_rf = df_als_pred.copy()\n",
    "df_rf['est'] = rf_pred"
   ]
  },
  {
   "cell_type": "code",
   "execution_count": null,
   "metadata": {},
   "outputs": [
    {
     "data": {
      "text/html": [
       "<div>\n",
       "<style scoped>\n",
       "    .dataframe tbody tr th:only-of-type {\n",
       "        vertical-align: middle;\n",
       "    }\n",
       "\n",
       "    .dataframe tbody tr th {\n",
       "        vertical-align: top;\n",
       "    }\n",
       "\n",
       "    .dataframe thead th {\n",
       "        text-align: right;\n",
       "    }\n",
       "</style>\n",
       "<table border=\"1\" class=\"dataframe\">\n",
       "  <thead>\n",
       "    <tr style=\"text-align: right;\">\n",
       "      <th></th>\n",
       "      <th>HYBRID_RF</th>\n",
       "      <th>HYBRID_LR</th>\n",
       "      <th>CB_HYBRID</th>\n",
       "      <th>CB_REC</th>\n",
       "      <th>CB_FREQ</th>\n",
       "      <th>CB_TDIDF</th>\n",
       "      <th>IB</th>\n",
       "      <th>UB</th>\n",
       "      <th>CLU</th>\n",
       "      <th>SVD</th>\n",
       "      <th>ALS</th>\n",
       "    </tr>\n",
       "  </thead>\n",
       "  <tbody>\n",
       "    <tr>\n",
       "      <th>RMSE</th>\n",
       "      <td>0.862784</td>\n",
       "      <td>0.868621</td>\n",
       "      <td>0.928663</td>\n",
       "      <td>0.995778</td>\n",
       "      <td>1.002499</td>\n",
       "      <td>1.061201</td>\n",
       "      <td>1.155835</td>\n",
       "      <td>1.496085</td>\n",
       "      <td>1.114257</td>\n",
       "      <td>1.421003</td>\n",
       "      <td>0.940659</td>\n",
       "    </tr>\n",
       "    <tr>\n",
       "      <th>MAE</th>\n",
       "      <td>0.652101</td>\n",
       "      <td>0.651895</td>\n",
       "      <td>0.695740</td>\n",
       "      <td>0.724015</td>\n",
       "      <td>0.728852</td>\n",
       "      <td>0.767399</td>\n",
       "      <td>0.829390</td>\n",
       "      <td>1.128415</td>\n",
       "      <td>0.820945</td>\n",
       "      <td>1.004436</td>\n",
       "      <td>0.713441</td>\n",
       "    </tr>\n",
       "    <tr>\n",
       "      <th>Recall</th>\n",
       "      <td>0.940748</td>\n",
       "      <td>0.934747</td>\n",
       "      <td>0.966082</td>\n",
       "      <td>0.949873</td>\n",
       "      <td>0.950623</td>\n",
       "      <td>0.953873</td>\n",
       "      <td>0.955123</td>\n",
       "      <td>0.994916</td>\n",
       "      <td>0.925705</td>\n",
       "      <td>0.832660</td>\n",
       "      <td>0.975791</td>\n",
       "    </tr>\n",
       "    <tr>\n",
       "      <th>Precision</th>\n",
       "      <td>0.974827</td>\n",
       "      <td>0.976537</td>\n",
       "      <td>0.951492</td>\n",
       "      <td>0.951657</td>\n",
       "      <td>0.950267</td>\n",
       "      <td>0.940703</td>\n",
       "      <td>0.922934</td>\n",
       "      <td>0.867718</td>\n",
       "      <td>0.939723</td>\n",
       "      <td>0.942417</td>\n",
       "      <td>0.950985</td>\n",
       "    </tr>\n",
       "    <tr>\n",
       "      <th>F1</th>\n",
       "      <td>0.957484</td>\n",
       "      <td>0.955185</td>\n",
       "      <td>0.958731</td>\n",
       "      <td>0.950764</td>\n",
       "      <td>0.950445</td>\n",
       "      <td>0.947242</td>\n",
       "      <td>0.938753</td>\n",
       "      <td>0.926974</td>\n",
       "      <td>0.932662</td>\n",
       "      <td>0.884145</td>\n",
       "      <td>0.963228</td>\n",
       "    </tr>\n",
       "    <tr>\n",
       "      <th>NDCG@5</th>\n",
       "      <td>0.858753</td>\n",
       "      <td>0.855145</td>\n",
       "      <td>0.856330</td>\n",
       "      <td>0.864225</td>\n",
       "      <td>0.866111</td>\n",
       "      <td>0.864106</td>\n",
       "      <td>0.843581</td>\n",
       "      <td>0.856282</td>\n",
       "      <td>0.852969</td>\n",
       "      <td>0.859563</td>\n",
       "      <td>0.855251</td>\n",
       "    </tr>\n",
       "  </tbody>\n",
       "</table>\n",
       "</div>"
      ],
      "text/plain": [
       "           HYBRID_RF  HYBRID_LR  CB_HYBRID    CB_REC   CB_FREQ  CB_TDIDF  \\\n",
       "RMSE        0.862784   0.868621   0.928663  0.995778  1.002499  1.061201   \n",
       "MAE         0.652101   0.651895   0.695740  0.724015  0.728852  0.767399   \n",
       "Recall      0.940748   0.934747   0.966082  0.949873  0.950623  0.953873   \n",
       "Precision   0.974827   0.976537   0.951492  0.951657  0.950267  0.940703   \n",
       "F1          0.957484   0.955185   0.958731  0.950764  0.950445  0.947242   \n",
       "NDCG@5      0.858753   0.855145   0.856330  0.864225  0.866111  0.864106   \n",
       "\n",
       "                 IB        UB       CLU       SVD       ALS  \n",
       "RMSE       1.155835  1.496085  1.114257  1.421003  0.940659  \n",
       "MAE        0.829390  1.128415  0.820945  1.004436  0.713441  \n",
       "Recall     0.955123  0.994916  0.925705  0.832660  0.975791  \n",
       "Precision  0.922934  0.867718  0.939723  0.942417  0.950985  \n",
       "F1         0.938753  0.926974  0.932662  0.884145  0.963228  \n",
       "NDCG@5     0.843581  0.856282  0.852969  0.859563  0.855251  "
      ]
     },
     "execution_count": 231,
     "metadata": {},
     "output_type": "execute_result"
    }
   ],
   "source": [
    "overview = pd.concat([eval.evaluate(df_rf, topn=5, rating_cutoff=5), overview], axis = 1)\n",
    "overview.rename(columns={'value':'HYBRID_RF'}, inplace = True)\n",
    "overview"
   ]
  },
  {
   "cell_type": "markdown",
   "metadata": {},
   "source": [
    "We will apply PCA to Content Based Recommendation Recency to try to improve the RMSE"
   ]
  },
  {
   "cell_type": "code",
   "execution_count": null,
   "metadata": {},
   "outputs": [
    {
     "name": "stderr",
     "output_type": "stream",
     "text": [
      "C:\\tools\\Anaconda3\\envs\\py\\lib\\site-packages\\sklearn\\utils\\validation.py:1688: FutureWarning: Feature names only support names that are all strings. Got feature names with dtypes: ['tuple']. An error will be raised in 1.2.\n",
      "  warnings.warn(\n",
      "C:\\tools\\Anaconda3\\envs\\py\\lib\\site-packages\\sklearn\\utils\\validation.py:1688: FutureWarning: Feature names only support names that are all strings. Got feature names with dtypes: ['tuple']. An error will be raised in 1.2.\n",
      "  warnings.warn(\n"
     ]
    },
    {
     "data": {
      "text/html": [
       "<div>\n",
       "<style scoped>\n",
       "    .dataframe tbody tr th:only-of-type {\n",
       "        vertical-align: middle;\n",
       "    }\n",
       "\n",
       "    .dataframe tbody tr th {\n",
       "        vertical-align: top;\n",
       "    }\n",
       "\n",
       "    .dataframe thead th {\n",
       "        text-align: right;\n",
       "    }\n",
       "</style>\n",
       "<table border=\"1\" class=\"dataframe\">\n",
       "  <thead>\n",
       "    <tr style=\"text-align: right;\">\n",
       "      <th></th>\n",
       "      <th>0</th>\n",
       "      <th>1</th>\n",
       "      <th>2</th>\n",
       "      <th>3</th>\n",
       "      <th>4</th>\n",
       "      <th>5</th>\n",
       "      <th>6</th>\n",
       "      <th>7</th>\n",
       "      <th>8</th>\n",
       "      <th>9</th>\n",
       "      <th>...</th>\n",
       "      <th>30</th>\n",
       "      <th>31</th>\n",
       "      <th>32</th>\n",
       "      <th>33</th>\n",
       "      <th>34</th>\n",
       "      <th>35</th>\n",
       "      <th>36</th>\n",
       "      <th>37</th>\n",
       "      <th>38</th>\n",
       "      <th>39</th>\n",
       "    </tr>\n",
       "  </thead>\n",
       "  <tbody>\n",
       "    <tr>\n",
       "      <th>0</th>\n",
       "      <td>1177.640329</td>\n",
       "      <td>-1688.935088</td>\n",
       "      <td>1022.050760</td>\n",
       "      <td>-4705.804047</td>\n",
       "      <td>-508.318635</td>\n",
       "      <td>-460.723910</td>\n",
       "      <td>-56.367656</td>\n",
       "      <td>-976.422962</td>\n",
       "      <td>32.180777</td>\n",
       "      <td>59.709923</td>\n",
       "      <td>...</td>\n",
       "      <td>187.581404</td>\n",
       "      <td>312.733162</td>\n",
       "      <td>521.798763</td>\n",
       "      <td>184.696972</td>\n",
       "      <td>735.045865</td>\n",
       "      <td>66.671967</td>\n",
       "      <td>-619.111067</td>\n",
       "      <td>-206.909413</td>\n",
       "      <td>-461.369652</td>\n",
       "      <td>478.887671</td>\n",
       "    </tr>\n",
       "    <tr>\n",
       "      <th>1</th>\n",
       "      <td>2484.534573</td>\n",
       "      <td>-1918.760492</td>\n",
       "      <td>790.367359</td>\n",
       "      <td>-5117.628835</td>\n",
       "      <td>99.296852</td>\n",
       "      <td>1928.356703</td>\n",
       "      <td>5670.893280</td>\n",
       "      <td>245.607128</td>\n",
       "      <td>2461.893578</td>\n",
       "      <td>-325.916046</td>\n",
       "      <td>...</td>\n",
       "      <td>-219.812872</td>\n",
       "      <td>-1288.847468</td>\n",
       "      <td>-1095.026200</td>\n",
       "      <td>-801.331135</td>\n",
       "      <td>3039.801683</td>\n",
       "      <td>-291.601374</td>\n",
       "      <td>1464.350487</td>\n",
       "      <td>1852.781444</td>\n",
       "      <td>-2148.855578</td>\n",
       "      <td>195.708254</td>\n",
       "    </tr>\n",
       "    <tr>\n",
       "      <th>2</th>\n",
       "      <td>-563.856233</td>\n",
       "      <td>-161.230070</td>\n",
       "      <td>-695.175777</td>\n",
       "      <td>368.023886</td>\n",
       "      <td>-939.366928</td>\n",
       "      <td>-43.989198</td>\n",
       "      <td>-166.920750</td>\n",
       "      <td>-89.951788</td>\n",
       "      <td>-148.053278</td>\n",
       "      <td>363.236754</td>\n",
       "      <td>...</td>\n",
       "      <td>-85.959393</td>\n",
       "      <td>-350.862356</td>\n",
       "      <td>-671.895699</td>\n",
       "      <td>-70.679718</td>\n",
       "      <td>493.119803</td>\n",
       "      <td>222.407920</td>\n",
       "      <td>44.434016</td>\n",
       "      <td>-33.888612</td>\n",
       "      <td>-274.499169</td>\n",
       "      <td>96.848289</td>\n",
       "    </tr>\n",
       "    <tr>\n",
       "      <th>3</th>\n",
       "      <td>2725.710542</td>\n",
       "      <td>-2282.762997</td>\n",
       "      <td>40.026103</td>\n",
       "      <td>-4155.651332</td>\n",
       "      <td>-1406.011214</td>\n",
       "      <td>508.926818</td>\n",
       "      <td>-487.106413</td>\n",
       "      <td>-1042.447642</td>\n",
       "      <td>1619.949327</td>\n",
       "      <td>2173.546177</td>\n",
       "      <td>...</td>\n",
       "      <td>1007.641222</td>\n",
       "      <td>-1108.585345</td>\n",
       "      <td>237.095930</td>\n",
       "      <td>801.146867</td>\n",
       "      <td>1276.249760</td>\n",
       "      <td>-1022.990435</td>\n",
       "      <td>-864.716677</td>\n",
       "      <td>-291.880371</td>\n",
       "      <td>-107.201792</td>\n",
       "      <td>-1035.952948</td>\n",
       "    </tr>\n",
       "    <tr>\n",
       "      <th>4</th>\n",
       "      <td>-947.030924</td>\n",
       "      <td>-178.132005</td>\n",
       "      <td>358.465299</td>\n",
       "      <td>-290.070152</td>\n",
       "      <td>-388.144241</td>\n",
       "      <td>649.606390</td>\n",
       "      <td>783.846264</td>\n",
       "      <td>200.087677</td>\n",
       "      <td>865.658910</td>\n",
       "      <td>367.566052</td>\n",
       "      <td>...</td>\n",
       "      <td>234.805143</td>\n",
       "      <td>36.769659</td>\n",
       "      <td>-128.787544</td>\n",
       "      <td>-25.452205</td>\n",
       "      <td>-442.868743</td>\n",
       "      <td>292.914544</td>\n",
       "      <td>54.714960</td>\n",
       "      <td>179.510694</td>\n",
       "      <td>-185.008863</td>\n",
       "      <td>85.607755</td>\n",
       "    </tr>\n",
       "  </tbody>\n",
       "</table>\n",
       "<p>5 rows × 40 columns</p>\n",
       "</div>"
      ],
      "text/plain": [
       "            0            1            2            3            4   \\\n",
       "0  1177.640329 -1688.935088  1022.050760 -4705.804047  -508.318635   \n",
       "1  2484.534573 -1918.760492   790.367359 -5117.628835    99.296852   \n",
       "2  -563.856233  -161.230070  -695.175777   368.023886  -939.366928   \n",
       "3  2725.710542 -2282.762997    40.026103 -4155.651332 -1406.011214   \n",
       "4  -947.030924  -178.132005   358.465299  -290.070152  -388.144241   \n",
       "\n",
       "            5            6            7            8            9   ...  \\\n",
       "0  -460.723910   -56.367656  -976.422962    32.180777    59.709923  ...   \n",
       "1  1928.356703  5670.893280   245.607128  2461.893578  -325.916046  ...   \n",
       "2   -43.989198  -166.920750   -89.951788  -148.053278   363.236754  ...   \n",
       "3   508.926818  -487.106413 -1042.447642  1619.949327  2173.546177  ...   \n",
       "4   649.606390   783.846264   200.087677   865.658910   367.566052  ...   \n",
       "\n",
       "            30           31           32          33           34  \\\n",
       "0   187.581404   312.733162   521.798763  184.696972   735.045865   \n",
       "1  -219.812872 -1288.847468 -1095.026200 -801.331135  3039.801683   \n",
       "2   -85.959393  -350.862356  -671.895699  -70.679718   493.119803   \n",
       "3  1007.641222 -1108.585345   237.095930  801.146867  1276.249760   \n",
       "4   234.805143    36.769659  -128.787544  -25.452205  -442.868743   \n",
       "\n",
       "            35           36           37           38           39  \n",
       "0    66.671967  -619.111067  -206.909413  -461.369652   478.887671  \n",
       "1  -291.601374  1464.350487  1852.781444 -2148.855578   195.708254  \n",
       "2   222.407920    44.434016   -33.888612  -274.499169    96.848289  \n",
       "3 -1022.990435  -864.716677  -291.880371  -107.201792 -1035.952948  \n",
       "4   292.914544    54.714960   179.510694  -185.008863    85.607755  \n",
       "\n",
       "[5 rows x 40 columns]"
      ]
     },
     "execution_count": 232,
     "metadata": {},
     "output_type": "execute_result"
    }
   ],
   "source": [
    "from sklearn.decomposition import PCA\n",
    "\n",
    "n_comp = 40\n",
    "pca = PCA(n_components=n_comp, random_state = 42)\n",
    "pca.fit(aggregate_3)\n",
    "pca_data = pd.DataFrame(pca.transform(aggregate_3))\n",
    "pca_data.head()"
   ]
  },
  {
   "cell_type": "code",
   "execution_count": null,
   "metadata": {},
   "outputs": [
    {
     "name": "stdout",
     "output_type": "stream",
     "text": [
      "Warning 3973 items are not included in content data: [16385, 16386, 16387, 16388, 16389, 16390, 16391, 16393, 16394, 16404, 16405, 16406, 16407, 16408, 16409, 16410, 16411, 16412, 16415, 16417, 16418, 16419, 16420, 16422, 16423, 16425, 16426, 16427, 16428, 16429, 16430, 16432, 16437, 16438, 16439, 16440, 16441, 16442, 16443, 16444, 16445, 16446, 16447, 16448, 16449, 16451, 16453, 16455, 16456, 16457, 16458, 16459, 16461, 16464, 16465, 16467, 16486, 16490, 16491, 16492, 16493, 16495, 16499, 16500, 16501, 16502, 16503, 16507, 16509, 16510, 16513, 16514, 16515, 16516, 16518, 16519, 16520, 16521, 16527, 16529, 16530, 16531, 16532, 16533, 16535, 16559, 16560, 16561, 16562, 16563, 16564, 16565, 16567, 16568, 16569, 16570, 16572, 16573, 16574, 16575, 16576, 16578, 16580, 16582, 16583, 16584, 16585, 16586, 16587, 16588, 16590, 16591, 16592, 16593, 16594, 16595, 16596, 16598, 16599, 16601, 16604, 16605, 16608, 16610, 16611, 16612, 16613, 16615, 16618, 16619, 16620, 16621, 16622, 16625, 16626, 16628, 16629, 16631, 16632, 16634, 16635, 16636, 16637, 16638, 16639, 16642, 16643, 16644, 16645, 16646, 16647, 16648, 16650, 16651, 16654, 16655, 16656, 16658, 16660, 16661, 16662, 16663, 16664, 16665, 16667, 16668, 16669, 16670, 16671, 16672, 16674, 16675, 16676, 16677, 16678, 16679, 16680, 16681, 16682, 16683, 16684, 16685, 16686, 16687, 16688, 16689, 16690, 16692, 16693, 16694, 16695, 16696, 16697, 16699, 16700, 16701, 16702, 16703, 16704, 16705, 16708, 16709, 16710, 16711, 16712, 16713, 16714, 16715, 16716, 16718, 16719, 16720, 16722, 16723, 16725, 16726, 16727, 16728, 16729, 16730, 16733, 16734, 16736, 16737, 16738, 16739, 16740, 16741, 16742, 16745, 16746, 16747, 16748, 16749, 16750, 16751, 16753, 16754, 16755, 16757, 16758, 16759, 16760, 16761, 16762, 16763, 16764, 16765, 16767, 16769, 16770, 16771, 16772, 16774, 16775, 16777, 16778, 16780, 16781, 16782, 16783, 16784, 16785, 16786, 16787, 16789, 16790, 16792, 16793, 16794, 16795, 16796, 16797, 16798, 16799, 16802, 16803, 16806, 16808, 16823, 16832, 16834, 16835, 16836, 16837, 16838, 16839, 16840, 16842, 16843, 16844, 16845, 16846, 16847, 16848, 16849, 16850, 16851, 16852, 16853, 16854, 16855, 16856, 16859, 16860, 16861, 16863, 16864, 16865, 16866, 16867, 16868, 16869, 16870, 16871, 16872, 16873, 16874, 16877, 16878, 16881, 16882, 16885, 16887, 16888, 16889, 16890, 16891, 16892, 16893, 16895, 16896, 16901, 16902, 16903, 16904, 16906, 16907, 16908, 16910, 16911, 16912, 16913, 16914, 16915, 16917, 16918, 16919, 16920, 16921, 16922, 16923, 16924, 16925, 16927, 16930, 16932, 16933, 16934, 16935, 16936, 16937, 16938, 16939, 16940, 16947, 16948, 16949, 16950, 16951, 16952, 16954, 16955, 16956, 16957, 16958, 16959, 16960, 16961, 16963, 16965, 16966, 16968, 16969, 16970, 16971, 16972, 16973, 16974, 16975, 16976, 16995, 17007, 17012, 17014, 17015, 17016, 17017, 17018, 17020, 17022, 17023, 17024, 17025, 17026, 17027, 17028, 17029, 17031, 17032, 17033, 17034, 17035, 17036, 17039, 17040, 17042, 17043, 17044, 17045, 17047, 17048, 17049, 17050, 17056, 17057, 17060, 17061, 17062, 17063, 17064, 17065, 17066, 17067, 17068, 17069, 17071, 17072, 17074, 17077, 17081, 17082, 17083, 17084, 17085, 17086, 17087, 17089, 17091, 17093, 17094, 17095, 17096, 17098, 17099, 17100, 17101, 17102, 17103, 17104, 17105, 17109, 17111, 17113, 17114, 17115, 17117, 17118, 17119, 17120, 17121, 17122, 17123, 17124, 17125, 17126, 17127, 17129, 17130, 17131, 17133, 17134, 17135, 17138, 17139, 17143, 17146, 17147, 17148, 17149, 17151, 17152, 17154, 17155, 17157, 17158, 17159, 17160, 17163, 17173, 17174, 17175, 17176, 17180, 17181, 17182, 17183, 17184, 17185, 17189, 17190, 17193, 17194, 17195, 17197, 17199, 17200, 17201, 17203, 17204, 17205, 17206, 17207, 17209, 17210, 17212, 17213, 17215, 17216, 17220, 17221, 17224, 17225, 17227, 17228, 17230, 17232, 17235, 17237, 17239, 17240, 17241, 17242, 17243, 17244, 17246, 17248, 17251, 17252, 17253, 17254, 17255, 17256, 17257, 17258, 17261, 17271, 17276, 17277, 17279, 17280, 17281, 17283, 17284, 17285, 17286, 17288, 17289, 17290, 17293, 17294, 17295, 17297, 17298, 17299, 17300, 17301, 17302, 17303, 17304, 17305, 17306, 17307, 17313, 17320, 17321, 17324, 17326, 17327, 17329, 17330, 17331, 17332, 17333, 17334, 17336, 17338, 17339, 17340, 17341, 17343, 17346, 17347, 17349, 17350, 17351, 17353, 17354, 17355, 17357, 17358, 17359, 17360, 17361, 17363, 17364, 17368, 17369, 17370, 17371, 17373, 17374, 17375, 17376, 17382, 17384, 17385, 17387, 17388, 17390, 17391, 17392, 17398, 17399, 17401, 17402, 17403, 17404, 17406, 17407, 17408, 17409, 17410, 17412, 17413, 17415, 17417, 17418, 17419, 17421, 17422, 17423, 17425, 17427, 17428, 17429, 17430, 17431, 17436, 17437, 17438, 17439, 17441, 17442, 17444, 17445, 17446, 17447, 17448, 17449, 17450, 17451, 17452, 17455, 17457, 17459, 17460, 17461, 17462, 17463, 17464, 17469, 17471, 17472, 17473, 17474, 17475, 17476, 17477, 17478, 17481, 17483, 17484, 17485, 17486, 17487, 17490, 17492, 17493, 17494, 17495, 17497, 17498, 17499, 17500, 17503, 17504, 17505, 17506, 17507, 17509, 17510, 17511, 17513, 17514, 17515, 17517, 17518, 17519, 17520, 17521, 17522, 17523, 17524, 17528, 17529, 17531, 17533, 17535, 17536, 17538, 17539, 17540, 17542, 17543, 17544, 17547, 17548, 17550, 17551, 17554, 17555, 17556, 17557, 17558, 17559, 17565, 17566, 17567, 17569, 17570, 17571, 17572, 17573, 17574, 17577, 17578, 17579, 17581, 17582, 17583, 17584, 17585, 17586, 17587, 17588, 17589, 17605, 17606, 17607, 17608, 17609, 17610, 17611, 17614, 17616, 17617, 17618, 17619, 17622, 17624, 17625, 17626, 17627, 17628, 17629, 17631, 17632, 17633, 17634, 17636, 17638, 17639, 17640, 17641, 17644, 17645, 17646, 17647, 17651, 17652, 17653, 17654, 17655, 17656, 17657, 17659, 17660, 17661, 17662, 17663, 17664, 17666, 17667, 17668, 17669, 17674, 17675, 17676, 17678, 17679, 17681, 17682, 17685, 17686, 17687, 17688, 17689, 17700, 17701, 17702, 17704, 17707, 17709, 17710, 17714, 17715, 17716, 17717, 17719, 17720, 17722, 17723, 17726, 17727, 17729, 17730, 17732, 17734, 17735, 17736, 17739, 17740, 17741, 17742, 17743, 17744, 17745, 17746, 17747, 17748, 17749, 17751, 17753, 17754, 17755, 17757, 17758, 17760, 17761, 17762, 17763, 17764, 17765, 17767, 17769, 17770, 17772, 17773, 17776, 17783, 17786, 17787, 17788, 17792, 17794, 17795, 17799, 17800, 17801, 17802, 17803, 17804, 17805, 17806, 17807, 17811, 17812, 17813, 17814, 17815, 17817, 17818, 17833, 17834, 17836, 17838, 17839, 17840, 17842, 17843, 17844, 17845, 17846, 17848, 17850, 17851, 17853, 17854, 17856, 17865, 17866, 17867, 17868, 17869, 17870, 17871, 17872, 17873, 17875, 17876, 17877, 17878, 17879, 17880, 17881, 17884, 17885, 17890, 17891, 17892, 17898, 17899, 17900, 17901, 17902, 17903, 17904, 17905, 17906, 17907, 17910, 17911, 17912, 17915, 17916, 17917, 17926, 17927, 17928, 17934, 17935, 17936, 17938, 17939, 17943, 17944, 17946, 17947, 17948, 17949, 17950, 17951, 17952, 17954, 17955, 17956, 17957, 17960, 17961, 17962, 17963, 17964, 17967, 17968, 17969, 17970, 17971, 17972, 17974, 17975, 17976, 17977, 17978, 17979, 17980, 17981, 17982, 17983, 17984, 17985, 17986, 17987, 17988, 17989, 17990, 17991, 17992, 17993, 17995, 17996, 17997, 17998, 18000, 18001, 18002, 18004, 18005, 18006, 18007, 18011, 18012, 18013, 18015, 18023, 18024, 18025, 18026, 18027, 18028, 18029, 18030, 18032, 18034, 18035, 18036, 18037, 18038, 18039, 18041, 18042, 18047, 18048, 18052, 18053, 18054, 18055, 18056, 18057, 18058, 18059, 18060, 18061, 18063, 18064, 18065, 18066, 18067, 18069, 18070, 18072, 18073, 18074, 18075, 18076, 18077, 18078, 18079, 18080, 18083, 18084, 18085, 18086, 18087, 18088, 18089, 18090, 18093, 18094, 18095, 18096, 18097, 18100, 18101, 18102, 18103, 18104, 18105, 18106, 18107, 18108, 18109, 18111, 18112, 18113, 18114, 18115, 18116, 18118, 18119, 18120, 18121, 18122, 18123, 18124, 18125, 18126, 18127, 18128, 18129, 18134, 18135, 18136, 18137, 18145, 18146, 18147, 18148, 18149, 18150, 18151, 18152, 18153, 18154, 18155, 18156, 18157, 18160, 18161, 18163, 18164, 18169, 18170, 18171, 18172, 18173, 18174, 18175, 18176, 18178, 18179, 18182, 18183, 18184, 18185, 18186, 18187, 18188, 18190, 18191, 18192, 18194, 18195, 18196, 18197, 18198, 18200, 18202, 18203, 18204, 18205, 18206, 18207, 18208, 18209, 18210, 18211, 18212, 18213, 18214, 18215, 18216, 18224, 18225, 18226, 18228, 18229, 18230, 18231, 18233, 18234, 18236, 18237, 18238, 18239, 18240, 18241, 18243, 18245, 18246, 18247, 18248, 18250, 18251, 18252, 18253, 18254, 18255, 18257, 18259, 18260, 18261, 18262, 18263, 18264, 18266, 18267, 18268, 18269, 18271, 18272, 18273, 18274, 18275, 18276, 18278, 18279, 18280, 18282, 18283, 18284, 18285, 18286, 18289, 18290, 18291, 18292, 18293, 18294, 18295, 18296, 18297, 18299, 18301, 18302, 18303, 18306, 18307, 18309, 18311, 18313, 18314, 18315, 18316, 18317, 18318, 18319, 18320, 18321, 18322, 18323, 18325, 18327, 18328, 18329, 18332, 18333, 18335, 18336, 18337, 18342, 18344, 18345, 18347, 18348, 18349, 18350, 18351, 18352, 18354, 18355, 18356, 18358, 18361, 18362, 18363, 18364, 18365, 18366, 18367, 18368, 18369, 18370, 18373, 18375, 18379, 18380, 18381, 18383, 18384, 18386, 18388, 18389, 18392, 18393, 18396, 18398, 18399, 18401, 18403, 18404, 18405, 18406, 18407, 18409, 18410, 18411, 18412, 18426, 18428, 18429, 18430, 18435, 18436, 18438, 18439, 18440, 18441, 18442, 18443, 18444, 18445, 18447, 18448, 18449, 18450, 18452, 18454, 18455, 18456, 18457, 18458, 18460, 18462, 18466, 18467, 18469, 18470, 18471, 18472, 18473, 18511, 18514, 18515, 18517, 18518, 18519, 18520, 18521, 18523, 18524, 18525, 18526, 18527, 18533, 18534, 18535, 18536, 18537, 18538, 18539, 18540, 18541, 18544, 18545, 18548, 18549, 18550, 18551, 18554, 18555, 18556, 18557, 18559, 18560, 18562, 18571, 18573, 18574, 18575, 18576, 18578, 18579, 18580, 18581, 18583, 18584, 18587, 18588, 18589, 18590, 18591, 18592, 18594, 18595, 18601, 18602, 18603, 18604, 18605, 18606, 18607, 18608, 18609, 18610, 18612, 18614, 18615, 18616, 18617, 18619, 18621, 18622, 18630, 18631, 18635, 18636, 18638, 18640, 18641, 18642, 18643, 18644, 18645, 18646, 18648, 18649, 18650, 18651, 18652, 18654, 18655, 18657, 18658, 18659, 18660, 18663, 18666, 18669, 18670, 18672, 18674, 18678, 18679, 18681, 18682, 18684, 18685, 18686, 18687, 18688, 18690, 18691, 18692, 18694, 18696, 18697, 18698, 18707, 18712, 18713, 18714, 18716, 18718, 18719, 18721, 18722, 18723, 18724, 18726, 18728, 18729, 18734, 18736, 18737, 18739, 18740, 18741, 18742, 18743, 18744, 18745, 12524, 12525, 12526, 12527, 12530, 12535, 12538, 12544, 12546, 12547, 12548, 12549, 12550, 12552, 12553, 12554, 12555, 12556, 12557, 12558, 12559, 12560, 12561, 12562, 12565, 12566, 12567, 12568, 12569, 12570, 12571, 12572, 12573, 12574, 12576, 12577, 12578, 12579, 12580, 12581, 12583, 12584, 12585, 12589, 12590, 12592, 12595, 12596, 12597, 12598, 12599, 12600, 12603, 12605, 12606, 12607, 12608, 12612, 12620, 12621, 12623, 12624, 12625, 12627, 12630, 12632, 12635, 12636, 12638, 12639, 12641, 12642, 12643, 12645, 12646, 12647, 12648, 12649, 12650, 12651, 12652, 12653, 12654, 12655, 12658, 12660, 12661, 12662, 12665, 12666, 12667, 12668, 12671, 12672, 12673, 12674, 12676, 12677, 12678, 12680, 12681, 12683, 12684, 12686, 12687, 12688, 12689, 12691, 12692, 12693, 12697, 12698, 12699, 12700, 12701, 12704, 12705, 12706, 12707, 12708, 12710, 12712, 12713, 12715, 12716, 12717, 12718, 12719, 12720, 12722, 12723, 12724, 12726, 12728, 12729, 12732, 12733, 12734, 12736, 12737, 12739, 12741, 12742, 12743, 12747, 12748, 12749, 12750, 12752, 12753, 12755, 12756, 12757, 12758, 12759, 12760, 12761, 12762, 12764, 12766, 12767, 12768, 12770, 12771, 12772, 12773, 12774, 12775, 12776, 12777, 12779, 12780, 12781, 12782, 12783, 12785, 12786, 12787, 12788, 12790, 12791, 12792, 12793, 12794, 12795, 12796, 12797, 12800, 12801, 12802, 12803, 12804, 12805, 12806, 12807, 12808, 12810, 12811, 12812, 12813, 12814, 12815, 12817, 12818, 12819, 12820, 12821, 12823, 12825, 12826, 12827, 12828, 12829, 12830, 12832, 12834, 12835, 12836, 12838, 12839, 12840, 12841, 12843, 12844, 12845, 12846, 12847, 12848, 12849, 12850, 12851, 12852, 12853, 12854, 12855, 12856, 12857, 12859, 12861, 12862, 12864, 12865, 12866, 12867, 12868, 12869, 12871, 12872, 12873, 12874, 12875, 12876, 12877, 12878, 12880, 12881, 12882, 12883, 12884, 12885, 12887, 12888, 12889, 12890, 12897, 12902, 12909, 12911, 12915, 12918, 12919, 12920, 12921, 12922, 12923, 12925, 12928, 12929, 12930, 12931, 12932, 12933, 12934, 12935, 12937, 12938, 12939, 12940, 12943, 12944, 12945, 12947, 12949, 12950, 12951, 12953, 12954, 12955, 12957, 12958, 12959, 12961, 12962, 12963, 12964, 12965, 12966, 12967, 12968, 12969, 12971, 12972, 12973, 12974, 12975, 12977, 12978, 12979, 12980, 12981, 12982, 12983, 12984, 12986, 12987, 12988, 12989, 12990, 12992, 12993, 12994, 12995, 12999, 13000, 13001, 13002, 13004, 13005, 13006, 13007, 13008, 13009, 13010, 13011, 13013, 13014, 13015, 13016, 13021, 13023, 13025, 13027, 13029, 13031, 13032, 13033, 13034, 13035, 13036, 13037, 13038, 13039, 13042, 13049, 13050, 13051, 13052, 13053, 13054, 13056, 13057, 13058, 13059, 13060, 13061, 13062, 13063, 13064, 13065, 13066, 13067, 13069, 13071, 13073, 13074, 13076, 13078, 13079, 13085, 13087, 13090, 13092, 13093, 13094, 13095, 13100, 13101, 13102, 13107, 13108, 13109, 13110, 13111, 13113, 13114, 13117, 13120, 13123, 13124, 13125, 13126, 13127, 13128, 13129, 13130, 13133, 13136, 13137, 13140, 13141, 13142, 13143, 13145, 13147, 13151, 13152, 13153, 13154, 13155, 13156, 13157, 13158, 13159, 13160, 13161, 13163, 13164, 13165, 13166, 13167, 13168, 13169, 13170, 13172, 13173, 13174, 13175, 13176, 13177, 13179, 13180, 13181, 13182, 13183, 13184, 13185, 13186, 13187, 13192, 13193, 13195, 13196, 13198, 13200, 13201, 13202, 13205, 13206, 13207, 13208, 13209, 13210, 13211, 13214, 13215, 13216, 13217, 13218, 13219, 13220, 13221, 13222, 13225, 13229, 13230, 13231, 13232, 13233, 13236, 13237, 13238, 13239, 13243, 13245, 13246, 13247, 13248, 13249, 13250, 13252, 13253, 13255, 13257, 13259, 13260, 13261, 13262, 13263, 13264, 13265, 13266, 13268, 13269, 13270, 13272, 13273, 13274, 13275, 13277, 13278, 13279, 13280, 13281, 13284, 13285, 13286, 13287, 13291, 13292, 13293, 13295, 13297, 13298, 13299, 13300, 13301, 13302, 13303, 13305, 13307, 13308, 13309, 13310, 13311, 13312, 13314, 13317, 13318, 13319, 13320, 13321, 13322, 13323, 13324, 13326, 13327, 13328, 13329, 13331, 13332, 13334, 13337, 13338, 13339, 13341, 13344, 13345, 13346, 13347, 13348, 13349, 13351, 13352, 13353, 13354, 13355, 13357, 13359, 13360, 13361, 13362, 13363, 13364, 13365, 13366, 13367, 13369, 13370, 13371, 13372, 13373, 13374, 13375, 13376, 13377, 13378, 13379, 13380, 13381, 13383, 13384, 13385, 13386, 13387, 13388, 13389, 13391, 13392, 13393, 13395, 13396, 13398, 13399, 13400, 13406, 13409, 13410, 13412, 13414, 13415, 13416, 13417, 13418, 13419, 13420, 13422, 13423, 13424, 13425, 13429, 13430, 13431, 13432, 13433, 13434, 13435, 13436, 13437, 13439, 13440, 13441, 13443, 13445, 13446, 13447, 13448, 13449, 13450, 13451, 13453, 13454, 13455, 13456, 13463, 13468, 13478, 13491, 13498, 13499, 13500, 13501, 13502, 13503, 13504, 13505, 13508, 13509, 13510, 13512, 13513, 13515, 13516, 13518, 13522, 13523, 13525, 13526, 13527, 13529, 13531, 13532, 13537, 13538, 13539, 13540, 13542, 13546, 13547, 13548, 13549, 13552, 13553, 13554, 13557, 13558, 13559, 13560, 13561, 13562, 13563, 13564, 13565, 13566, 13567, 13568, 13575, 13580, 13581, 13583, 13584, 13585, 13586, 13587, 13588, 13590, 13591, 13592, 13597, 13598, 13600, 13601, 13603, 13604, 13605, 13606, 13608, 13609, 13610, 13612, 13614, 13615, 13616, 13617, 13619, 13620, 13621, 13622, 13624, 13625, 13629, 13632, 13633, 13634, 13636, 13637, 13638, 13639, 13642, 13643, 13644, 13645, 13646, 13647, 13648, 13649, 13650, 13651, 13652, 13653, 13654, 13655, 13656, 13657, 13660, 13664, 13665, 13666, 13667, 13668, 13669, 13670, 13671, 13672, 13673, 13675, 13676, 13677, 13678, 13679, 13680, 13681, 13682, 13683, 13684, 13686, 13687, 13689, 13690, 13692, 13693, 13694, 13695, 13696, 13697, 13698, 13700, 13702, 13708, 13709, 13711, 13713, 13714, 13715, 13716, 13718, 13719, 13720, 13723, 13725, 13726, 13727, 13728, 13729, 13730, 13731, 13733, 13735, 13736, 13737, 13738, 13739, 13740, 13741, 13742, 13743, 13748, 13749, 13750, 13751, 13752, 13753, 13754, 13755, 13757, 13758, 13759, 13763, 13764, 13767, 13768, 13769, 13770, 13771, 13772, 13773, 13774, 13775, 13777, 13778, 13779, 13780, 13782, 13790, 13791, 13794, 13796, 13798, 13799, 13801, 13802, 13803, 13805, 13806, 13807, 13809, 13811, 13813, 13815, 13830, 13831, 13832, 13838, 13839, 13842, 13843, 13845, 13846, 13847, 13849, 13850, 13851, 13852, 13853, 13854, 13855, 13856, 13857, 13859, 13860, 13862, 13863, 13864, 13865, 13866, 13867, 13868, 13869, 13870, 13873, 13876, 13877, 13878, 13879, 13880, 13881, 13882, 13883, 13884, 13885, 13886, 13888, 13889, 13890, 13891, 13892, 13900, 13901, 13902, 13905, 13906, 13907, 13908, 13909, 13910, 13911, 13912, 13913, 13914, 13915, 13917, 13918, 13921, 13922, 13923, 13925, 13926, 13927, 13928, 13931, 13932, 13933, 13935, 13939, 13941, 13942, 13943, 13945, 13946, 13947, 13948, 13949, 13950, 13952, 13953, 13954, 13955, 13956, 13957, 13959, 13960, 13962, 13965, 13966, 13967, 13968, 13971, 13978, 13981, 13984, 13986, 13988, 13989, 13990, 13991, 13992, 13993, 13994, 13995, 13997, 13999, 14000, 14004, 14005, 14006, 14007, 14008, 14009, 14010, 14012, 14013, 14014, 14015, 14017, 14019, 14020, 14022, 14024, 14025, 14026, 14030, 14031, 14033, 14034, 14035, 14036, 14037, 14038, 14039, 14041, 14043, 14045, 14046, 14047, 14048, 14049, 14051, 14052, 14054, 14056, 14057, 14058, 14060, 14061, 14062, 14063, 14064, 14068, 14070, 14071, 14072, 14074, 14076, 14078, 14080, 14081, 14082, 14083, 14084, 14085, 14086, 14089, 14090, 14092, 14094, 14096, 14097, 14108, 14109, 14110, 14112, 14113, 14114, 14115, 14116, 14118, 14120, 14121, 14122, 14124, 14125, 14127, 14128, 14129, 14130, 14131, 14132, 14134, 14136, 14137, 14139, 14141, 14142, 14146, 14147, 14150, 14152, 14153, 14154, 14155, 14157, 14158, 14160, 14161, 14164, 14166, 14167, 14168, 14169, 14170, 14171, 14172, 14173, 14174, 14176, 14177, 14178, 14179, 14182, 14184, 14185, 14186, 14187, 14188, 14189, 14190, 14191, 14192, 14193, 14194, 14197, 14199, 14200, 14202, 14203, 14204, 14205, 14206, 14208, 14210, 14211, 14213, 14214, 14216, 14217, 14220, 14221, 14222, 14223, 14224, 14225, 14226, 14227, 14228, 14229, 14230, 14231, 14234, 14235, 14236, 14238, 14239, 14240, 14241, 14242, 14243, 14244, 14245, 14246, 14248, 14250, 14252, 14253, 14254, 14255, 14257, 14259, 14261, 14262, 14263, 14264, 14267, 14268, 14269, 14271, 14278, 14280, 14284, 14286, 14287, 14289, 14290, 14291, 14292, 14294, 14295, 14298, 14299, 14300, 14301, 14302, 14303, 14304, 14305, 14307, 14310, 14311, 14312, 14313, 14314, 14315, 14316, 14317, 14318, 14320, 14321, 14322, 14324, 14326, 14327, 14328, 14330, 14331, 14332, 14339, 14340, 14341, 14342, 14343, 14344, 14345, 14346, 14347, 14349, 14351, 14352, 14353, 14354, 14355, 14356, 14357, 14358, 14359, 14360, 14361, 14362, 14363, 14364, 14365, 14366, 14368, 14385, 14386, 14387, 14388, 14389, 14390, 14391, 14392, 14393, 14394, 14395, 14396, 14397, 14399, 14401, 14435, 14439, 14441, 14442, 14443, 14445, 14446, 14447, 14448, 14449, 14450, 14451, 14452, 14453, 14455, 14457, 14458, 14459, 14462, 14465, 14466, 14467, 14468, 14470, 14471, 14472, 14474, 14475, 14477, 14480, 14481, 14482, 14483, 14484, 14486, 14487, 14489, 14493, 14494, 14495, 14496, 14497, 14498, 14499, 14501, 14502, 14503, 14504, 14506, 14507, 14509, 14512, 14513, 14514, 14515, 14516, 14518, 14519, 14521, 14525, 14527, 14528, 14530, 14531, 14532, 14533, 14535, 14536, 14537, 14538, 14539, 14541, 14543, 14547, 14548, 14550, 14551, 14555, 14556, 14558, 14563, 14565, 14566, 14567, 14568, 14569, 14570, 14571, 14572, 14573, 14576, 14577, 14578, 14582, 14584, 14585, 14586, 14588, 14590, 14591, 14592, 14593, 14594, 14596, 14599, 14602, 14603, 14604, 14605, 14606, 14610, 14614, 14618, 14620, 14624, 14626, 14627, 14628, 14629, 14630, 14631, 14632, 14633, 14634, 14635, 14636, 14637, 14638, 14639, 14640, 14642, 14645, 14646, 14647, 14649, 14651, 14652, 14653, 14657, 14661, 14664, 14665, 14666, 14670, 14671, 14673, 14674, 14675, 14677, 14678, 14679, 14680, 14681, 14683, 14686, 14687, 14688, 14689, 14690, 14692, 14693, 14694, 14695, 14696, 14697, 14698, 14701, 14703, 14704, 14705, 14707, 14708, 14723, 14724, 14725, 14726, 14728, 14729, 14730, 14732, 14735, 14736, 14737, 14739, 14740, 14741, 14742, 14744, 14745, 14746, 14747, 14748, 14750, 14751, 14752, 14753, 14755, 14757, 14758, 14759, 14760, 14762, 14763, 14764, 14767, 14768, 14769, 14771, 14772, 14773, 14776, 14777, 14779, 14780, 14781, 14782, 14783, 14784, 14785, 14787, 14788, 14789, 14791, 14792, 14793, 14794, 14795, 14797, 14799, 14800, 14802, 14803, 14804, 14805, 14806, 14827, 14830, 14831, 14833, 14834, 14835, 14836, 14837, 14840, 14841, 14842, 14843, 14844, 14845, 14846, 14853, 14863, 14872, 14873, 14874, 14876, 14879, 14880, 14882, 14883, 14887, 14889, 14893, 14895, 14897, 14899, 14900, 14902, 14903, 14904, 14906, 14907, 14908, 14909, 14910, 14911, 14912, 14913, 14914, 14916, 14917, 14918, 14919, 14920, 14921, 14924, 14925, 14926, 14927, 14929, 14930, 14932, 14935, 14936, 14937, 14938, 14939, 14940, 14941, 14942, 14944, 14945, 14947, 14948, 14952, 14953, 14954, 14955, 14956, 14957, 14959, 14960, 14961, 14962, 14967, 14968, 14969, 14972, 14973, 14974, 14975, 14976, 14977, 14979, 14980, 14981, 14982, 14983, 14985, 14986, 14987, 14990, 14993, 14996, 14997, 14999, 15001, 15002, 15003, 15005, 15007, 15009, 15010, 15013, 15014, 15015, 15017, 15021, 15023, 15024, 15027, 15029, 15030, 15031, 15032, 15033, 15034, 15036, 15038, 15039, 15041, 15042, 15043, 15044, 15045, 15048, 15049, 15050, 15051, 15052, 15054, 15055, 15056, 15057, 15058, 15060, 15061, 15063, 15064, 15065, 15066, 15068, 15069, 15070, 15072, 15073, 15075, 15076, 15077, 15078, 15079, 15080, 15081, 15082, 15083, 15084, 15085, 15086, 15087, 15090, 15091, 15092, 15093, 15094, 15096, 15098, 15099, 15100, 15101, 15102, 15103, 15104, 15106, 15107, 15108, 15109, 15110, 15111, 15112, 15113, 15114, 15115, 15116, 15118, 15119, 15120, 15121, 15122, 15128, 15130, 15134, 15136, 15137, 15138, 15139, 15142, 15143, 15144, 15145, 15146, 15147, 15148, 15151, 15152, 15153, 15154, 15155, 15156, 15157, 15159, 15160, 15161, 15164, 15165, 15166, 15167, 15168, 15170, 15172, 15173, 15179, 15180, 15182, 15183, 15185, 15186, 15191, 15192, 15193, 15194, 15195, 15196, 15197, 15198, 15199, 15201, 15203, 15204, 15205, 15206, 15207, 15210, 15211, 15212, 15213, 15215, 15217, 15218, 15220, 15223, 15226, 15227, 15228, 15230, 15233, 15234, 15235, 15236, 15237, 15238, 15239, 15242, 15243, 15244, 15245, 15247, 15248, 15249, 15250, 15251, 15253, 15255, 15256, 15257, 15259, 15260, 15262, 15263, 15267, 15268, 15269, 15270, 15277, 15288, 15289, 15290, 15294, 15295, 15296, 15297, 15298, 15300, 15301, 15302, 15304, 15305, 15306, 15308, 15309, 15310, 15312, 15315, 15318, 15319, 15321, 15322, 15323, 15324, 15325, 15327, 15328, 15329, 15330, 15331, 15332, 15335, 15336, 15337, 15338, 15339, 15340, 15341, 15343, 15344, 15345, 15346, 15347, 15348, 15349, 15350, 15351, 15352, 15353, 15357, 15361, 15362, 15365, 15366, 15368, 15369, 15370, 15371, 15372, 15373, 15374, 15375, 15379, 15380, 15381, 15382, 15383, 15384, 15386, 15389, 15391, 15395, 15396, 15398, 15399, 15400, 15401, 15402, 15403, 15404, 15408, 15409, 15411, 15412, 15413, 15417, 15418, 15420, 15421, 15422, 15423, 15424, 15425, 15426, 15429, 15430, 15431, 15432, 15433, 15434, 15435, 15436, 15438, 15439, 15441, 15442, 15443, 15444, 15445, 15446, 15448, 15449, 15451, 15453, 15454, 15455, 15456, 15457, 15458, 15459, 15462, 15465, 15467, 15468, 15469, 15471, 15472, 15474, 15475, 15476, 15477, 15478, 15479, 15480, 15481, 15482, 15483, 15485, 15486, 15487, 15496, 15497, 15499, 15500, 15501, 15502, 15503, 15504, 15505, 15507, 15508, 15509, 15510, 15512, 15513, 15514, 15515, 15517, 15519, 15520, 15521, 15523, 15524, 15527, 15529, 15530, 15532, 15533, 15534, 15536, 15537, 15544, 15548, 15551, 15564, 15565, 15566, 15569, 15570, 15573, 15574, 15575, 15576, 15577, 15578, 15579, 15580, 15581, 15582, 15583, 15585, 15586, 15587, 15588, 15589, 15590, 15591, 15593, 15594, 15596, 15597, 15598, 15600, 15601, 15603, 15604, 15605, 15606, 15607, 15609, 15611, 15613, 15614, 15615, 15616, 15617, 15619, 15620, 15621, 15622, 15625, 15627, 15628, 15630, 15631, 15632, 15633, 15634, 15635, 15636, 15637, 15638, 15639, 15641, 15642, 15644, 15645, 15649, 15650, 15652, 15653, 15654, 15658, 15660, 15661, 15662, 15663, 15664, 15665, 15666, 15667, 15669, 15671, 15672, 15673, 15674, 15675, 15676, 15678, 15679, 15682, 15684, 15685, 15686, 15687, 15689, 15690, 15691, 15692, 15693, 15695, 15696, 15698, 15700, 15701, 15702, 15703, 15705, 15706, 15707, 15708, 15710, 15711, 15712, 15715, 15716, 15718, 15719, 15721, 15722, 15724, 15725, 15726, 15727, 15728, 15738, 15739, 15740, 15742, 15743, 15750, 15751, 15752, 15753, 15754, 15755, 15757, 15759, 15760, 15761, 15762, 15763, 15764, 15765, 15766, 15767, 15768, 15770, 15774, 15775, 15777, 15778, 15779, 15780, 15782, 15783, 15784, 15787, 15788, 15789, 15790, 15791, 15792, 15793, 15794, 15795, 15797, 15798, 15799, 15800, 15801, 15802, 15803, 15804, 15806, 15807, 15810, 15812, 15813, 15814, 15816, 15817, 15819, 15822, 15823, 15824, 15827, 15830, 15831, 15832, 15833, 15834, 15835, 15836, 15839, 15845, 15847, 15848, 15849, 15850, 15851, 15855, 15858, 15859, 15860, 15861, 15863, 15866, 15867, 15868, 15871, 15872, 15874, 15876, 15877, 15879, 15881, 15882, 15883, 15884, 15885, 15886, 15887, 15888, 15889, 15890, 15891, 15892, 15894, 15895, 15896, 15897, 15898, 15899, 15900, 15901, 15903, 15905, 15906, 15908, 15909, 15911, 15912, 15915, 15916, 15918, 15919, 15920, 15921, 15923, 15924, 15926, 15928, 15929, 15930, 15931, 15948, 15949, 15950, 15951, 15953, 15954, 15955, 15956, 15957, 15958, 15959, 15960, 15961, 15963, 15965, 15966, 15967, 15969, 15970, 15972, 15973, 15974, 15975, 15976, 15977, 15980, 15982, 15983, 15984, 15985, 15986, 15987, 15988, 15989, 15991, 15993, 15994, 15995, 15996, 16001, 16002, 16004, 16005, 16006, 16007, 16011, 16012, 16013, 16014, 16016, 16017, 16019, 16020, 16022, 16025, 16026, 16027, 16028, 16029, 16030, 16034, 16040, 16041, 16042, 16044, 16045, 16047, 16048, 16049, 16051, 16054, 16055, 16056, 16057, 16058, 16060, 16063, 16064, 16065, 16066, 16067, 16070, 16071, 16072, 16073, 16074, 16076, 16077, 16078, 16080, 16081, 16082, 16083, 16084, 16085, 16088, 16089, 16090, 16091, 16092, 16094, 16095, 16096, 16097, 16098, 16100, 16103, 16104, 16105, 16107, 16111, 16112, 16113, 16115, 16119, 16120, 16122, 16123, 16124, 16125, 16126, 16127, 16128, 16130, 16131, 16133, 16134, 16135, 16138, 16140, 16143, 16145, 16146, 16147, 16148, 16149, 16151, 16153, 16154, 16155, 16157, 16158, 16160, 16161, 16163, 16164, 16167, 16168, 16169, 16171, 16172, 16173, 16174, 16175, 16176, 16177, 16178, 16179, 16180, 16182, 16183, 16185, 16187, 16188, 16189, 16190, 16191, 16193, 16194, 16195, 16197, 16198, 16199, 16201, 16202, 16204, 16205, 16206, 16207, 16208, 16209, 16210, 16215, 16217, 16229, 16231, 16233, 16234, 16235, 16236, 16237, 16238, 16239, 16240, 16241, 16243, 16244, 16245, 16246, 16247, 16248, 16249, 16251, 16253, 16254, 16256, 16257, 16259, 16260, 16261, 16264, 16265, 16266, 16267, 16269, 16270, 16271, 16274, 16275, 16276, 16278, 16279, 16280, 16281, 16282, 16284, 16285, 16286, 16287, 16288, 16289, 16291, 16294, 16296, 16297, 16298, 16299, 16300, 16301, 16302, 16303, 16304, 16310, 16312, 16313, 16314, 16315, 16316, 16318, 16320, 16321, 16324, 16325, 16326, 16330, 16331, 16332, 16333, 16336, 16337, 16338, 16339, 16340, 16341, 16343, 16344, 16346, 16347, 16348, 16350, 16352, 16355, 16356, 16357, 16358, 16360, 16361, 16362, 16364, 16365, 16366, 16367, 16368, 16369, 16370, 16371, 16372, 16373, 16374, 16375, 16376, 16377, 16380, 16381, 16382, 16383]\n"
     ]
    },
    {
     "name": "stderr",
     "output_type": "stream",
     "text": [
      "c:\\Users\\vrajagopalan\\OneDrive - IESEG\\Desktop\\Recommendation\\Group_Assignment\\IESEGRecSys\\model.py:72: RuntimeWarning: invalid value encountered in true_divide\n",
      "  self.prediction = (np.matmul(df_pivot.values, self.matrixNN) / denom) + self.user_avg[:,np.newaxis]\n"
     ]
    }
   ],
   "source": [
    "cb_pca = ContentBased(NN=10)\n",
    "\n",
    "# fit on content\n",
    "cb_pca.fit(pca_data)\n",
    "\n",
    "# fit on train_ratings\n",
    "cb_pca.fit_ratings(df_train)\n",
    "\n",
    "# predict test ratings\n",
    "cb_pred_4 = cb_pca.test(df_test)"
   ]
  },
  {
   "cell_type": "code",
   "execution_count": null,
   "metadata": {},
   "outputs": [
    {
     "data": {
      "text/html": [
       "<div>\n",
       "<style scoped>\n",
       "    .dataframe tbody tr th:only-of-type {\n",
       "        vertical-align: middle;\n",
       "    }\n",
       "\n",
       "    .dataframe tbody tr th {\n",
       "        vertical-align: top;\n",
       "    }\n",
       "\n",
       "    .dataframe thead th {\n",
       "        text-align: right;\n",
       "    }\n",
       "</style>\n",
       "<table border=\"1\" class=\"dataframe\">\n",
       "  <thead>\n",
       "    <tr style=\"text-align: right;\">\n",
       "      <th></th>\n",
       "      <th>CB_PCA</th>\n",
       "      <th>HYBRID_RF</th>\n",
       "      <th>HYBRID_LR</th>\n",
       "      <th>CB_HYBRID</th>\n",
       "      <th>CB_REC</th>\n",
       "      <th>CB_FREQ</th>\n",
       "      <th>CB_TDIDF</th>\n",
       "      <th>IB</th>\n",
       "      <th>UB</th>\n",
       "      <th>CLU</th>\n",
       "      <th>SVD</th>\n",
       "      <th>ALS</th>\n",
       "    </tr>\n",
       "  </thead>\n",
       "  <tbody>\n",
       "    <tr>\n",
       "      <th>RMSE</th>\n",
       "      <td>0.969446</td>\n",
       "      <td>0.862784</td>\n",
       "      <td>0.868621</td>\n",
       "      <td>0.928663</td>\n",
       "      <td>0.995778</td>\n",
       "      <td>1.002499</td>\n",
       "      <td>1.061201</td>\n",
       "      <td>1.155835</td>\n",
       "      <td>1.496085</td>\n",
       "      <td>1.114257</td>\n",
       "      <td>1.421003</td>\n",
       "      <td>0.940659</td>\n",
       "    </tr>\n",
       "    <tr>\n",
       "      <th>MAE</th>\n",
       "      <td>0.708825</td>\n",
       "      <td>0.652101</td>\n",
       "      <td>0.651895</td>\n",
       "      <td>0.695740</td>\n",
       "      <td>0.724015</td>\n",
       "      <td>0.728852</td>\n",
       "      <td>0.767399</td>\n",
       "      <td>0.829390</td>\n",
       "      <td>1.128415</td>\n",
       "      <td>0.820945</td>\n",
       "      <td>1.004436</td>\n",
       "      <td>0.713441</td>\n",
       "    </tr>\n",
       "    <tr>\n",
       "      <th>Recall</th>\n",
       "      <td>0.947831</td>\n",
       "      <td>0.940748</td>\n",
       "      <td>0.934747</td>\n",
       "      <td>0.966082</td>\n",
       "      <td>0.949873</td>\n",
       "      <td>0.950623</td>\n",
       "      <td>0.953873</td>\n",
       "      <td>0.955123</td>\n",
       "      <td>0.994916</td>\n",
       "      <td>0.925705</td>\n",
       "      <td>0.832660</td>\n",
       "      <td>0.975791</td>\n",
       "    </tr>\n",
       "    <tr>\n",
       "      <th>Precision</th>\n",
       "      <td>0.959222</td>\n",
       "      <td>0.974827</td>\n",
       "      <td>0.976537</td>\n",
       "      <td>0.951492</td>\n",
       "      <td>0.951657</td>\n",
       "      <td>0.950267</td>\n",
       "      <td>0.940703</td>\n",
       "      <td>0.922934</td>\n",
       "      <td>0.867718</td>\n",
       "      <td>0.939723</td>\n",
       "      <td>0.942417</td>\n",
       "      <td>0.950985</td>\n",
       "    </tr>\n",
       "    <tr>\n",
       "      <th>F1</th>\n",
       "      <td>0.953493</td>\n",
       "      <td>0.957484</td>\n",
       "      <td>0.955185</td>\n",
       "      <td>0.958731</td>\n",
       "      <td>0.950764</td>\n",
       "      <td>0.950445</td>\n",
       "      <td>0.947242</td>\n",
       "      <td>0.938753</td>\n",
       "      <td>0.926974</td>\n",
       "      <td>0.932662</td>\n",
       "      <td>0.884145</td>\n",
       "      <td>0.963228</td>\n",
       "    </tr>\n",
       "    <tr>\n",
       "      <th>NDCG@5</th>\n",
       "      <td>0.882910</td>\n",
       "      <td>0.858753</td>\n",
       "      <td>0.855145</td>\n",
       "      <td>0.856330</td>\n",
       "      <td>0.864225</td>\n",
       "      <td>0.866111</td>\n",
       "      <td>0.864106</td>\n",
       "      <td>0.843581</td>\n",
       "      <td>0.856282</td>\n",
       "      <td>0.852969</td>\n",
       "      <td>0.859563</td>\n",
       "      <td>0.855251</td>\n",
       "    </tr>\n",
       "  </tbody>\n",
       "</table>\n",
       "</div>"
      ],
      "text/plain": [
       "             CB_PCA  HYBRID_RF  HYBRID_LR  CB_HYBRID    CB_REC   CB_FREQ  \\\n",
       "RMSE       0.969446   0.862784   0.868621   0.928663  0.995778  1.002499   \n",
       "MAE        0.708825   0.652101   0.651895   0.695740  0.724015  0.728852   \n",
       "Recall     0.947831   0.940748   0.934747   0.966082  0.949873  0.950623   \n",
       "Precision  0.959222   0.974827   0.976537   0.951492  0.951657  0.950267   \n",
       "F1         0.953493   0.957484   0.955185   0.958731  0.950764  0.950445   \n",
       "NDCG@5     0.882910   0.858753   0.855145   0.856330  0.864225  0.866111   \n",
       "\n",
       "           CB_TDIDF        IB        UB       CLU       SVD       ALS  \n",
       "RMSE       1.061201  1.155835  1.496085  1.114257  1.421003  0.940659  \n",
       "MAE        0.767399  0.829390  1.128415  0.820945  1.004436  0.713441  \n",
       "Recall     0.953873  0.955123  0.994916  0.925705  0.832660  0.975791  \n",
       "Precision  0.940703  0.922934  0.867718  0.939723  0.942417  0.950985  \n",
       "F1         0.947242  0.938753  0.926974  0.932662  0.884145  0.963228  \n",
       "NDCG@5     0.864106  0.843581  0.856282  0.852969  0.859563  0.855251  "
      ]
     },
     "execution_count": 234,
     "metadata": {},
     "output_type": "execute_result"
    }
   ],
   "source": [
    "overview = pd.concat([eval.evaluate(cb_pred_4, topn=5, rating_cutoff=5), overview], axis = 1)\n",
    "overview.rename(columns={'value':'CB_PCA'}, inplace = True)\n",
    "overview"
   ]
  },
  {
   "cell_type": "code",
   "execution_count": null,
   "metadata": {},
   "outputs": [],
   "source": [
    "df_cb_pred_4 =  pd.DataFrame(cb_pred_4)"
   ]
  },
  {
   "cell_type": "code",
   "execution_count": null,
   "metadata": {},
   "outputs": [
    {
     "data": {
      "text/html": [
       "<div>\n",
       "<style scoped>\n",
       "    .dataframe tbody tr th:only-of-type {\n",
       "        vertical-align: middle;\n",
       "    }\n",
       "\n",
       "    .dataframe tbody tr th {\n",
       "        vertical-align: top;\n",
       "    }\n",
       "\n",
       "    .dataframe thead th {\n",
       "        text-align: right;\n",
       "    }\n",
       "</style>\n",
       "<table border=\"1\" class=\"dataframe\">\n",
       "  <thead>\n",
       "    <tr style=\"text-align: right;\">\n",
       "      <th></th>\n",
       "      <th>uid</th>\n",
       "      <th>iid</th>\n",
       "      <th>r_ui</th>\n",
       "      <th>est</th>\n",
       "      <th>details</th>\n",
       "    </tr>\n",
       "  </thead>\n",
       "  <tbody>\n",
       "    <tr>\n",
       "      <th>0</th>\n",
       "      <td>200</td>\n",
       "      <td>998</td>\n",
       "      <td>6.0</td>\n",
       "      <td>5.884848</td>\n",
       "      <td>{'was_impossible': False}</td>\n",
       "    </tr>\n",
       "    <tr>\n",
       "      <th>1</th>\n",
       "      <td>1833</td>\n",
       "      <td>543</td>\n",
       "      <td>5.0</td>\n",
       "      <td>5.685949</td>\n",
       "      <td>{'was_impossible': False}</td>\n",
       "    </tr>\n",
       "    <tr>\n",
       "      <th>2</th>\n",
       "      <td>293</td>\n",
       "      <td>5313</td>\n",
       "      <td>6.0</td>\n",
       "      <td>5.536221</td>\n",
       "      <td>{'was_impossible': False}</td>\n",
       "    </tr>\n",
       "    <tr>\n",
       "      <th>3</th>\n",
       "      <td>1102</td>\n",
       "      <td>328</td>\n",
       "      <td>5.0</td>\n",
       "      <td>5.688409</td>\n",
       "      <td>{'was_impossible': False}</td>\n",
       "    </tr>\n",
       "    <tr>\n",
       "      <th>4</th>\n",
       "      <td>938</td>\n",
       "      <td>7191</td>\n",
       "      <td>7.0</td>\n",
       "      <td>7.292591</td>\n",
       "      <td>{'was_impossible': False}</td>\n",
       "    </tr>\n",
       "  </tbody>\n",
       "</table>\n",
       "</div>"
      ],
      "text/plain": [
       "    uid   iid  r_ui       est                    details\n",
       "0   200   998   6.0  5.884848  {'was_impossible': False}\n",
       "1  1833   543   5.0  5.685949  {'was_impossible': False}\n",
       "2   293  5313   6.0  5.536221  {'was_impossible': False}\n",
       "3  1102   328   5.0  5.688409  {'was_impossible': False}\n",
       "4   938  7191   7.0  7.292591  {'was_impossible': False}"
      ]
     },
     "execution_count": 236,
     "metadata": {},
     "output_type": "execute_result"
    }
   ],
   "source": [
    "df_hybrid = df_cb_pred_4.copy()\n",
    "df_hybrid['est'] = (np.array(df_cb_pred_4['est']) + np.array(df_als_pred['est'])) / 2\n",
    "\n",
    "df_hybrid.head()\n"
   ]
  },
  {
   "cell_type": "code",
   "execution_count": null,
   "metadata": {},
   "outputs": [
    {
     "data": {
      "text/html": [
       "<div>\n",
       "<style scoped>\n",
       "    .dataframe tbody tr th:only-of-type {\n",
       "        vertical-align: middle;\n",
       "    }\n",
       "\n",
       "    .dataframe tbody tr th {\n",
       "        vertical-align: top;\n",
       "    }\n",
       "\n",
       "    .dataframe thead th {\n",
       "        text-align: right;\n",
       "    }\n",
       "</style>\n",
       "<table border=\"1\" class=\"dataframe\">\n",
       "  <thead>\n",
       "    <tr style=\"text-align: right;\">\n",
       "      <th></th>\n",
       "      <th>CB_PCA_HYBRID</th>\n",
       "      <th>CB_PCA</th>\n",
       "      <th>HYBRID_RF</th>\n",
       "      <th>HYBRID_LR</th>\n",
       "      <th>CB_HYBRID</th>\n",
       "      <th>CB_REC</th>\n",
       "      <th>CB_FREQ</th>\n",
       "      <th>CB_TDIDF</th>\n",
       "      <th>IB</th>\n",
       "      <th>UB</th>\n",
       "      <th>CLU</th>\n",
       "      <th>SVD</th>\n",
       "      <th>ALS</th>\n",
       "    </tr>\n",
       "  </thead>\n",
       "  <tbody>\n",
       "    <tr>\n",
       "      <th>RMSE</th>\n",
       "      <td>0.918862</td>\n",
       "      <td>0.969446</td>\n",
       "      <td>0.862784</td>\n",
       "      <td>0.868621</td>\n",
       "      <td>0.928663</td>\n",
       "      <td>0.995778</td>\n",
       "      <td>1.002499</td>\n",
       "      <td>1.061201</td>\n",
       "      <td>1.155835</td>\n",
       "      <td>1.496085</td>\n",
       "      <td>1.114257</td>\n",
       "      <td>1.421003</td>\n",
       "      <td>0.940659</td>\n",
       "    </tr>\n",
       "    <tr>\n",
       "      <th>MAE</th>\n",
       "      <td>0.689146</td>\n",
       "      <td>0.708825</td>\n",
       "      <td>0.652101</td>\n",
       "      <td>0.651895</td>\n",
       "      <td>0.695740</td>\n",
       "      <td>0.724015</td>\n",
       "      <td>0.728852</td>\n",
       "      <td>0.767399</td>\n",
       "      <td>0.829390</td>\n",
       "      <td>1.128415</td>\n",
       "      <td>0.820945</td>\n",
       "      <td>1.004436</td>\n",
       "      <td>0.713441</td>\n",
       "    </tr>\n",
       "    <tr>\n",
       "      <th>Recall</th>\n",
       "      <td>0.963498</td>\n",
       "      <td>0.947831</td>\n",
       "      <td>0.940748</td>\n",
       "      <td>0.934747</td>\n",
       "      <td>0.966082</td>\n",
       "      <td>0.949873</td>\n",
       "      <td>0.950623</td>\n",
       "      <td>0.953873</td>\n",
       "      <td>0.955123</td>\n",
       "      <td>0.994916</td>\n",
       "      <td>0.925705</td>\n",
       "      <td>0.832660</td>\n",
       "      <td>0.975791</td>\n",
       "    </tr>\n",
       "    <tr>\n",
       "      <th>Precision</th>\n",
       "      <td>0.955930</td>\n",
       "      <td>0.959222</td>\n",
       "      <td>0.974827</td>\n",
       "      <td>0.976537</td>\n",
       "      <td>0.951492</td>\n",
       "      <td>0.951657</td>\n",
       "      <td>0.950267</td>\n",
       "      <td>0.940703</td>\n",
       "      <td>0.922934</td>\n",
       "      <td>0.867718</td>\n",
       "      <td>0.939723</td>\n",
       "      <td>0.942417</td>\n",
       "      <td>0.950985</td>\n",
       "    </tr>\n",
       "    <tr>\n",
       "      <th>F1</th>\n",
       "      <td>0.959700</td>\n",
       "      <td>0.953493</td>\n",
       "      <td>0.957484</td>\n",
       "      <td>0.955185</td>\n",
       "      <td>0.958731</td>\n",
       "      <td>0.950764</td>\n",
       "      <td>0.950445</td>\n",
       "      <td>0.947242</td>\n",
       "      <td>0.938753</td>\n",
       "      <td>0.926974</td>\n",
       "      <td>0.932662</td>\n",
       "      <td>0.884145</td>\n",
       "      <td>0.963228</td>\n",
       "    </tr>\n",
       "    <tr>\n",
       "      <th>NDCG@5</th>\n",
       "      <td>0.854903</td>\n",
       "      <td>0.882910</td>\n",
       "      <td>0.858753</td>\n",
       "      <td>0.855145</td>\n",
       "      <td>0.856330</td>\n",
       "      <td>0.864225</td>\n",
       "      <td>0.866111</td>\n",
       "      <td>0.864106</td>\n",
       "      <td>0.843581</td>\n",
       "      <td>0.856282</td>\n",
       "      <td>0.852969</td>\n",
       "      <td>0.859563</td>\n",
       "      <td>0.855251</td>\n",
       "    </tr>\n",
       "  </tbody>\n",
       "</table>\n",
       "</div>"
      ],
      "text/plain": [
       "           CB_PCA_HYBRID    CB_PCA  HYBRID_RF  HYBRID_LR  CB_HYBRID    CB_REC  \\\n",
       "RMSE            0.918862  0.969446   0.862784   0.868621   0.928663  0.995778   \n",
       "MAE             0.689146  0.708825   0.652101   0.651895   0.695740  0.724015   \n",
       "Recall          0.963498  0.947831   0.940748   0.934747   0.966082  0.949873   \n",
       "Precision       0.955930  0.959222   0.974827   0.976537   0.951492  0.951657   \n",
       "F1              0.959700  0.953493   0.957484   0.955185   0.958731  0.950764   \n",
       "NDCG@5          0.854903  0.882910   0.858753   0.855145   0.856330  0.864225   \n",
       "\n",
       "            CB_FREQ  CB_TDIDF        IB        UB       CLU       SVD  \\\n",
       "RMSE       1.002499  1.061201  1.155835  1.496085  1.114257  1.421003   \n",
       "MAE        0.728852  0.767399  0.829390  1.128415  0.820945  1.004436   \n",
       "Recall     0.950623  0.953873  0.955123  0.994916  0.925705  0.832660   \n",
       "Precision  0.950267  0.940703  0.922934  0.867718  0.939723  0.942417   \n",
       "F1         0.950445  0.947242  0.938753  0.926974  0.932662  0.884145   \n",
       "NDCG@5     0.866111  0.864106  0.843581  0.856282  0.852969  0.859563   \n",
       "\n",
       "                ALS  \n",
       "RMSE       0.940659  \n",
       "MAE        0.713441  \n",
       "Recall     0.975791  \n",
       "Precision  0.950985  \n",
       "F1         0.963228  \n",
       "NDCG@5     0.855251  "
      ]
     },
     "execution_count": 237,
     "metadata": {},
     "output_type": "execute_result"
    }
   ],
   "source": [
    "overview = pd.concat([eval.evaluate(df_hybrid, topn=5, rating_cutoff=5), overview], axis = 1)\n",
    "overview.rename(columns={'value':'CB_PCA_HYBRID'}, inplace = True)\n",
    "overview"
   ]
  },
  {
   "cell_type": "code",
   "execution_count": null,
   "metadata": {},
   "outputs": [
    {
     "data": {
      "text/html": [
       "<div>\n",
       "<style scoped>\n",
       "    .dataframe tbody tr th:only-of-type {\n",
       "        vertical-align: middle;\n",
       "    }\n",
       "\n",
       "    .dataframe tbody tr th {\n",
       "        vertical-align: top;\n",
       "    }\n",
       "\n",
       "    .dataframe thead th {\n",
       "        text-align: right;\n",
       "    }\n",
       "</style>\n",
       "<table border=\"1\" class=\"dataframe\">\n",
       "  <thead>\n",
       "    <tr style=\"text-align: right;\">\n",
       "      <th></th>\n",
       "      <th>CB_REC_PCA</th>\n",
       "      <th>CB_PCA_HYBRID</th>\n",
       "      <th>CB_PCA</th>\n",
       "      <th>HYBRID_RF</th>\n",
       "      <th>HYBRID_LR</th>\n",
       "      <th>CB_HYBRID</th>\n",
       "      <th>CB_REC</th>\n",
       "      <th>CB_FREQ</th>\n",
       "      <th>CB_TDIDF</th>\n",
       "      <th>IB</th>\n",
       "      <th>UB</th>\n",
       "      <th>CLU</th>\n",
       "      <th>SVD</th>\n",
       "      <th>ALS</th>\n",
       "    </tr>\n",
       "  </thead>\n",
       "  <tbody>\n",
       "    <tr>\n",
       "      <th>RMSE</th>\n",
       "      <td>0.969446</td>\n",
       "      <td>0.918862</td>\n",
       "      <td>0.969446</td>\n",
       "      <td>0.862784</td>\n",
       "      <td>0.868621</td>\n",
       "      <td>0.928663</td>\n",
       "      <td>0.995778</td>\n",
       "      <td>1.002499</td>\n",
       "      <td>1.061201</td>\n",
       "      <td>1.155835</td>\n",
       "      <td>1.496085</td>\n",
       "      <td>1.114257</td>\n",
       "      <td>1.421003</td>\n",
       "      <td>0.940659</td>\n",
       "    </tr>\n",
       "    <tr>\n",
       "      <th>MAE</th>\n",
       "      <td>0.708825</td>\n",
       "      <td>0.689146</td>\n",
       "      <td>0.708825</td>\n",
       "      <td>0.652101</td>\n",
       "      <td>0.651895</td>\n",
       "      <td>0.695740</td>\n",
       "      <td>0.724015</td>\n",
       "      <td>0.728852</td>\n",
       "      <td>0.767399</td>\n",
       "      <td>0.829390</td>\n",
       "      <td>1.128415</td>\n",
       "      <td>0.820945</td>\n",
       "      <td>1.004436</td>\n",
       "      <td>0.713441</td>\n",
       "    </tr>\n",
       "    <tr>\n",
       "      <th>Recall</th>\n",
       "      <td>0.947831</td>\n",
       "      <td>0.963498</td>\n",
       "      <td>0.947831</td>\n",
       "      <td>0.940748</td>\n",
       "      <td>0.934747</td>\n",
       "      <td>0.966082</td>\n",
       "      <td>0.949873</td>\n",
       "      <td>0.950623</td>\n",
       "      <td>0.953873</td>\n",
       "      <td>0.955123</td>\n",
       "      <td>0.994916</td>\n",
       "      <td>0.925705</td>\n",
       "      <td>0.832660</td>\n",
       "      <td>0.975791</td>\n",
       "    </tr>\n",
       "    <tr>\n",
       "      <th>Precision</th>\n",
       "      <td>0.959222</td>\n",
       "      <td>0.955930</td>\n",
       "      <td>0.959222</td>\n",
       "      <td>0.974827</td>\n",
       "      <td>0.976537</td>\n",
       "      <td>0.951492</td>\n",
       "      <td>0.951657</td>\n",
       "      <td>0.950267</td>\n",
       "      <td>0.940703</td>\n",
       "      <td>0.922934</td>\n",
       "      <td>0.867718</td>\n",
       "      <td>0.939723</td>\n",
       "      <td>0.942417</td>\n",
       "      <td>0.950985</td>\n",
       "    </tr>\n",
       "    <tr>\n",
       "      <th>F1</th>\n",
       "      <td>0.953493</td>\n",
       "      <td>0.959700</td>\n",
       "      <td>0.953493</td>\n",
       "      <td>0.957484</td>\n",
       "      <td>0.955185</td>\n",
       "      <td>0.958731</td>\n",
       "      <td>0.950764</td>\n",
       "      <td>0.950445</td>\n",
       "      <td>0.947242</td>\n",
       "      <td>0.938753</td>\n",
       "      <td>0.926974</td>\n",
       "      <td>0.932662</td>\n",
       "      <td>0.884145</td>\n",
       "      <td>0.963228</td>\n",
       "    </tr>\n",
       "    <tr>\n",
       "      <th>NDCG@5</th>\n",
       "      <td>0.882910</td>\n",
       "      <td>0.854903</td>\n",
       "      <td>0.882910</td>\n",
       "      <td>0.858753</td>\n",
       "      <td>0.855145</td>\n",
       "      <td>0.856330</td>\n",
       "      <td>0.864225</td>\n",
       "      <td>0.866111</td>\n",
       "      <td>0.864106</td>\n",
       "      <td>0.843581</td>\n",
       "      <td>0.856282</td>\n",
       "      <td>0.852969</td>\n",
       "      <td>0.859563</td>\n",
       "      <td>0.855251</td>\n",
       "    </tr>\n",
       "  </tbody>\n",
       "</table>\n",
       "</div>"
      ],
      "text/plain": [
       "           CB_REC_PCA  CB_PCA_HYBRID    CB_PCA  HYBRID_RF  HYBRID_LR  \\\n",
       "RMSE         0.969446       0.918862  0.969446   0.862784   0.868621   \n",
       "MAE          0.708825       0.689146  0.708825   0.652101   0.651895   \n",
       "Recall       0.947831       0.963498  0.947831   0.940748   0.934747   \n",
       "Precision    0.959222       0.955930  0.959222   0.974827   0.976537   \n",
       "F1           0.953493       0.959700  0.953493   0.957484   0.955185   \n",
       "NDCG@5       0.882910       0.854903  0.882910   0.858753   0.855145   \n",
       "\n",
       "           CB_HYBRID    CB_REC   CB_FREQ  CB_TDIDF        IB        UB  \\\n",
       "RMSE        0.928663  0.995778  1.002499  1.061201  1.155835  1.496085   \n",
       "MAE         0.695740  0.724015  0.728852  0.767399  0.829390  1.128415   \n",
       "Recall      0.966082  0.949873  0.950623  0.953873  0.955123  0.994916   \n",
       "Precision   0.951492  0.951657  0.950267  0.940703  0.922934  0.867718   \n",
       "F1          0.958731  0.950764  0.950445  0.947242  0.938753  0.926974   \n",
       "NDCG@5      0.856330  0.864225  0.866111  0.864106  0.843581  0.856282   \n",
       "\n",
       "                CLU       SVD       ALS  \n",
       "RMSE       1.114257  1.421003  0.940659  \n",
       "MAE        0.820945  1.004436  0.713441  \n",
       "Recall     0.925705  0.832660  0.975791  \n",
       "Precision  0.939723  0.942417  0.950985  \n",
       "F1         0.932662  0.884145  0.963228  \n",
       "NDCG@5     0.852969  0.859563  0.855251  "
      ]
     },
     "execution_count": 238,
     "metadata": {},
     "output_type": "execute_result"
    }
   ],
   "source": [
    "overview = pd.concat([eval.evaluate(cb_pred_4, topn=5, rating_cutoff=5), overview], axis = 1)\n",
    "overview.rename(columns={'value':'CB_REC_PCA'}, inplace = True)\n",
    "overview"
   ]
  },
  {
   "cell_type": "markdown",
   "metadata": {},
   "source": [
    "Logistic Regression PCA"
   ]
  },
  {
   "cell_type": "code",
   "execution_count": null,
   "metadata": {},
   "outputs": [],
   "source": [
    "df_pred_cb_pca = pd.DataFrame(cb_pred_4)"
   ]
  },
  {
   "cell_type": "code",
   "execution_count": null,
   "metadata": {},
   "outputs": [
    {
     "data": {
      "text/html": [
       "<div>\n",
       "<style scoped>\n",
       "    .dataframe tbody tr th:only-of-type {\n",
       "        vertical-align: middle;\n",
       "    }\n",
       "\n",
       "    .dataframe tbody tr th {\n",
       "        vertical-align: top;\n",
       "    }\n",
       "\n",
       "    .dataframe thead th {\n",
       "        text-align: right;\n",
       "    }\n",
       "</style>\n",
       "<table border=\"1\" class=\"dataframe\">\n",
       "  <thead>\n",
       "    <tr style=\"text-align: right;\">\n",
       "      <th></th>\n",
       "      <th>target</th>\n",
       "      <th>als_pred</th>\n",
       "      <th>cb_rec_pca_pred</th>\n",
       "    </tr>\n",
       "  </thead>\n",
       "  <tbody>\n",
       "    <tr>\n",
       "      <th>0</th>\n",
       "      <td>6.0</td>\n",
       "      <td>5.923541</td>\n",
       "      <td>5.846154</td>\n",
       "    </tr>\n",
       "    <tr>\n",
       "      <th>1</th>\n",
       "      <td>5.0</td>\n",
       "      <td>5.705231</td>\n",
       "      <td>5.666667</td>\n",
       "    </tr>\n",
       "    <tr>\n",
       "      <th>2</th>\n",
       "      <td>6.0</td>\n",
       "      <td>5.720768</td>\n",
       "      <td>5.351673</td>\n",
       "    </tr>\n",
       "    <tr>\n",
       "      <th>3</th>\n",
       "      <td>5.0</td>\n",
       "      <td>5.599005</td>\n",
       "      <td>5.777813</td>\n",
       "    </tr>\n",
       "    <tr>\n",
       "      <th>4</th>\n",
       "      <td>7.0</td>\n",
       "      <td>7.055771</td>\n",
       "      <td>7.529412</td>\n",
       "    </tr>\n",
       "  </tbody>\n",
       "</table>\n",
       "</div>"
      ],
      "text/plain": [
       "   target  als_pred  cb_rec_pca_pred\n",
       "0     6.0  5.923541         5.846154\n",
       "1     5.0  5.705231         5.666667\n",
       "2     6.0  5.720768         5.351673\n",
       "3     5.0  5.599005         5.777813\n",
       "4     7.0  7.055771         7.529412"
      ]
     },
     "execution_count": 240,
     "metadata": {},
     "output_type": "execute_result"
    }
   ],
   "source": [
    "# training set for Linear Regression model\n",
    "lr_train = df_als_pred[['r_ui', 'est']].rename(columns={'r_ui':'target', 'est':'als_pred'})\n",
    "lr_train['cb_rec_pca_pred'] = df_pred_cb_pca['est']\n",
    "lr_train.head()"
   ]
  },
  {
   "cell_type": "code",
   "execution_count": null,
   "metadata": {},
   "outputs": [],
   "source": [
    "# Train Linear Regression model\n",
    "from sklearn.linear_model import LinearRegression\n",
    "\n",
    "X, y = lr_train.loc[:,lr_train.columns != 'target'], lr_train[['target']]\n",
    "\n",
    "lr_model_pca = LinearRegression().fit(X,y)"
   ]
  },
  {
   "cell_type": "code",
   "execution_count": null,
   "metadata": {},
   "outputs": [],
   "source": [
    "# get test set\n",
    "lr_test = df_als_pred[['r_ui', 'est']].rename(columns={'r_ui':'target', 'est':'als_pred'})\n",
    "lr_test['cb_rec_pca_pred'] = df_pred_cb_pca['est']\n",
    "X_test, y_test = lr_test.loc[:,lr_test.columns != 'target'], lr_test[['target']]\n",
    "\n",
    "# predict\n",
    "lr_pred = lr_model_pca.predict(X_test)\n",
    "\n",
    "# transform in surprise format\n",
    "df_lr_pca =  df_als_pred.copy()\n",
    "df_lr_pca['est'] = lr_pred"
   ]
  },
  {
   "cell_type": "code",
   "execution_count": null,
   "metadata": {},
   "outputs": [
    {
     "data": {
      "text/html": [
       "<div>\n",
       "<style scoped>\n",
       "    .dataframe tbody tr th:only-of-type {\n",
       "        vertical-align: middle;\n",
       "    }\n",
       "\n",
       "    .dataframe tbody tr th {\n",
       "        vertical-align: top;\n",
       "    }\n",
       "\n",
       "    .dataframe thead th {\n",
       "        text-align: right;\n",
       "    }\n",
       "</style>\n",
       "<table border=\"1\" class=\"dataframe\">\n",
       "  <thead>\n",
       "    <tr style=\"text-align: right;\">\n",
       "      <th></th>\n",
       "      <th>HYBRID_PCA_LR</th>\n",
       "      <th>CB_REC_PCA</th>\n",
       "      <th>CB_PCA_HYBRID</th>\n",
       "      <th>CB_PCA</th>\n",
       "      <th>HYBRID_RF</th>\n",
       "      <th>HYBRID_LR</th>\n",
       "      <th>CB_HYBRID</th>\n",
       "      <th>CB_REC</th>\n",
       "      <th>CB_FREQ</th>\n",
       "      <th>CB_TDIDF</th>\n",
       "      <th>IB</th>\n",
       "      <th>UB</th>\n",
       "      <th>CLU</th>\n",
       "      <th>SVD</th>\n",
       "      <th>ALS</th>\n",
       "    </tr>\n",
       "  </thead>\n",
       "  <tbody>\n",
       "    <tr>\n",
       "      <th>RMSE</th>\n",
       "      <td>0.868890</td>\n",
       "      <td>0.969446</td>\n",
       "      <td>0.918862</td>\n",
       "      <td>0.969446</td>\n",
       "      <td>0.862784</td>\n",
       "      <td>0.868621</td>\n",
       "      <td>0.928663</td>\n",
       "      <td>0.995778</td>\n",
       "      <td>1.002499</td>\n",
       "      <td>1.061201</td>\n",
       "      <td>1.155835</td>\n",
       "      <td>1.496085</td>\n",
       "      <td>1.114257</td>\n",
       "      <td>1.421003</td>\n",
       "      <td>0.940659</td>\n",
       "    </tr>\n",
       "    <tr>\n",
       "      <th>MAE</th>\n",
       "      <td>0.651761</td>\n",
       "      <td>0.708825</td>\n",
       "      <td>0.689146</td>\n",
       "      <td>0.708825</td>\n",
       "      <td>0.652101</td>\n",
       "      <td>0.651895</td>\n",
       "      <td>0.695740</td>\n",
       "      <td>0.724015</td>\n",
       "      <td>0.728852</td>\n",
       "      <td>0.767399</td>\n",
       "      <td>0.829390</td>\n",
       "      <td>1.128415</td>\n",
       "      <td>0.820945</td>\n",
       "      <td>1.004436</td>\n",
       "      <td>0.713441</td>\n",
       "    </tr>\n",
       "    <tr>\n",
       "      <th>Recall</th>\n",
       "      <td>0.935247</td>\n",
       "      <td>0.947831</td>\n",
       "      <td>0.963498</td>\n",
       "      <td>0.947831</td>\n",
       "      <td>0.940748</td>\n",
       "      <td>0.934747</td>\n",
       "      <td>0.966082</td>\n",
       "      <td>0.949873</td>\n",
       "      <td>0.950623</td>\n",
       "      <td>0.953873</td>\n",
       "      <td>0.955123</td>\n",
       "      <td>0.994916</td>\n",
       "      <td>0.925705</td>\n",
       "      <td>0.832660</td>\n",
       "      <td>0.975791</td>\n",
       "    </tr>\n",
       "    <tr>\n",
       "      <th>Precision</th>\n",
       "      <td>0.976761</td>\n",
       "      <td>0.959222</td>\n",
       "      <td>0.955930</td>\n",
       "      <td>0.959222</td>\n",
       "      <td>0.974827</td>\n",
       "      <td>0.976537</td>\n",
       "      <td>0.951492</td>\n",
       "      <td>0.951657</td>\n",
       "      <td>0.950267</td>\n",
       "      <td>0.940703</td>\n",
       "      <td>0.922934</td>\n",
       "      <td>0.867718</td>\n",
       "      <td>0.939723</td>\n",
       "      <td>0.942417</td>\n",
       "      <td>0.950985</td>\n",
       "    </tr>\n",
       "    <tr>\n",
       "      <th>F1</th>\n",
       "      <td>0.955554</td>\n",
       "      <td>0.953493</td>\n",
       "      <td>0.959700</td>\n",
       "      <td>0.953493</td>\n",
       "      <td>0.957484</td>\n",
       "      <td>0.955185</td>\n",
       "      <td>0.958731</td>\n",
       "      <td>0.950764</td>\n",
       "      <td>0.950445</td>\n",
       "      <td>0.947242</td>\n",
       "      <td>0.938753</td>\n",
       "      <td>0.926974</td>\n",
       "      <td>0.932662</td>\n",
       "      <td>0.884145</td>\n",
       "      <td>0.963228</td>\n",
       "    </tr>\n",
       "    <tr>\n",
       "      <th>NDCG@5</th>\n",
       "      <td>0.855824</td>\n",
       "      <td>0.882910</td>\n",
       "      <td>0.854903</td>\n",
       "      <td>0.882910</td>\n",
       "      <td>0.858753</td>\n",
       "      <td>0.855145</td>\n",
       "      <td>0.856330</td>\n",
       "      <td>0.864225</td>\n",
       "      <td>0.866111</td>\n",
       "      <td>0.864106</td>\n",
       "      <td>0.843581</td>\n",
       "      <td>0.856282</td>\n",
       "      <td>0.852969</td>\n",
       "      <td>0.859563</td>\n",
       "      <td>0.855251</td>\n",
       "    </tr>\n",
       "  </tbody>\n",
       "</table>\n",
       "</div>"
      ],
      "text/plain": [
       "           HYBRID_PCA_LR  CB_REC_PCA  CB_PCA_HYBRID    CB_PCA  HYBRID_RF  \\\n",
       "RMSE            0.868890    0.969446       0.918862  0.969446   0.862784   \n",
       "MAE             0.651761    0.708825       0.689146  0.708825   0.652101   \n",
       "Recall          0.935247    0.947831       0.963498  0.947831   0.940748   \n",
       "Precision       0.976761    0.959222       0.955930  0.959222   0.974827   \n",
       "F1              0.955554    0.953493       0.959700  0.953493   0.957484   \n",
       "NDCG@5          0.855824    0.882910       0.854903  0.882910   0.858753   \n",
       "\n",
       "           HYBRID_LR  CB_HYBRID    CB_REC   CB_FREQ  CB_TDIDF        IB  \\\n",
       "RMSE        0.868621   0.928663  0.995778  1.002499  1.061201  1.155835   \n",
       "MAE         0.651895   0.695740  0.724015  0.728852  0.767399  0.829390   \n",
       "Recall      0.934747   0.966082  0.949873  0.950623  0.953873  0.955123   \n",
       "Precision   0.976537   0.951492  0.951657  0.950267  0.940703  0.922934   \n",
       "F1          0.955185   0.958731  0.950764  0.950445  0.947242  0.938753   \n",
       "NDCG@5      0.855145   0.856330  0.864225  0.866111  0.864106  0.843581   \n",
       "\n",
       "                 UB       CLU       SVD       ALS  \n",
       "RMSE       1.496085  1.114257  1.421003  0.940659  \n",
       "MAE        1.128415  0.820945  1.004436  0.713441  \n",
       "Recall     0.994916  0.925705  0.832660  0.975791  \n",
       "Precision  0.867718  0.939723  0.942417  0.950985  \n",
       "F1         0.926974  0.932662  0.884145  0.963228  \n",
       "NDCG@5     0.856282  0.852969  0.859563  0.855251  "
      ]
     },
     "execution_count": 243,
     "metadata": {},
     "output_type": "execute_result"
    }
   ],
   "source": [
    "overview = pd.concat([eval.evaluate(df_lr_pca, topn=5, rating_cutoff=5), overview], axis = 1)\n",
    "overview.rename(columns={'value':'HYBRID_PCA_LR'}, inplace = True)\n",
    "overview"
   ]
  },
  {
   "cell_type": "markdown",
   "metadata": {},
   "source": [
    "Random Forrest"
   ]
  },
  {
   "cell_type": "code",
   "execution_count": null,
   "metadata": {},
   "outputs": [
    {
     "data": {
      "text/html": [
       "<div>\n",
       "<style scoped>\n",
       "    .dataframe tbody tr th:only-of-type {\n",
       "        vertical-align: middle;\n",
       "    }\n",
       "\n",
       "    .dataframe tbody tr th {\n",
       "        vertical-align: top;\n",
       "    }\n",
       "\n",
       "    .dataframe thead th {\n",
       "        text-align: right;\n",
       "    }\n",
       "</style>\n",
       "<table border=\"1\" class=\"dataframe\">\n",
       "  <thead>\n",
       "    <tr style=\"text-align: right;\">\n",
       "      <th></th>\n",
       "      <th>target</th>\n",
       "      <th>als_pred</th>\n",
       "      <th>cb_rec_pca_pred</th>\n",
       "    </tr>\n",
       "  </thead>\n",
       "  <tbody>\n",
       "    <tr>\n",
       "      <th>0</th>\n",
       "      <td>6.0</td>\n",
       "      <td>5.923541</td>\n",
       "      <td>5.846154</td>\n",
       "    </tr>\n",
       "    <tr>\n",
       "      <th>1</th>\n",
       "      <td>5.0</td>\n",
       "      <td>5.705231</td>\n",
       "      <td>5.666667</td>\n",
       "    </tr>\n",
       "    <tr>\n",
       "      <th>2</th>\n",
       "      <td>6.0</td>\n",
       "      <td>5.720768</td>\n",
       "      <td>5.351673</td>\n",
       "    </tr>\n",
       "    <tr>\n",
       "      <th>3</th>\n",
       "      <td>5.0</td>\n",
       "      <td>5.599005</td>\n",
       "      <td>5.777813</td>\n",
       "    </tr>\n",
       "    <tr>\n",
       "      <th>4</th>\n",
       "      <td>7.0</td>\n",
       "      <td>7.055771</td>\n",
       "      <td>7.529412</td>\n",
       "    </tr>\n",
       "  </tbody>\n",
       "</table>\n",
       "</div>"
      ],
      "text/plain": [
       "   target  als_pred  cb_rec_pca_pred\n",
       "0     6.0  5.923541         5.846154\n",
       "1     5.0  5.705231         5.666667\n",
       "2     6.0  5.720768         5.351673\n",
       "3     5.0  5.599005         5.777813\n",
       "4     7.0  7.055771         7.529412"
      ]
     },
     "execution_count": 244,
     "metadata": {},
     "output_type": "execute_result"
    }
   ],
   "source": [
    "# copy lr train set\n",
    "rf_train = lr_train.copy()\n",
    "rf_train.head()"
   ]
  },
  {
   "cell_type": "code",
   "execution_count": null,
   "metadata": {},
   "outputs": [],
   "source": [
    "X, y = rf_train.loc[:,rf_train.columns != 'target'], np.array(rf_train['target'])\n",
    "\n",
    "# fit random forest model\n",
    "rf_model_pca = RandomForestRegressor(max_depth=4, n_estimators=100).fit(X,y)"
   ]
  },
  {
   "cell_type": "code",
   "execution_count": null,
   "metadata": {},
   "outputs": [],
   "source": [
    "# predict\n",
    "rf_pred_pca = rf_model_pca.predict(X_test)\n",
    "\n",
    "# transform in surprise format\n",
    "df_rf_pca = df_als_pred.copy()\n",
    "df_rf_pca['est'] = rf_pred_pca"
   ]
  },
  {
   "cell_type": "code",
   "execution_count": null,
   "metadata": {},
   "outputs": [
    {
     "data": {
      "text/html": [
       "<div>\n",
       "<style scoped>\n",
       "    .dataframe tbody tr th:only-of-type {\n",
       "        vertical-align: middle;\n",
       "    }\n",
       "\n",
       "    .dataframe tbody tr th {\n",
       "        vertical-align: top;\n",
       "    }\n",
       "\n",
       "    .dataframe thead th {\n",
       "        text-align: right;\n",
       "    }\n",
       "</style>\n",
       "<table border=\"1\" class=\"dataframe\">\n",
       "  <thead>\n",
       "    <tr style=\"text-align: right;\">\n",
       "      <th></th>\n",
       "      <th>HYBRID_PCA_RF</th>\n",
       "      <th>HYBRID_PCA_LR</th>\n",
       "      <th>CB_REC_PCA</th>\n",
       "      <th>CB_PCA_HYBRID</th>\n",
       "      <th>CB_PCA</th>\n",
       "      <th>HYBRID_RF</th>\n",
       "      <th>HYBRID_LR</th>\n",
       "      <th>CB_HYBRID</th>\n",
       "      <th>CB_REC</th>\n",
       "      <th>CB_FREQ</th>\n",
       "      <th>CB_TDIDF</th>\n",
       "      <th>IB</th>\n",
       "      <th>UB</th>\n",
       "      <th>CLU</th>\n",
       "      <th>SVD</th>\n",
       "      <th>ALS</th>\n",
       "    </tr>\n",
       "  </thead>\n",
       "  <tbody>\n",
       "    <tr>\n",
       "      <th>RMSE</th>\n",
       "      <td>0.863338</td>\n",
       "      <td>0.868890</td>\n",
       "      <td>0.969446</td>\n",
       "      <td>0.918862</td>\n",
       "      <td>0.969446</td>\n",
       "      <td>0.862784</td>\n",
       "      <td>0.868621</td>\n",
       "      <td>0.928663</td>\n",
       "      <td>0.995778</td>\n",
       "      <td>1.002499</td>\n",
       "      <td>1.061201</td>\n",
       "      <td>1.155835</td>\n",
       "      <td>1.496085</td>\n",
       "      <td>1.114257</td>\n",
       "      <td>1.421003</td>\n",
       "      <td>0.940659</td>\n",
       "    </tr>\n",
       "    <tr>\n",
       "      <th>MAE</th>\n",
       "      <td>0.651160</td>\n",
       "      <td>0.651761</td>\n",
       "      <td>0.708825</td>\n",
       "      <td>0.689146</td>\n",
       "      <td>0.708825</td>\n",
       "      <td>0.652101</td>\n",
       "      <td>0.651895</td>\n",
       "      <td>0.695740</td>\n",
       "      <td>0.724015</td>\n",
       "      <td>0.728852</td>\n",
       "      <td>0.767399</td>\n",
       "      <td>0.829390</td>\n",
       "      <td>1.128415</td>\n",
       "      <td>0.820945</td>\n",
       "      <td>1.004436</td>\n",
       "      <td>0.713441</td>\n",
       "    </tr>\n",
       "    <tr>\n",
       "      <th>Recall</th>\n",
       "      <td>0.941789</td>\n",
       "      <td>0.935247</td>\n",
       "      <td>0.947831</td>\n",
       "      <td>0.963498</td>\n",
       "      <td>0.947831</td>\n",
       "      <td>0.940748</td>\n",
       "      <td>0.934747</td>\n",
       "      <td>0.966082</td>\n",
       "      <td>0.949873</td>\n",
       "      <td>0.950623</td>\n",
       "      <td>0.953873</td>\n",
       "      <td>0.955123</td>\n",
       "      <td>0.994916</td>\n",
       "      <td>0.925705</td>\n",
       "      <td>0.832660</td>\n",
       "      <td>0.975791</td>\n",
       "    </tr>\n",
       "    <tr>\n",
       "      <th>Precision</th>\n",
       "      <td>0.974686</td>\n",
       "      <td>0.976761</td>\n",
       "      <td>0.959222</td>\n",
       "      <td>0.955930</td>\n",
       "      <td>0.959222</td>\n",
       "      <td>0.974827</td>\n",
       "      <td>0.976537</td>\n",
       "      <td>0.951492</td>\n",
       "      <td>0.951657</td>\n",
       "      <td>0.950267</td>\n",
       "      <td>0.940703</td>\n",
       "      <td>0.922934</td>\n",
       "      <td>0.867718</td>\n",
       "      <td>0.939723</td>\n",
       "      <td>0.942417</td>\n",
       "      <td>0.950985</td>\n",
       "    </tr>\n",
       "    <tr>\n",
       "      <th>F1</th>\n",
       "      <td>0.957955</td>\n",
       "      <td>0.955554</td>\n",
       "      <td>0.953493</td>\n",
       "      <td>0.959700</td>\n",
       "      <td>0.953493</td>\n",
       "      <td>0.957484</td>\n",
       "      <td>0.955185</td>\n",
       "      <td>0.958731</td>\n",
       "      <td>0.950764</td>\n",
       "      <td>0.950445</td>\n",
       "      <td>0.947242</td>\n",
       "      <td>0.938753</td>\n",
       "      <td>0.926974</td>\n",
       "      <td>0.932662</td>\n",
       "      <td>0.884145</td>\n",
       "      <td>0.963228</td>\n",
       "    </tr>\n",
       "    <tr>\n",
       "      <th>NDCG@5</th>\n",
       "      <td>0.858197</td>\n",
       "      <td>0.855824</td>\n",
       "      <td>0.882910</td>\n",
       "      <td>0.854903</td>\n",
       "      <td>0.882910</td>\n",
       "      <td>0.858753</td>\n",
       "      <td>0.855145</td>\n",
       "      <td>0.856330</td>\n",
       "      <td>0.864225</td>\n",
       "      <td>0.866111</td>\n",
       "      <td>0.864106</td>\n",
       "      <td>0.843581</td>\n",
       "      <td>0.856282</td>\n",
       "      <td>0.852969</td>\n",
       "      <td>0.859563</td>\n",
       "      <td>0.855251</td>\n",
       "    </tr>\n",
       "  </tbody>\n",
       "</table>\n",
       "</div>"
      ],
      "text/plain": [
       "           HYBRID_PCA_RF  HYBRID_PCA_LR  CB_REC_PCA  CB_PCA_HYBRID    CB_PCA  \\\n",
       "RMSE            0.863338       0.868890    0.969446       0.918862  0.969446   \n",
       "MAE             0.651160       0.651761    0.708825       0.689146  0.708825   \n",
       "Recall          0.941789       0.935247    0.947831       0.963498  0.947831   \n",
       "Precision       0.974686       0.976761    0.959222       0.955930  0.959222   \n",
       "F1              0.957955       0.955554    0.953493       0.959700  0.953493   \n",
       "NDCG@5          0.858197       0.855824    0.882910       0.854903  0.882910   \n",
       "\n",
       "           HYBRID_RF  HYBRID_LR  CB_HYBRID    CB_REC   CB_FREQ  CB_TDIDF  \\\n",
       "RMSE        0.862784   0.868621   0.928663  0.995778  1.002499  1.061201   \n",
       "MAE         0.652101   0.651895   0.695740  0.724015  0.728852  0.767399   \n",
       "Recall      0.940748   0.934747   0.966082  0.949873  0.950623  0.953873   \n",
       "Precision   0.974827   0.976537   0.951492  0.951657  0.950267  0.940703   \n",
       "F1          0.957484   0.955185   0.958731  0.950764  0.950445  0.947242   \n",
       "NDCG@5      0.858753   0.855145   0.856330  0.864225  0.866111  0.864106   \n",
       "\n",
       "                 IB        UB       CLU       SVD       ALS  \n",
       "RMSE       1.155835  1.496085  1.114257  1.421003  0.940659  \n",
       "MAE        0.829390  1.128415  0.820945  1.004436  0.713441  \n",
       "Recall     0.955123  0.994916  0.925705  0.832660  0.975791  \n",
       "Precision  0.922934  0.867718  0.939723  0.942417  0.950985  \n",
       "F1         0.938753  0.926974  0.932662  0.884145  0.963228  \n",
       "NDCG@5     0.843581  0.856282  0.852969  0.859563  0.855251  "
      ]
     },
     "execution_count": 247,
     "metadata": {},
     "output_type": "execute_result"
    }
   ],
   "source": [
    "overview = pd.concat([eval.evaluate(df_rf_pca, topn=5, rating_cutoff=5), overview], axis = 1)\n",
    "overview.rename(columns={'value':'HYBRID_PCA_RF'}, inplace = True)\n",
    "overview"
   ]
  },
  {
   "cell_type": "code",
   "execution_count": null,
   "metadata": {},
   "outputs": [
    {
     "data": {
      "image/png": "[encoded data removed]",
      "text/plain": [
       "<Figure size 576x288 with 1 Axes>"
      ]
     },
     "metadata": {
      "needs_background": "light"
     },
     "output_type": "display_data"
    },
    {
     "data": {
      "image/png": "[encoded data removed]",
      "text/plain": [
       "<Figure size 576x288 with 1 Axes>"
      ]
     },
     "metadata": {
      "needs_background": "light"
     },
     "output_type": "display_data"
    },
    {
     "data": {
      "image/png": "[encoded data removed]",
      "text/plain": [
       "<Figure size 576x288 with 1 Axes>"
      ]
     },
     "metadata": {
      "needs_background": "light"
     },
     "output_type": "display_data"
    },
    {
     "data": {
      "image/png": "[encoded data removed]",
      "text/plain": [
       "<Figure size 576x288 with 1 Axes>"
      ]
     },
     "metadata": {
      "needs_background": "light"
     },
     "output_type": "display_data"
    },
    {
     "data": {
      "image/png": "[encoded data removed]",
      "text/plain": [
       "<Figure size 576x288 with 1 Axes>"
      ]
     },
     "metadata": {
      "needs_background": "light"
     },
     "output_type": "display_data"
    },
    {
     "data": {
      "image/png": "[encoded data removed]",
      "text/plain": [
       "<Figure size 576x288 with 1 Axes>"
      ]
     },
     "metadata": {
      "needs_background": "light"
     },
     "output_type": "display_data"
    }
   ],
   "source": [
    "# simple visualization (Bar Chart)\n",
    "\n",
    "import matplotlib.pyplot as plt\n",
    "\n",
    "width = .5\n",
    "\n",
    "for j, row in enumerate(overview.index):\n",
    "    fig, ax = plt.subplots(figsize=(8,4))\n",
    "    x = np.arange(len(overview.columns))\n",
    "    for i, col in enumerate(overview.columns):\n",
    "        plt.bar(x[i], overview.iloc[j,i], width, label='col')\n",
    "        ax.text(x[i], overview.iloc[j,i], str(round(overview.iloc[j,i],2)),\n",
    "                ha='center', va='bottom')\n",
    "    ax.set_xticks(x)\n",
    "    ax.set_title(row)\n",
    "    ax.set_xticklabels(overview.columns)\n",
    "    plt.show()"
   ]
  },
  {
   "cell_type": "markdown",
   "metadata": {},
   "source": [
    "## MODEL EVALUATION"
   ]
  },
  {
   "cell_type": "markdown",
   "metadata": {},
   "source": [
    "#### Lets check the Evaluation Matrix and go over each.\n",
    "\n",
    "\n",
    "RMSE :  ROOT MEAN SQUARE ERROR\n",
    "\n",
    "MAE : MEAN ABSOLUTE ERROR\n",
    "\n",
    "RECALL : The recall is intuitively the ability of the classifier to find all the positive samples\n",
    "\n",
    "PRECISION :  The precision is intuitively the ability of the classifier not to label as positive a sample that is negative.\n",
    "\n",
    "F1 :  F1-score combines the precision and recall of a classifier into a single metric\n",
    "\n",
    "NDCG@5 : Sum the true scores ranked in the order induced by the predicted scores\n"
   ]
  },
  {
   "cell_type": "markdown",
   "metadata": {},
   "source": [
    "We would like to have low values for RMSE and MAE as those are the errors. The Lower value indicates that the model is predicting better. We would also like Recall Precision F1 and NDCG@5 score to be higher\n",
    "\n",
    "Based on these factors we see that in Collaborative filtering ALS algorithm works the best. \n",
    "In Content based we have PCA Content Based on Recency which is giving us the best score.\n",
    "\n",
    "We would be using Hybrid Model Random forrest which is a combination of the ALS and Recency Based Content Based Model to make our recommendations as we the best results based on the factors discussed above."
   ]
  },
  {
   "cell_type": "markdown",
   "metadata": {},
   "source": [
    "Lets make recommendations uisng our Hybrid Models"
   ]
  },
  {
   "cell_type": "markdown",
   "metadata": {},
   "source": [
    "Lets Check the Recommendations for tags based on user using Content based Recency on which PCA was applied."
   ]
  },
  {
   "cell_type": "code",
   "execution_count": null,
   "metadata": {},
   "outputs": [
    {
     "data": {
      "text/html": [
       "<div>\n",
       "<style scoped>\n",
       "    .dataframe tbody tr th:only-of-type {\n",
       "        vertical-align: middle;\n",
       "    }\n",
       "\n",
       "    .dataframe tbody tr th {\n",
       "        vertical-align: top;\n",
       "    }\n",
       "\n",
       "    .dataframe thead th {\n",
       "        text-align: right;\n",
       "    }\n",
       "</style>\n",
       "<table border=\"1\" class=\"dataframe\">\n",
       "  <thead>\n",
       "    <tr style=\"text-align: right;\">\n",
       "      <th></th>\n",
       "      <th>uid</th>\n",
       "      <th>iid</th>\n",
       "      <th>r_ui</th>\n",
       "      <th>est</th>\n",
       "      <th>details</th>\n",
       "    </tr>\n",
       "  </thead>\n",
       "  <tbody>\n",
       "    <tr>\n",
       "      <th>0</th>\n",
       "      <td>200</td>\n",
       "      <td>998</td>\n",
       "      <td>6.0</td>\n",
       "      <td>5.845250</td>\n",
       "      <td>{'was_impossible': False}</td>\n",
       "    </tr>\n",
       "    <tr>\n",
       "      <th>1</th>\n",
       "      <td>1833</td>\n",
       "      <td>543</td>\n",
       "      <td>5.0</td>\n",
       "      <td>5.565320</td>\n",
       "      <td>{'was_impossible': False}</td>\n",
       "    </tr>\n",
       "    <tr>\n",
       "      <th>2</th>\n",
       "      <td>293</td>\n",
       "      <td>5313</td>\n",
       "      <td>6.0</td>\n",
       "      <td>5.609926</td>\n",
       "      <td>{'was_impossible': False}</td>\n",
       "    </tr>\n",
       "    <tr>\n",
       "      <th>3</th>\n",
       "      <td>1102</td>\n",
       "      <td>328</td>\n",
       "      <td>5.0</td>\n",
       "      <td>5.336615</td>\n",
       "      <td>{'was_impossible': False}</td>\n",
       "    </tr>\n",
       "    <tr>\n",
       "      <th>4</th>\n",
       "      <td>938</td>\n",
       "      <td>7191</td>\n",
       "      <td>7.0</td>\n",
       "      <td>7.103031</td>\n",
       "      <td>{'was_impossible': False}</td>\n",
       "    </tr>\n",
       "  </tbody>\n",
       "</table>\n",
       "</div>"
      ],
      "text/plain": [
       "    uid   iid  r_ui       est                    details\n",
       "0   200   998   6.0  5.845250  {'was_impossible': False}\n",
       "1  1833   543   5.0  5.565320  {'was_impossible': False}\n",
       "2   293  5313   6.0  5.609926  {'was_impossible': False}\n",
       "3  1102   328   5.0  5.336615  {'was_impossible': False}\n",
       "4   938  7191   7.0  7.103031  {'was_impossible': False}"
      ]
     },
     "execution_count": 249,
     "metadata": {},
     "output_type": "execute_result"
    }
   ],
   "source": [
    "df_rf.head()"
   ]
  },
  {
   "cell_type": "code",
   "execution_count": null,
   "metadata": {},
   "outputs": [
    {
     "data": {
      "text/html": [
       "<div>\n",
       "<style scoped>\n",
       "    .dataframe tbody tr th:only-of-type {\n",
       "        vertical-align: middle;\n",
       "    }\n",
       "\n",
       "    .dataframe tbody tr th {\n",
       "        vertical-align: top;\n",
       "    }\n",
       "\n",
       "    .dataframe thead th {\n",
       "        text-align: right;\n",
       "    }\n",
       "</style>\n",
       "<table border=\"1\" class=\"dataframe\">\n",
       "  <thead>\n",
       "    <tr style=\"text-align: right;\">\n",
       "      <th></th>\n",
       "      <th>user</th>\n",
       "      <th>item</th>\n",
       "    </tr>\n",
       "  </thead>\n",
       "  <tbody>\n",
       "    <tr>\n",
       "      <th>0</th>\n",
       "      <td>200</td>\n",
       "      <td>[1397, 1810, 998, 1415, 65]</td>\n",
       "    </tr>\n",
       "    <tr>\n",
       "      <th>1</th>\n",
       "      <td>1833</td>\n",
       "      <td>[16916, 1440, 543, 292, 295]</td>\n",
       "    </tr>\n",
       "    <tr>\n",
       "      <th>2</th>\n",
       "      <td>293</td>\n",
       "      <td>[5324, 5311, 498, 412, 5320]</td>\n",
       "    </tr>\n",
       "    <tr>\n",
       "      <th>3</th>\n",
       "      <td>1102</td>\n",
       "      <td>[328, 467, 4732, 538, 58]</td>\n",
       "    </tr>\n",
       "    <tr>\n",
       "      <th>4</th>\n",
       "      <td>938</td>\n",
       "      <td>[11219, 7191, 297, 499, 907]</td>\n",
       "    </tr>\n",
       "  </tbody>\n",
       "</table>\n",
       "</div>"
      ],
      "text/plain": [
       "   user                          item\n",
       "0   200   [1397, 1810, 998, 1415, 65]\n",
       "1  1833  [16916, 1440, 543, 292, 295]\n",
       "2   293  [5324, 5311, 498, 412, 5320]\n",
       "3  1102     [328, 467, 4732, 538, 58]\n",
       "4   938  [11219, 7191, 297, 499, 907]"
      ]
     },
     "execution_count": 250,
     "metadata": {},
     "output_type": "execute_result"
    }
   ],
   "source": [
    "results = utils.get_top_n(cb_pred_4,  n = 5,  user_col =  'uid', item_col='iid')\n",
    "results.head()"
   ]
  },
  {
   "cell_type": "code",
   "execution_count": null,
   "metadata": {},
   "outputs": [
    {
     "data": {
      "text/html": [
       "<div>\n",
       "<style scoped>\n",
       "    .dataframe tbody tr th:only-of-type {\n",
       "        vertical-align: middle;\n",
       "    }\n",
       "\n",
       "    .dataframe tbody tr th {\n",
       "        vertical-align: top;\n",
       "    }\n",
       "\n",
       "    .dataframe thead th {\n",
       "        text-align: right;\n",
       "    }\n",
       "</style>\n",
       "<table border=\"1\" class=\"dataframe\">\n",
       "  <thead>\n",
       "    <tr style=\"text-align: right;\">\n",
       "      <th></th>\n",
       "      <th>tagValue</th>\n",
       "    </tr>\n",
       "    <tr>\n",
       "      <th>artistID</th>\n",
       "      <th></th>\n",
       "    </tr>\n",
       "  </thead>\n",
       "  <tbody>\n",
       "    <tr>\n",
       "      <th>1397</th>\n",
       "      <td>[90s, acid, all time faves, beats, big beat, brett, british, chillout, cool, cover, dance, driving music, electro, electro house, electronic, electronica, energetic, house, late night tunes, my electro feelings, play it loud, pop, remix, rock, rock alternative, seen live, soul, trance]</td>\n",
       "    </tr>\n",
       "  </tbody>\n",
       "</table>\n",
       "</div>"
      ],
      "text/plain": [
       "                                                                                                                                                                                                                                                                                                tagValue\n",
       "artistID                                                                                                                                                                                                                                                                                                \n",
       "1397      [90s, acid, all time faves, beats, big beat, brett, british, chillout, cool, cover, dance, driving music, electro, electro house, electronic, electronica, energetic, house, late night tunes, my electro feelings, play it loud, pop, remix, rock, rock alternative, seen live, soul, trance]"
      ]
     },
     "execution_count": 251,
     "metadata": {},
     "output_type": "execute_result"
    }
   ],
   "source": [
    "result = pd.DataFrame(aggregate_1.loc[aggregate_1.index == 1397, 'tagValue'])\n",
    "result.head()"
   ]
  },
  {
   "cell_type": "code",
   "execution_count": null,
   "metadata": {},
   "outputs": [
    {
     "data": {
      "text/html": [
       "<div>\n",
       "<style scoped>\n",
       "    .dataframe tbody tr th:only-of-type {\n",
       "        vertical-align: middle;\n",
       "    }\n",
       "\n",
       "    .dataframe tbody tr th {\n",
       "        vertical-align: top;\n",
       "    }\n",
       "\n",
       "    .dataframe thead th {\n",
       "        text-align: right;\n",
       "    }\n",
       "</style>\n",
       "<table border=\"1\" class=\"dataframe\">\n",
       "  <thead>\n",
       "    <tr style=\"text-align: right;\">\n",
       "      <th></th>\n",
       "      <th>tagValue</th>\n",
       "    </tr>\n",
       "    <tr>\n",
       "      <th>artistID</th>\n",
       "      <th></th>\n",
       "    </tr>\n",
       "  </thead>\n",
       "  <tbody>\n",
       "    <tr>\n",
       "      <th>1810</th>\n",
       "      <td>[00s, 1981, 1983, 1987, 1992, 1993, 1995, 1996, 1999, 80s, 80s metal, 80s pop metal, 80s rock, 90s, &lt;3, acoustic, alternative, arena rock, artists, atmospheric, baixar, ballad, better than your music, british, classic rock, cover, covers, dance, david bowie, def leppard, early mtv, english, fucking amazing, fun, glam, glam metal, glam rock, hair metal, hard, hard rock, heavy metal, instrumental, live, love song, metal, most favorite song ever, nwobhm, oldie but goodie, omg, pop, pop metal, pop rock, progressive, remix, rock, rock n roll, romantic, seen live, single, song with samples, songs that cheer me up, uk, whoah yeah]</td>\n",
       "    </tr>\n",
       "  </tbody>\n",
       "</table>\n",
       "</div>"
      ],
      "text/plain": [
       "                                                                                                                                                                                                                                                                                                                                                                                                                                                                                                                                                                                                                                                         tagValue\n",
       "artistID                                                                                                                                                                                                                                                                                                                                                                                                                                                                                                                                                                                                                                                         \n",
       "1810      [00s, 1981, 1983, 1987, 1992, 1993, 1995, 1996, 1999, 80s, 80s metal, 80s pop metal, 80s rock, 90s, <3, acoustic, alternative, arena rock, artists, atmospheric, baixar, ballad, better than your music, british, classic rock, cover, covers, dance, david bowie, def leppard, early mtv, english, fucking amazing, fun, glam, glam metal, glam rock, hair metal, hard, hard rock, heavy metal, instrumental, live, love song, metal, most favorite song ever, nwobhm, oldie but goodie, omg, pop, pop metal, pop rock, progressive, remix, rock, rock n roll, romantic, seen live, single, song with samples, songs that cheer me up, uk, whoah yeah]"
      ]
     },
     "execution_count": 252,
     "metadata": {},
     "output_type": "execute_result"
    }
   ],
   "source": [
    "result = pd.DataFrame(aggregate_1.loc[aggregate_1.index == 1810, 'tagValue'])\n",
    "result.head()"
   ]
  },
  {
   "cell_type": "code",
   "execution_count": null,
   "metadata": {},
   "outputs": [
    {
     "data": {
      "text/html": [
       "<div>\n",
       "<style scoped>\n",
       "    .dataframe tbody tr th:only-of-type {\n",
       "        vertical-align: middle;\n",
       "    }\n",
       "\n",
       "    .dataframe tbody tr th {\n",
       "        vertical-align: top;\n",
       "    }\n",
       "\n",
       "    .dataframe thead th {\n",
       "        text-align: right;\n",
       "    }\n",
       "</style>\n",
       "<table border=\"1\" class=\"dataframe\">\n",
       "  <thead>\n",
       "    <tr style=\"text-align: right;\">\n",
       "      <th></th>\n",
       "      <th>tagValue</th>\n",
       "    </tr>\n",
       "    <tr>\n",
       "      <th>artistID</th>\n",
       "      <th></th>\n",
       "    </tr>\n",
       "  </thead>\n",
       "  <tbody>\n",
       "    <tr>\n",
       "      <th>998</th>\n",
       "      <td>[1008, 80s, 80s pop, alternative, alternative dance, b-side, beautiful, blitz playlist, british, british artists, cities, covers, death, drugs, edit, electronic, experimental, factory records, famous persons, fav artists, favorite bands, favorite tracks, instrumental, level one, liverpool, mad about, my loving, my pleasuredome, new romantic, new wave, old, omd, piano, po-kraftwerkski, pop, random songs, religion, science, slowies, soundtrack, synth pop, synthpop, synthpop artists, the beowulfs choice]</td>\n",
       "    </tr>\n",
       "  </tbody>\n",
       "</table>\n",
       "</div>"
      ],
      "text/plain": [
       "                                                                                                                                                                                                                                                                                                                                                                                                                                                                                                                            tagValue\n",
       "artistID                                                                                                                                                                                                                                                                                                                                                                                                                                                                                                                            \n",
       "998       [1008, 80s, 80s pop, alternative, alternative dance, b-side, beautiful, blitz playlist, british, british artists, cities, covers, death, drugs, edit, electronic, experimental, factory records, famous persons, fav artists, favorite bands, favorite tracks, instrumental, level one, liverpool, mad about, my loving, my pleasuredome, new romantic, new wave, old, omd, piano, po-kraftwerkski, pop, random songs, religion, science, slowies, soundtrack, synth pop, synthpop, synthpop artists, the beowulfs choice]"
      ]
     },
     "execution_count": 253,
     "metadata": {},
     "output_type": "execute_result"
    }
   ],
   "source": [
    "result = pd.DataFrame(aggregate_1.loc[aggregate_1.index == 998, 'tagValue'])\n",
    "result.head()"
   ]
  },
  {
   "cell_type": "code",
   "execution_count": null,
   "metadata": {},
   "outputs": [
    {
     "data": {
      "text/html": [
       "<div>\n",
       "<style scoped>\n",
       "    .dataframe tbody tr th:only-of-type {\n",
       "        vertical-align: middle;\n",
       "    }\n",
       "\n",
       "    .dataframe tbody tr th {\n",
       "        vertical-align: top;\n",
       "    }\n",
       "\n",
       "    .dataframe thead th {\n",
       "        text-align: right;\n",
       "    }\n",
       "</style>\n",
       "<table border=\"1\" class=\"dataframe\">\n",
       "  <thead>\n",
       "    <tr style=\"text-align: right;\">\n",
       "      <th></th>\n",
       "      <th>tagValue</th>\n",
       "    </tr>\n",
       "    <tr>\n",
       "      <th>artistID</th>\n",
       "      <th></th>\n",
       "    </tr>\n",
       "  </thead>\n",
       "  <tbody>\n",
       "    <tr>\n",
       "      <th>1415</th>\n",
       "      <td>[1008, 1968, 1969, 60s, 70s, americana, awesome-ness, blues, blues rock, california, cities, classic rock, cover, covers, creedence cleawater revival, english, epic, folk, folk rock, girls names, guitar solo, i love my dad taste, lovelovelove x 392834, male, oldies, questions, rain, rock, rock and roll, rock n roll, southern fried rock, southern rock, weather]</td>\n",
       "    </tr>\n",
       "  </tbody>\n",
       "</table>\n",
       "</div>"
      ],
      "text/plain": [
       "                                                                                                                                                                                                                                                                                                                                                                            tagValue\n",
       "artistID                                                                                                                                                                                                                                                                                                                                                                            \n",
       "1415      [1008, 1968, 1969, 60s, 70s, americana, awesome-ness, blues, blues rock, california, cities, classic rock, cover, covers, creedence cleawater revival, english, epic, folk, folk rock, girls names, guitar solo, i love my dad taste, lovelovelove x 392834, male, oldies, questions, rain, rock, rock and roll, rock n roll, southern fried rock, southern rock, weather]"
      ]
     },
     "execution_count": 254,
     "metadata": {},
     "output_type": "execute_result"
    }
   ],
   "source": [
    "result = pd.DataFrame(aggregate_1.loc[aggregate_1.index == 1415, 'tagValue'])\n",
    "result.head()"
   ]
  },
  {
   "cell_type": "markdown",
   "metadata": {},
   "source": [
    "We see that the recommended Artist are from 90's, english and have rock tags"
   ]
  },
  {
   "cell_type": "markdown",
   "metadata": {},
   "source": [
    "### Lets make Recommendation for user 200 using the content based model with recency and PCA"
   ]
  },
  {
   "cell_type": "code",
   "execution_count": null,
   "metadata": {},
   "outputs": [
    {
     "data": {
      "text/html": [
       "<div>\n",
       "<style scoped>\n",
       "    .dataframe tbody tr th:only-of-type {\n",
       "        vertical-align: middle;\n",
       "    }\n",
       "\n",
       "    .dataframe tbody tr th {\n",
       "        vertical-align: top;\n",
       "    }\n",
       "\n",
       "    .dataframe thead th {\n",
       "        text-align: right;\n",
       "    }\n",
       "</style>\n",
       "<table border=\"1\" class=\"dataframe\">\n",
       "  <thead>\n",
       "    <tr style=\"text-align: right;\">\n",
       "      <th></th>\n",
       "      <th>0</th>\n",
       "      <th>1</th>\n",
       "      <th>2</th>\n",
       "      <th>3</th>\n",
       "      <th>4</th>\n",
       "      <th>5</th>\n",
       "      <th>6</th>\n",
       "      <th>7</th>\n",
       "      <th>8</th>\n",
       "      <th>9</th>\n",
       "      <th>...</th>\n",
       "      <th>30</th>\n",
       "      <th>31</th>\n",
       "      <th>32</th>\n",
       "      <th>33</th>\n",
       "      <th>34</th>\n",
       "      <th>35</th>\n",
       "      <th>36</th>\n",
       "      <th>37</th>\n",
       "      <th>38</th>\n",
       "      <th>39</th>\n",
       "    </tr>\n",
       "  </thead>\n",
       "  <tbody>\n",
       "    <tr>\n",
       "      <th>0</th>\n",
       "      <td>1177.640329</td>\n",
       "      <td>-1688.935088</td>\n",
       "      <td>1022.050760</td>\n",
       "      <td>-4705.804047</td>\n",
       "      <td>-508.318635</td>\n",
       "      <td>-460.723910</td>\n",
       "      <td>-56.367656</td>\n",
       "      <td>-976.422962</td>\n",
       "      <td>32.180777</td>\n",
       "      <td>59.709923</td>\n",
       "      <td>...</td>\n",
       "      <td>187.581404</td>\n",
       "      <td>312.733162</td>\n",
       "      <td>521.798763</td>\n",
       "      <td>184.696972</td>\n",
       "      <td>735.045865</td>\n",
       "      <td>66.671967</td>\n",
       "      <td>-619.111067</td>\n",
       "      <td>-206.909413</td>\n",
       "      <td>-461.369652</td>\n",
       "      <td>478.887671</td>\n",
       "    </tr>\n",
       "    <tr>\n",
       "      <th>1</th>\n",
       "      <td>2484.534573</td>\n",
       "      <td>-1918.760492</td>\n",
       "      <td>790.367359</td>\n",
       "      <td>-5117.628835</td>\n",
       "      <td>99.296852</td>\n",
       "      <td>1928.356703</td>\n",
       "      <td>5670.893280</td>\n",
       "      <td>245.607128</td>\n",
       "      <td>2461.893578</td>\n",
       "      <td>-325.916046</td>\n",
       "      <td>...</td>\n",
       "      <td>-219.812872</td>\n",
       "      <td>-1288.847468</td>\n",
       "      <td>-1095.026200</td>\n",
       "      <td>-801.331135</td>\n",
       "      <td>3039.801683</td>\n",
       "      <td>-291.601374</td>\n",
       "      <td>1464.350487</td>\n",
       "      <td>1852.781444</td>\n",
       "      <td>-2148.855578</td>\n",
       "      <td>195.708254</td>\n",
       "    </tr>\n",
       "    <tr>\n",
       "      <th>2</th>\n",
       "      <td>-563.856233</td>\n",
       "      <td>-161.230070</td>\n",
       "      <td>-695.175777</td>\n",
       "      <td>368.023886</td>\n",
       "      <td>-939.366928</td>\n",
       "      <td>-43.989198</td>\n",
       "      <td>-166.920750</td>\n",
       "      <td>-89.951788</td>\n",
       "      <td>-148.053278</td>\n",
       "      <td>363.236754</td>\n",
       "      <td>...</td>\n",
       "      <td>-85.959393</td>\n",
       "      <td>-350.862356</td>\n",
       "      <td>-671.895699</td>\n",
       "      <td>-70.679718</td>\n",
       "      <td>493.119803</td>\n",
       "      <td>222.407920</td>\n",
       "      <td>44.434016</td>\n",
       "      <td>-33.888612</td>\n",
       "      <td>-274.499169</td>\n",
       "      <td>96.848289</td>\n",
       "    </tr>\n",
       "    <tr>\n",
       "      <th>3</th>\n",
       "      <td>2725.710542</td>\n",
       "      <td>-2282.762997</td>\n",
       "      <td>40.026103</td>\n",
       "      <td>-4155.651332</td>\n",
       "      <td>-1406.011214</td>\n",
       "      <td>508.926818</td>\n",
       "      <td>-487.106413</td>\n",
       "      <td>-1042.447642</td>\n",
       "      <td>1619.949327</td>\n",
       "      <td>2173.546177</td>\n",
       "      <td>...</td>\n",
       "      <td>1007.641222</td>\n",
       "      <td>-1108.585345</td>\n",
       "      <td>237.095930</td>\n",
       "      <td>801.146867</td>\n",
       "      <td>1276.249760</td>\n",
       "      <td>-1022.990435</td>\n",
       "      <td>-864.716677</td>\n",
       "      <td>-291.880371</td>\n",
       "      <td>-107.201792</td>\n",
       "      <td>-1035.952948</td>\n",
       "    </tr>\n",
       "    <tr>\n",
       "      <th>4</th>\n",
       "      <td>-947.030924</td>\n",
       "      <td>-178.132005</td>\n",
       "      <td>358.465299</td>\n",
       "      <td>-290.070152</td>\n",
       "      <td>-388.144241</td>\n",
       "      <td>649.606390</td>\n",
       "      <td>783.846264</td>\n",
       "      <td>200.087677</td>\n",
       "      <td>865.658910</td>\n",
       "      <td>367.566052</td>\n",
       "      <td>...</td>\n",
       "      <td>234.805143</td>\n",
       "      <td>36.769659</td>\n",
       "      <td>-128.787544</td>\n",
       "      <td>-25.452205</td>\n",
       "      <td>-442.868743</td>\n",
       "      <td>292.914544</td>\n",
       "      <td>54.714960</td>\n",
       "      <td>179.510694</td>\n",
       "      <td>-185.008863</td>\n",
       "      <td>85.607755</td>\n",
       "    </tr>\n",
       "  </tbody>\n",
       "</table>\n",
       "<p>5 rows × 40 columns</p>\n",
       "</div>"
      ],
      "text/plain": [
       "            0            1            2            3            4   \\\n",
       "0  1177.640329 -1688.935088  1022.050760 -4705.804047  -508.318635   \n",
       "1  2484.534573 -1918.760492   790.367359 -5117.628835    99.296852   \n",
       "2  -563.856233  -161.230070  -695.175777   368.023886  -939.366928   \n",
       "3  2725.710542 -2282.762997    40.026103 -4155.651332 -1406.011214   \n",
       "4  -947.030924  -178.132005   358.465299  -290.070152  -388.144241   \n",
       "\n",
       "            5            6            7            8            9   ...  \\\n",
       "0  -460.723910   -56.367656  -976.422962    32.180777    59.709923  ...   \n",
       "1  1928.356703  5670.893280   245.607128  2461.893578  -325.916046  ...   \n",
       "2   -43.989198  -166.920750   -89.951788  -148.053278   363.236754  ...   \n",
       "3   508.926818  -487.106413 -1042.447642  1619.949327  2173.546177  ...   \n",
       "4   649.606390   783.846264   200.087677   865.658910   367.566052  ...   \n",
       "\n",
       "            30           31           32          33           34  \\\n",
       "0   187.581404   312.733162   521.798763  184.696972   735.045865   \n",
       "1  -219.812872 -1288.847468 -1095.026200 -801.331135  3039.801683   \n",
       "2   -85.959393  -350.862356  -671.895699  -70.679718   493.119803   \n",
       "3  1007.641222 -1108.585345   237.095930  801.146867  1276.249760   \n",
       "4   234.805143    36.769659  -128.787544  -25.452205  -442.868743   \n",
       "\n",
       "            35           36           37           38           39  \n",
       "0    66.671967  -619.111067  -206.909413  -461.369652   478.887671  \n",
       "1  -291.601374  1464.350487  1852.781444 -2148.855578   195.708254  \n",
       "2   222.407920    44.434016   -33.888612  -274.499169    96.848289  \n",
       "3 -1022.990435  -864.716677  -291.880371  -107.201792 -1035.952948  \n",
       "4   292.914544    54.714960   179.510694  -185.008863    85.607755  \n",
       "\n",
       "[5 rows x 40 columns]"
      ]
     },
     "execution_count": 256,
     "metadata": {},
     "output_type": "execute_result"
    }
   ],
   "source": [
    "pca_data.head()"
   ]
  },
  {
   "cell_type": "code",
   "execution_count": null,
   "metadata": {},
   "outputs": [
    {
     "data": {
      "text/html": [
       "<div>\n",
       "<style scoped>\n",
       "    .dataframe tbody tr th:only-of-type {\n",
       "        vertical-align: middle;\n",
       "    }\n",
       "\n",
       "    .dataframe tbody tr th {\n",
       "        vertical-align: top;\n",
       "    }\n",
       "\n",
       "    .dataframe thead th {\n",
       "        text-align: right;\n",
       "    }\n",
       "</style>\n",
       "<table border=\"1\" class=\"dataframe\">\n",
       "  <thead>\n",
       "    <tr style=\"text-align: right;\">\n",
       "      <th></th>\n",
       "      <th>userID</th>\n",
       "      <th>artistID</th>\n",
       "      <th>raw_ratings</th>\n",
       "    </tr>\n",
       "  </thead>\n",
       "  <tbody>\n",
       "    <tr>\n",
       "      <th>0</th>\n",
       "      <td>967</td>\n",
       "      <td>3462</td>\n",
       "      <td>5.0</td>\n",
       "    </tr>\n",
       "    <tr>\n",
       "      <th>1</th>\n",
       "      <td>441</td>\n",
       "      <td>225</td>\n",
       "      <td>5.0</td>\n",
       "    </tr>\n",
       "    <tr>\n",
       "      <th>2</th>\n",
       "      <td>1356</td>\n",
       "      <td>466</td>\n",
       "      <td>8.0</td>\n",
       "    </tr>\n",
       "    <tr>\n",
       "      <th>3</th>\n",
       "      <td>1757</td>\n",
       "      <td>65</td>\n",
       "      <td>5.0</td>\n",
       "    </tr>\n",
       "    <tr>\n",
       "      <th>4</th>\n",
       "      <td>1515</td>\n",
       "      <td>344</td>\n",
       "      <td>6.0</td>\n",
       "    </tr>\n",
       "  </tbody>\n",
       "</table>\n",
       "</div>"
      ],
      "text/plain": [
       "   userID  artistID  raw_ratings\n",
       "0     967      3462          5.0\n",
       "1     441       225          5.0\n",
       "2    1356       466          8.0\n",
       "3    1757        65          5.0\n",
       "4    1515       344          6.0"
      ]
     },
     "execution_count": 257,
     "metadata": {},
     "output_type": "execute_result"
    }
   ],
   "source": [
    "train.head()"
   ]
  },
  {
   "cell_type": "code",
   "execution_count": null,
   "metadata": {},
   "outputs": [],
   "source": [
    "results = predict_user_topn(cb_pca, train, 200, topk=5, item_col='artistID')"
   ]
  },
  {
   "cell_type": "code",
   "execution_count": null,
   "metadata": {},
   "outputs": [
    {
     "data": {
      "text/plain": [
       "[3112, 5376, 971, 9029, 3245]"
      ]
     },
     "execution_count": 259,
     "metadata": {},
     "output_type": "execute_result"
    }
   ],
   "source": [
    "results"
   ]
  },
  {
   "cell_type": "code",
   "execution_count": null,
   "metadata": {},
   "outputs": [
    {
     "data": {
      "text/html": [
       "<div>\n",
       "<style scoped>\n",
       "    .dataframe tbody tr th:only-of-type {\n",
       "        vertical-align: middle;\n",
       "    }\n",
       "\n",
       "    .dataframe tbody tr th {\n",
       "        vertical-align: top;\n",
       "    }\n",
       "\n",
       "    .dataframe thead th {\n",
       "        text-align: right;\n",
       "    }\n",
       "</style>\n",
       "<table border=\"1\" class=\"dataframe\">\n",
       "  <thead>\n",
       "    <tr style=\"text-align: right;\">\n",
       "      <th></th>\n",
       "      <th>tagValue</th>\n",
       "    </tr>\n",
       "    <tr>\n",
       "      <th>artistID</th>\n",
       "      <th></th>\n",
       "    </tr>\n",
       "  </thead>\n",
       "  <tbody>\n",
       "    <tr>\n",
       "      <th>3112</th>\n",
       "      <td>[alternative, avant-garde, experimental, folk, indie, indie rock, jazz, mellow, pop, psychedelic, pure sex, rock, singer-songwriter]</td>\n",
       "    </tr>\n",
       "  </tbody>\n",
       "</table>\n",
       "</div>"
      ],
      "text/plain": [
       "                                                                                                                                      tagValue\n",
       "artistID                                                                                                                                      \n",
       "3112      [alternative, avant-garde, experimental, folk, indie, indie rock, jazz, mellow, pop, psychedelic, pure sex, rock, singer-songwriter]"
      ]
     },
     "execution_count": 260,
     "metadata": {},
     "output_type": "execute_result"
    }
   ],
   "source": [
    "result = pd.DataFrame(aggregate_1.loc[aggregate_1.index == 3112, 'tagValue'])\n",
    "result.head()"
   ]
  },
  {
   "cell_type": "code",
   "execution_count": null,
   "metadata": {},
   "outputs": [
    {
     "data": {
      "text/html": [
       "<div>\n",
       "<style scoped>\n",
       "    .dataframe tbody tr th:only-of-type {\n",
       "        vertical-align: middle;\n",
       "    }\n",
       "\n",
       "    .dataframe tbody tr th {\n",
       "        vertical-align: top;\n",
       "    }\n",
       "\n",
       "    .dataframe thead th {\n",
       "        text-align: right;\n",
       "    }\n",
       "</style>\n",
       "<table border=\"1\" class=\"dataframe\">\n",
       "  <thead>\n",
       "    <tr style=\"text-align: right;\">\n",
       "      <th></th>\n",
       "      <th>tagValue</th>\n",
       "    </tr>\n",
       "    <tr>\n",
       "      <th>artistID</th>\n",
       "      <th></th>\n",
       "    </tr>\n",
       "  </thead>\n",
       "  <tbody>\n",
       "  </tbody>\n",
       "</table>\n",
       "</div>"
      ],
      "text/plain": [
       "Empty DataFrame\n",
       "Columns: [tagValue]\n",
       "Index: []"
      ]
     },
     "execution_count": 261,
     "metadata": {},
     "output_type": "execute_result"
    }
   ],
   "source": [
    "result = pd.DataFrame(aggregate_1.loc[aggregate_1.index == 5376, 'tagValue'])\n",
    "result.head()"
   ]
  },
  {
   "cell_type": "code",
   "execution_count": null,
   "metadata": {},
   "outputs": [
    {
     "data": {
      "text/html": [
       "<div>\n",
       "<style scoped>\n",
       "    .dataframe tbody tr th:only-of-type {\n",
       "        vertical-align: middle;\n",
       "    }\n",
       "\n",
       "    .dataframe tbody tr th {\n",
       "        vertical-align: top;\n",
       "    }\n",
       "\n",
       "    .dataframe thead th {\n",
       "        text-align: right;\n",
       "    }\n",
       "</style>\n",
       "<table border=\"1\" class=\"dataframe\">\n",
       "  <thead>\n",
       "    <tr style=\"text-align: right;\">\n",
       "      <th></th>\n",
       "      <th>tagValue</th>\n",
       "    </tr>\n",
       "    <tr>\n",
       "      <th>artistID</th>\n",
       "      <th></th>\n",
       "    </tr>\n",
       "  </thead>\n",
       "  <tbody>\n",
       "    <tr>\n",
       "      <th>971</th>\n",
       "      <td>[90s, 90s dance, 90s fun, alternative, alternative rock, hecho en mexico, indie, indie pop, indie rock, inlove, male, mexican, mexico, rock, spanish, tinosoft]</td>\n",
       "    </tr>\n",
       "  </tbody>\n",
       "</table>\n",
       "</div>"
      ],
      "text/plain": [
       "                                                                                                                                                                 tagValue\n",
       "artistID                                                                                                                                                                 \n",
       "971       [90s, 90s dance, 90s fun, alternative, alternative rock, hecho en mexico, indie, indie pop, indie rock, inlove, male, mexican, mexico, rock, spanish, tinosoft]"
      ]
     },
     "execution_count": 262,
     "metadata": {},
     "output_type": "execute_result"
    }
   ],
   "source": [
    "result = pd.DataFrame(aggregate_1.loc[aggregate_1.index == 971, 'tagValue'])\n",
    "result.head()"
   ]
  },
  {
   "cell_type": "code",
   "execution_count": null,
   "metadata": {},
   "outputs": [
    {
     "data": {
      "text/html": [
       "<div>\n",
       "<style scoped>\n",
       "    .dataframe tbody tr th:only-of-type {\n",
       "        vertical-align: middle;\n",
       "    }\n",
       "\n",
       "    .dataframe tbody tr th {\n",
       "        vertical-align: top;\n",
       "    }\n",
       "\n",
       "    .dataframe thead th {\n",
       "        text-align: right;\n",
       "    }\n",
       "</style>\n",
       "<table border=\"1\" class=\"dataframe\">\n",
       "  <thead>\n",
       "    <tr style=\"text-align: right;\">\n",
       "      <th></th>\n",
       "      <th>tagValue</th>\n",
       "    </tr>\n",
       "    <tr>\n",
       "      <th>artistID</th>\n",
       "      <th></th>\n",
       "    </tr>\n",
       "  </thead>\n",
       "  <tbody>\n",
       "  </tbody>\n",
       "</table>\n",
       "</div>"
      ],
      "text/plain": [
       "Empty DataFrame\n",
       "Columns: [tagValue]\n",
       "Index: []"
      ]
     },
     "execution_count": 263,
     "metadata": {},
     "output_type": "execute_result"
    }
   ],
   "source": [
    "result = pd.DataFrame(aggregate_1.loc[aggregate_1.index == 9029, 'tagValue'])\n",
    "result.head()"
   ]
  },
  {
   "cell_type": "code",
   "execution_count": null,
   "metadata": {},
   "outputs": [
    {
     "data": {
      "text/html": [
       "<div>\n",
       "<style scoped>\n",
       "    .dataframe tbody tr th:only-of-type {\n",
       "        vertical-align: middle;\n",
       "    }\n",
       "\n",
       "    .dataframe tbody tr th {\n",
       "        vertical-align: top;\n",
       "    }\n",
       "\n",
       "    .dataframe thead th {\n",
       "        text-align: right;\n",
       "    }\n",
       "</style>\n",
       "<table border=\"1\" class=\"dataframe\">\n",
       "  <thead>\n",
       "    <tr style=\"text-align: right;\">\n",
       "      <th></th>\n",
       "      <th>tagValue</th>\n",
       "    </tr>\n",
       "    <tr>\n",
       "      <th>artistID</th>\n",
       "      <th></th>\n",
       "    </tr>\n",
       "  </thead>\n",
       "  <tbody>\n",
       "    <tr>\n",
       "      <th>3245</th>\n",
       "      <td>[alternative metal, approfondire, best unknown bands tracks to be observed, metal, nu metal, nu-metal]</td>\n",
       "    </tr>\n",
       "  </tbody>\n",
       "</table>\n",
       "</div>"
      ],
      "text/plain": [
       "                                                                                                        tagValue\n",
       "artistID                                                                                                        \n",
       "3245      [alternative metal, approfondire, best unknown bands tracks to be observed, metal, nu metal, nu-metal]"
      ]
     },
     "execution_count": 264,
     "metadata": {},
     "output_type": "execute_result"
    }
   ],
   "source": [
    "result = pd.DataFrame(aggregate_1.loc[aggregate_1.index == 3245, 'tagValue'])\n",
    "result.head()"
   ]
  }
 ],
 "metadata": {
  "interpreter": {
   "hash": "a707b6ce8c685eb936424fcc3009d4b4b7a52543c4db09380a3fc49186ceb509"
  },
  "kernelspec": {
   "display_name": "Python 3.8.8 ('base')",
   "language": "python",
   "name": "python3"
  },
  "language_info": {
   "codemirror_mode": {
    "name": "ipython",
    "version": 3
   },
   "file_extension": ".py",
   "mimetype": "text/x-python",
   "name": "python",
   "nbconvert_exporter": "python",
   "pygments_lexer": "ipython3",
   "version": "3.9.4"
  },
  "orig_nbformat": 4
 },
 "nbformat": 4,
 "nbformat_minor": 2
}
